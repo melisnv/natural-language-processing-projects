{
 "cells": [
  {
   "cell_type": "markdown",
   "id": "5eb57cdf",
   "metadata": {},
   "source": [
    "# 10. Baselines\n",
    "\n",
    "   Implement four baselines for the task in **TODO_baselines.py**. </br>\n",
    "   `Majority baseline:` always assigns the majority class</br>\n",
    "   `Random baseline:` randomly assigns one of the classes</br>\n",
    "   `Length baseline:` determines the class based on a length threshold </br>\n",
    "   `Frequency baseline:` determines the class based on a frequency threshold"
   ]
  },
  {
   "cell_type": "code",
   "execution_count": 20,
   "id": "e5c4104f",
   "metadata": {},
   "outputs": [],
   "source": [
    "import pandas as pd\n",
    "import spacy\n",
    "import numpy as np\n",
    "import matplotlib.pyplot as plt\n",
    "import seaborn as sns\n",
    "from collections import Counter\n",
    "from wordfreq import zipf_frequency, word_frequency"
   ]
  },
  {
   "cell_type": "code",
   "execution_count": 2,
   "id": "e26043fa",
   "metadata": {},
   "outputs": [
    {
     "data": {
      "text/plain": [
       "['children are thought to be aged three , eight , and ten years , alongside an eighteen-month-old baby .',\n",
       " 'We mixed different concentrations of ROS with the spores , plated them out on petridishes with an agar-solution where fungus can grow on .',\n",
       " 'They feel they are under-represented in higher education and are suffering in a regional economic downturn .',\n",
       " 'Especially as it concerns a third party building up its military presence near our borders .',\n",
       " 'Police said three children were hospitalised for \\\\\" severe dehydration \\\\\" .',\n",
       " 'Virginia Álvarez , who wrote the report , noted , \\\\\" instead of listening to their demands , instead of starting a dialogue , authorities are doing everything they can to impede people from protesting \\\\\" .',\n",
       " 'US troops and tanks in Poland in 2015 , as part of an earlier deployment under Operation Atlantic Resolve .',\n",
       " 'Furthermore , Everson argues the Fox News criteria are not \\\\\" objective , \\\\\" as Title 11 requires , because they fail to define the terms \\\\\" consistently \\\\\" and \\\\\" recognized \\\\\" when referring to polls .',\n",
       " 'That decision was the one challenged unsuccessfully in the High Court .',\n",
       " 'No injuries or deaths were reported in the attacks from either side , but South Korea evacuated about 80 people in the town of Yeoncheon after at least one shell landed near the area .']"
      ]
     },
     "execution_count": 2,
     "metadata": {},
     "output_type": "execute_result"
    }
   ],
   "source": [
    "df_sent = open(\"../datas/sentences.txt\",encoding=\"utf-8\")\n",
    "data_sentences = df_sent.read().split('\\n')\n",
    "data_sentences[:10]"
   ]
  },
  {
   "cell_type": "code",
   "execution_count": 3,
   "id": "4ca9fafc",
   "metadata": {},
   "outputs": [
    {
     "data": {
      "text/plain": [
       "['N N N N N N N N N N N N N N C N C N N',\n",
       " 'N N N C N N N N C N C N N N C N N C N C N N N N',\n",
       " 'N N N N C N N C N N C N N C C C N',\n",
       " 'C N N C N N N N N N C C N N C N',\n",
       " 'N N N N N C N N C C N N',\n",
       " 'N N N N N N N N N N N N N N N N N N N N N N C N C N N N N N N C N N C N N',\n",
       " 'N N N N N N N N N N N N N N C N C N C N',\n",
       " 'C N N C N N N C N N N C N N N N N N N N N N N C N N N C N N N C N N C N N N',\n",
       " 'N C N N N C C N N N N N',\n",
       " 'N C N N N N N N C N N N N N N N C N N N N N N N C N N N N C C N N N N']"
      ]
     },
     "execution_count": 3,
     "metadata": {},
     "output_type": "execute_result"
    }
   ],
   "source": [
    "df_lab = open(\"../datas/labels.txt\",encoding=\"utf-8\")\n",
    "data_labels = df_lab.read().split('\\n')\n",
    "data_labels[:10]"
   ]
  },
  {
   "cell_type": "code",
   "execution_count": 4,
   "id": "1e7f0f87",
   "metadata": {},
   "outputs": [
    {
     "name": "stdout",
     "output_type": "stream",
     "text": [
      "['N', 'N', 'N', 'N', 'N', 'N', 'N', 'N', 'N', 'N', 'N', 'N', 'N', 'N', 'C', 'N', 'C', 'N', 'N', 'N']\n"
     ]
    }
   ],
   "source": [
    "labels_list = []\n",
    "\n",
    "for labels in data_labels:\n",
    "    for label in labels.split(' '):\n",
    "        labels_list.append(label)\n",
    "\n",
    "print(labels_list[:20])"
   ]
  },
  {
   "cell_type": "code",
   "execution_count": 5,
   "id": "8a6c0f34",
   "metadata": {},
   "outputs": [
    {
     "name": "stdout",
     "output_type": "stream",
     "text": [
      "['children', 'are', 'thought', 'to', 'be', 'aged', 'three', ',', 'eight', ',', 'and', 'ten', 'years', ',', 'alongside', 'an', 'eighteen-month-old', 'baby', '.', 'We']\n"
     ]
    }
   ],
   "source": [
    "sentence_list = []\n",
    "\n",
    "for sentences in data_sentences:\n",
    "    for word in sentences.split(' '):\n",
    "        sentence_list.append(word)\n",
    "\n",
    "print(sentence_list[:20])"
   ]
  },
  {
   "cell_type": "code",
   "execution_count": 6,
   "id": "2324f599",
   "metadata": {},
   "outputs": [
    {
     "name": "stdout",
     "output_type": "stream",
     "text": [
      "654\n",
      "654\n",
      "14940\n",
      "14940\n"
     ]
    }
   ],
   "source": [
    "print(len(data_sentences))\n",
    "print(len(data_labels))\n",
    "print(len(labels_list))\n",
    "print(len(sentence_list))"
   ]
  },
  {
   "cell_type": "code",
   "execution_count": 7,
   "id": "6c86bf84",
   "metadata": {},
   "outputs": [
    {
     "data": {
      "text/html": [
       "<div>\n",
       "<style scoped>\n",
       "    .dataframe tbody tr th:only-of-type {\n",
       "        vertical-align: middle;\n",
       "    }\n",
       "\n",
       "    .dataframe tbody tr th {\n",
       "        vertical-align: top;\n",
       "    }\n",
       "\n",
       "    .dataframe thead th {\n",
       "        text-align: right;\n",
       "    }\n",
       "</style>\n",
       "<table border=\"1\" class=\"dataframe\">\n",
       "  <thead>\n",
       "    <tr style=\"text-align: right;\">\n",
       "      <th></th>\n",
       "      <th>sentences</th>\n",
       "      <th>labels</th>\n",
       "    </tr>\n",
       "  </thead>\n",
       "  <tbody>\n",
       "    <tr>\n",
       "      <th>0</th>\n",
       "      <td>children</td>\n",
       "      <td>N</td>\n",
       "    </tr>\n",
       "    <tr>\n",
       "      <th>1</th>\n",
       "      <td>are</td>\n",
       "      <td>N</td>\n",
       "    </tr>\n",
       "    <tr>\n",
       "      <th>2</th>\n",
       "      <td>thought</td>\n",
       "      <td>N</td>\n",
       "    </tr>\n",
       "    <tr>\n",
       "      <th>3</th>\n",
       "      <td>to</td>\n",
       "      <td>N</td>\n",
       "    </tr>\n",
       "    <tr>\n",
       "      <th>4</th>\n",
       "      <td>be</td>\n",
       "      <td>N</td>\n",
       "    </tr>\n",
       "    <tr>\n",
       "      <th>...</th>\n",
       "      <td>...</td>\n",
       "      <td>...</td>\n",
       "    </tr>\n",
       "    <tr>\n",
       "      <th>14934</th>\n",
       "      <td>they</td>\n",
       "      <td>N</td>\n",
       "    </tr>\n",
       "    <tr>\n",
       "      <th>14935</th>\n",
       "      <td>in</td>\n",
       "      <td>N</td>\n",
       "    </tr>\n",
       "    <tr>\n",
       "      <th>14936</th>\n",
       "      <td>the</td>\n",
       "      <td>N</td>\n",
       "    </tr>\n",
       "    <tr>\n",
       "      <th>14937</th>\n",
       "      <td>wild</td>\n",
       "      <td>N</td>\n",
       "    </tr>\n",
       "    <tr>\n",
       "      <th>14938</th>\n",
       "      <td>?</td>\n",
       "      <td>N</td>\n",
       "    </tr>\n",
       "  </tbody>\n",
       "</table>\n",
       "<p>14939 rows × 2 columns</p>\n",
       "</div>"
      ],
      "text/plain": [
       "      sentences labels\n",
       "0      children      N\n",
       "1           are      N\n",
       "2       thought      N\n",
       "3            to      N\n",
       "4            be      N\n",
       "...         ...    ...\n",
       "14934      they      N\n",
       "14935        in      N\n",
       "14936       the      N\n",
       "14937      wild      N\n",
       "14938         ?      N\n",
       "\n",
       "[14939 rows x 2 columns]"
      ]
     },
     "execution_count": 7,
     "metadata": {},
     "output_type": "execute_result"
    }
   ],
   "source": [
    "train_data = pd.DataFrame()\n",
    "train_data['sentences'] = sentence_list\n",
    "train_data['labels'] = labels_list\n",
    "train_data.drop(train_data.tail(1).index,inplace=True)\n",
    "train_data"
   ]
  },
  {
   "cell_type": "code",
   "execution_count": 8,
   "id": "8af626d2",
   "metadata": {},
   "outputs": [],
   "source": [
    "nlp = spacy.load(\"en_core_web_sm\")"
   ]
  },
  {
   "cell_type": "markdown",
   "id": "6153ffa0",
   "metadata": {},
   "source": [
    "## Frequency of the tokens"
   ]
  },
  {
   "cell_type": "code",
   "execution_count": 9,
   "id": "bcedde09",
   "metadata": {},
   "outputs": [
    {
     "name": "stdout",
     "output_type": "stream",
     "text": [
      "[('children', 5.47), ('are', 6.74), ('thought', 5.59), ('to', 7.43), ('be', 6.79), ('aged', 4.5), ('three', 5.78), (',', 0.0), ('eight', 5.02), ('and', 7.41)]\n",
      "[5.47, 6.74, 5.59, 7.43, 6.79, 4.5, 5.78, 0.0, 5.02, 0.0]\n"
     ]
    }
   ],
   "source": [
    "frequency_of_tokens = {}\n",
    "freq_list = []\n",
    "\n",
    "for row in range(len(train_data)):\n",
    "    doc = nlp(train_data.loc[row, \"sentences\"])\n",
    "    for np in doc.sents:\n",
    "        frequency = zipf_frequency(np.text, 'en', wordlist='small')\n",
    "        frequency_of_tokens.update({np.text: frequency})\n",
    "        freq_list.append(frequency)\n",
    "\n",
    "        \n",
    "print(list(frequency_of_tokens.items())[:10])\n",
    "print(freq_list[:10])"
   ]
  },
  {
   "cell_type": "markdown",
   "id": "6e0008b8",
   "metadata": {},
   "source": [
    "## Length of each tokens in a sentence"
   ]
  },
  {
   "cell_type": "code",
   "execution_count": 10,
   "id": "1baf6045",
   "metadata": {},
   "outputs": [
    {
     "name": "stdout",
     "output_type": "stream",
     "text": [
      "[8, 3, 7, 2, 2, 4, 5, 1, 5, 1]\n"
     ]
    }
   ],
   "source": [
    "token_length_each = []\n",
    "tokens_each = []\n",
    "\n",
    "for row in range(len(train_data)):\n",
    "    doc = nlp(train_data.loc[row, \"sentences\"])\n",
    "    for np in doc.sents:\n",
    "        tokens_each.append(np.text)\n",
    "        token_length_each.append(len(np.text))\n",
    "        \n",
    "print(token_length_each[:10])"
   ]
  },
  {
   "cell_type": "code",
   "execution_count": 11,
   "id": "1e8ecbfb",
   "metadata": {},
   "outputs": [
    {
     "name": "stdout",
     "output_type": "stream",
     "text": [
      "14939\n",
      "14939\n"
     ]
    }
   ],
   "source": [
    "print(len(token_length_each))\n",
    "print(len(freq_list))"
   ]
  },
  {
   "cell_type": "code",
   "execution_count": 12,
   "id": "8dd9e022",
   "metadata": {},
   "outputs": [
    {
     "data": {
      "text/html": [
       "<div>\n",
       "<style scoped>\n",
       "    .dataframe tbody tr th:only-of-type {\n",
       "        vertical-align: middle;\n",
       "    }\n",
       "\n",
       "    .dataframe tbody tr th {\n",
       "        vertical-align: top;\n",
       "    }\n",
       "\n",
       "    .dataframe thead th {\n",
       "        text-align: right;\n",
       "    }\n",
       "</style>\n",
       "<table border=\"1\" class=\"dataframe\">\n",
       "  <thead>\n",
       "    <tr style=\"text-align: right;\">\n",
       "      <th></th>\n",
       "      <th>sentences</th>\n",
       "      <th>labels</th>\n",
       "      <th>length</th>\n",
       "      <th>frequency</th>\n",
       "    </tr>\n",
       "  </thead>\n",
       "  <tbody>\n",
       "    <tr>\n",
       "      <th>0</th>\n",
       "      <td>children</td>\n",
       "      <td>N</td>\n",
       "      <td>8</td>\n",
       "      <td>5.47</td>\n",
       "    </tr>\n",
       "    <tr>\n",
       "      <th>1</th>\n",
       "      <td>are</td>\n",
       "      <td>N</td>\n",
       "      <td>3</td>\n",
       "      <td>6.74</td>\n",
       "    </tr>\n",
       "    <tr>\n",
       "      <th>2</th>\n",
       "      <td>thought</td>\n",
       "      <td>N</td>\n",
       "      <td>7</td>\n",
       "      <td>5.59</td>\n",
       "    </tr>\n",
       "    <tr>\n",
       "      <th>3</th>\n",
       "      <td>to</td>\n",
       "      <td>N</td>\n",
       "      <td>2</td>\n",
       "      <td>7.43</td>\n",
       "    </tr>\n",
       "    <tr>\n",
       "      <th>4</th>\n",
       "      <td>be</td>\n",
       "      <td>N</td>\n",
       "      <td>2</td>\n",
       "      <td>6.79</td>\n",
       "    </tr>\n",
       "    <tr>\n",
       "      <th>...</th>\n",
       "      <td>...</td>\n",
       "      <td>...</td>\n",
       "      <td>...</td>\n",
       "      <td>...</td>\n",
       "    </tr>\n",
       "    <tr>\n",
       "      <th>14934</th>\n",
       "      <td>they</td>\n",
       "      <td>N</td>\n",
       "      <td>4</td>\n",
       "      <td>6.50</td>\n",
       "    </tr>\n",
       "    <tr>\n",
       "      <th>14935</th>\n",
       "      <td>in</td>\n",
       "      <td>N</td>\n",
       "      <td>2</td>\n",
       "      <td>7.27</td>\n",
       "    </tr>\n",
       "    <tr>\n",
       "      <th>14936</th>\n",
       "      <td>the</td>\n",
       "      <td>N</td>\n",
       "      <td>3</td>\n",
       "      <td>7.73</td>\n",
       "    </tr>\n",
       "    <tr>\n",
       "      <th>14937</th>\n",
       "      <td>wild</td>\n",
       "      <td>N</td>\n",
       "      <td>4</td>\n",
       "      <td>4.80</td>\n",
       "    </tr>\n",
       "    <tr>\n",
       "      <th>14938</th>\n",
       "      <td>?</td>\n",
       "      <td>N</td>\n",
       "      <td>1</td>\n",
       "      <td>0.00</td>\n",
       "    </tr>\n",
       "  </tbody>\n",
       "</table>\n",
       "<p>14939 rows × 4 columns</p>\n",
       "</div>"
      ],
      "text/plain": [
       "      sentences labels  length  frequency\n",
       "0      children      N       8       5.47\n",
       "1           are      N       3       6.74\n",
       "2       thought      N       7       5.59\n",
       "3            to      N       2       7.43\n",
       "4            be      N       2       6.79\n",
       "...         ...    ...     ...        ...\n",
       "14934      they      N       4       6.50\n",
       "14935        in      N       2       7.27\n",
       "14936       the      N       3       7.73\n",
       "14937      wild      N       4       4.80\n",
       "14938         ?      N       1       0.00\n",
       "\n",
       "[14939 rows x 4 columns]"
      ]
     },
     "execution_count": 12,
     "metadata": {},
     "output_type": "execute_result"
    }
   ],
   "source": [
    "train_data['length'] = token_length_each\n",
    "train_data['frequency'] = freq_list\n",
    "train_data"
   ]
  },
  {
   "cell_type": "markdown",
   "id": "8c7fdbb2",
   "metadata": {},
   "source": [
    "`Majority baseline:` always assigns the majority class."
   ]
  },
  {
   "cell_type": "code",
   "execution_count": 28,
   "id": "b31e666c",
   "metadata": {},
   "outputs": [
    {
     "name": "stdout",
     "output_type": "stream",
     "text": [
      "12449\n",
      "2490\n"
     ]
    }
   ],
   "source": [
    "n_label =train_data[\"labels\"][train_data[\"labels\"] == \"N\"]\n",
    "c_label =train_data[\"labels\"][train_data[\"labels\"] == \"C\"]\n",
    "\n",
    "print(len(n_label)) # majority class is N\n",
    "print(len(c_label))\n",
    "majority_class = 'N'"
   ]
  },
  {
   "cell_type": "markdown",
   "id": "5dcda9fd",
   "metadata": {},
   "source": [
    "`Random baseline:` randomly assigns one of the classes."
   ]
  },
  {
   "cell_type": "code",
   "execution_count": 27,
   "id": "eacd5361",
   "metadata": {},
   "outputs": [
    {
     "name": "stdout",
     "output_type": "stream",
     "text": [
      "C\n"
     ]
    }
   ],
   "source": [
    "random_class = np.random.choice(['N' , 'C'])\n",
    "print(random_class)"
   ]
  },
  {
   "cell_type": "code",
   "execution_count": 31,
   "id": "405a0f69",
   "metadata": {},
   "outputs": [
    {
     "name": "stdout",
     "output_type": "stream",
     "text": [
      "7.73\n",
      "0.0\n"
     ]
    }
   ],
   "source": [
    "print(max(train_data[\"frequency\"]))\n",
    "print(min(train_data[\"frequency\"]))"
   ]
  },
  {
   "cell_type": "markdown",
   "id": "2253bc70",
   "metadata": {},
   "source": [
    "`Frequency baseline:` determines the class based on a frequency threshold"
   ]
  },
  {
   "cell_type": "code",
   "execution_count": 42,
   "id": "d6d8b1d3",
   "metadata": {},
   "outputs": [
    {
     "name": "stdout",
     "output_type": "stream",
     "text": [
      "847\n",
      "0\n"
     ]
    }
   ],
   "source": [
    "print(len(train_data[\"labels\"][train_data[\"labels\"] == 'N'][train_data[\"frequency\"] == 7.73])) # N is high with  most freq\n",
    "print(len(train_data[\"labels\"][train_data[\"labels\"] == 'C'][train_data[\"frequency\"] == 7.73]))"
   ]
  },
  {
   "cell_type": "markdown",
   "id": "7f55f375",
   "metadata": {},
   "source": [
    "`Length baseline:` determines the class based on a length threshold "
   ]
  },
  {
   "cell_type": "code",
   "execution_count": 43,
   "id": "1f808d84",
   "metadata": {},
   "outputs": [
    {
     "name": "stdout",
     "output_type": "stream",
     "text": [
      "20\n",
      "1\n"
     ]
    }
   ],
   "source": [
    "print(max(train_data[\"length\"]))\n",
    "print(min(train_data[\"length\"]))"
   ]
  },
  {
   "cell_type": "code",
   "execution_count": 44,
   "id": "1989bc35",
   "metadata": {},
   "outputs": [
    {
     "name": "stdout",
     "output_type": "stream",
     "text": [
      "0\n",
      "1\n"
     ]
    }
   ],
   "source": [
    "print(len(train_data[\"labels\"][train_data[\"labels\"] == 'N'][train_data[\"length\"] == 20]))\n",
    "print(len(train_data[\"labels\"][train_data[\"labels\"] == 'C'][train_data[\"length\"] == 20])) \n",
    "\n",
    "# class C is high with max length"
   ]
  }
 ],
 "metadata": {
  "kernelspec": {
   "display_name": "Python 3 (ipykernel)",
   "language": "python",
   "name": "python3"
  },
  "language_info": {
   "codemirror_mode": {
    "name": "ipython",
    "version": 3
   },
   "file_extension": ".py",
   "mimetype": "text/x-python",
   "name": "python",
   "nbconvert_exporter": "python",
   "pygments_lexer": "ipython3",
   "version": "3.9.12"
  }
 },
 "nbformat": 4,
 "nbformat_minor": 5
}
