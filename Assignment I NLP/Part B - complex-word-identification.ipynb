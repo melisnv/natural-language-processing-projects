{
 "cells": [
  {
   "cell_type": "markdown",
   "id": "78446279",
   "metadata": {},
   "source": [
    "# PART B:  Understanding the task of complex word identification\n",
    "\n",
    "### Description\n",
    "\n",
    "The English dataset consists of mixture of professionally written news, non-professionally written news (WikiNews), and Wikipedia articles. Spanish and German datasets contain data taken from Spanish and German Wikipedia pages. The French dataset contains data taken from French Wikipedia pages. Each sentence in the English dataset was annotated by 10 native and 10 non-native speakers. Annotators were provided with the surrounding context of each sentence, i.e. a paragraph, then asked to mark words they think would be difficult to understand for children, non-native speakers, and people with language disabilities.\n",
    "\n",
    "### Data Format\n",
    "`<ID> Both China and the Philippines flexed their muscles on Wednesday. 31 51 flexed their muscles 10 10 3 2 1 0.25\n",
    "<ID> Both China and the Philippines flexed their muscles on Wednesday. 31 37 flexed 10 10 2 6 1 0.4\n",
    "<ID> Both China and the Philippines flexed their muscles on Wednesday. 44 51 muscles 10 10 0 0 0 0.0`\n",
    "\n",
    "Each line represents a sentence with one complex word annotation and relevant information, each separated by a TAB character.\n",
    "\n",
    "    The first column shows the HIT ID of the sentence. All sentences with the same ID belong to the same HIT.\n",
    "    The second column shows the actual sentence where there exists a complex phrase annotation.\n",
    "    The third and fourth columns display the start and end offsets of the target word in this sentence.\n",
    "    The fifth column represents the target word.\n",
    "    The sixth and seventh columns show the number of native annotators and the number of non-native annotators who saw the sentence.\n",
    "    The eighth and ninth columns show the number of native annotators and the number of non-native annotators who marked the target word as difficult.\n",
    "    The tenth and eleventh columns show the gold-standard label for the binary and probabilistic classification tasks.\n",
    "\n",
    "The labels in the binary classification task were assigned in the following manner:\n",
    "\n",
    "    0: *simple* word (none of the annotators marked the word as difficult)\n",
    "    1: *complex* word (at least one annotator marked the word as difficult)\n",
    "\n",
    "The labels in the probabilistic classification task were assigned as `<the number of annotators who marked the word as difficult>/<the total number of annotators>`."
   ]
  },
  {
   "cell_type": "code",
   "execution_count": 1,
   "id": "4bb6db2b",
   "metadata": {},
   "outputs": [],
   "source": [
    "import pandas as pd\n",
    "import spacy\n",
    "import numpy as np\n",
    "import matplotlib.pyplot as plt\n",
    "import seaborn as sns\n",
    "from collections import Counter"
   ]
  },
  {
   "cell_type": "code",
   "execution_count": 2,
   "id": "15d354ca",
   "metadata": {
    "scrolled": true
   },
   "outputs": [
    {
     "data": {
      "text/html": [
       "<div>\n",
       "<style scoped>\n",
       "    .dataframe tbody tr th:only-of-type {\n",
       "        vertical-align: middle;\n",
       "    }\n",
       "\n",
       "    .dataframe tbody tr th {\n",
       "        vertical-align: top;\n",
       "    }\n",
       "\n",
       "    .dataframe thead th {\n",
       "        text-align: right;\n",
       "    }\n",
       "</style>\n",
       "<table border=\"1\" class=\"dataframe\">\n",
       "  <thead>\n",
       "    <tr style=\"text-align: right;\">\n",
       "      <th></th>\n",
       "      <th>id</th>\n",
       "      <th>sentence</th>\n",
       "      <th>start</th>\n",
       "      <th>end</th>\n",
       "      <th>trgt</th>\n",
       "      <th>nat_ann</th>\n",
       "      <th>nonnat_ann</th>\n",
       "      <th>nat_diff</th>\n",
       "      <th>non_diff</th>\n",
       "      <th>label</th>\n",
       "      <th>prob</th>\n",
       "    </tr>\n",
       "  </thead>\n",
       "  <tbody>\n",
       "    <tr>\n",
       "      <th>0</th>\n",
       "      <td>3P7RGTLO6EE07HLUVDKKHS6O7CCKA5</td>\n",
       "      <td>The barren islands, reefs and coral outcrops a...</td>\n",
       "      <td>4</td>\n",
       "      <td>10</td>\n",
       "      <td>barren</td>\n",
       "      <td>10</td>\n",
       "      <td>10</td>\n",
       "      <td>6</td>\n",
       "      <td>2</td>\n",
       "      <td>1</td>\n",
       "      <td>0.40</td>\n",
       "    </tr>\n",
       "    <tr>\n",
       "      <th>1</th>\n",
       "      <td>3P7RGTLO6EE07HLUVDKKHS6O7CCKA5</td>\n",
       "      <td>The barren islands, reefs and coral outcrops a...</td>\n",
       "      <td>4</td>\n",
       "      <td>18</td>\n",
       "      <td>barren islands</td>\n",
       "      <td>10</td>\n",
       "      <td>10</td>\n",
       "      <td>0</td>\n",
       "      <td>1</td>\n",
       "      <td>1</td>\n",
       "      <td>0.05</td>\n",
       "    </tr>\n",
       "    <tr>\n",
       "      <th>2</th>\n",
       "      <td>3P7RGTLO6EE07HLUVDKKHS6O7CCKA5</td>\n",
       "      <td>The barren islands, reefs and coral outcrops a...</td>\n",
       "      <td>20</td>\n",
       "      <td>25</td>\n",
       "      <td>reefs</td>\n",
       "      <td>10</td>\n",
       "      <td>10</td>\n",
       "      <td>1</td>\n",
       "      <td>2</td>\n",
       "      <td>1</td>\n",
       "      <td>0.15</td>\n",
       "    </tr>\n",
       "    <tr>\n",
       "      <th>3</th>\n",
       "      <td>3P7RGTLO6EE07HLUVDKKHS6O7CCKA5</td>\n",
       "      <td>The barren islands, reefs and coral outcrops a...</td>\n",
       "      <td>11</td>\n",
       "      <td>18</td>\n",
       "      <td>islands</td>\n",
       "      <td>10</td>\n",
       "      <td>10</td>\n",
       "      <td>0</td>\n",
       "      <td>0</td>\n",
       "      <td>0</td>\n",
       "      <td>0.00</td>\n",
       "    </tr>\n",
       "    <tr>\n",
       "      <th>4</th>\n",
       "      <td>3P7RGTLO6EE07HLUVDKKHS6O7CCKA5</td>\n",
       "      <td>The barren islands, reefs and coral outcrops a...</td>\n",
       "      <td>30</td>\n",
       "      <td>35</td>\n",
       "      <td>coral</td>\n",
       "      <td>10</td>\n",
       "      <td>10</td>\n",
       "      <td>0</td>\n",
       "      <td>0</td>\n",
       "      <td>0</td>\n",
       "      <td>0.00</td>\n",
       "    </tr>\n",
       "  </tbody>\n",
       "</table>\n",
       "</div>"
      ],
      "text/plain": [
       "                               id  \\\n",
       "0  3P7RGTLO6EE07HLUVDKKHS6O7CCKA5   \n",
       "1  3P7RGTLO6EE07HLUVDKKHS6O7CCKA5   \n",
       "2  3P7RGTLO6EE07HLUVDKKHS6O7CCKA5   \n",
       "3  3P7RGTLO6EE07HLUVDKKHS6O7CCKA5   \n",
       "4  3P7RGTLO6EE07HLUVDKKHS6O7CCKA5   \n",
       "\n",
       "                                            sentence  start  end  \\\n",
       "0  The barren islands, reefs and coral outcrops a...      4   10   \n",
       "1  The barren islands, reefs and coral outcrops a...      4   18   \n",
       "2  The barren islands, reefs and coral outcrops a...     20   25   \n",
       "3  The barren islands, reefs and coral outcrops a...     11   18   \n",
       "4  The barren islands, reefs and coral outcrops a...     30   35   \n",
       "\n",
       "             trgt  nat_ann  nonnat_ann  nat_diff  non_diff  label  prob  \n",
       "0          barren       10          10         6         2      1  0.40  \n",
       "1  barren islands       10          10         0         1      1  0.05  \n",
       "2           reefs       10          10         1         2      1  0.15  \n",
       "3         islands       10          10         0         0      0  0.00  \n",
       "4           coral       10          10         0         0      0  0.00  "
      ]
     },
     "execution_count": 2,
     "metadata": {},
     "output_type": "execute_result"
    }
   ],
   "source": [
    "df = pd.read_csv('../datas/News_Train.tsv', sep='\\t',header=None)\n",
    "\n",
    "data = df.set_axis(['id','sentence','start','end','trgt','nat_ann','nonnat_ann','nat_diff','non_diff','label','prob'],\n",
    "                  axis=1, inplace=False)\n",
    "\n",
    "data.head()"
   ]
  },
  {
   "cell_type": "code",
   "execution_count": 3,
   "id": "a4b614bd",
   "metadata": {},
   "outputs": [
    {
     "data": {
      "text/plain": [
       "0        1\n",
       "1        1\n",
       "2        1\n",
       "3        0\n",
       "4        0\n",
       "        ..\n",
       "13997    1\n",
       "13998    0\n",
       "13999    0\n",
       "14000    0\n",
       "14001    0\n",
       "Name: label, Length: 14002, dtype: int64"
      ]
     },
     "execution_count": 3,
     "metadata": {},
     "output_type": "execute_result"
    }
   ],
   "source": [
    "data['label']"
   ]
  },
  {
   "cell_type": "code",
   "execution_count": 4,
   "id": "2aafa76a",
   "metadata": {},
   "outputs": [
    {
     "name": "stdout",
     "output_type": "stream",
     "text": [
      "8459\n"
     ]
    }
   ],
   "source": [
    "label_zero = data[(data[\"label\"] == 0)]\n",
    "num_of_inst_0 = len(label_zero)\n",
    "print(num_of_inst_0)"
   ]
  },
  {
   "cell_type": "code",
   "execution_count": 5,
   "id": "286ef6b6",
   "metadata": {},
   "outputs": [
    {
     "name": "stdout",
     "output_type": "stream",
     "text": [
      "5543\n"
     ]
    }
   ],
   "source": [
    "label_one = data[(data[\"label\"] == 1)]\n",
    "num_of_inst_1 = len(label_one)\n",
    "print(num_of_inst_1)"
   ]
  },
  {
   "cell_type": "code",
   "execution_count": 6,
   "id": "f15cbe4d",
   "metadata": {},
   "outputs": [
    {
     "data": {
      "text/html": [
       "<div>\n",
       "<style scoped>\n",
       "    .dataframe tbody tr th:only-of-type {\n",
       "        vertical-align: middle;\n",
       "    }\n",
       "\n",
       "    .dataframe tbody tr th {\n",
       "        vertical-align: top;\n",
       "    }\n",
       "\n",
       "    .dataframe thead th {\n",
       "        text-align: right;\n",
       "    }\n",
       "</style>\n",
       "<table border=\"1\" class=\"dataframe\">\n",
       "  <thead>\n",
       "    <tr style=\"text-align: right;\">\n",
       "      <th></th>\n",
       "      <th>start</th>\n",
       "      <th>end</th>\n",
       "      <th>nat_ann</th>\n",
       "      <th>nonnat_ann</th>\n",
       "      <th>nat_diff</th>\n",
       "      <th>non_diff</th>\n",
       "      <th>label</th>\n",
       "      <th>prob</th>\n",
       "    </tr>\n",
       "  </thead>\n",
       "  <tbody>\n",
       "    <tr>\n",
       "      <th>count</th>\n",
       "      <td>14002.000000</td>\n",
       "      <td>14002.000000</td>\n",
       "      <td>14002.0</td>\n",
       "      <td>14002.0</td>\n",
       "      <td>14002.000000</td>\n",
       "      <td>14002.000000</td>\n",
       "      <td>14002.000000</td>\n",
       "      <td>14002.000000</td>\n",
       "    </tr>\n",
       "    <tr>\n",
       "      <th>mean</th>\n",
       "      <td>83.727753</td>\n",
       "      <td>92.100486</td>\n",
       "      <td>10.0</td>\n",
       "      <td>10.0</td>\n",
       "      <td>0.902014</td>\n",
       "      <td>0.860591</td>\n",
       "      <td>0.395872</td>\n",
       "      <td>0.088130</td>\n",
       "    </tr>\n",
       "    <tr>\n",
       "      <th>std</th>\n",
       "      <td>66.602408</td>\n",
       "      <td>66.819266</td>\n",
       "      <td>0.0</td>\n",
       "      <td>0.0</td>\n",
       "      <td>1.949611</td>\n",
       "      <td>1.894848</td>\n",
       "      <td>0.489055</td>\n",
       "      <td>0.181183</td>\n",
       "    </tr>\n",
       "    <tr>\n",
       "      <th>min</th>\n",
       "      <td>0.000000</td>\n",
       "      <td>2.000000</td>\n",
       "      <td>10.0</td>\n",
       "      <td>10.0</td>\n",
       "      <td>0.000000</td>\n",
       "      <td>0.000000</td>\n",
       "      <td>0.000000</td>\n",
       "      <td>0.000000</td>\n",
       "    </tr>\n",
       "    <tr>\n",
       "      <th>25%</th>\n",
       "      <td>32.000000</td>\n",
       "      <td>40.000000</td>\n",
       "      <td>10.0</td>\n",
       "      <td>10.0</td>\n",
       "      <td>0.000000</td>\n",
       "      <td>0.000000</td>\n",
       "      <td>0.000000</td>\n",
       "      <td>0.000000</td>\n",
       "    </tr>\n",
       "    <tr>\n",
       "      <th>50%</th>\n",
       "      <td>71.000000</td>\n",
       "      <td>79.000000</td>\n",
       "      <td>10.0</td>\n",
       "      <td>10.0</td>\n",
       "      <td>0.000000</td>\n",
       "      <td>0.000000</td>\n",
       "      <td>0.000000</td>\n",
       "      <td>0.000000</td>\n",
       "    </tr>\n",
       "    <tr>\n",
       "      <th>75%</th>\n",
       "      <td>120.000000</td>\n",
       "      <td>129.000000</td>\n",
       "      <td>10.0</td>\n",
       "      <td>10.0</td>\n",
       "      <td>1.000000</td>\n",
       "      <td>1.000000</td>\n",
       "      <td>1.000000</td>\n",
       "      <td>0.100000</td>\n",
       "    </tr>\n",
       "    <tr>\n",
       "      <th>max</th>\n",
       "      <td>647.000000</td>\n",
       "      <td>656.000000</td>\n",
       "      <td>10.0</td>\n",
       "      <td>10.0</td>\n",
       "      <td>10.000000</td>\n",
       "      <td>10.000000</td>\n",
       "      <td>1.000000</td>\n",
       "      <td>1.000000</td>\n",
       "    </tr>\n",
       "  </tbody>\n",
       "</table>\n",
       "</div>"
      ],
      "text/plain": [
       "              start           end  nat_ann  nonnat_ann      nat_diff  \\\n",
       "count  14002.000000  14002.000000  14002.0     14002.0  14002.000000   \n",
       "mean      83.727753     92.100486     10.0        10.0      0.902014   \n",
       "std       66.602408     66.819266      0.0         0.0      1.949611   \n",
       "min        0.000000      2.000000     10.0        10.0      0.000000   \n",
       "25%       32.000000     40.000000     10.0        10.0      0.000000   \n",
       "50%       71.000000     79.000000     10.0        10.0      0.000000   \n",
       "75%      120.000000    129.000000     10.0        10.0      1.000000   \n",
       "max      647.000000    656.000000     10.0        10.0     10.000000   \n",
       "\n",
       "           non_diff         label          prob  \n",
       "count  14002.000000  14002.000000  14002.000000  \n",
       "mean       0.860591      0.395872      0.088130  \n",
       "std        1.894848      0.489055      0.181183  \n",
       "min        0.000000      0.000000      0.000000  \n",
       "25%        0.000000      0.000000      0.000000  \n",
       "50%        0.000000      0.000000      0.000000  \n",
       "75%        1.000000      1.000000      0.100000  \n",
       "max       10.000000      1.000000      1.000000  "
      ]
     },
     "execution_count": 6,
     "metadata": {},
     "output_type": "execute_result"
    }
   ],
   "source": [
    "data.describe()"
   ]
  },
  {
   "cell_type": "markdown",
   "id": "1f2cf81d",
   "metadata": {},
   "source": [
    "### Min, max, median, mean, and stdev of the probabilistic label"
   ]
  },
  {
   "cell_type": "code",
   "execution_count": 7,
   "id": "5a9ef16c",
   "metadata": {},
   "outputs": [],
   "source": [
    "min_prob_label = data[\"prob\"].min()\n",
    "max_prob_label = data[\"prob\"].max()\n",
    "mean_prob_label = data[\"prob\"].mean()\n",
    "median_prob_label = data[\"prob\"].median()\n",
    "std_prob_label = data[\"prob\"].std()"
   ]
  },
  {
   "cell_type": "code",
   "execution_count": 8,
   "id": "83976992",
   "metadata": {},
   "outputs": [
    {
     "data": {
      "text/plain": [
       "0                  barren\n",
       "1          barren islands\n",
       "2                   reefs\n",
       "3                 islands\n",
       "4                   coral\n",
       "               ...       \n",
       "13997    security partner\n",
       "13998            security\n",
       "13999             partner\n",
       "14000              troops\n",
       "14001                home\n",
       "Name: trgt, Length: 14002, dtype: object"
      ]
     },
     "execution_count": 8,
     "metadata": {},
     "output_type": "execute_result"
    }
   ],
   "source": [
    "data['trgt']"
   ]
  },
  {
   "cell_type": "markdown",
   "id": "5645f67e",
   "metadata": {},
   "source": [
    " ### Number of instances consisting of more than one token"
   ]
  },
  {
   "cell_type": "code",
   "execution_count": 9,
   "id": "e6fc130e",
   "metadata": {},
   "outputs": [
    {
     "name": "stdout",
     "output_type": "stream",
     "text": [
      "Number of instances consisting of more than one token :  1624\n"
     ]
    }
   ],
   "source": [
    "nlp = spacy.load(\"en_core_web_sm\")\n",
    "\n",
    "num_inst_mor_one_token = 0\n",
    "\n",
    "for row in range(len(data)):\n",
    "    doc = nlp(data.loc[row, \"trgt\"])\n",
    "    for np in doc.noun_chunks:\n",
    "        if len(np) > 1:\n",
    "            num_inst_mor_one_token += 1\n",
    "\n",
    "print(\"Number of instances consisting of more than one token : \",num_inst_mor_one_token) # 1624"
   ]
  },
  {
   "cell_type": "markdown",
   "id": "882cb357",
   "metadata": {},
   "source": [
    "### Maximum number of tokens for an instance"
   ]
  },
  {
   "cell_type": "code",
   "execution_count": 10,
   "id": "63b3498a",
   "metadata": {},
   "outputs": [
    {
     "name": "stdout",
     "output_type": "stream",
     "text": [
      "Maximum number of tokens for an instance :  7\n",
      "The maximum token instance :  state-owned RIA Novosti news agency\n"
     ]
    }
   ],
   "source": [
    "max_num_of_tokens = 0\n",
    "maximum_token = ''\n",
    "\n",
    "for row in range(len(data)):\n",
    "    doc = nlp(data.loc[row, \"trgt\"])\n",
    "    for np in doc.noun_chunks:\n",
    "        if len(np) > max_num_of_tokens:\n",
    "            max_num_of_tokens = len(np)\n",
    "            maximum_token = np.text\n",
    "\n",
    "print(\"Maximum number of tokens for an instance : \",max_num_of_tokens) # 7\n",
    "print(\"The maximum token instance : \",maximum_token) # state-owned RIA Novosti news agency"
   ]
  },
  {
   "cell_type": "markdown",
   "id": "964d3a08",
   "metadata": {},
   "source": [
    "# 8.Explore linguistic characteristics\n",
    "For simplicity, we will focus on the instances which consist only of a **single token** and have been labeled as **complex** by at least one annotator. Calculate the length of the tokens as the number of characters. Calculate the frequency of the tokens using the `wordfreq` package."
   ]
  },
  {
   "cell_type": "code",
   "execution_count": 11,
   "id": "1fd259ad",
   "metadata": {},
   "outputs": [
    {
     "name": "stdout",
     "output_type": "stream",
     "text": [
      "The length of the tokens: 78330\n"
     ]
    }
   ],
   "source": [
    "total_tokens_length = 0\n",
    "\n",
    "for row in range(len(data)):\n",
    "    doc = nlp(data.loc[row, \"trgt\"])\n",
    "    for np in doc.noun_chunks:\n",
    "        total_tokens_length += len(np.text)\n",
    "\n",
    "print(\"The length of the tokens:\", total_tokens_length) # 78330"
   ]
  },
  {
   "cell_type": "code",
   "execution_count": 12,
   "id": "c76b3a57",
   "metadata": {},
   "outputs": [],
   "source": [
    "from wordfreq import zipf_frequency, word_frequency"
   ]
  },
  {
   "cell_type": "code",
   "execution_count": 13,
   "id": "1b88daac",
   "metadata": {},
   "outputs": [
    {
     "name": "stdout",
     "output_type": "stream",
     "text": [
      "[('barren', 3.4), ('islands', 4.5), ('coral', 3.86), ('outcrops', 0.0), ('oil', 5.1), ('gas', 5.01), ('Asia', 4.65), ('conflict', 4.64), ('flexed', 0.0), ('China', 5.1)]\n",
      "[3.4, 4.5, 3.86, 0.0, 5.1, 5.01, 4.65, 4.64, 0.0, 5.1]\n"
     ]
    }
   ],
   "source": [
    "frequency_of_tokens = {}\n",
    "freq_list = []\n",
    "\n",
    "for row in range(len(data)):\n",
    "    doc = nlp(data.loc[row, \"trgt\"])\n",
    "    for np in doc.noun_chunks:\n",
    "        if len(np) == 1:\n",
    "            frequency = zipf_frequency(np.text, 'en', wordlist='small')\n",
    "            frequency_of_tokens.update({np.text: frequency})\n",
    "            freq_list.append(frequency)\n",
    "\n",
    "        \n",
    "print(list(frequency_of_tokens.items())[:10])\n",
    "print(freq_list[:10])"
   ]
  },
  {
   "cell_type": "code",
   "execution_count": 14,
   "id": "81ae154f",
   "metadata": {},
   "outputs": [
    {
     "data": {
      "text/plain": [
       "0        0.40\n",
       "1        0.05\n",
       "2        0.15\n",
       "3        0.00\n",
       "4        0.00\n",
       "         ... \n",
       "13997    0.10\n",
       "13998    0.00\n",
       "13999    0.00\n",
       "14000    0.00\n",
       "14001    0.00\n",
       "Name: prob, Length: 14002, dtype: float64"
      ]
     },
     "execution_count": 14,
     "metadata": {},
     "output_type": "execute_result"
    }
   ],
   "source": [
    "instance = data[\"prob\"]\n",
    "instance"
   ]
  },
  {
   "cell_type": "code",
   "execution_count": 15,
   "id": "2725ed80",
   "metadata": {},
   "outputs": [],
   "source": [
    "one_token_df = []\n",
    "\n",
    "for row in range(len(data)):\n",
    "    doc = nlp(data.loc[row, \"trgt\"])\n",
    "    for np in doc.noun_chunks:\n",
    "        if len(np) == 1:\n",
    "            one_token_df.append(len(np.text))\n",
    "            \n",
    "#print(one_token_df)"
   ]
  },
  {
   "cell_type": "code",
   "execution_count": 16,
   "id": "f7846c43",
   "metadata": {},
   "outputs": [
    {
     "data": {
      "text/html": [
       "<div>\n",
       "<style scoped>\n",
       "    .dataframe tbody tr th:only-of-type {\n",
       "        vertical-align: middle;\n",
       "    }\n",
       "\n",
       "    .dataframe tbody tr th {\n",
       "        vertical-align: top;\n",
       "    }\n",
       "\n",
       "    .dataframe thead th {\n",
       "        text-align: right;\n",
       "    }\n",
       "</style>\n",
       "<table border=\"1\" class=\"dataframe\">\n",
       "  <thead>\n",
       "    <tr style=\"text-align: right;\">\n",
       "      <th></th>\n",
       "      <th>single_tokens</th>\n",
       "      <th>comp_prob</th>\n",
       "    </tr>\n",
       "  </thead>\n",
       "  <tbody>\n",
       "    <tr>\n",
       "      <th>0</th>\n",
       "      <td>6</td>\n",
       "      <td>0.40</td>\n",
       "    </tr>\n",
       "    <tr>\n",
       "      <th>1</th>\n",
       "      <td>7</td>\n",
       "      <td>0.05</td>\n",
       "    </tr>\n",
       "    <tr>\n",
       "      <th>2</th>\n",
       "      <td>5</td>\n",
       "      <td>0.15</td>\n",
       "    </tr>\n",
       "    <tr>\n",
       "      <th>3</th>\n",
       "      <td>8</td>\n",
       "      <td>0.00</td>\n",
       "    </tr>\n",
       "    <tr>\n",
       "      <th>4</th>\n",
       "      <td>3</td>\n",
       "      <td>0.00</td>\n",
       "    </tr>\n",
       "    <tr>\n",
       "      <th>...</th>\n",
       "      <td>...</td>\n",
       "      <td>...</td>\n",
       "    </tr>\n",
       "    <tr>\n",
       "      <th>7835</th>\n",
       "      <td>6</td>\n",
       "      <td>0.00</td>\n",
       "    </tr>\n",
       "    <tr>\n",
       "      <th>7836</th>\n",
       "      <td>8</td>\n",
       "      <td>0.05</td>\n",
       "    </tr>\n",
       "    <tr>\n",
       "      <th>7837</th>\n",
       "      <td>7</td>\n",
       "      <td>0.00</td>\n",
       "    </tr>\n",
       "    <tr>\n",
       "      <th>7838</th>\n",
       "      <td>6</td>\n",
       "      <td>0.00</td>\n",
       "    </tr>\n",
       "    <tr>\n",
       "      <th>7839</th>\n",
       "      <td>4</td>\n",
       "      <td>0.00</td>\n",
       "    </tr>\n",
       "  </tbody>\n",
       "</table>\n",
       "<p>7840 rows × 2 columns</p>\n",
       "</div>"
      ],
      "text/plain": [
       "      single_tokens  comp_prob\n",
       "0                 6       0.40\n",
       "1                 7       0.05\n",
       "2                 5       0.15\n",
       "3                 8       0.00\n",
       "4                 3       0.00\n",
       "...             ...        ...\n",
       "7835              6       0.00\n",
       "7836              8       0.05\n",
       "7837              7       0.00\n",
       "7838              6       0.00\n",
       "7839              4       0.00\n",
       "\n",
       "[7840 rows x 2 columns]"
      ]
     },
     "execution_count": 16,
     "metadata": {},
     "output_type": "execute_result"
    }
   ],
   "source": [
    "token_1_df = pd.DataFrame()\n",
    "token_1_df['single_tokens'] = one_token_df\n",
    "token_1_df['comp_prob'] = instance\n",
    "token_1_df.dropna()"
   ]
  },
  {
   "cell_type": "markdown",
   "id": "2af2d91a",
   "metadata": {},
   "source": [
    "### Provide the Pearson correlation of length and frequency with the probabilistic complexity label."
   ]
  },
  {
   "cell_type": "code",
   "execution_count": 17,
   "id": "729e043b",
   "metadata": {},
   "outputs": [
    {
     "data": {
      "text/html": [
       "<div>\n",
       "<style scoped>\n",
       "    .dataframe tbody tr th:only-of-type {\n",
       "        vertical-align: middle;\n",
       "    }\n",
       "\n",
       "    .dataframe tbody tr th {\n",
       "        vertical-align: top;\n",
       "    }\n",
       "\n",
       "    .dataframe thead th {\n",
       "        text-align: right;\n",
       "    }\n",
       "</style>\n",
       "<table border=\"1\" class=\"dataframe\">\n",
       "  <thead>\n",
       "    <tr style=\"text-align: right;\">\n",
       "      <th></th>\n",
       "      <th>single_tokens</th>\n",
       "      <th>comp_prob</th>\n",
       "    </tr>\n",
       "  </thead>\n",
       "  <tbody>\n",
       "    <tr>\n",
       "      <th>single_tokens</th>\n",
       "      <td>1.0000</td>\n",
       "      <td>0.0005</td>\n",
       "    </tr>\n",
       "    <tr>\n",
       "      <th>comp_prob</th>\n",
       "      <td>0.0005</td>\n",
       "      <td>1.0000</td>\n",
       "    </tr>\n",
       "  </tbody>\n",
       "</table>\n",
       "</div>"
      ],
      "text/plain": [
       "               single_tokens  comp_prob\n",
       "single_tokens         1.0000     0.0005\n",
       "comp_prob             0.0005     1.0000"
      ]
     },
     "execution_count": 17,
     "metadata": {},
     "output_type": "execute_result"
    }
   ],
   "source": [
    "token_1_df.corr()"
   ]
  },
  {
   "cell_type": "code",
   "execution_count": 18,
   "id": "ee4037de",
   "metadata": {},
   "outputs": [
    {
     "data": {
      "text/html": [
       "<div>\n",
       "<style scoped>\n",
       "    .dataframe tbody tr th:only-of-type {\n",
       "        vertical-align: middle;\n",
       "    }\n",
       "\n",
       "    .dataframe tbody tr th {\n",
       "        vertical-align: top;\n",
       "    }\n",
       "\n",
       "    .dataframe thead th {\n",
       "        text-align: right;\n",
       "    }\n",
       "</style>\n",
       "<table border=\"1\" class=\"dataframe\">\n",
       "  <thead>\n",
       "    <tr style=\"text-align: right;\">\n",
       "      <th></th>\n",
       "      <th>comp_prob</th>\n",
       "      <th>freq</th>\n",
       "    </tr>\n",
       "  </thead>\n",
       "  <tbody>\n",
       "    <tr>\n",
       "      <th>0</th>\n",
       "      <td>0.40</td>\n",
       "      <td>3.40</td>\n",
       "    </tr>\n",
       "    <tr>\n",
       "      <th>1</th>\n",
       "      <td>0.05</td>\n",
       "      <td>4.50</td>\n",
       "    </tr>\n",
       "    <tr>\n",
       "      <th>2</th>\n",
       "      <td>0.15</td>\n",
       "      <td>3.86</td>\n",
       "    </tr>\n",
       "    <tr>\n",
       "      <th>3</th>\n",
       "      <td>0.00</td>\n",
       "      <td>0.00</td>\n",
       "    </tr>\n",
       "    <tr>\n",
       "      <th>4</th>\n",
       "      <td>0.00</td>\n",
       "      <td>5.10</td>\n",
       "    </tr>\n",
       "    <tr>\n",
       "      <th>...</th>\n",
       "      <td>...</td>\n",
       "      <td>...</td>\n",
       "    </tr>\n",
       "    <tr>\n",
       "      <th>7835</th>\n",
       "      <td>0.00</td>\n",
       "      <td>5.52</td>\n",
       "    </tr>\n",
       "    <tr>\n",
       "      <th>7836</th>\n",
       "      <td>0.05</td>\n",
       "      <td>5.20</td>\n",
       "    </tr>\n",
       "    <tr>\n",
       "      <th>7837</th>\n",
       "      <td>0.00</td>\n",
       "      <td>4.84</td>\n",
       "    </tr>\n",
       "    <tr>\n",
       "      <th>7838</th>\n",
       "      <td>0.00</td>\n",
       "      <td>4.64</td>\n",
       "    </tr>\n",
       "    <tr>\n",
       "      <th>7839</th>\n",
       "      <td>0.00</td>\n",
       "      <td>5.81</td>\n",
       "    </tr>\n",
       "  </tbody>\n",
       "</table>\n",
       "<p>7840 rows × 2 columns</p>\n",
       "</div>"
      ],
      "text/plain": [
       "      comp_prob  freq\n",
       "0          0.40  3.40\n",
       "1          0.05  4.50\n",
       "2          0.15  3.86\n",
       "3          0.00  0.00\n",
       "4          0.00  5.10\n",
       "...         ...   ...\n",
       "7835       0.00  5.52\n",
       "7836       0.05  5.20\n",
       "7837       0.00  4.84\n",
       "7838       0.00  4.64\n",
       "7839       0.00  5.81\n",
       "\n",
       "[7840 rows x 2 columns]"
      ]
     },
     "execution_count": 18,
     "metadata": {},
     "output_type": "execute_result"
    }
   ],
   "source": [
    "token_2_df = pd.DataFrame()\n",
    "token_2_df['comp_prob'] = instance[:7840]\n",
    "token_2_df['freq'] = freq_list\n",
    "token_2_df.dropna()"
   ]
  },
  {
   "cell_type": "code",
   "execution_count": 19,
   "id": "dd26e00e",
   "metadata": {},
   "outputs": [
    {
     "data": {
      "text/html": [
       "<div>\n",
       "<style scoped>\n",
       "    .dataframe tbody tr th:only-of-type {\n",
       "        vertical-align: middle;\n",
       "    }\n",
       "\n",
       "    .dataframe tbody tr th {\n",
       "        vertical-align: top;\n",
       "    }\n",
       "\n",
       "    .dataframe thead th {\n",
       "        text-align: right;\n",
       "    }\n",
       "</style>\n",
       "<table border=\"1\" class=\"dataframe\">\n",
       "  <thead>\n",
       "    <tr style=\"text-align: right;\">\n",
       "      <th></th>\n",
       "      <th>comp_prob</th>\n",
       "      <th>freq</th>\n",
       "    </tr>\n",
       "  </thead>\n",
       "  <tbody>\n",
       "    <tr>\n",
       "      <th>comp_prob</th>\n",
       "      <td>1.000000</td>\n",
       "      <td>0.015593</td>\n",
       "    </tr>\n",
       "    <tr>\n",
       "      <th>freq</th>\n",
       "      <td>0.015593</td>\n",
       "      <td>1.000000</td>\n",
       "    </tr>\n",
       "  </tbody>\n",
       "</table>\n",
       "</div>"
      ],
      "text/plain": [
       "           comp_prob      freq\n",
       "comp_prob   1.000000  0.015593\n",
       "freq        0.015593  1.000000"
      ]
     },
     "execution_count": 19,
     "metadata": {},
     "output_type": "execute_result"
    }
   ],
   "source": [
    "token_2_df.corr()"
   ]
  },
  {
   "cell_type": "code",
   "execution_count": 20,
   "id": "93a67a29",
   "metadata": {},
   "outputs": [
    {
     "data": {
      "text/plain": [
       "(0.015593253027188968, 0.16741759505648648)"
      ]
     },
     "execution_count": 20,
     "metadata": {},
     "output_type": "execute_result"
    }
   ],
   "source": [
    "from scipy.stats import pearsonr\n",
    "\n",
    "pearsonr(token_2_df['comp_prob'],token_2_df['freq'])"
   ]
  },
  {
   "cell_type": "markdown",
   "id": "d8343351",
   "metadata": {},
   "source": [
    "### Provide 3 scatter plots with the probabilistic complexity on the y-axis. "
   ]
  },
  {
   "cell_type": "code",
   "execution_count": 21,
   "id": "95a7a8ef",
   "metadata": {},
   "outputs": [
    {
     "data": {
      "image/png": "[encoded data removed]",
      "text/plain": [
       "<Figure size 432x288 with 1 Axes>"
      ]
     },
     "metadata": {
      "needs_background": "light"
     },
     "output_type": "display_data"
    }
   ],
   "source": [
    "sns_plot = sns.scatterplot(x=\"single_tokens\", y=\"comp_prob\", data=token_1_df);\n",
    "plt.savefig('token_scatter.png')"
   ]
  },
  {
   "cell_type": "code",
   "execution_count": 22,
   "id": "db6573f6",
   "metadata": {},
   "outputs": [
    {
     "data": {
      "image/png": "[encoded data removed]",
      "text/plain": [
       "<Figure size 432x288 with 1 Axes>"
      ]
     },
     "metadata": {
      "needs_background": "light"
     },
     "output_type": "display_data"
    }
   ],
   "source": [
    "sns.scatterplot(x=\"freq\", y=\"comp_prob\", data=token_2_df);\n",
    "plt.savefig('freq_scatter.png')"
   ]
  },
  {
   "cell_type": "code",
   "execution_count": 23,
   "id": "f035be5c",
   "metadata": {},
   "outputs": [
    {
     "name": "stdout",
     "output_type": "stream",
     "text": [
      "['HYPH', 'HYPH', 'HYPH', 'HYPH', 'HYPH', 'HYPH', 'HYPH', 'HYPH', 'DT', 'DT']\n",
      "{'HYPH': 1, 'DT': 1, 'NNP': 1, '``': 1, ',': 2, 'VBP': 1, 'JJ': 1, '-LRB-': 1, \"''\": 1, 'LS': 1, 'VBN': 1, 'NN': 1, '_SP': 1, 'POS': 1, ':': 1}\n"
     ]
    }
   ],
   "source": [
    "pos_tags_dict = {}\n",
    "pos_tags_list = []\n",
    "\n",
    "for row in range(len(data)):\n",
    "    doc = nlp(data.loc[row, \"trgt\"])\n",
    "    for np in doc:\n",
    "        if len(np.text) == 1:\n",
    "            if np.text not in pos_tags_dict:\n",
    "                value = 0\n",
    "                pos_tags_list.append(np.tag_)\n",
    "                value = 1\n",
    "                pos_tags_dict.update({np.tag_ : value})\n",
    "            else:\n",
    "                value += 1\n",
    "                pos_tags_dict.update({np.tag_ : value})\n",
    "            \n",
    "print(pos_tags_list[:10])\n",
    "print(pos_tags_dict)"
   ]
  },
  {
   "cell_type": "code",
   "execution_count": 24,
   "id": "d61d5b85",
   "metadata": {},
   "outputs": [
    {
     "name": "stdout",
     "output_type": "stream",
     "text": [
      "Counter({'HYPH': 1899422, 'DT': 347602, 'JJ': 290450, 'NNP': 55959, '``': 48733, ',': 46994, 'NN': 37994, \"''\": 34626, 'LS': 27758, 'VBN': 27758, 'VBP': 21327, '_SP': 19743, ':': 12795, '-LRB-': 11879, 'POS': 8842})\n"
     ]
    }
   ],
   "source": [
    "pos_tags_frequencies = Counter()\n",
    "pos_tags_list = []\n",
    "pos_tags_freq = []\n",
    "\n",
    "for row in range(len(data)):\n",
    "    doc = nlp(data.loc[row, \"trgt\"])\n",
    "    for np in doc:\n",
    "        if len(np.text) == 1:\n",
    "            if np.tag_ not in pos_tags_list:\n",
    "                pos_tags_freq.append((np.tag_))\n",
    "    pos_tags_frequencies.update(pos_tags_freq)\n",
    "    \n",
    "print(pos_tags_frequencies)\n",
    "# print(pos_tags_freq)"
   ]
  },
  {
   "cell_type": "code",
   "execution_count": 25,
   "id": "93321b5b",
   "metadata": {},
   "outputs": [
    {
     "name": "stdout",
     "output_type": "stream",
     "text": [
      "['HYPH', 'DT', 'NNP', '``', ',', 'VBP', 'JJ', '-LRB-', \"''\", 'LS', 'VBN', 'NN', '_SP', 'POS', ':']\n"
     ]
    }
   ],
   "source": [
    "pos_tag_lst = list(pos_tags_frequencies)\n",
    "print(pos_tag_lst)"
   ]
  },
  {
   "cell_type": "code",
   "execution_count": 26,
   "id": "3a1ef09a",
   "metadata": {},
   "outputs": [],
   "source": [
    "pos_tags_frequencies = [value for _, value in pos_tags_frequencies.most_common()]"
   ]
  },
  {
   "cell_type": "code",
   "execution_count": 27,
   "id": "5ae5cf04",
   "metadata": {},
   "outputs": [
    {
     "data": {
      "text/html": [
       "<div>\n",
       "<style scoped>\n",
       "    .dataframe tbody tr th:only-of-type {\n",
       "        vertical-align: middle;\n",
       "    }\n",
       "\n",
       "    .dataframe tbody tr th {\n",
       "        vertical-align: top;\n",
       "    }\n",
       "\n",
       "    .dataframe thead th {\n",
       "        text-align: right;\n",
       "    }\n",
       "</style>\n",
       "<table border=\"1\" class=\"dataframe\">\n",
       "  <thead>\n",
       "    <tr style=\"text-align: right;\">\n",
       "      <th></th>\n",
       "      <th>comp_prob</th>\n",
       "      <th>pos_tag</th>\n",
       "    </tr>\n",
       "  </thead>\n",
       "  <tbody>\n",
       "    <tr>\n",
       "      <th>0</th>\n",
       "      <td>0.40</td>\n",
       "      <td>HYPH</td>\n",
       "    </tr>\n",
       "    <tr>\n",
       "      <th>1</th>\n",
       "      <td>0.05</td>\n",
       "      <td>DT</td>\n",
       "    </tr>\n",
       "    <tr>\n",
       "      <th>2</th>\n",
       "      <td>0.15</td>\n",
       "      <td>NNP</td>\n",
       "    </tr>\n",
       "    <tr>\n",
       "      <th>3</th>\n",
       "      <td>0.00</td>\n",
       "      <td>``</td>\n",
       "    </tr>\n",
       "    <tr>\n",
       "      <th>4</th>\n",
       "      <td>0.00</td>\n",
       "      <td>,</td>\n",
       "    </tr>\n",
       "    <tr>\n",
       "      <th>5</th>\n",
       "      <td>0.10</td>\n",
       "      <td>VBP</td>\n",
       "    </tr>\n",
       "    <tr>\n",
       "      <th>6</th>\n",
       "      <td>0.55</td>\n",
       "      <td>JJ</td>\n",
       "    </tr>\n",
       "    <tr>\n",
       "      <th>7</th>\n",
       "      <td>0.40</td>\n",
       "      <td>-LRB-</td>\n",
       "    </tr>\n",
       "    <tr>\n",
       "      <th>8</th>\n",
       "      <td>0.00</td>\n",
       "      <td>''</td>\n",
       "    </tr>\n",
       "    <tr>\n",
       "      <th>9</th>\n",
       "      <td>0.00</td>\n",
       "      <td>LS</td>\n",
       "    </tr>\n",
       "    <tr>\n",
       "      <th>10</th>\n",
       "      <td>0.00</td>\n",
       "      <td>VBN</td>\n",
       "    </tr>\n",
       "    <tr>\n",
       "      <th>11</th>\n",
       "      <td>0.00</td>\n",
       "      <td>NN</td>\n",
       "    </tr>\n",
       "    <tr>\n",
       "      <th>12</th>\n",
       "      <td>0.20</td>\n",
       "      <td>_SP</td>\n",
       "    </tr>\n",
       "    <tr>\n",
       "      <th>13</th>\n",
       "      <td>0.80</td>\n",
       "      <td>POS</td>\n",
       "    </tr>\n",
       "    <tr>\n",
       "      <th>14</th>\n",
       "      <td>0.00</td>\n",
       "      <td>:</td>\n",
       "    </tr>\n",
       "  </tbody>\n",
       "</table>\n",
       "</div>"
      ],
      "text/plain": [
       "    comp_prob pos_tag\n",
       "0        0.40    HYPH\n",
       "1        0.05      DT\n",
       "2        0.15     NNP\n",
       "3        0.00      ``\n",
       "4        0.00       ,\n",
       "5        0.10     VBP\n",
       "6        0.55      JJ\n",
       "7        0.40   -LRB-\n",
       "8        0.00      ''\n",
       "9        0.00      LS\n",
       "10       0.00     VBN\n",
       "11       0.00      NN\n",
       "12       0.20     _SP\n",
       "13       0.80     POS\n",
       "14       0.00       :"
      ]
     },
     "execution_count": 27,
     "metadata": {},
     "output_type": "execute_result"
    }
   ],
   "source": [
    "token_3_df = pd.DataFrame()\n",
    "token_3_df['comp_prob'] = instance[:15]\n",
    "token_3_df['pos_tag'] = pos_tag_lst\n",
    "token_3_df.dropna()"
   ]
  },
  {
   "cell_type": "code",
   "execution_count": 28,
   "id": "18d8e746",
   "metadata": {},
   "outputs": [
    {
     "data": {
      "image/png": "[encoded data removed]",
      "text/plain": [
       "<Figure size 432x288 with 1 Axes>"
      ]
     },
     "metadata": {
      "needs_background": "light"
     },
     "output_type": "display_data"
    }
   ],
   "source": [
    "sns.scatterplot(x=\"pos_tag\", y=\"comp_prob\", data=token_3_df);\n",
    "plt.savefig('postag_scatter.png')"
   ]
  }
 ],
 "metadata": {
  "kernelspec": {
   "display_name": "Python 3 (ipykernel)",
   "language": "python",
   "name": "python3"
  },
  "language_info": {
   "codemirror_mode": {
    "name": "ipython",
    "version": 3
   },
   "file_extension": ".py",
   "mimetype": "text/x-python",
   "name": "python",
   "nbconvert_exporter": "python",
   "pygments_lexer": "ipython3",
   "version": "3.9.12"
  }
 },
 "nbformat": 4,
 "nbformat_minor": 5
}
