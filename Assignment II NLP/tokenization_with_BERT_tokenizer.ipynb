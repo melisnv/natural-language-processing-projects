{
  "nbformat": 4,
  "nbformat_minor": 0,
  "metadata": {
    "colab": {
      "name": "tokenization_with_BERT_tokenizer",
      "provenance": [],
      "collapsed_sections": []
    },
    "kernelspec": {
      "name": "python3",
      "display_name": "Python 3"
    },
    "language_info": {
      "name": "python"
    },
    "accelerator": "GPU"
  },
  "cells": [
    {
      "cell_type": "code",
      "source": [
        "#!pip install simpletransformers"
      ],
      "metadata": {
        "id": "2kUP45vlDB78"
      },
      "execution_count": 24,
      "outputs": []
    },
    {
      "cell_type": "code",
      "source": [
        "import pandas as pd\n",
        "from simpletransformers.classification import ClassificationModel,ClassificationArgs\n",
        "import warnings\n",
        "warnings.filterwarnings(\"ignore\")"
      ],
      "metadata": {
        "id": "TI_1xNE2BrEB"
      },
      "execution_count": 14,
      "outputs": []
    },
    {
      "cell_type": "code",
      "execution_count": 15,
      "metadata": {
        "id": "tuQr8uB1_dhD",
        "colab": {
          "base_uri": "https://localhost:8080/"
        },
        "outputId": "aa731efd-d4e6-4127-9840-9a75c6cd74d2"
      },
      "outputs": [
        {
          "output_type": "stream",
          "name": "stdout",
          "text": [
            "@USER @USER @USER It’s not my fault you support gun control\n"
          ]
        }
      ],
      "source": [
        "train_data = pd.read_csv('./data/olid-train.csv')\n",
        "test_data = pd.read_csv('./data/olid-test.csv')\n",
        "\n",
        "print(train_data['text'][10])"
      ]
    },
    {
      "cell_type": "code",
      "source": [
        "model_args = ClassificationArgs()\n",
        "model_args.num_train_epochs = 1\n",
        "\n",
        "model = ClassificationModel(\"bert\", \"bert-base-cased\", args=model_args, use_cuda=False)"
      ],
      "metadata": {
        "id": "aRETkyGxBons",
        "colab": {
          "base_uri": "https://localhost:8080/"
        },
        "outputId": "5105965b-d1af-4852-95ee-25fe931a1400"
      },
      "execution_count": 16,
      "outputs": [
        {
          "output_type": "stream",
          "name": "stderr",
          "text": [
            "Some weights of the model checkpoint at bert-base-cased were not used when initializing BertForSequenceClassification: ['cls.predictions.transform.dense.weight', 'cls.seq_relationship.weight', 'cls.predictions.transform.LayerNorm.bias', 'cls.seq_relationship.bias', 'cls.predictions.transform.LayerNorm.weight', 'cls.predictions.bias', 'cls.predictions.transform.dense.bias', 'cls.predictions.decoder.weight']\n",
            "- This IS expected if you are initializing BertForSequenceClassification from the checkpoint of a model trained on another task or with another architecture (e.g. initializing a BertForSequenceClassification model from a BertForPreTraining model).\n",
            "- This IS NOT expected if you are initializing BertForSequenceClassification from the checkpoint of a model that you expect to be exactly identical (initializing a BertForSequenceClassification model from a BertForSequenceClassification model).\n",
            "Some weights of BertForSequenceClassification were not initialized from the model checkpoint at bert-base-cased and are newly initialized: ['classifier.bias', 'classifier.weight']\n",
            "You should probably TRAIN this model on a down-stream task to be able to use it for predictions and inference.\n"
          ]
        }
      ]
    },
    {
      "cell_type": "code",
      "source": [
        "#for text in train_data['text']:\n",
        "  #print(text)"
      ],
      "metadata": {
        "id": "3RHje5KsFW_K"
      },
      "execution_count": 17,
      "outputs": []
    },
    {
      "cell_type": "markdown",
      "source": [
        "### Calculate how many times a token is split into subword (hint: use model.tokenizer.tokenize())"
      ],
      "metadata": {
        "id": "Nhj-9kXoMj1z"
      }
    },
    {
      "cell_type": "code",
      "source": [
        "#  if ‘URL’ is tokenized by BERT as ‘U’, ‘##RL’, consider it as one token split into two subwords.\n",
        "\n",
        "# number_of_tokens = 0\n",
        "# number_of_token_subword = 0\n",
        "\n",
        "# for row in train_data.itertuples():\n",
        "#   tokens = model.tokenizer.tokenize(row.text)\n",
        "#   print(\"Tokens:\",tokens)\n",
        "#   number_of_tokens += len(tokens)\n",
        "#   for t in tokens:\n",
        "#     #print(t)\n",
        "#     if '##' in t:\n",
        "#       number_of_token_subword += 1\n",
        "\n",
        "# for row in train_data.itertuples():\n",
        "#   for word in row:\n",
        "#     tokeni = model.tokenizer.tokenize(word)\n",
        "#     print(tokeni)\n",
        "  \n",
        "# print(number_of_tokens)\n",
        "# print(number_of_token_subword)\n"
      ],
      "metadata": {
        "id": "o1SmVmF8GG-v"
      },
      "execution_count": 18,
      "outputs": []
    },
    {
      "cell_type": "code",
      "source": [
        "train_data"
      ],
      "metadata": {
        "colab": {
          "base_uri": "https://localhost:8080/",
          "height": 424
        },
        "id": "aJvrpWEd8xtG",
        "outputId": "41f96fed-32d5-4220-bfbe-490f074615cf"
      },
      "execution_count": 19,
      "outputs": [
        {
          "output_type": "execute_result",
          "data": {
            "text/plain": [
              "          id                                               text  labels\n",
              "0      86426  @USER She should ask a few native Americans wh...       1\n",
              "1      90194  @USER @USER Go home you’re drunk!!! @USER #MAG...       1\n",
              "2      16820  Amazon is investigating Chinese employees who ...       0\n",
              "3      62688  @USER Someone should'veTaken\" this piece of sh...       1\n",
              "4      43605  @USER @USER Obama wanted liberals &amp; illega...       0\n",
              "...      ...                                                ...     ...\n",
              "13235  95338  @USER Sometimes I get strong vibes from people...       1\n",
              "13236  67210  Benidorm ✅  Creamfields ✅  Maga ✅   Not too sh...       0\n",
              "13237  82921  @USER And why report this garbage.  We don't g...       1\n",
              "13238  27429                                        @USER Pussy       1\n",
              "13239  46552  #Spanishrevenge vs. #justice #HumanRights and ...       0\n",
              "\n",
              "[13240 rows x 3 columns]"
            ],
            "text/html": [
              "\n",
              "  <div id=\"df-3e9c10cc-488a-4939-9fd9-fa88801f106a\">\n",
              "    <div class=\"colab-df-container\">\n",
              "      <div>\n",
              "<style scoped>\n",
              "    .dataframe tbody tr th:only-of-type {\n",
              "        vertical-align: middle;\n",
              "    }\n",
              "\n",
              "    .dataframe tbody tr th {\n",
              "        vertical-align: top;\n",
              "    }\n",
              "\n",
              "    .dataframe thead th {\n",
              "        text-align: right;\n",
              "    }\n",
              "</style>\n",
              "<table border=\"1\" class=\"dataframe\">\n",
              "  <thead>\n",
              "    <tr style=\"text-align: right;\">\n",
              "      <th></th>\n",
              "      <th>id</th>\n",
              "      <th>text</th>\n",
              "      <th>labels</th>\n",
              "    </tr>\n",
              "  </thead>\n",
              "  <tbody>\n",
              "    <tr>\n",
              "      <th>0</th>\n",
              "      <td>86426</td>\n",
              "      <td>@USER She should ask a few native Americans wh...</td>\n",
              "      <td>1</td>\n",
              "    </tr>\n",
              "    <tr>\n",
              "      <th>1</th>\n",
              "      <td>90194</td>\n",
              "      <td>@USER @USER Go home you’re drunk!!! @USER #MAG...</td>\n",
              "      <td>1</td>\n",
              "    </tr>\n",
              "    <tr>\n",
              "      <th>2</th>\n",
              "      <td>16820</td>\n",
              "      <td>Amazon is investigating Chinese employees who ...</td>\n",
              "      <td>0</td>\n",
              "    </tr>\n",
              "    <tr>\n",
              "      <th>3</th>\n",
              "      <td>62688</td>\n",
              "      <td>@USER Someone should'veTaken\" this piece of sh...</td>\n",
              "      <td>1</td>\n",
              "    </tr>\n",
              "    <tr>\n",
              "      <th>4</th>\n",
              "      <td>43605</td>\n",
              "      <td>@USER @USER Obama wanted liberals &amp;amp; illega...</td>\n",
              "      <td>0</td>\n",
              "    </tr>\n",
              "    <tr>\n",
              "      <th>...</th>\n",
              "      <td>...</td>\n",
              "      <td>...</td>\n",
              "      <td>...</td>\n",
              "    </tr>\n",
              "    <tr>\n",
              "      <th>13235</th>\n",
              "      <td>95338</td>\n",
              "      <td>@USER Sometimes I get strong vibes from people...</td>\n",
              "      <td>1</td>\n",
              "    </tr>\n",
              "    <tr>\n",
              "      <th>13236</th>\n",
              "      <td>67210</td>\n",
              "      <td>Benidorm ✅  Creamfields ✅  Maga ✅   Not too sh...</td>\n",
              "      <td>0</td>\n",
              "    </tr>\n",
              "    <tr>\n",
              "      <th>13237</th>\n",
              "      <td>82921</td>\n",
              "      <td>@USER And why report this garbage.  We don't g...</td>\n",
              "      <td>1</td>\n",
              "    </tr>\n",
              "    <tr>\n",
              "      <th>13238</th>\n",
              "      <td>27429</td>\n",
              "      <td>@USER Pussy</td>\n",
              "      <td>1</td>\n",
              "    </tr>\n",
              "    <tr>\n",
              "      <th>13239</th>\n",
              "      <td>46552</td>\n",
              "      <td>#Spanishrevenge vs. #justice #HumanRights and ...</td>\n",
              "      <td>0</td>\n",
              "    </tr>\n",
              "  </tbody>\n",
              "</table>\n",
              "<p>13240 rows × 3 columns</p>\n",
              "</div>\n",
              "      <button class=\"colab-df-convert\" onclick=\"convertToInteractive('df-3e9c10cc-488a-4939-9fd9-fa88801f106a')\"\n",
              "              title=\"Convert this dataframe to an interactive table.\"\n",
              "              style=\"display:none;\">\n",
              "        \n",
              "  <svg xmlns=\"http://www.w3.org/2000/svg\" height=\"24px\"viewBox=\"0 0 24 24\"\n",
              "       width=\"24px\">\n",
              "    <path d=\"M0 0h24v24H0V0z\" fill=\"none\"/>\n",
              "    <path d=\"M18.56 5.44l.94 2.06.94-2.06 2.06-.94-2.06-.94-.94-2.06-.94 2.06-2.06.94zm-11 1L8.5 8.5l.94-2.06 2.06-.94-2.06-.94L8.5 2.5l-.94 2.06-2.06.94zm10 10l.94 2.06.94-2.06 2.06-.94-2.06-.94-.94-2.06-.94 2.06-2.06.94z\"/><path d=\"M17.41 7.96l-1.37-1.37c-.4-.4-.92-.59-1.43-.59-.52 0-1.04.2-1.43.59L10.3 9.45l-7.72 7.72c-.78.78-.78 2.05 0 2.83L4 21.41c.39.39.9.59 1.41.59.51 0 1.02-.2 1.41-.59l7.78-7.78 2.81-2.81c.8-.78.8-2.07 0-2.86zM5.41 20L4 18.59l7.72-7.72 1.47 1.35L5.41 20z\"/>\n",
              "  </svg>\n",
              "      </button>\n",
              "      \n",
              "  <style>\n",
              "    .colab-df-container {\n",
              "      display:flex;\n",
              "      flex-wrap:wrap;\n",
              "      gap: 12px;\n",
              "    }\n",
              "\n",
              "    .colab-df-convert {\n",
              "      background-color: #E8F0FE;\n",
              "      border: none;\n",
              "      border-radius: 50%;\n",
              "      cursor: pointer;\n",
              "      display: none;\n",
              "      fill: #1967D2;\n",
              "      height: 32px;\n",
              "      padding: 0 0 0 0;\n",
              "      width: 32px;\n",
              "    }\n",
              "\n",
              "    .colab-df-convert:hover {\n",
              "      background-color: #E2EBFA;\n",
              "      box-shadow: 0px 1px 2px rgba(60, 64, 67, 0.3), 0px 1px 3px 1px rgba(60, 64, 67, 0.15);\n",
              "      fill: #174EA6;\n",
              "    }\n",
              "\n",
              "    [theme=dark] .colab-df-convert {\n",
              "      background-color: #3B4455;\n",
              "      fill: #D2E3FC;\n",
              "    }\n",
              "\n",
              "    [theme=dark] .colab-df-convert:hover {\n",
              "      background-color: #434B5C;\n",
              "      box-shadow: 0px 1px 3px 1px rgba(0, 0, 0, 0.15);\n",
              "      filter: drop-shadow(0px 1px 2px rgba(0, 0, 0, 0.3));\n",
              "      fill: #FFFFFF;\n",
              "    }\n",
              "  </style>\n",
              "\n",
              "      <script>\n",
              "        const buttonEl =\n",
              "          document.querySelector('#df-3e9c10cc-488a-4939-9fd9-fa88801f106a button.colab-df-convert');\n",
              "        buttonEl.style.display =\n",
              "          google.colab.kernel.accessAllowed ? 'block' : 'none';\n",
              "\n",
              "        async function convertToInteractive(key) {\n",
              "          const element = document.querySelector('#df-3e9c10cc-488a-4939-9fd9-fa88801f106a');\n",
              "          const dataTable =\n",
              "            await google.colab.kernel.invokeFunction('convertToInteractive',\n",
              "                                                     [key], {});\n",
              "          if (!dataTable) return;\n",
              "\n",
              "          const docLinkHtml = 'Like what you see? Visit the ' +\n",
              "            '<a target=\"_blank\" href=https://colab.research.google.com/notebooks/data_table.ipynb>data table notebook</a>'\n",
              "            + ' to learn more about interactive tables.';\n",
              "          element.innerHTML = '';\n",
              "          dataTable['output_type'] = 'display_data';\n",
              "          await google.colab.output.renderOutput(dataTable, element);\n",
              "          const docLink = document.createElement('div');\n",
              "          docLink.innerHTML = docLinkHtml;\n",
              "          element.appendChild(docLink);\n",
              "        }\n",
              "      </script>\n",
              "    </div>\n",
              "  </div>\n",
              "  "
            ]
          },
          "metadata": {},
          "execution_count": 19
        }
      ]
    },
    {
      "cell_type": "code",
      "source": [
        "token_num_split = 0\n",
        "num_of_tokens = 0\n",
        "\n",
        "for sentence in train_data['text']:\n",
        "  #print(sentence)\n",
        "  for word in sentence.split():\n",
        "    num_of_tokens += 1\n",
        "    #print(word)\n",
        "    tokeni = model.tokenizer.tokenize(str(word))\n",
        "    tmp = ' '.join(tokeni)\n",
        "    if \"##\" in tmp:\n",
        "      token_num_split += 1\n",
        "      \n",
        "print(\"Number of tokens that splits: \",token_num_split)\n",
        "print(\"Number of tokens: \",num_of_tokens)"
      ],
      "metadata": {
        "colab": {
          "base_uri": "https://localhost:8080/"
        },
        "id": "AyRScyhG7l9y",
        "outputId": "4e5ffd2b-ced2-4503-92bd-ecb9976d93fb"
      },
      "execution_count": 25,
      "outputs": [
        {
          "output_type": "stream",
          "name": "stdout",
          "text": [
            "Number of tokens that splits:  66760\n",
            "Number of tokens:  295354\n"
          ]
        }
      ]
    },
    {
      "cell_type": "markdown",
      "source": [
        "### What is the average number of subwords per token?"
      ],
      "metadata": {
        "id": "l-4363T4Mec2"
      }
    },
    {
      "cell_type": "code",
      "source": [
        "from pandas.core.indexers import length_of_indexer\n",
        "# number_of_tokens = 0\n",
        "# number_of_token_subword = 0\n",
        "avg_num_subwords = 0\n",
        "avg_num_subwords_list = []\n",
        "\n",
        "# for row in train_data.itertuples():\n",
        "#   tokens = model.tokenizer.tokenize(row.text)\n",
        "#   #print(\"Tokens:\",tokens)\n",
        "#   number_of_tokens += len(tokens)\n",
        "#   for t in tokens:\n",
        "#     #print(t)\n",
        "#     if '##' in t:\n",
        "#       number_of_token_subword += 1\n",
        "\n",
        "maxsub_words = \"\"\n",
        "length_of_token = []\n",
        "token_num_split = 0\n",
        "for sentence in train_data['text']:\n",
        "  #print(sentence)\n",
        "  for word in sentence.split():\n",
        "    #print(word)\n",
        "    tokeni = model.tokenizer.tokenize(str(word))\n",
        "    tmp = ' '.join(tokeni)\n",
        "    if \"##\" in tmp:\n",
        "      for i in tokeni:\n",
        "        if len(i) > len(maxsub_words):\n",
        "          maxsub_words = i\n",
        "      #length_of_token.append(len(tokeni))\n",
        "      #token_num_split += 1\n",
        "\n",
        "print(maxsub_words)\n",
        "#avg_num_subwords_list = sum(length_of_token) / token_num_split\n",
        "#print(\"Average number of subwords per token: \",avg_num_subwords_list)"
      ],
      "metadata": {
        "colab": {
          "base_uri": "https://localhost:8080/"
        },
        "id": "1JqduXFxMZ4Y",
        "outputId": "0996e6b4-c70b-4f4a-b3ba-88d760a2f12a"
      },
      "execution_count": 33,
      "outputs": [
        {
          "output_type": "stream",
          "name": "stdout",
          "text": [
            "##rivatization\n"
          ]
        }
      ]
    },
    {
      "cell_type": "markdown",
      "source": [
        "### Provide 3 examples of a subword split that is not meaningful from a linguistic perspective."
      ],
      "metadata": {
        "id": "7VXdwekaPMJW"
      }
    },
    {
      "cell_type": "code",
      "source": [
        "unmeaningful_subword_split_list = []\n",
        "unmeaning = []\n",
        "\n",
        "for row in train_data.itertuples():\n",
        "  tokens = model.tokenizer.tokenize(row.text)\n",
        "  #print(\"Tokens:\",tokens)\n",
        "  for t in tokens:\n",
        "    #print(t)\n",
        "    if '##' in t:\n",
        "      index = t.index('##')\n",
        "      unmeaning.append(t)\n",
        "      unmeaningful_subword_split_list.append(((tokens[index-1],t,tokens[index+1])))\n",
        "\n",
        "#print(list(unmeaning))\n",
        "#print(unmeaningful_subword_split_list)"
      ],
      "metadata": {
        "id": "0UpCG5LYNdf8"
      },
      "execution_count": 32,
      "outputs": []
    },
    {
      "cell_type": "markdown",
      "source": [
        "### How long (in characters) is the longest subword in the BERT’s vocabulary?"
      ],
      "metadata": {
        "id": "iPi7Y2ilXaif"
      }
    },
    {
      "cell_type": "code",
      "source": [
        "# result = [number for number in numbers if number > 5]\n",
        "\n",
        "word = ''\n",
        "max_length = 0\n",
        "\n",
        "max_length = max([len(vocab) for vocab in model.tokenizer.vocab if len(vocab) > max_length])\n",
        "word = [vocab for vocab in model.tokenizer.vocab if len(vocab) == max_length]\n",
        "\n",
        "print(\"Word: \",word) # 'Telecommunications','telecommunications'\n",
        "print(\"Length: \",max_length) # 18"
      ],
      "metadata": {
        "colab": {
          "base_uri": "https://localhost:8080/"
        },
        "id": "zyagnC2DXtKE",
        "outputId": "69e85352-6b7f-4d14-caf0-0363ce8584ed"
      },
      "execution_count": 23,
      "outputs": [
        {
          "output_type": "stream",
          "name": "stdout",
          "text": [
            "Word:  ['telecommunications', 'Telecommunications']\n",
            "Length:  18\n"
          ]
        }
      ]
    },
    {
      "cell_type": "code",
      "source": [
        ""
      ],
      "metadata": {
        "id": "hecZ3Rb3ZaU7"
      },
      "execution_count": 23,
      "outputs": []
    }
  ]
}