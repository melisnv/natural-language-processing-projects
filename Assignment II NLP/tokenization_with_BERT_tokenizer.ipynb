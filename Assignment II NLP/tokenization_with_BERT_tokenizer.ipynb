{
  "nbformat": 4,
  "nbformat_minor": 0,
  "metadata": {
    "colab": {
      "name": "tokenization_with_BERT_tokenizer",
      "provenance": [],
      "collapsed_sections": []
    },
    "kernelspec": {
      "name": "python3",
      "display_name": "Python 3"
    },
    "language_info": {
      "name": "python"
    },
    "widgets": {
      "application/vnd.jupyter.widget-state+json": {
        "d837d551700943bcab2aa8329e7fecdc": {
          "model_module": "@jupyter-widgets/controls",
          "model_name": "HBoxModel",
          "model_module_version": "1.5.0",
          "state": {
            "_dom_classes": [],
            "_model_module": "@jupyter-widgets/controls",
            "_model_module_version": "1.5.0",
            "_model_name": "HBoxModel",
            "_view_count": null,
            "_view_module": "@jupyter-widgets/controls",
            "_view_module_version": "1.5.0",
            "_view_name": "HBoxView",
            "box_style": "",
            "children": [
              "IPY_MODEL_eda209241a4a473f95c68424fcf54e5b",
              "IPY_MODEL_f0fa57d6bb2d464480100586b5db1b05",
              "IPY_MODEL_4da2d513426940069ca37b4f4c1e90af"
            ],
            "layout": "IPY_MODEL_96e445cdc3db46d08e8074773ccdc21e"
          }
        },
        "eda209241a4a473f95c68424fcf54e5b": {
          "model_module": "@jupyter-widgets/controls",
          "model_name": "HTMLModel",
          "model_module_version": "1.5.0",
          "state": {
            "_dom_classes": [],
            "_model_module": "@jupyter-widgets/controls",
            "_model_module_version": "1.5.0",
            "_model_name": "HTMLModel",
            "_view_count": null,
            "_view_module": "@jupyter-widgets/controls",
            "_view_module_version": "1.5.0",
            "_view_name": "HTMLView",
            "description": "",
            "description_tooltip": null,
            "layout": "IPY_MODEL_3195a7a6592e45faa17dfaed6da76478",
            "placeholder": "​",
            "style": "IPY_MODEL_b81e4e3129fc420dab840c08e28ee9e1",
            "value": "Downloading: 100%"
          }
        },
        "f0fa57d6bb2d464480100586b5db1b05": {
          "model_module": "@jupyter-widgets/controls",
          "model_name": "FloatProgressModel",
          "model_module_version": "1.5.0",
          "state": {
            "_dom_classes": [],
            "_model_module": "@jupyter-widgets/controls",
            "_model_module_version": "1.5.0",
            "_model_name": "FloatProgressModel",
            "_view_count": null,
            "_view_module": "@jupyter-widgets/controls",
            "_view_module_version": "1.5.0",
            "_view_name": "ProgressView",
            "bar_style": "success",
            "description": "",
            "description_tooltip": null,
            "layout": "IPY_MODEL_c2d0c577b12d4824b706103231904204",
            "max": 29,
            "min": 0,
            "orientation": "horizontal",
            "style": "IPY_MODEL_c2de77b2e63a471b8c425300fba379ef",
            "value": 29
          }
        },
        "4da2d513426940069ca37b4f4c1e90af": {
          "model_module": "@jupyter-widgets/controls",
          "model_name": "HTMLModel",
          "model_module_version": "1.5.0",
          "state": {
            "_dom_classes": [],
            "_model_module": "@jupyter-widgets/controls",
            "_model_module_version": "1.5.0",
            "_model_name": "HTMLModel",
            "_view_count": null,
            "_view_module": "@jupyter-widgets/controls",
            "_view_module_version": "1.5.0",
            "_view_name": "HTMLView",
            "description": "",
            "description_tooltip": null,
            "layout": "IPY_MODEL_f8dc9558c4bd467d89b8c5ad8046349a",
            "placeholder": "​",
            "style": "IPY_MODEL_bf4811b76d8c43308148d5f2c8894980",
            "value": " 29.0/29.0 [00:00&lt;00:00, 824B/s]"
          }
        },
        "96e445cdc3db46d08e8074773ccdc21e": {
          "model_module": "@jupyter-widgets/base",
          "model_name": "LayoutModel",
          "model_module_version": "1.2.0",
          "state": {
            "_model_module": "@jupyter-widgets/base",
            "_model_module_version": "1.2.0",
            "_model_name": "LayoutModel",
            "_view_count": null,
            "_view_module": "@jupyter-widgets/base",
            "_view_module_version": "1.2.0",
            "_view_name": "LayoutView",
            "align_content": null,
            "align_items": null,
            "align_self": null,
            "border": null,
            "bottom": null,
            "display": null,
            "flex": null,
            "flex_flow": null,
            "grid_area": null,
            "grid_auto_columns": null,
            "grid_auto_flow": null,
            "grid_auto_rows": null,
            "grid_column": null,
            "grid_gap": null,
            "grid_row": null,
            "grid_template_areas": null,
            "grid_template_columns": null,
            "grid_template_rows": null,
            "height": null,
            "justify_content": null,
            "justify_items": null,
            "left": null,
            "margin": null,
            "max_height": null,
            "max_width": null,
            "min_height": null,
            "min_width": null,
            "object_fit": null,
            "object_position": null,
            "order": null,
            "overflow": null,
            "overflow_x": null,
            "overflow_y": null,
            "padding": null,
            "right": null,
            "top": null,
            "visibility": null,
            "width": null
          }
        },
        "3195a7a6592e45faa17dfaed6da76478": {
          "model_module": "@jupyter-widgets/base",
          "model_name": "LayoutModel",
          "model_module_version": "1.2.0",
          "state": {
            "_model_module": "@jupyter-widgets/base",
            "_model_module_version": "1.2.0",
            "_model_name": "LayoutModel",
            "_view_count": null,
            "_view_module": "@jupyter-widgets/base",
            "_view_module_version": "1.2.0",
            "_view_name": "LayoutView",
            "align_content": null,
            "align_items": null,
            "align_self": null,
            "border": null,
            "bottom": null,
            "display": null,
            "flex": null,
            "flex_flow": null,
            "grid_area": null,
            "grid_auto_columns": null,
            "grid_auto_flow": null,
            "grid_auto_rows": null,
            "grid_column": null,
            "grid_gap": null,
            "grid_row": null,
            "grid_template_areas": null,
            "grid_template_columns": null,
            "grid_template_rows": null,
            "height": null,
            "justify_content": null,
            "justify_items": null,
            "left": null,
            "margin": null,
            "max_height": null,
            "max_width": null,
            "min_height": null,
            "min_width": null,
            "object_fit": null,
            "object_position": null,
            "order": null,
            "overflow": null,
            "overflow_x": null,
            "overflow_y": null,
            "padding": null,
            "right": null,
            "top": null,
            "visibility": null,
            "width": null
          }
        },
        "b81e4e3129fc420dab840c08e28ee9e1": {
          "model_module": "@jupyter-widgets/controls",
          "model_name": "DescriptionStyleModel",
          "model_module_version": "1.5.0",
          "state": {
            "_model_module": "@jupyter-widgets/controls",
            "_model_module_version": "1.5.0",
            "_model_name": "DescriptionStyleModel",
            "_view_count": null,
            "_view_module": "@jupyter-widgets/base",
            "_view_module_version": "1.2.0",
            "_view_name": "StyleView",
            "description_width": ""
          }
        },
        "c2d0c577b12d4824b706103231904204": {
          "model_module": "@jupyter-widgets/base",
          "model_name": "LayoutModel",
          "model_module_version": "1.2.0",
          "state": {
            "_model_module": "@jupyter-widgets/base",
            "_model_module_version": "1.2.0",
            "_model_name": "LayoutModel",
            "_view_count": null,
            "_view_module": "@jupyter-widgets/base",
            "_view_module_version": "1.2.0",
            "_view_name": "LayoutView",
            "align_content": null,
            "align_items": null,
            "align_self": null,
            "border": null,
            "bottom": null,
            "display": null,
            "flex": null,
            "flex_flow": null,
            "grid_area": null,
            "grid_auto_columns": null,
            "grid_auto_flow": null,
            "grid_auto_rows": null,
            "grid_column": null,
            "grid_gap": null,
            "grid_row": null,
            "grid_template_areas": null,
            "grid_template_columns": null,
            "grid_template_rows": null,
            "height": null,
            "justify_content": null,
            "justify_items": null,
            "left": null,
            "margin": null,
            "max_height": null,
            "max_width": null,
            "min_height": null,
            "min_width": null,
            "object_fit": null,
            "object_position": null,
            "order": null,
            "overflow": null,
            "overflow_x": null,
            "overflow_y": null,
            "padding": null,
            "right": null,
            "top": null,
            "visibility": null,
            "width": null
          }
        },
        "c2de77b2e63a471b8c425300fba379ef": {
          "model_module": "@jupyter-widgets/controls",
          "model_name": "ProgressStyleModel",
          "model_module_version": "1.5.0",
          "state": {
            "_model_module": "@jupyter-widgets/controls",
            "_model_module_version": "1.5.0",
            "_model_name": "ProgressStyleModel",
            "_view_count": null,
            "_view_module": "@jupyter-widgets/base",
            "_view_module_version": "1.2.0",
            "_view_name": "StyleView",
            "bar_color": null,
            "description_width": ""
          }
        },
        "f8dc9558c4bd467d89b8c5ad8046349a": {
          "model_module": "@jupyter-widgets/base",
          "model_name": "LayoutModel",
          "model_module_version": "1.2.0",
          "state": {
            "_model_module": "@jupyter-widgets/base",
            "_model_module_version": "1.2.0",
            "_model_name": "LayoutModel",
            "_view_count": null,
            "_view_module": "@jupyter-widgets/base",
            "_view_module_version": "1.2.0",
            "_view_name": "LayoutView",
            "align_content": null,
            "align_items": null,
            "align_self": null,
            "border": null,
            "bottom": null,
            "display": null,
            "flex": null,
            "flex_flow": null,
            "grid_area": null,
            "grid_auto_columns": null,
            "grid_auto_flow": null,
            "grid_auto_rows": null,
            "grid_column": null,
            "grid_gap": null,
            "grid_row": null,
            "grid_template_areas": null,
            "grid_template_columns": null,
            "grid_template_rows": null,
            "height": null,
            "justify_content": null,
            "justify_items": null,
            "left": null,
            "margin": null,
            "max_height": null,
            "max_width": null,
            "min_height": null,
            "min_width": null,
            "object_fit": null,
            "object_position": null,
            "order": null,
            "overflow": null,
            "overflow_x": null,
            "overflow_y": null,
            "padding": null,
            "right": null,
            "top": null,
            "visibility": null,
            "width": null
          }
        },
        "bf4811b76d8c43308148d5f2c8894980": {
          "model_module": "@jupyter-widgets/controls",
          "model_name": "DescriptionStyleModel",
          "model_module_version": "1.5.0",
          "state": {
            "_model_module": "@jupyter-widgets/controls",
            "_model_module_version": "1.5.0",
            "_model_name": "DescriptionStyleModel",
            "_view_count": null,
            "_view_module": "@jupyter-widgets/base",
            "_view_module_version": "1.2.0",
            "_view_name": "StyleView",
            "description_width": ""
          }
        },
        "ae98a6acabfa46b1979b12f950497b0c": {
          "model_module": "@jupyter-widgets/controls",
          "model_name": "HBoxModel",
          "model_module_version": "1.5.0",
          "state": {
            "_dom_classes": [],
            "_model_module": "@jupyter-widgets/controls",
            "_model_module_version": "1.5.0",
            "_model_name": "HBoxModel",
            "_view_count": null,
            "_view_module": "@jupyter-widgets/controls",
            "_view_module_version": "1.5.0",
            "_view_name": "HBoxView",
            "box_style": "",
            "children": [
              "IPY_MODEL_6bcca6b1425b41daacca6544eff22f5a",
              "IPY_MODEL_7005e09cf2d24aa6a2dc684aca1e2bd4",
              "IPY_MODEL_f594cb520a7547e882c60da83fee5771"
            ],
            "layout": "IPY_MODEL_09860242eca644289633c120cb97a685"
          }
        },
        "6bcca6b1425b41daacca6544eff22f5a": {
          "model_module": "@jupyter-widgets/controls",
          "model_name": "HTMLModel",
          "model_module_version": "1.5.0",
          "state": {
            "_dom_classes": [],
            "_model_module": "@jupyter-widgets/controls",
            "_model_module_version": "1.5.0",
            "_model_name": "HTMLModel",
            "_view_count": null,
            "_view_module": "@jupyter-widgets/controls",
            "_view_module_version": "1.5.0",
            "_view_name": "HTMLView",
            "description": "",
            "description_tooltip": null,
            "layout": "IPY_MODEL_45399b4a23734998a7753cb871cdec78",
            "placeholder": "​",
            "style": "IPY_MODEL_3af93d937f0145429f219be3dc912ab3",
            "value": "Downloading: 100%"
          }
        },
        "7005e09cf2d24aa6a2dc684aca1e2bd4": {
          "model_module": "@jupyter-widgets/controls",
          "model_name": "FloatProgressModel",
          "model_module_version": "1.5.0",
          "state": {
            "_dom_classes": [],
            "_model_module": "@jupyter-widgets/controls",
            "_model_module_version": "1.5.0",
            "_model_name": "FloatProgressModel",
            "_view_count": null,
            "_view_module": "@jupyter-widgets/controls",
            "_view_module_version": "1.5.0",
            "_view_name": "ProgressView",
            "bar_style": "success",
            "description": "",
            "description_tooltip": null,
            "layout": "IPY_MODEL_977dd7ab3dd04ef9ada776ef1d25a83a",
            "max": 213450,
            "min": 0,
            "orientation": "horizontal",
            "style": "IPY_MODEL_82b32aa054854bb882eeeb09d5fec5ec",
            "value": 213450
          }
        },
        "f594cb520a7547e882c60da83fee5771": {
          "model_module": "@jupyter-widgets/controls",
          "model_name": "HTMLModel",
          "model_module_version": "1.5.0",
          "state": {
            "_dom_classes": [],
            "_model_module": "@jupyter-widgets/controls",
            "_model_module_version": "1.5.0",
            "_model_name": "HTMLModel",
            "_view_count": null,
            "_view_module": "@jupyter-widgets/controls",
            "_view_module_version": "1.5.0",
            "_view_name": "HTMLView",
            "description": "",
            "description_tooltip": null,
            "layout": "IPY_MODEL_b520f6da8bab42d6ab11f660c4bc2c04",
            "placeholder": "​",
            "style": "IPY_MODEL_09a53b8687194d09b736f5b78066ff92",
            "value": " 208k/208k [00:00&lt;00:00, 965kB/s]"
          }
        },
        "09860242eca644289633c120cb97a685": {
          "model_module": "@jupyter-widgets/base",
          "model_name": "LayoutModel",
          "model_module_version": "1.2.0",
          "state": {
            "_model_module": "@jupyter-widgets/base",
            "_model_module_version": "1.2.0",
            "_model_name": "LayoutModel",
            "_view_count": null,
            "_view_module": "@jupyter-widgets/base",
            "_view_module_version": "1.2.0",
            "_view_name": "LayoutView",
            "align_content": null,
            "align_items": null,
            "align_self": null,
            "border": null,
            "bottom": null,
            "display": null,
            "flex": null,
            "flex_flow": null,
            "grid_area": null,
            "grid_auto_columns": null,
            "grid_auto_flow": null,
            "grid_auto_rows": null,
            "grid_column": null,
            "grid_gap": null,
            "grid_row": null,
            "grid_template_areas": null,
            "grid_template_columns": null,
            "grid_template_rows": null,
            "height": null,
            "justify_content": null,
            "justify_items": null,
            "left": null,
            "margin": null,
            "max_height": null,
            "max_width": null,
            "min_height": null,
            "min_width": null,
            "object_fit": null,
            "object_position": null,
            "order": null,
            "overflow": null,
            "overflow_x": null,
            "overflow_y": null,
            "padding": null,
            "right": null,
            "top": null,
            "visibility": null,
            "width": null
          }
        },
        "45399b4a23734998a7753cb871cdec78": {
          "model_module": "@jupyter-widgets/base",
          "model_name": "LayoutModel",
          "model_module_version": "1.2.0",
          "state": {
            "_model_module": "@jupyter-widgets/base",
            "_model_module_version": "1.2.0",
            "_model_name": "LayoutModel",
            "_view_count": null,
            "_view_module": "@jupyter-widgets/base",
            "_view_module_version": "1.2.0",
            "_view_name": "LayoutView",
            "align_content": null,
            "align_items": null,
            "align_self": null,
            "border": null,
            "bottom": null,
            "display": null,
            "flex": null,
            "flex_flow": null,
            "grid_area": null,
            "grid_auto_columns": null,
            "grid_auto_flow": null,
            "grid_auto_rows": null,
            "grid_column": null,
            "grid_gap": null,
            "grid_row": null,
            "grid_template_areas": null,
            "grid_template_columns": null,
            "grid_template_rows": null,
            "height": null,
            "justify_content": null,
            "justify_items": null,
            "left": null,
            "margin": null,
            "max_height": null,
            "max_width": null,
            "min_height": null,
            "min_width": null,
            "object_fit": null,
            "object_position": null,
            "order": null,
            "overflow": null,
            "overflow_x": null,
            "overflow_y": null,
            "padding": null,
            "right": null,
            "top": null,
            "visibility": null,
            "width": null
          }
        },
        "3af93d937f0145429f219be3dc912ab3": {
          "model_module": "@jupyter-widgets/controls",
          "model_name": "DescriptionStyleModel",
          "model_module_version": "1.5.0",
          "state": {
            "_model_module": "@jupyter-widgets/controls",
            "_model_module_version": "1.5.0",
            "_model_name": "DescriptionStyleModel",
            "_view_count": null,
            "_view_module": "@jupyter-widgets/base",
            "_view_module_version": "1.2.0",
            "_view_name": "StyleView",
            "description_width": ""
          }
        },
        "977dd7ab3dd04ef9ada776ef1d25a83a": {
          "model_module": "@jupyter-widgets/base",
          "model_name": "LayoutModel",
          "model_module_version": "1.2.0",
          "state": {
            "_model_module": "@jupyter-widgets/base",
            "_model_module_version": "1.2.0",
            "_model_name": "LayoutModel",
            "_view_count": null,
            "_view_module": "@jupyter-widgets/base",
            "_view_module_version": "1.2.0",
            "_view_name": "LayoutView",
            "align_content": null,
            "align_items": null,
            "align_self": null,
            "border": null,
            "bottom": null,
            "display": null,
            "flex": null,
            "flex_flow": null,
            "grid_area": null,
            "grid_auto_columns": null,
            "grid_auto_flow": null,
            "grid_auto_rows": null,
            "grid_column": null,
            "grid_gap": null,
            "grid_row": null,
            "grid_template_areas": null,
            "grid_template_columns": null,
            "grid_template_rows": null,
            "height": null,
            "justify_content": null,
            "justify_items": null,
            "left": null,
            "margin": null,
            "max_height": null,
            "max_width": null,
            "min_height": null,
            "min_width": null,
            "object_fit": null,
            "object_position": null,
            "order": null,
            "overflow": null,
            "overflow_x": null,
            "overflow_y": null,
            "padding": null,
            "right": null,
            "top": null,
            "visibility": null,
            "width": null
          }
        },
        "82b32aa054854bb882eeeb09d5fec5ec": {
          "model_module": "@jupyter-widgets/controls",
          "model_name": "ProgressStyleModel",
          "model_module_version": "1.5.0",
          "state": {
            "_model_module": "@jupyter-widgets/controls",
            "_model_module_version": "1.5.0",
            "_model_name": "ProgressStyleModel",
            "_view_count": null,
            "_view_module": "@jupyter-widgets/base",
            "_view_module_version": "1.2.0",
            "_view_name": "StyleView",
            "bar_color": null,
            "description_width": ""
          }
        },
        "b520f6da8bab42d6ab11f660c4bc2c04": {
          "model_module": "@jupyter-widgets/base",
          "model_name": "LayoutModel",
          "model_module_version": "1.2.0",
          "state": {
            "_model_module": "@jupyter-widgets/base",
            "_model_module_version": "1.2.0",
            "_model_name": "LayoutModel",
            "_view_count": null,
            "_view_module": "@jupyter-widgets/base",
            "_view_module_version": "1.2.0",
            "_view_name": "LayoutView",
            "align_content": null,
            "align_items": null,
            "align_self": null,
            "border": null,
            "bottom": null,
            "display": null,
            "flex": null,
            "flex_flow": null,
            "grid_area": null,
            "grid_auto_columns": null,
            "grid_auto_flow": null,
            "grid_auto_rows": null,
            "grid_column": null,
            "grid_gap": null,
            "grid_row": null,
            "grid_template_areas": null,
            "grid_template_columns": null,
            "grid_template_rows": null,
            "height": null,
            "justify_content": null,
            "justify_items": null,
            "left": null,
            "margin": null,
            "max_height": null,
            "max_width": null,
            "min_height": null,
            "min_width": null,
            "object_fit": null,
            "object_position": null,
            "order": null,
            "overflow": null,
            "overflow_x": null,
            "overflow_y": null,
            "padding": null,
            "right": null,
            "top": null,
            "visibility": null,
            "width": null
          }
        },
        "09a53b8687194d09b736f5b78066ff92": {
          "model_module": "@jupyter-widgets/controls",
          "model_name": "DescriptionStyleModel",
          "model_module_version": "1.5.0",
          "state": {
            "_model_module": "@jupyter-widgets/controls",
            "_model_module_version": "1.5.0",
            "_model_name": "DescriptionStyleModel",
            "_view_count": null,
            "_view_module": "@jupyter-widgets/base",
            "_view_module_version": "1.2.0",
            "_view_name": "StyleView",
            "description_width": ""
          }
        },
        "fc5d39533cd24da8988260bcbf43e8b0": {
          "model_module": "@jupyter-widgets/controls",
          "model_name": "HBoxModel",
          "model_module_version": "1.5.0",
          "state": {
            "_dom_classes": [],
            "_model_module": "@jupyter-widgets/controls",
            "_model_module_version": "1.5.0",
            "_model_name": "HBoxModel",
            "_view_count": null,
            "_view_module": "@jupyter-widgets/controls",
            "_view_module_version": "1.5.0",
            "_view_name": "HBoxView",
            "box_style": "",
            "children": [
              "IPY_MODEL_dce66f104eed47c0999ee87ed29ddc3f",
              "IPY_MODEL_694c5a16a18848f49ca439dbe25c6ede",
              "IPY_MODEL_0f32aa3d583c4943b2a05fb4a48afa8e"
            ],
            "layout": "IPY_MODEL_5c9b5d11beb941d9ae615c448f54371e"
          }
        },
        "dce66f104eed47c0999ee87ed29ddc3f": {
          "model_module": "@jupyter-widgets/controls",
          "model_name": "HTMLModel",
          "model_module_version": "1.5.0",
          "state": {
            "_dom_classes": [],
            "_model_module": "@jupyter-widgets/controls",
            "_model_module_version": "1.5.0",
            "_model_name": "HTMLModel",
            "_view_count": null,
            "_view_module": "@jupyter-widgets/controls",
            "_view_module_version": "1.5.0",
            "_view_name": "HTMLView",
            "description": "",
            "description_tooltip": null,
            "layout": "IPY_MODEL_e716f7c9322445f48d8b3bf7394c3cd4",
            "placeholder": "​",
            "style": "IPY_MODEL_ef3c768a4b5642af846b0afb1dbf27ba",
            "value": "Downloading: 100%"
          }
        },
        "694c5a16a18848f49ca439dbe25c6ede": {
          "model_module": "@jupyter-widgets/controls",
          "model_name": "FloatProgressModel",
          "model_module_version": "1.5.0",
          "state": {
            "_dom_classes": [],
            "_model_module": "@jupyter-widgets/controls",
            "_model_module_version": "1.5.0",
            "_model_name": "FloatProgressModel",
            "_view_count": null,
            "_view_module": "@jupyter-widgets/controls",
            "_view_module_version": "1.5.0",
            "_view_name": "ProgressView",
            "bar_style": "success",
            "description": "",
            "description_tooltip": null,
            "layout": "IPY_MODEL_efdf58c121584eaba8cafa9126de3721",
            "max": 435797,
            "min": 0,
            "orientation": "horizontal",
            "style": "IPY_MODEL_b5acf64ec628486bbfbb7fe532d26b6a",
            "value": 435797
          }
        },
        "0f32aa3d583c4943b2a05fb4a48afa8e": {
          "model_module": "@jupyter-widgets/controls",
          "model_name": "HTMLModel",
          "model_module_version": "1.5.0",
          "state": {
            "_dom_classes": [],
            "_model_module": "@jupyter-widgets/controls",
            "_model_module_version": "1.5.0",
            "_model_name": "HTMLModel",
            "_view_count": null,
            "_view_module": "@jupyter-widgets/controls",
            "_view_module_version": "1.5.0",
            "_view_name": "HTMLView",
            "description": "",
            "description_tooltip": null,
            "layout": "IPY_MODEL_037eadcc3e0547959740bf3a12c83872",
            "placeholder": "​",
            "style": "IPY_MODEL_6965ed21293d45b6882fcf5883dd97ed",
            "value": " 426k/426k [00:00&lt;00:00, 1.57MB/s]"
          }
        },
        "5c9b5d11beb941d9ae615c448f54371e": {
          "model_module": "@jupyter-widgets/base",
          "model_name": "LayoutModel",
          "model_module_version": "1.2.0",
          "state": {
            "_model_module": "@jupyter-widgets/base",
            "_model_module_version": "1.2.0",
            "_model_name": "LayoutModel",
            "_view_count": null,
            "_view_module": "@jupyter-widgets/base",
            "_view_module_version": "1.2.0",
            "_view_name": "LayoutView",
            "align_content": null,
            "align_items": null,
            "align_self": null,
            "border": null,
            "bottom": null,
            "display": null,
            "flex": null,
            "flex_flow": null,
            "grid_area": null,
            "grid_auto_columns": null,
            "grid_auto_flow": null,
            "grid_auto_rows": null,
            "grid_column": null,
            "grid_gap": null,
            "grid_row": null,
            "grid_template_areas": null,
            "grid_template_columns": null,
            "grid_template_rows": null,
            "height": null,
            "justify_content": null,
            "justify_items": null,
            "left": null,
            "margin": null,
            "max_height": null,
            "max_width": null,
            "min_height": null,
            "min_width": null,
            "object_fit": null,
            "object_position": null,
            "order": null,
            "overflow": null,
            "overflow_x": null,
            "overflow_y": null,
            "padding": null,
            "right": null,
            "top": null,
            "visibility": null,
            "width": null
          }
        },
        "e716f7c9322445f48d8b3bf7394c3cd4": {
          "model_module": "@jupyter-widgets/base",
          "model_name": "LayoutModel",
          "model_module_version": "1.2.0",
          "state": {
            "_model_module": "@jupyter-widgets/base",
            "_model_module_version": "1.2.0",
            "_model_name": "LayoutModel",
            "_view_count": null,
            "_view_module": "@jupyter-widgets/base",
            "_view_module_version": "1.2.0",
            "_view_name": "LayoutView",
            "align_content": null,
            "align_items": null,
            "align_self": null,
            "border": null,
            "bottom": null,
            "display": null,
            "flex": null,
            "flex_flow": null,
            "grid_area": null,
            "grid_auto_columns": null,
            "grid_auto_flow": null,
            "grid_auto_rows": null,
            "grid_column": null,
            "grid_gap": null,
            "grid_row": null,
            "grid_template_areas": null,
            "grid_template_columns": null,
            "grid_template_rows": null,
            "height": null,
            "justify_content": null,
            "justify_items": null,
            "left": null,
            "margin": null,
            "max_height": null,
            "max_width": null,
            "min_height": null,
            "min_width": null,
            "object_fit": null,
            "object_position": null,
            "order": null,
            "overflow": null,
            "overflow_x": null,
            "overflow_y": null,
            "padding": null,
            "right": null,
            "top": null,
            "visibility": null,
            "width": null
          }
        },
        "ef3c768a4b5642af846b0afb1dbf27ba": {
          "model_module": "@jupyter-widgets/controls",
          "model_name": "DescriptionStyleModel",
          "model_module_version": "1.5.0",
          "state": {
            "_model_module": "@jupyter-widgets/controls",
            "_model_module_version": "1.5.0",
            "_model_name": "DescriptionStyleModel",
            "_view_count": null,
            "_view_module": "@jupyter-widgets/base",
            "_view_module_version": "1.2.0",
            "_view_name": "StyleView",
            "description_width": ""
          }
        },
        "efdf58c121584eaba8cafa9126de3721": {
          "model_module": "@jupyter-widgets/base",
          "model_name": "LayoutModel",
          "model_module_version": "1.2.0",
          "state": {
            "_model_module": "@jupyter-widgets/base",
            "_model_module_version": "1.2.0",
            "_model_name": "LayoutModel",
            "_view_count": null,
            "_view_module": "@jupyter-widgets/base",
            "_view_module_version": "1.2.0",
            "_view_name": "LayoutView",
            "align_content": null,
            "align_items": null,
            "align_self": null,
            "border": null,
            "bottom": null,
            "display": null,
            "flex": null,
            "flex_flow": null,
            "grid_area": null,
            "grid_auto_columns": null,
            "grid_auto_flow": null,
            "grid_auto_rows": null,
            "grid_column": null,
            "grid_gap": null,
            "grid_row": null,
            "grid_template_areas": null,
            "grid_template_columns": null,
            "grid_template_rows": null,
            "height": null,
            "justify_content": null,
            "justify_items": null,
            "left": null,
            "margin": null,
            "max_height": null,
            "max_width": null,
            "min_height": null,
            "min_width": null,
            "object_fit": null,
            "object_position": null,
            "order": null,
            "overflow": null,
            "overflow_x": null,
            "overflow_y": null,
            "padding": null,
            "right": null,
            "top": null,
            "visibility": null,
            "width": null
          }
        },
        "b5acf64ec628486bbfbb7fe532d26b6a": {
          "model_module": "@jupyter-widgets/controls",
          "model_name": "ProgressStyleModel",
          "model_module_version": "1.5.0",
          "state": {
            "_model_module": "@jupyter-widgets/controls",
            "_model_module_version": "1.5.0",
            "_model_name": "ProgressStyleModel",
            "_view_count": null,
            "_view_module": "@jupyter-widgets/base",
            "_view_module_version": "1.2.0",
            "_view_name": "StyleView",
            "bar_color": null,
            "description_width": ""
          }
        },
        "037eadcc3e0547959740bf3a12c83872": {
          "model_module": "@jupyter-widgets/base",
          "model_name": "LayoutModel",
          "model_module_version": "1.2.0",
          "state": {
            "_model_module": "@jupyter-widgets/base",
            "_model_module_version": "1.2.0",
            "_model_name": "LayoutModel",
            "_view_count": null,
            "_view_module": "@jupyter-widgets/base",
            "_view_module_version": "1.2.0",
            "_view_name": "LayoutView",
            "align_content": null,
            "align_items": null,
            "align_self": null,
            "border": null,
            "bottom": null,
            "display": null,
            "flex": null,
            "flex_flow": null,
            "grid_area": null,
            "grid_auto_columns": null,
            "grid_auto_flow": null,
            "grid_auto_rows": null,
            "grid_column": null,
            "grid_gap": null,
            "grid_row": null,
            "grid_template_areas": null,
            "grid_template_columns": null,
            "grid_template_rows": null,
            "height": null,
            "justify_content": null,
            "justify_items": null,
            "left": null,
            "margin": null,
            "max_height": null,
            "max_width": null,
            "min_height": null,
            "min_width": null,
            "object_fit": null,
            "object_position": null,
            "order": null,
            "overflow": null,
            "overflow_x": null,
            "overflow_y": null,
            "padding": null,
            "right": null,
            "top": null,
            "visibility": null,
            "width": null
          }
        },
        "6965ed21293d45b6882fcf5883dd97ed": {
          "model_module": "@jupyter-widgets/controls",
          "model_name": "DescriptionStyleModel",
          "model_module_version": "1.5.0",
          "state": {
            "_model_module": "@jupyter-widgets/controls",
            "_model_module_version": "1.5.0",
            "_model_name": "DescriptionStyleModel",
            "_view_count": null,
            "_view_module": "@jupyter-widgets/base",
            "_view_module_version": "1.2.0",
            "_view_name": "StyleView",
            "description_width": ""
          }
        }
      }
    }
  },
  "cells": [
    {
      "cell_type": "code",
      "source": [
        "#!pip install simpletransformers"
      ],
      "metadata": {
        "id": "2kUP45vlDB78"
      },
      "execution_count": 9,
      "outputs": []
    },
    {
      "cell_type": "code",
      "source": [
        "import pandas as pd\n",
        "from simpletransformers.classification import ClassificationModel,ClassificationArgs"
      ],
      "metadata": {
        "id": "TI_1xNE2BrEB"
      },
      "execution_count": 14,
      "outputs": []
    },
    {
      "cell_type": "code",
      "execution_count": 24,
      "metadata": {
        "id": "tuQr8uB1_dhD",
        "colab": {
          "base_uri": "https://localhost:8080/"
        },
        "outputId": "70806608-c4ca-4a2d-bcd1-509589010149"
      },
      "outputs": [
        {
          "output_type": "stream",
          "name": "stdout",
          "text": [
            "@USER @USER @USER It’s not my fault you support gun control\n"
          ]
        }
      ],
      "source": [
        "train_data = pd.read_csv('./data/olid-train.csv')\n",
        "test_data = pd.read_csv('./data/olid-test.csv')\n",
        "\n",
        "print(train_data['text'][10])"
      ]
    },
    {
      "cell_type": "code",
      "source": [
        "model_args = ClassificationArgs()\n",
        "model_args.num_train_epochs = 2\n",
        "model_args.learning_rate = 1e-4\n",
        "\n",
        "model = ClassificationModel(\"bert\", \"bert-base-cased\", args=model_args, use_cuda=False)"
      ],
      "metadata": {
        "id": "aRETkyGxBons",
        "colab": {
          "base_uri": "https://localhost:8080/",
          "height": 220,
          "referenced_widgets": [
            "d837d551700943bcab2aa8329e7fecdc",
            "eda209241a4a473f95c68424fcf54e5b",
            "f0fa57d6bb2d464480100586b5db1b05",
            "4da2d513426940069ca37b4f4c1e90af",
            "96e445cdc3db46d08e8074773ccdc21e",
            "3195a7a6592e45faa17dfaed6da76478",
            "b81e4e3129fc420dab840c08e28ee9e1",
            "c2d0c577b12d4824b706103231904204",
            "c2de77b2e63a471b8c425300fba379ef",
            "f8dc9558c4bd467d89b8c5ad8046349a",
            "bf4811b76d8c43308148d5f2c8894980",
            "ae98a6acabfa46b1979b12f950497b0c",
            "6bcca6b1425b41daacca6544eff22f5a",
            "7005e09cf2d24aa6a2dc684aca1e2bd4",
            "f594cb520a7547e882c60da83fee5771",
            "09860242eca644289633c120cb97a685",
            "45399b4a23734998a7753cb871cdec78",
            "3af93d937f0145429f219be3dc912ab3",
            "977dd7ab3dd04ef9ada776ef1d25a83a",
            "82b32aa054854bb882eeeb09d5fec5ec",
            "b520f6da8bab42d6ab11f660c4bc2c04",
            "09a53b8687194d09b736f5b78066ff92",
            "fc5d39533cd24da8988260bcbf43e8b0",
            "dce66f104eed47c0999ee87ed29ddc3f",
            "694c5a16a18848f49ca439dbe25c6ede",
            "0f32aa3d583c4943b2a05fb4a48afa8e",
            "5c9b5d11beb941d9ae615c448f54371e",
            "e716f7c9322445f48d8b3bf7394c3cd4",
            "ef3c768a4b5642af846b0afb1dbf27ba",
            "efdf58c121584eaba8cafa9126de3721",
            "b5acf64ec628486bbfbb7fe532d26b6a",
            "037eadcc3e0547959740bf3a12c83872",
            "6965ed21293d45b6882fcf5883dd97ed"
          ]
        },
        "outputId": "ec6e169f-3eb9-4fc5-c31d-075208f95c0f"
      },
      "execution_count": 16,
      "outputs": [
        {
          "output_type": "stream",
          "name": "stderr",
          "text": [
            "Some weights of the model checkpoint at bert-base-cased were not used when initializing BertForSequenceClassification: ['cls.seq_relationship.weight', 'cls.predictions.decoder.weight', 'cls.predictions.bias', 'cls.seq_relationship.bias', 'cls.predictions.transform.LayerNorm.weight', 'cls.predictions.transform.dense.weight', 'cls.predictions.transform.LayerNorm.bias', 'cls.predictions.transform.dense.bias']\n",
            "- This IS expected if you are initializing BertForSequenceClassification from the checkpoint of a model trained on another task or with another architecture (e.g. initializing a BertForSequenceClassification model from a BertForPreTraining model).\n",
            "- This IS NOT expected if you are initializing BertForSequenceClassification from the checkpoint of a model that you expect to be exactly identical (initializing a BertForSequenceClassification model from a BertForSequenceClassification model).\n",
            "Some weights of BertForSequenceClassification were not initialized from the model checkpoint at bert-base-cased and are newly initialized: ['classifier.weight', 'classifier.bias']\n",
            "You should probably TRAIN this model on a down-stream task to be able to use it for predictions and inference.\n"
          ]
        },
        {
          "output_type": "display_data",
          "data": {
            "text/plain": [
              "Downloading:   0%|          | 0.00/29.0 [00:00<?, ?B/s]"
            ],
            "application/vnd.jupyter.widget-view+json": {
              "version_major": 2,
              "version_minor": 0,
              "model_id": "d837d551700943bcab2aa8329e7fecdc"
            }
          },
          "metadata": {}
        },
        {
          "output_type": "display_data",
          "data": {
            "text/plain": [
              "Downloading:   0%|          | 0.00/208k [00:00<?, ?B/s]"
            ],
            "application/vnd.jupyter.widget-view+json": {
              "version_major": 2,
              "version_minor": 0,
              "model_id": "ae98a6acabfa46b1979b12f950497b0c"
            }
          },
          "metadata": {}
        },
        {
          "output_type": "display_data",
          "data": {
            "text/plain": [
              "Downloading:   0%|          | 0.00/426k [00:00<?, ?B/s]"
            ],
            "application/vnd.jupyter.widget-view+json": {
              "version_major": 2,
              "version_minor": 0,
              "model_id": "fc5d39533cd24da8988260bcbf43e8b0"
            }
          },
          "metadata": {}
        }
      ]
    },
    {
      "cell_type": "code",
      "source": [
        "#for text in train_data['text']:\n",
        "  #print(text)"
      ],
      "metadata": {
        "id": "3RHje5KsFW_K"
      },
      "execution_count": 19,
      "outputs": []
    },
    {
      "cell_type": "markdown",
      "source": [
        "### Calculate how many times a token is split into subword (hint: use model.tokenizer.tokenize())"
      ],
      "metadata": {
        "id": "Nhj-9kXoMj1z"
      }
    },
    {
      "cell_type": "code",
      "source": [
        "#  if ‘URL’ is tokenized by BERT as ‘U’, ‘##RL’, consider it as one token split into two subwords.\n",
        "\n",
        "number_of_tokens = 0\n",
        "number_of_token_subword = 0\n",
        "\n",
        "for row in train_data.itertuples():\n",
        "  tokens = model.tokenizer.tokenize(row.text)\n",
        "  #print(\"Tokens:\",tokens)\n",
        "  number_of_tokens += len(tokens)\n",
        "  for t in tokens:\n",
        "    #print(t)\n",
        "    if '##' in t:\n",
        "      number_of_token_subword += 1\n",
        "\n",
        "print(number_of_tokens)\n",
        "print(number_of_token_subword)\n"
      ],
      "metadata": {
        "colab": {
          "base_uri": "https://localhost:8080/"
        },
        "id": "o1SmVmF8GG-v",
        "outputId": "9d655ba4-922c-4b4d-95c1-58c92b90bd7d"
      },
      "execution_count": 37,
      "outputs": [
        {
          "output_type": "stream",
          "name": "stdout",
          "text": [
            "478955\n",
            "91024\n"
          ]
        }
      ]
    },
    {
      "cell_type": "markdown",
      "source": [
        "### What is the average number of subwords per token?"
      ],
      "metadata": {
        "id": "l-4363T4Mec2"
      }
    },
    {
      "cell_type": "code",
      "source": [
        "number_of_tokens = 0\n",
        "number_of_token_subword = 0\n",
        "avg_num_subwords = 0\n",
        "avg_num_subwords_list = []\n",
        "\n",
        "for row in train_data.itertuples():\n",
        "  tokens = model.tokenizer.tokenize(row.text)\n",
        "  #print(\"Tokens:\",tokens)\n",
        "  number_of_tokens += len(tokens)\n",
        "  for t in tokens:\n",
        "    #print(t)\n",
        "    if '##' in t:\n",
        "      number_of_token_subword += 1\n",
        "\n",
        "  avg_num_subwords = (number_of_token_subword / len(tokens))\n",
        "  avg_num_subwords_list.append(avg_num_subwords)\n",
        "\n",
        "print(avg_num_subwords_list)"
      ],
      "metadata": {
        "colab": {
          "base_uri": "https://localhost:8080/"
        },
        "id": "1JqduXFxMZ4Y",
        "outputId": "eaec72c4-a059-4e22-9d7d-5c4b4e26d72d"
      },
      "execution_count": 45,
      "outputs": [
        {
          "output_type": "stream",
          "name": "stdout",
          "text": [
            "[0.058823529411764705, 0.2857142857142857, 0.37209302325581395, 0.9523809523809523, 1.1904761904761905, 2.3333333333333335, 2.2857142857142856, 0.9210526315789473, 3.4545454545454546, 1.1521739130434783, 2.9473684210526314, 1.0212765957446808, 3.1515151515151514, 4.1923076923076925, 0.9640718562874252, 16.2, 3.7954545454545454, 3.3207547169811322, 5.933333333333334, 8.619047619047619, 3.3968253968253967, 21.6, 9.166666666666666, 6.529411764705882, 4.4423076923076925, 7.3125, 7.0285714285714285, 16.6, 20.833333333333332, 3.7794117647058822, 10.875, 14.555555555555555, 6.560975609756097, 13.0, 5.051724137931035, 4.420289855072464, 2.0338983050847457, 10.36111111111111, 62.5, 13.137931034482758, 8.555555555555555, 7.92, 5.189873417721519, 5.439024390243903, 14.580645161290322, 3.638888888888889, 29.22222222222222, 33.375, 15.11111111111111, 17.21875, 7.833333333333333, 33.23529411764706, 18.966666666666665, 15.972222222222221, 16.083333333333332, 18.46875, 14.9, 119.4, 15.461538461538462, 12.872340425531915, 26.47826086956522, 28.0, 25.791666666666668, 32.63157894736842, 51.75, 22.321428571428573, 13.702127659574469, 10.359375, 47.42857142857143, 16.463414634146343, 56.416666666666664, 16.78048780487805, 6.574074074074074, 20.485714285714284, 51.357142857142854, 17.609756097560975, 43.05882352941177, 13.6, 22.029411764705884, 53.642857142857146, 12.566666666666666, 58.0, 28.074074074074073, 42.388888888888886, 85.0, 19.121951219512194, 23.264705882352942, 15.568627450980392, 79.6, 26.9, 14.535714285714286, 27.266666666666666, 48.294117647058826, 55.2, 24.057142857142857, 31.25925925925926, 24.2, 44.73684210526316, 71.08333333333333, 71.5, 15.0, 98.44444444444444, 25.083333333333332, 30.133333333333333, 60.4, 31.310344827586206, 181.8, 65.0, 15.627118644067796, 20.152173913043477, 29.03125, 12.72972972972973, 37.8, 78.91666666666667, 13.136986301369863, 43.72727272727273, 5.248704663212435, 67.6, 92.45454545454545, 44.391304347826086, 41.0, 18.05263157894737, 128.875, 68.93333333333334, 17.96551724137931, 104.5, 20.784313725490197, 13.134146341463415, 31.735294117647058, 67.625, 41.76923076923077, 155.42857142857142, 155.57142857142858, 13.216867469879517, 23.041666666666668, 27.75, 44.6, 36.096774193548384, 32.02857142857143, 36.45161290322581, 60.10526315789474, 142.875, 33.85294117647059, 164.57142857142858, 164.71428571428572, 105.0, 24.145833333333332, 61.21052631578947, 64.66666666666667, 30.86842105263158, 146.75, 15.853333333333333, 37.375, 54.63636363636363, 38.87096774193548, 86.14285714285714, 55.04545454545455, 28.302325581395348, 101.5, 35.05714285714286, 39.645161290322584, 42.48275862068966, 137.11111111111111, 137.22222222222223, 68.72222222222223, 49.64, 28.906976744186046, 23.49056603773585, 83.2, 83.46666666666667, 17.625, 33.526315789473685, 63.85, 21.433333333333334, 25.78, 22.10169491525424, 69.05263157894737, 131.3, 47.17857142857143, 23.385964912280702, 15.704545454545455, 76.88888888888889, 198.28571428571428, 198.71428571428572, 126.54545454545455, 24.24137931034483, 140.7, 35.25, 25.69090909090909, 39.333333333333336, 18.532467532467532, 23.112903225806452, 24.79310344827586, 102.92857142857143, 48.333333333333336, 76.42105263157895, 50.310344827586206, 162.33333333333334, 112.61538461538461, 244.16666666666666, 19.776315789473685, 100.26666666666667, 79.42105263157895, 28.203703703703702, 19.3625, 23.17910447761194, 91.58823529411765, 155.8, 16.666666666666668, 25.903225806451612, 25.53968253968254, 230.0, 146.54545454545453, 107.73333333333333, 115.57142857142857, 81.0, 147.45454545454547, 38.69047619047619, 70.82608695652173, 70.95652173913044, 125.61538461538461, 39.8780487804878, 42.0, 32.8, 273.5, 56.689655172413794, 22.013333333333332, 22.405405405405407, 42.64102564102564, 46.30555555555556, 66.88, 47.82857142857143, 32.30769230769231, 15.445454545454545, 41.63414634146341, 40.92857142857143, 74.91304347826087, 42.1219512195122, 35.44897959183673, 193.22222222222223, 64.77777777777777, 175.1, 54.84375, 46.23684210526316, 46.28947368421053, 146.83333333333334, 68.0, 47.972972972972975, 44.625, 40.65909090909091, 41.97674418604651, 200.66666666666666, 25.9, 27.149253731343283, 29.419354838709676, 152.16666666666666, 21.372093023255815, 262.7142857142857, 24.01298701298701, 185.1, 205.77777777777777, 115.9375, 54.85294117647059, 35.92307692307692, 72.0, 52.138888888888886, 69.66666666666667, 41.93333333333333, 188.8, 171.72727272727272, 30.822580645161292, 38.36, 160.08333333333334, 24.846153846153847, 97.05, 129.46666666666667, 46.23809523809524, 176.9090909090909, 59.09090909090909, 67.34482758620689, 78.28, 103.36842105263158, 123.1875, 179.54545454545453, 247.0, 33.016666666666666, 198.3, 198.5, 165.66666666666666, 95.0, 24.864197530864196, 27.43243243243243, 49.5609756097561, 65.70967741935483, 203.9, 136.13333333333333, 29.681159420289855, 136.8, 93.5909090909091, 29.281690140845072, 29.492957746478872, 47.79545454545455, 66.0, 150.92857142857142, 81.61538461538461, 212.4, 64.54545454545455, 101.61904761904762, 125.6470588235294, 76.35714285714286, 133.75, 65.03030303030303, 238.66666666666666, 77.0, 144.0, 48.24444444444445, 90.625, 26.095238095238095, 57.81578947368421, 35.04761904761905, 110.6, 28.10126582278481, 46.583333333333336, 37.53333333333333, 35.3125, 55.390243902439025, 66.94117647058823, 45.68, 207.72727272727272, 285.75, 114.45, 35.33846153846154, 35.121212121212125, 61.5, 212.63636363636363, 75.58064516129032, 180.46153846153845, 335.57142857142856, 54.04545454545455, 237.9, 48.59183673469388, 119.1, 158.86666666666667, 61.46153846153846, 34.88405797101449, 185.23076923076923, 75.375, 38.983870967741936, 241.8, 53.91111111111111, 151.8125, 62.43589743589744, 58.04761904761905, 42.87719298245614, 349.2857142857143, 111.5, 39.79032258064516, 63.30769230769231, 247.2, 190.53846153846155, 60.48780487804878, 155.1875, 82.83333333333333, 191.3846153846154, 58.02325581395349, 113.77272727272727, 43.98245614035088, 418.0, 52.479166666666664, 168.4, 229.8181818181818, 55.108695652173914, 35.27777777777778, 141.44444444444446, 121.38095238095238, 134.3684210526316, 116.18181818181819, 94.74074074074075, 85.46666666666667, 98.76923076923077, 46.836363636363636, 215.0, 286.8888888888889, 92.39285714285714, 41.935483870967744, 162.875, 113.47826086956522, 47.72727272727273, 57.19565217391305, 105.4, 56.234042553191486, 203.53846153846155, 67.97435897435898, 115.3913043478261, 56.659574468085104, 102.6923076923077, 445.3333333333333, 72.32432432432432, 45.45762711864407, 45.11666666666667, 52.32692307692308, 170.3125, 129.8095238095238, 118.78260869565217, 85.4375, 32.03488372093023, 102.07407407407408, 250.63636363636363, 38.541666666666664, 47.93103448275862, 214.0, 79.54285714285714, 103.33333333333333, 57.02040816326531, 121.56521739130434, 39.59154929577465, 175.75, 94.03333333333333, 235.16666666666666, 282.4, 42.298507462686565, 39.5, 75.07894736842105, 79.63888888888889, 168.76470588235293, 70.09756097560975, 37.973684210526315, 65.68181818181819, 16.17032967032967, 117.84, 163.94444444444446, 123.125, 70.5, 62.208333333333336, 186.75, 230.07692307692307, 106.85714285714286, 124.91666666666667, 52.13793103448276, 302.9, 168.5, 202.8, 380.375, 304.6, 71.02325581395348, 113.22222222222223, 78.46153846153847, 66.58695652173913, 102.2, 383.375, 71.51162790697674, 60.3921568627451, 118.65384615384616, 56.18181818181818, 309.3, 182.05882352941177, 48.421875, 73.97619047619048, 39.075, 52.25, 120.8076923076923, 142.9090909090909, 59.471698113207545, 143.36363636363637, 92.88235294117646, 126.48, 85.70270270270271, 54.03389830508475, 114.0, 46.405797101449274, 91.62857142857143, 401.125, 52.704918032786885, 214.53333333333333, 230.0, 201.4375, 46.285714285714285, 170.68421052631578, 541.0, 79.3170731707317, 44.68493150684932, 46.74285714285714, 136.45833333333334, 91.13888888888889, 234.5, 29.219298245614034, 43.42857142857143, 123.88888888888889, 56.779661016949156, 44.906666666666666, 259.2307692307692, 240.78571428571428, 134.92, 281.3333333333333, 241.21428571428572, 112.9, 87.25641025641026, 59.89473684210526, 110.25806451612904, 53.5, 107.25, 78.0909090909091, 264.38461538461536, 111.03225806451613, 344.6, 123.5, 54.93650793650794, 128.33333333333334, 144.45833333333334, 204.1764705882353, 267.0769230769231, 173.75, 248.28571428571428, 64.51851851851852, 217.9375, 290.5833333333333, 55.507936507936506, 159.0909090909091, 47.41891891891892, 56.854838709677416, 75.1063829787234, 66.77358490566037, 168.71428571428572, 590.6666666666666, 67.15094339622641, 356.0, 209.58823529411765, 594.1666666666666, 127.53571428571429, 198.5, 198.72222222222223, 123.82758620689656, 256.57142857142856, 256.92857142857144, 119.96666666666667, 150.45833333333334, 65.83636363636364, 63.63157894736842, 117.09677419354838, 242.13333333333333, 173.28571428571428, 84.93023255813954, 104.37142857142857, 243.93333333333334, 457.5, 54.71641791044776, 126.51724137931035, 23.11801242236025, 49.693333333333335, 90.97560975609755, 76.34693877551021, 43.73255813953488, 104.58333333333333, 314.0833333333333, 198.42105263157896, 198.47368421052633, 151.08, 270.07142857142856, 344.09090909090907, 252.4, 236.8125, 130.72413793103448, 74.7843137254902, 123.2258064516129, 131.93103448275863, 166.56521739130434, 57.298507462686565, 103.97297297297297, 80.64583333333333, 80.75, 138.5, 50.256410256410255, 98.225, 66.8135593220339, 146.40740740740742, 146.5185185185185, 136.48275862068965, 73.46296296296296, 62.078125, 172.82608695652175, 284.07142857142856, 110.61111111111111, 37.03703703703704, 500.125, 48.3855421686747, 334.9166666666667, 67.21666666666667, 175.47826086956522, 91.9090909090909, 184.04545454545453, 66.80327868852459, 127.5625, 291.7857142857143, 454.0, 240.47058823529412, 110.54054054054055, 78.86538461538461, 77.47169811320755, 64.265625, 142.10344827586206, 515.25, 46.98863636363637, 70.20338983050847, 207.5, 188.86363636363637, 415.7, 180.82608695652175, 61.5, 149.42857142857142, 95.1590909090909, 130.9375, 55.946666666666665, 280.0, 145.24137931034483, 59.478873239436616, 94.0, 151.21428571428572, 43.47959183673469, 73.5, 56.25, 79.37037037037037, 69.20967741935483, 214.8, 79.72222222222223, 119.75, 205.38095238095238, 102.76190476190476, 102.88095238095238, 270.1875, 205.95238095238096, 154.5, 68.93650793650794, 724.0, 155.5, 272.3125, 136.21875, 484.55555555555554, 311.64285714285717, 71.57377049180327, 363.9166666666667, 72.83333333333333, 66.39393939393939, 83.01886792452831, 293.8, 735.0, 441.3, 259.8235294117647, 490.8888888888889, 184.29166666666666, 56.164556962025316, 295.8666666666667, 153.27586206896552, 296.53333333333336, 127.37142857142857, 81.0909090909091, 124.22222222222223, 263.1764705882353, 61.397260273972606, 896.8, 26.982142857142858, 126.5, 105.97674418604652, 379.8333333333333, 207.54545454545453, 86.24528301886792, 79.08620689655173, 176.5, 127.52777777777777, 287.25, 83.72727272727273, 219.85714285714286, 231.25, 115.875, 82.89285714285714, 172.14814814814815, 166.28571428571428, 108.34883720930233, 65.74647887323944, 141.4848484848485, 778.3333333333334, 467.1, 167.03571428571428, 260.0, 161.6206896551724, 134.2, 782.8333333333334, 247.6315789473684, 114.85365853658537, 102.43478260869566, 196.625, 105.0, 157.7, 65.04109589041096, 249.94736842105263, 365.53846153846155, 128.6216216216216, 66.23611111111111, 207.52173913043478, 398.0833333333333, 86.96363636363637, 683.4285714285714, 81.23728813559322, 599.625, 436.27272727272725, 100.1875, 437.3636363636364, 300.75, 200.58333333333334, 178.44444444444446, 283.52941176470586, 401.9166666666667, 344.7857142857143, 536.5555555555555, 91.26415094339623, 537.5555555555555, 89.87037037037037, 62.42307692307692, 69.67142857142858, 325.26666666666665, 221.86363636363637, 257.05263157894734, 174.46428571428572, 244.4, 106.6304347826087, 377.46153846153845, 140.4857142857143, 614.75, 69.35211267605634, 351.7857142857143, 164.26666666666668, 72.66176470588235, 68.88888888888889, 80.09677419354838, 134.54054054054055, 94.05660377358491, 121.65853658536585, 108.6086956521739, 277.8333333333333, 1000.6, 238.52380952380952, 122.53658536585365, 335.0, 558.6666666666666, 143.9142857142857, 140.02777777777777, 41.88429752066116, 130.05128205128204, 70.48611111111111, 220.69565217391303, 45.16814159292036, 182.39285714285714, 59.54651162790697, 284.6111111111111, 53.802083333333336, 344.4, 344.6, 75.02898550724638, 215.95833333333334, 101.86274509803921, 273.57894736842104, 305.88235294117646, 1040.2, 130.25, 306.6470588235294, 474.0, 82.93650793650794, 348.53333333333336, 106.81632653061224, 187.07142857142858, 80.73846153846154, 374.92857142857144, 1050.0, 154.64705882352942, 250.57142857142858, 584.8888888888889, 752.1428571428571, 146.69444444444446, 240.27272727272728, 755.2857142857143, 278.42105263157896, 407.0769230769231, 196.07407407407408, 529.6, 407.46153846153845, 177.0, 143.78378378378378, 665.125, 166.4375, 104.49019607843137, 410.15384615384613, 97.0909090909091, 534.5, 356.6, 85.01587301587301, 127.61904761904762, 162.6969696969697, 199.0, 192.17857142857142, 101.58490566037736, 66.0, 258.04761904761904, 387.35714285714283, 117.95652173913044, 301.6666666666667, 118.15217391304348, 388.2857142857143, 44.739837398373986, 196.75, 134.46341463414635, 90.50819672131148, 141.76923076923077, 178.58064516129033, 125.97727272727273, 113.26530612244898, 102.81481481481481, 158.8, 252.9090909090909, 136.0, 79.8, 93.81666666666666, 938.6666666666666, 626.1111111111111, 152.45945945945945, 470.25, 332.0, 92.70491803278688, 245.95652173913044, 128.63636363636363, 629.0, 209.8148148148148, 109.01923076923077, 436.15384615384613, 405.07142857142856, 436.46153846153845, 630.5555555555555, 98.05172413793103, 203.17857142857142, 78.04109589041096, 189.93333333333334, 73.2051282051282, 211.7037037037037, 90.84126984126983, 77.48648648648648, 260.6818181818182, 337.5882352941176, 382.6666666666667, 127.84444444444445, 1150.8, 479.75, 822.5714285714286, 639.8888888888889, 93.04838709677419, 148.30769230769232, 445.15384615384613, 321.6666666666667, 186.90322580645162, 207.21428571428572, 105.63636363636364, 264.22727272727275, 85.76470588235294, 364.5625, 277.95238095238096, 389.2, 127.06521739130434, 487.5, 76.35064935064935, 95.0, 155.23684210526315, 256.7826086956522, 492.3333333333333, 134.5681818181818, 211.60714285714286, 348.6470588235294, 145.02439024390245, 83.26388888888889, 99.98333333333333, 461.61538461538464, 315.89473684210526, 130.67391304347825, 200.6, 752.375, 401.53333333333336, 241.16, 71.10588235294118, 172.8, 208.6551724137931, 140.90697674418604, 38.910828025477706, 95.59375, 266.1304347826087, 113.37037037037037, 88.89855072463769, 198.03225806451613, 558.1818181818181, 307.25, 69.47191011235955, 87.28169014084507, 151.1951219512195, 132.0212765957447, 132.08510638297872, 188.15151515151516, 1242.0, 88.8, 168.0810810810811, 388.8125, 778.125, 346.1111111111111, 159.87179487179486, 122.3921568627451, 81.37662337662337, 232.4814814814815, 86.13698630136986, 349.44444444444446, 699.1111111111111, 118.9245283018868, 450.5, 263.125, 351.1666666666667, 158.175, 166.57894736842104, 527.6666666666666, 191.96969696969697, 528.0, 124.3921568627451, 181.34285714285716, 36.770114942528735, 640.0, 213.4, 194.3030303030303, 152.8095238095238, 131.10204081632654, 267.9166666666667, 156.9512195121951, 919.4285714285714, 97.78787878787878, 93.78260869565217, 140.7608695652174, 99.8, 270.375, 240.55555555555554, 92.94285714285714, 91.71830985915493, 361.8333333333333, 434.4, 434.53333333333336, 326.1, 362.55555555555554, 284.0869565217391, 217.93333333333334, 1089.8333333333333, 198.27272727272728, 727.1111111111111, 211.16129032258064, 168.2051282051282, 205.21875, 505.3076923076923, 126.36538461538461, 328.7, 505.9230769230769, 387.2352941176471, 99.78787878787878, 548.9166666666666, 134.6122448979592, 200.0, 173.76315789473685, 118.0, 87.05263157894737, 275.9166666666667, 331.25, 132.58, 368.44444444444446, 132.7, 108.8360655737705, 120.98181818181818, 80.37349397590361, 119.19642857142857, 556.3333333333334, 834.625, 121.83636363636364, 1340.4, 48.18571428571428, 118.3859649122807, 450.06666666666666, 108.98387096774194, 355.94736842105266, 356.3157894736842, 154.04545454545453, 119.0, 251.33333333333334, 271.76, 104.8923076923077, 213.125, 136.54, 569.0833333333334, 75.42857142857143, 762.8888888888889, 208.15151515151516, 624.6363636363636, 143.29166666666666, 312.77272727272725, 264.8076923076923, 94.63013698630137, 363.7368421052632, 128.22222222222223, 216.5, 577.5, 121.6842105263158, 408.1764705882353, 991.4285714285714, 182.68421052631578, 224.19354838709677, 331.2857142857143, 96.79166666666667, 316.90909090909093, 581.4166666666666, 536.8461538461538, 498.57142857142856, 134.44230769230768, 211.9090909090909, 368.1578947368421, 162.95348837209303, 241.75862068965517, 1168.6666666666667, 637.5454545454545, 412.6470588235294, 194.94444444444446, 412.88235294117646, 585.1666666666666, 146.45833333333334, 319.59090909090907, 260.81481481481484, 541.9230769230769, 121.79310344827586, 353.3, 77.87912087912088, 443.1875, 295.7083333333333, 229.16129032258064, 273.3076923076923, 122.62068965517241, 169.42857142857142, 395.44444444444446, 508.64285714285717, 118.78333333333333, 712.8, 125.3157894736842, 166.69767441860466, 179.35, 287.08, 159.7111111111111, 239.76666666666668, 899.25, 312.95652173913044, 342.8095238095238, 189.55263157894737, 480.3333333333333, 77.02127659574468, 114.98412698412699, 190.92105263157896, 659.7272727272727, 207.5142857142857, 346.0952380952381, 181.875, 139.98076923076923, 145.68, 428.8235294117647, 291.68, 729.4, 192.10526315789474, 730.1, 169.86046511627907, 159.1304347826087, 488.1333333333333, 99.08108108108108, 244.56666666666666, 262.2142857142857, 293.8, 209.97142857142856, 432.3529411764706, 113.32307692307693, 818.5555555555555, 230.34375, 460.875, 307.3333333333333, 388.36842105263156, 410.0, 115.453125, 352.0, 672.2727272727273, 184.925, 132.21428571428572, 529.0, 336.77272727272725, 190.12820512820514, 274.74074074074076, 742.0, 90.7439024390244, 128.44827586206895, 438.4117647058824, 266.39285714285717, 298.48, 162.32608695652175, 498.0, 135.98181818181817, 623.3333333333334, 299.6, 90.5421686746988, 144.73076923076923, 171.25, 327.7391304347826, 116.07692307692308, 142.45283018867926, 503.4, 343.3636363636364, 175.74418604651163, 756.2, 360.1904761904762, 582.1538461538462, 185.14634146341464, 281.22222222222223, 330.6521739130435, 152.22, 761.2, 211.75, 186.21951219512195, 136.42857142857142, 1091.7142857142858, 382.4, 364.2857142857143, 162.82978723404256, 144.49056603773585, 159.60416666666666, 547.3571428571429, 451.05882352941177, 142.2962962962963, 170.84444444444443, 219.71428571428572, 427.3888888888889, 150.98039215686273, 453.05882352941177, 963.125, 154.32, 514.4666666666667, 385.95, 594.0, 157.77551020408163, 209.16216216216216, 516.0, 368.7142857142857, 368.76190476190476, 72.1574074074074, 389.9, 210.86486486486487, 709.4545454545455, 111.68571428571428, 355.40909090909093, 230.05882352941177, 313.0, 270.0689655172414, 211.8918918918919, 103.25, 341.4782608695652, 178.61363636363637, 99.60759493670886, 715.9090909090909, 238.93939393939394, 133.8135593220339, 282.07142857142856, 225.77142857142857, 247.03125, 439.3333333333333, 395.55, 344.04347826086956, 989.25, 416.57894736842104, 1130.857142857143, 659.8333333333334, 180.29545454545453, 233.5, 467.1764705882353, 172.82608695652175, 993.875, 1325.3333333333333, 227.31428571428572, 241.1818181818182, 796.0, 103.54545454545455, 284.89285714285717, 725.2727272727273, 332.4583333333333, 177.4, 205.30769230769232, 534.0, 445.1111111111111, 135.96610169491527, 276.7241379310345, 422.4736842105263, 251.03125, 243.54545454545453, 618.4615384615385, 157.92156862745097, 277.86206896551727, 366.5, 278.1034482758621, 134.53333333333333, 161.48, 734.0909090909091, 449.0, 449.1666666666667, 245.3030303030303, 114.2394366197183, 231.94285714285715, 176.56521739130434, 369.3636363636364, 125.07692307692308, 127.40625, 1359.1666666666667, 679.8333333333334, 194.3095238095238, 127.6875, 545.1333333333333, 166.89795918367346, 272.6333333333333, 272.9, 455.0, 113.93055555555556, 293.07142857142856, 631.3076923076923, 456.1666666666667, 1026.625, 432.42105263157896, 357.3478260869565, 822.2, 228.63888888888889, 274.7, 284.48275862068965, 317.46153846153845, 275.23333333333335, 111.70270270270271, 344.5, 1181.2857142857142, 206.9, 123.65671641791045, 176.3404255319149, 460.6111111111111, 251.33333333333334, 150.85454545454544, 109.28947368421052, 1661.4, 277.1666666666667, 219.02631578947367, 320.34615384615387, 203.29268292682926, 124.58208955223881, 439.42105263157896, 298.2857142857143, 417.7, 696.3333333333334, 491.8235294117647, 85.71428571428571, 195.53488372093022, 210.275, 765.0, 221.6578947368421, 210.675, 205.6341463414634, 443.7894736842105, 766.8181818181819, 191.97727272727272, 325.2307692307692, 143.42372881355934, 769.4545454545455, 529.25, 264.75, 651.9230769230769, 314.037037037037, 123.05797101449275, 292.9655172413793, 141.7, 202.54761904761904, 154.8181818181818, 230.24324324324326, 185.30434782608697, 426.45, 118.58333333333333, 341.56, 502.4117647058824, 123.94202898550725, 150.21052631578948, 571.1333333333333, 140.68852459016392, 343.4, 572.5333333333333, 107.5125, 537.6875, 105.35365853658537, 210.78048780487805, 576.3333333333334, 254.44117647058823, 247.31428571428572, 111.11538461538461, 270.96875, 147.11864406779662, 197.4318181818182, 310.2857142857143, 177.3877551020408, 378.0, 362.3333333333333, 235.0810810810811, 158.27272727272728, 335.1923076923077, 132.1818181818182, 212.85365853658536, 727.4166666666666, 50.7514450867052, 1097.625, 283.48387096774195, 111.43037974683544, 489.1666666666667, 587.2, 1101.375, 367.3333333333333, 304.0344827586207, 183.875, 420.5238095238095, 259.88235294117646, 589.2, 384.5652173913044, 155.2280701754386, 80.72727272727273, 286.51612903225805, 206.6046511627907, 107.21686746987952, 371.3333333333333, 234.8684210526316, 446.35, 156.7017543859649, 372.3333333333333, 812.5454545454545, 271.0, 172.09615384615384, 344.3076923076923, 1119.125, 344.5769230769231, 289.06451612903226, 560.3125, 390.30434782608694, 472.63157894736844, 60.193333333333335, 602.0666666666667, 311.48275862068965, 132.9558823529412, 361.8, 393.30434782608694, 274.45454545454544, 302.1, 566.6875, 292.5806451612903, 221.3170731707317, 133.5, 171.49056603773585, 202.33333333333334, 260.37142857142857, 325.5357142857143, 479.89473684210526, 701.6153846153846, 380.3333333333333, 144.93650793650792, 268.61764705882354, 434.95238095238096, 351.53846153846155, 338.85185185185185, 481.6842105263158, 176.1153846153846, 155.32203389830508, 223.65853658536585, 764.3333333333334, 834.0, 187.3469387755102, 459.2, 235.53846153846155, 122.89333333333333, 188.20408163265307, 219.6904761904762, 288.71875, 220.07142857142858, 330.39285714285717, 1028.0, 149.2741935483871, 264.7142857142857, 370.72, 189.28571428571428, 197.48936170212767, 154.76666666666668, 387.4583333333333, 715.3846153846154, 258.44444444444446, 150.19354838709677, 582.1875, 345.1111111111111, 466.15, 1554.0, 321.58620689655174, 310.93333333333334, 108.61627906976744, 623.0, 148.34920634920636, 467.35, 719.2307692307693, 389.75, 45.90243902439025, 125.86666666666666, 145.53846153846155, 1351.7142857142858, 788.6666666666666, 270.54285714285714, 225.64285714285714, 592.5, 379.44, 279.1764705882353, 365.15384615384613, 153.24193548387098, 730.9230769230769, 864.0, 1584.3333333333333, 950.7, 146.53846153846155, 130.6164383561644, 953.8, 257.9189189189189, 198.91666666666666, 318.3333333333333, 118.1358024691358, 416.2608695652174, 736.5384615384615, 798.25, 456.2857142857143, 58.03012048192771, 741.2307692307693, 166.25862068965517, 688.8571428571429, 386.12, 1206.875, 166.68965517241378, 122.67088607594937, 149.30769230769232, 225.86046511627907, 294.45454545454544, 647.9333333333333, 648.2666666666667, 270.3611111111111, 572.7058823529412, 198.73469387755102, 128.4078947368421, 375.4230769230769, 336.7241379310345, 137.59154929577466, 407.1666666666667, 1085.888888888889, 195.6, 489.2, 337.37931034482756, 153.125, 264.9189189189189, 653.6, 110.5505617977528, 339.44827586206895, 410.375, 317.80645161290323, 1642.1666666666667, 547.5555555555555, 986.0, 704.5, 1233.0, 616.6875, 519.3684210526316, 1096.5555555555557, 493.6, 705.2857142857143, 308.71875, 898.6363636363636, 253.5897435897436, 330.03333333333336, 110.23333333333333, 620.25, 283.7142857142857, 275.94444444444446, 552.2222222222222, 236.88095238095238, 710.8571428571429, 226.27272727272728, 174.73684210526315, 138.63888888888889, 499.15, 217.08695652173913, 356.67857142857144, 140.80281690140845, 208.39583333333334, 400.2, 526.7894736842105, 500.55, 1430.2857142857142, 303.45454545454544, 213.14893617021278, 85.1864406779661, 1436.2857142857142, 591.7058823529412, 503.15, 671.1333333333333, 193.69230769230768, 559.7222222222222, 458.04545454545456, 560.0555555555555, 131.03896103896105, 672.7333333333333, 224.66666666666666, 361.14285714285717, 160.61904761904762, 191.0188679245283, 532.9473684210526, 298.02941176470586, 921.6363636363636, 482.85714285714283, 307.3939393939394, 483.0952380952381, 441.17391304347825, 307.54545454545456, 137.21621621621622, 191.83018867924528, 924.3636363636364, 290.8, 282.8333333333333, 565.8888888888889, 679.2666666666667, 485.23809523809524, 328.9032258064516, 566.8333333333334, 927.9090909090909, 785.2307692307693, 1276.125, 152.46268656716418, 511.05, 255.675, 243.54761904761904, 568.4444444444445, 66.29032258064517, 277.86486486486484, 734.5714285714286, 1286.0, 1143.2222222222222, 395.96153846153845, 429.25, 381.81481481481484, 1288.875, 542.8421052631579, 355.7931034482759, 355.8965517241379, 645.1875, 175.22033898305085, 166.8709677419355, 304.7647058823529, 493.57142857142856, 1295.875, 154.88059701492537, 334.9032258064516, 576.9444444444445, 170.44262295081967, 273.7631578947368, 946.0909090909091, 867.4166666666666, 800.8461538461538, 434.0, 801.3076923076923, 520.9, 947.3636363636364, 473.72727272727275, 242.46511627906978, 165.5873015873016, 347.8666666666667, 208.9, 417.96, 183.3684210526316, 227.47826086956522, 360.9310344827586, 747.8571428571429, 581.8333333333334, 523.9, 374.2857142857143, 317.6969696969697, 138.02631578947367, 419.76, 143.8082191780822, 807.7692307692307, 1500.4285714285713, 477.45454545454544, 159.25757575757575, 584.0, 123.96470588235294, 1317.25, 585.5, 501.9047619047619, 131.975, 480.09090909090907, 68.21153846153847, 443.4583333333333, 212.92, 287.86486486486484, 183.9655172413793, 485.1363636363636, 172.2741935483871, 157.1764705882353, 427.6, 243.0909090909091, 1783.0, 162.16666666666666, 214.26, 124.65116279069767, 357.96666666666664, 976.5454545454545, 632.0, 767.5714285714286, 192.05357142857142, 228.95744680851064, 538.25, 538.35, 123.9080459770115, 599.0, 399.48148148148147, 1348.375, 263.3414634146341, 360.1666666666667, 211.98039215686273, 983.0909090909091, 772.7142857142857, 601.1666666666666, 318.38235294117646, 132.15853658536585, 637.6470588235294, 834.1538461538462, 328.6666666666667, 231.27659574468086, 494.1818181818182, 175.53225806451613, 231.70212765957447, 495.04545454545456, 640.8235294117648, 375.7241379310345, 1556.857142857143, 908.4166666666666, 436.28, 404.037037037037, 641.7647058823529, 341.09375, 574.6842105263158, 992.8181818181819, 170.765625, 607.4444444444445, 729.0666666666667, 911.5, 497.3181818181818, 1094.3, 912.0833333333334, 684.1875, 729.9333333333333, 281.12820512820514, 997.0, 378.41379310344826, 207.1509433962264, 1220.111111111111, 275.025, 169.43076923076924, 648.0, 847.5384615384615, 787.4285714285714, 393.82142857142856, 164.70149253731344, 367.8666666666667, 460.2083333333333, 409.25925925925924, 409.3703703703704, 368.8, 395.25, 461.2916666666667, 527.3809523809524, 230.79166666666666, 382.1034482758621, 852.6153846153846, 170.8923076923077, 925.8333333333334, 139.15, 1012.2727272727273, 227.44897959183675, 206.53703703703704, 1239.4444444444443, 858.6153846153846, 126.97727272727273, 385.44827586206895, 159.82857142857142, 203.6, 164.7941176470588, 560.55, 180.8548387096774, 509.8636363636364, 510.09090909090907, 623.5, 1870.6666666666667, 1871.0, 701.8125, 244.2173913043478, 135.46987951807228, 749.8666666666667, 1406.125, 255.70454545454547, 281.375, 417.037037037037, 1023.7272727272727, 388.55172413793105, 536.7142857142857, 663.1764705882352, 176.40625, 418.2962962962963, 1129.5, 117.97916666666667, 708.0, 1030.090909090909, 566.65, 755.7333333333333, 1889.6666666666667, 236.625, 324.6, 210.46296296296296, 334.44117647058823, 334.6470588235294, 162.65714285714284, 455.76, 474.7916666666667, 190.05, 950.4166666666666, 518.7272727272727, 187.21311475409837, 1269.111111111111, 544.1428571428571, 279.2926829268293, 381.8666666666667, 301.5, 272.9047619047619, 546.0, 244.10638297872342, 220.8846153846154, 522.4090909090909, 547.4761904761905, 821.3571428571429, 129.77528089887642, 722.125, 240.75, 1444.875, 722.625, 550.7619047619048, 165.37142857142857, 526.2272727272727, 643.3333333333334, 643.5555555555555, 331.0, 186.93548387096774, 252.2173913043478, 119.95876288659794, 155.33333333333334, 832.4285714285714, 204.6315789473684, 188.16129032258064, 507.4782608695652, 343.4117647058824, 778.7333333333333, 265.52272727272725, 265.9318181818182, 585.15, 780.4, 509.0869565217391, 162.73611111111111, 434.14814814814815, 105.78378378378379, 261.4, 534.9090909090909, 184.015625, 654.3333333333334, 535.4545454545455, 981.9166666666666, 240.55102040816325, 786.0, 982.6666666666666, 149.50632911392404, 621.8421052631579, 537.3181818181819, 656.7777777777778, 358.3030303030303, 262.8888888888889, 591.6, 591.75, 563.6666666666666, 493.4583333333333, 455.61538461538464, 275.6744186046512, 228.09615384615384, 258.2391304347826, 228.65384615384616, 1698.7142857142858, 626.1578947368421, 216.6, 178.0, 477.16, 518.7826086956521, 265.26666666666665, 702.3529411764706, 542.8636363636364, 265.4888888888889, 186.734375, 1195.3, 853.9285714285714, 459.88461538461536, 520.0869565217391, 234.6078431372549, 704.0, 171.12857142857143, 704.7058823529412, 631.1052631578947, 184.52307692307693, 176.4264705882353, 214.33928571428572, 461.9230769230769, 924.0, 267.0888888888889, 375.625, 203.74576271186442, 400.8333333333333, 462.61538461538464, 633.2631578947369, 300.9, 273.70454545454544, 191.31746031746033, 861.0714285714286, 334.97222222222223, 163.06756756756758, 1097.090909090909, 525.0869565217391, 2415.6, 1725.857142857143, 525.4782608695652, 483.64, 575.9047619047619, 1008.0, 712.0, 403.6333333333333, 576.7619047619048, 417.82758620689657, 673.2777777777778, 391.19354838709677, 673.9444444444445, 79.09740259740259, 529.8695652173913, 270.97777777777776, 117.4326923076923, 207.135593220339, 940.1538461538462, 1358.111111111111, 177.28985507246378, 509.7916666666667, 260.40425531914894, 204.05, 1224.4, 340.25, 322.5, 285.04651162790697, 299.1463414634146, 191.890625, 195.015873015873, 396.4193548387097, 585.3809523809524, 723.2352941176471, 683.2777777777778, 273.4222222222222, 342.05555555555554, 769.6875, 362.3529411764706, 232.60377358490567, 220.16071428571428, 342.6666666666667, 324.6842105263158, 949.1538461538462, 1542.625, 293.92857142857144, 173.9718309859155, 617.7, 823.7333333333333, 882.6428571428571, 162.69736842105263, 1236.6, 238.26923076923077, 252.9591836734694, 182.51470588235293, 335.64864864864865, 270.0217391304348, 248.52, 1242.7, 497.2, 1036.0, 264.5531914893617, 310.9, 282.6818181818182, 204.0, 244.35294117647058, 445.32142857142856, 201.16129032258064, 356.57142857142856, 1134.8181818181818, 480.2307692307692, 594.8095238095239, 337.7837837837838, 595.6666666666666, 1251.2, 338.4594594594595, 782.9375, 199.12698412698413, 261.375, 965.2307692307693, 220.21052631578948, 348.80555555555554, 206.0655737704918, 199.61904761904762, 157.35, 193.73846153846154, 1574.25, 381.90909090909093, 257.3469387755102, 394.21875, 350.5, 1402.2222222222222, 134.5212765957447, 743.8823529411765, 294.4418604651163, 1406.888888888889, 666.578947368421, 575.8636363636364, 550.9565217391304, 208.0655737704918, 384.72727272727275, 176.43055555555554, 508.32, 635.5, 1589.125, 385.45454545454544, 385.8787878787879, 318.65, 531.2916666666666, 911.2142857142857, 554.7826086956521, 240.88679245283018, 912.0, 1277.2, 412.3225806451613, 639.4, 278.2608695652174, 387.90909090909093, 474.3333333333333, 512.64, 557.304347826087, 457.82142857142856, 583.0, 986.6923076923077, 534.625, 246.76923076923077, 168.8815789473684, 916.8571428571429, 1426.3333333333333, 611.4761904761905, 214.21666666666667, 401.8125, 378.29411764705884, 198.04615384615386, 321.9, 1073.0833333333333, 920.0, 218.33898305084745, 536.875, 613.6666666666666, 179.04166666666666, 263.18367346938777, 758.7058823529412, 430.23333333333335, 496.53846153846155, 248.42307692307693, 430.6666666666667, 287.3333333333333, 646.7, 275.36170212765956, 112.8695652173913, 69.31914893617021, 289.7111111111111, 465.85714285714283, 621.1904761904761, 1863.7142857142858, 194.80597014925374, 421.19354838709677, 932.8571428571429, 622.047619047619, 523.04, 396.72727272727275, 247.1509433962264, 374.3142857142857, 344.8421052631579, 468.42857142857144, 1192.6363636363637, 195.9402985074627, 875.3333333333334, 875.5333333333333, 453.0689655172414, 170.75324675324674, 526.04, 185.70422535211267, 145.30769230769232, 165.5, 240.83636363636364, 358.1621621621622, 779.5882352941177, 509.9230769230769, 245.7962962962963, 442.6666666666667, 492.037037037037, 492.5925925925926, 443.6666666666667, 1109.4166666666667, 887.7333333333333, 888.0, 1480.111111111111, 218.49180327868854, 740.5, 246.94444444444446, 303.09090909090907, 889.2, 256.6923076923077, 534.08, 741.9444444444445, 834.875, 205.6769230769231, 1114.25, 743.0, 955.4285714285714, 418.21875, 318.92857142857144, 558.4166666666666, 235.21052631578948, 258.0769230769231, 203.43939393939394, 419.78125, 1492.7777777777778, 1493.0, 1919.7142857142858, 480.0, 611.0, 463.6896551724138, 407.72727272727275, 220.72131147540983, 1346.7, 792.2941176470588, 236.42105263157896, 136.4848484848485, 386.25714285714287, 338.1, 307.6136363636364, 1504.0, 376.1111111111111, 541.92, 752.8333333333334, 301.2, 1129.9166666666667, 330.8536585365854, 521.8461538461538, 754.0555555555555, 181.02666666666667, 377.22222222222223, 452.96666666666664, 566.375, 503.51851851851853, 170.075, 648.0, 261.8269230769231, 378.30555555555554, 648.7619047619048, 524.0384615384615, 681.4, 717.6842105263158, 248.03636363636363, 454.93333333333334, 195.02857142857144, 189.83333333333334, 1242.909090909091, 1953.4285714285713, 1052.2307692307693, 506.74074074074076, 217.26984126984127, 187.56164383561645, 570.625, 595.6086956521739, 1712.75, 217.53968253968253, 979.0, 721.5263157894736, 1054.7692307692307, 224.8360655737705, 240.7719298245614, 473.3448275862069, 1056.1538461538462, 286.125, 981.0714285714286, 1962.2857142857142, 528.5769230769231, 1963.4285714285713, 1963.5714285714287, 1249.8181818181818, 1250.0, 362.13157894736844, 372.1081081081081, 983.6428571428571, 459.23333333333335, 599.304347826087, 372.7567567567568, 599.8695652173913, 394.42857142857144, 1150.5833333333333, 307.02222222222224, 600.8260869565217, 265.84615384615387, 813.2941176470588, 1382.8, 146.02105263157895, 603.1739130434783, 375.13513513513516, 433.9375, 330.6904761904762, 817.1764705882352, 278.04, 148.27659574468086, 367.0, 1268.0, 194.06944444444446, 367.7631578947368, 2329.5, 423.72727272727275, 1554.111111111111, 482.51724137931035, 538.2692307692307, 1166.4166666666667, 1166.5, 451.5806451612903, 424.27272727272725, 2334.0, 269.5, 737.8421052631579, 369.0, 92.57236842105263, 586.4583333333334, 485.48275862068965, 1005.8571428571429, 1006.0714285714286, 402.51428571428573, 247.2982456140351, 1174.8333333333333, 1084.6923076923076, 671.6666666666666, 1007.5714285714286, 940.7333333333333, 672.0952380952381, 294.1875, 941.8, 314.0, 196.43055555555554, 188.8, 228.5, 488.7931034482759, 345.9024390243902, 1013.0714285714286, 205.63768115942028, 1182.5833333333333, 272.9807692307692, 458.03225806451616, 1014.4285714285714, 278.4901960784314, 240.8135593220339, 346.5609756097561, 710.7, 225.66666666666666, 1184.8333333333333, 592.7916666666666, 241.23728813559322, 75.17894736842105, 752.0526315789474, 492.9310344827586, 103.13669064748201, 243.0677966101695, 388.02702702702703, 276.40384615384613, 1026.7857142857142, 306.02127659574467, 513.8928571428571, 389.02702702702703, 205.8, 960.6666666666666, 1201.0, 497.17241379310343, 175.9878048780488, 601.4166666666666, 601.5833333333334, 437.57575757575756, 760.1052631578947, 206.42857142857142, 1806.875, 203.6056338028169, 688.5714285714286, 516.7142857142857, 336.93023255813955, 172.63095238095238, 1812.75, 725.4, 284.7647058823529, 1210.5, 691.7619047619048, 309.2340425531915, 285.0980392156863, 217.07462686567163, 581.88, 231.03174603174602, 727.85, 1455.8, 242.83333333333334, 470.19354838709677, 520.7857142857143, 455.8125, 291.74, 331.6363636363636, 768.2631578947369, 456.34375, 429.61764705882354, 695.7142857142857, 232.0, 913.6875, 375.20512820512823, 418.25714285714287, 187.82051282051282, 457.9375, 318.6304347826087, 542.925925925926, 637.5652173913044, 1629.5555555555557, 1222.75, 917.125, 190.62337662337663, 219.32835820895522, 237.29032258064515, 1226.1666666666667, 774.6315789473684, 191.28571428571428, 213.59420289855072, 335.15909090909093, 388.2631578947368, 461.1875, 590.48, 492.1666666666667, 642.2173913043479, 321.32608695652175, 422.37142857142857, 352.1190476190476, 643.0869565217391, 124.5126050420168, 780.1052631578947, 211.84285714285716, 329.64444444444445, 218.19117647058823, 1349.090909090909, 742.1, 225.03030303030303, 1350.7272727272727, 1857.5, 424.77142857142854, 619.6666666666666, 676.1363636363636, 479.96774193548384, 1063.0714285714287, 265.875, 413.8888888888889, 355.0, 677.8636363636364, 346.8837209302326, 304.53061224489795, 364.0243902439024, 287.34615384615387, 2988.6, 207.70833333333334, 2136.714285714286, 267.2142857142857, 623.7083333333334, 831.7777777777778, 416.0, 1152.076923076923, 318.6808510638298, 440.6764705882353, 1664.888888888889, 651.6086956521739, 599.52, 516.9655172413793, 882.0588235294117, 283.0, 238.26984126984127, 202.90540540540542, 1877.0, 625.9583333333334, 1878.0, 197.82894736842104, 601.68, 2507.1666666666665, 218.2608695652174, 519.3793103448276, 579.3461538461538, 215.45714285714286, 685.7727272727273, 236.0625, 1373.5454545454545, 1007.5333333333333, 1079.5714285714287, 889.2352941176471, 189.175, 1513.5, 252.38333333333333, 658.6086956521739, 1009.9333333333333, 1683.4444444444443, 1165.6923076923076, 1377.7272727272727, 1894.5, 688.9545454545455, 280.72222222222223, 1895.125, 315.9375, 459.6666666666667, 758.5, 410.3783783783784, 542.4642857142857, 584.3846153846154, 949.75, 1169.076923076923, 690.9545454545455, 524.2413793103449, 223.63235294117646, 1901.125, 760.5, 390.1794871794872, 354.0, 634.4583333333334, 1523.0, 761.8, 305.04, 565.2222222222222, 526.3103448275862, 224.52941176470588, 545.5, 449.3529411764706, 848.8888888888889, 899.1176470588235, 1273.8333333333333, 1175.923076923077, 259.1864406779661, 1699.2222222222222, 463.6060606060606, 356.0232558139535, 413.81081081081084, 1392.0, 528.2758620689655, 3064.2, 259.8135593220339, 730.0, 239.65625, 958.6875, 1704.3333333333333, 730.5238095238095, 451.7352941176471, 82.85483870967742, 906.7058823529412, 467.24242424242425, 275.4107142857143, 1542.7, 350.8181818181818, 593.9615384615385, 257.4166666666667, 417.6216216216216, 736.0, 281.1272727272727, 359.6279069767442, 221.07142857142858, 297.75, 70.33484162895928, 310.94, 228.77941176470588, 1111.4285714285713, 502.0, 2593.8333333333335, 915.5882352941177, 576.7407407407408, 1038.2666666666667, 247.38095238095238, 259.81666666666666, 779.55, 577.7037037037037, 650.0, 306.0, 557.8571428571429, 1201.7692307692307, 269.37931034482756, 188.42168674698794, 372.4047619047619, 300.84615384615387, 625.84, 920.5882352941177, 1422.8181818181818, 226.92753623188406, 626.8, 1044.8666666666666, 447.8857142857143, 522.7, 1307.0, 1568.6, 2241.0, 461.55882352941177, 356.84090909090907, 1121.5714285714287, 872.3888888888889, 506.6774193548387, 334.40425531914894, 349.3777777777778, 786.25, 327.6458333333333, 749.0952380952381, 1311.1666666666667, 582.8148148148148, 1748.5555555555557, 1748.7777777777778, 425.5135135135135, 715.7727272727273, 384.2926829268293, 254.25806451612902, 656.875, 543.8275862068965, 657.1666666666666, 584.2962962962963, 239.1969696969697, 277.0, 415.63157894736844, 2632.6666666666665, 987.375, 359.25, 1317.5, 287.6909090909091, 2260.5714285714284, 2637.5, 395.9, 754.3333333333334, 344.5, 360.54545454545456, 368.9767441860465, 1322.4166666666667, 661.375, 933.8823529411765, 934.1176470588235, 1058.7333333333333, 934.2941176470588, 378.3809523809524, 662.3333333333334, 662.5416666666666, 201.69620253164558, 300.75471698113205, 724.6363636363636, 379.64285714285717, 1771.888888888889, 839.5263157894736, 1595.2, 997.1875, 362.72727272727275, 213.01333333333332, 1331.75, 170.25531914893617, 1600.7, 843.0, 410.79487179487177, 1144.642857142857, 458.1142857142857, 308.38461538461536, 1781.888888888889, 356.44444444444446, 763.952380952381, 3208.8, 291.8727272727273, 232.81159420289856, 341.8085106382979, 669.7083333333334, 217.6216216216216, 1150.4285714285713, 503.4375, 460.3142857142857, 1074.4666666666667, 806.0, 304.1698113207547, 252.0625, 175.5108695652174, 310.71153846153845, 288.64285714285717, 950.8823529411765, 851.0, 951.2352941176471, 1470.4545454545455, 210.19480519480518, 2023.375, 558.5172413793103, 1080.1333333333334, 294.76363636363635, 954.0, 395.5853658536585, 1802.3333333333333, 477.11764705882354, 1352.0, 246.06060606060606, 601.5555555555555, 1476.7272727272727, 738.5, 902.8333333333334, 198.28048780487805, 427.94736842105266, 508.3125, 581.0, 254.21875, 242.9402985074627, 1356.5833333333333, 189.62790697674419, 217.53333333333333, 1020.0625, 777.4285714285714, 859.3684210526316, 320.2549019607843, 255.40625, 240.51470588235293, 399.0487804878049, 1022.8125, 297.6545454545454, 2338.8571428571427, 380.93023255813955, 468.1714285714286, 712.5217391304348, 197.73493975903614, 256.484375, 1642.0, 746.5, 373.34090909090907, 608.5185185185185, 410.825, 684.7916666666666, 1494.3636363636363, 1494.7272727272727, 1096.2666666666667, 421.7692307692308, 86.40837696335079, 393.0952380952381, 635.1923076923077, 688.2916666666666, 500.72727272727275, 972.2941176470588, 324.1764705882353, 435.44736842105266, 752.4090909090909, 271.4590163934426, 254.87692307692308, 920.4444444444445, 193.09302325581396, 248.01492537313433, 1510.8181818181818, 519.375, 692.6666666666666, 978.1176470588235, 978.2352941176471, 1108.7333333333333, 237.84285714285716, 1280.923076923077, 387.8139534883721, 370.6666666666667, 490.7352941176471, 1517.090909090909, 1192.2857142857142, 428.12820512820514, 2783.0, 1518.3636363636363, 491.55882352941177, 439.92105263157896, 879.9473684210526, 304.1090909090909, 2788.1666666666665, 3346.2, 507.1818181818182, 492.47058823529414, 1674.5, 697.9166666666666, 2093.875, 620.4444444444445, 294.03508771929825, 1289.3076923076924, 761.9545454545455, 364.54347826086956, 3354.2, 578.3448275862069, 202.20481927710844, 190.9431818181818, 1200.357142857143, 672.36, 1293.1538461538462, 1050.9375, 224.30666666666667, 365.82608695652175, 358.25531914893617, 410.9512195121951, 648.1538461538462, 648.3076923076923, 231.42465753424656, 1299.6923076923076, 2112.375, 994.2352941176471, 512.2727272727273, 890.0, 545.6451612903226, 231.8082191780822, 158.7570093457944, 548.2903225806451, 1416.5, 500.1470588235294, 298.5263157894737, 895.6842105263158, 447.9736842105263, 1001.6470588235294, 549.3870967741935, 946.6666666666666, 2434.4285714285716, 355.1041666666667, 1549.6363636363637, 501.44117647058823, 501.61764705882354, 387.72727272727275, 533.1875, 437.53846153846155, 948.1111111111111, 609.6785714285714, 682.88, 397.1860465116279, 356.0625, 1899.3333333333333, 244.4, 180.2736842105263, 1712.8, 952.1111111111111, 952.3333333333334, 1558.5454545454545, 685.96, 132.23846153846154, 521.1818181818181, 491.6857142857143, 419.9268292682927, 819.8571428571429, 1076.3125, 282.44262295081967, 615.3928571428571, 110.07643312101911, 345.8, 1235.2142857142858, 691.92, 240.36111111111111, 266.33846153846156, 304.0175438596491, 237.56164383561645, 271.109375, 123.39007092198581, 1933.3333333333333, 1581.909090909091, 280.7903225806452, 334.86538461538464, 348.42, 447.1025641025641, 969.0, 697.84, 1744.8, 371.40425531914894, 602.0689655172414, 1091.4375, 1746.7, 208.10714285714286, 672.4615384615385, 647.7407407407408, 343.01960784313724, 499.9142857142857, 833.4285714285714, 486.27777777777777, 257.63235294117646, 500.57142857142856, 876.1, 274.0, 381.32608695652175, 674.8846153846154, 501.51428571428573, 2507.714285714286, 418.14285714285717, 1596.7272727272727, 428.5853658536585, 1255.2142857142858, 1033.8235294117646, 351.68, 1352.6923076923076, 703.52, 266.6515151515151, 400.15909090909093, 279.5079365079365, 217.5185185185185, 734.2083333333334, 245.08333333333334, 1764.7, 630.4642857142857, 1103.5, 706.4, 630.9642857142857, 194.36263736263737, 931.0, 1263.7142857142858, 1608.5454545454545, 1361.2307692307693, 1769.8, 491.72222222222223, 1609.4545454545455, 1770.6, 632.5714285714286, 610.7931034482758, 1476.1666666666667, 1362.8461538461538, 554.09375, 886.65, 261.0882352941176, 1479.5833333333333, 772.0434782608696, 335.188679245283, 1269.142857142857, 112.06918238993711, 575.0322580645161, 2971.1666666666665, 434.9756097560976, 575.3870967741935, 849.5238095238095, 939.1052631578947, 371.8541666666667, 324.6181818181818, 1190.6666666666667, 2232.625, 279.1875, 714.88, 308.1896551724138, 1277.142857142857, 687.8076923076923, 688.0769230769231, 319.55357142857144, 235.51315789473685, 813.7727272727273, 484.0810810810811, 1791.2, 577.8709677419355, 559.90625, 437.1707317073171, 995.8888888888889, 853.7619047619048, 815.2272727272727, 448.425, 437.6829268292683, 294.2295081967213, 2564.4285714285716, 1056.0, 498.80555555555554, 513.5428571428571, 817.1363636363636, 256.98571428571427, 2570.1428571428573, 1199.5333333333333, 1124.75, 749.9166666666666, 999.9444444444445, 2571.4285714285716, 782.7826086956521, 225.1625, 237.14473684210526, 515.0, 515.0285714285715, 462.35897435897436, 409.95454545454544, 3607.8, 231.75641025641025, 1205.2666666666667, 262.15942028985506, 1206.0666666666666, 1206.2666666666667, 1206.4666666666667, 861.9047619047619, 232.2051282051282, 393.8478260869565, 302.0, 1647.5454545454545, 2589.1428571428573, 312.5344827586207, 1812.9, 1510.9166666666667, 287.95238095238096, 1395.6153846153845, 824.7272727272727, 756.0833333333334, 2016.3333333333333, 726.12, 279.61538461538464, 491.2432432432432, 422.72093023255815, 956.7368421052631, 956.7894736842105, 699.3846153846154, 1653.2727272727273, 289.015873015873, 395.9130434782609, 827.8636363636364, 2276.875, 364.4, 2277.625, 911.35, 729.24, 1215.8, 456.075, 2606.285714285714, 521.3714285714286, 760.625, 332.09090909090907, 309.77966101694915, 315.3103448275862, 261.4142857142857, 205.77528089887642, 215.5529411764706, 1409.4615384615386, 310.59322033898303, 381.875, 366.7, 495.6216216216216, 1410.7692307692307, 295.85483870967744, 258.3943661971831, 339.7962962962963, 591.9677419354839, 286.8125, 262.2857142857143, 1147.5625, 211.2528735632184, 1021.2222222222222, 1414.076923076923, 634.1034482758621, 1021.7777777777778, 557.4242424242424, 322.8070175438597, 657.2857142857143, 634.6896551724138, 1150.6875, 409.2, 233.35443037974684, 1536.3333333333333, 658.5, 614.9666666666667, 401.1304347826087, 576.71875, 839.1818181818181, 243.0921052631579, 560.030303030303, 560.1515151515151, 231.2, 1422.923076923077, 324.94736842105266, 712.5, 2646.5714285714284, 268.6666666666667, 1324.2857142857142, 927.05, 421.40909090909093, 394.6170212765957, 1236.6666666666667, 562.3030303030303, 639.9655172413793, 580.125, 304.9016393442623, 502.86486486486484, 600.516129032258, 2068.6666666666665, 517.4166666666666, 1693.8181818181818, 745.4, 745.48, 601.3548387096774, 745.76, 642.9655172413793, 262.7887323943662, 746.92, 1436.5384615384614, 602.5806451612904, 117.08125, 407.3478260869565, 493.57894736842104, 937.95, 1250.8, 1563.9166666666667, 987.8421052631579, 2681.4285714285716, 751.0, 261.0138888888889, 1342.5714285714287, 723.0769230769231, 250.78666666666666, 409.17391304347825, 553.7352941176471, 1046.2222222222222, 495.7631578947368, 2093.4444444444443, 725.0384615384615, 785.75, 110.57309941520468, 900.5714285714286, 370.98039215686276, 212.73033707865167, 473.55, 789.3333333333334, 2368.125, 1457.3846153846155, 1263.2666666666667, 357.7358490566038, 164.05172413793105, 3172.0, 1057.388888888889, 442.7674418604651, 560.2352941176471, 381.0, 328.48275862068965, 1465.6153846153845, 635.2333333333333, 288.92424242424244, 1589.4166666666667, 2384.5, 465.4634146341463, 1590.5833333333333, 1468.6153846153845, 578.8484848484849, 707.6296296296297, 1737.090909090909, 682.5357142857143, 169.44247787610618, 456.0952380952381, 1915.8, 286.04477611940297, 2738.1428571428573, 871.5909090909091, 1128.1176470588234, 1066.111111111111, 1599.3333333333333, 1744.909090909091, 959.75, 1066.5, 564.8529411764706, 259.6216216216216, 873.5454545454545, 1478.4615384615386, 686.5, 506.0, 356.22222222222223, 712.5555555555555, 620.7096774193549, 687.3928571428571, 712.9629629629629, 418.5217391304348, 770.16, 740.7692307692307, 337.96491228070175, 1926.6, 401.5833333333333, 1482.923076923077, 253.73684210526315, 306.1904761904762, 536.0833333333334, 306.3492063492063, 311.35483870967744, 316.7704918032787, 1207.9375, 773.32, 302.234375, 716.5185185185185, 1290.0, 716.7037037037037, 1612.75, 483.9, 1018.9473684210526, 538.0555555555555, 523.5405405405405, 258.37333333333333, 312.7096774193548, 3231.5, 359.25925925925924, 1385.7857142857142, 746.3461538461538, 1212.9375, 485.3, 451.5813953488372, 273.5633802816901, 1387.5714285714287, 1079.3333333333333, 313.4032258064516, 1766.5454545454545, 607.625, 2160.5555555555557, 277.87142857142857, 423.30434782608694, 1498.076923076923, 1145.764705882353, 556.6, 295.25757575757575, 1392.2142857142858, 221.70454545454547, 1626.0, 2439.5, 348.55357142857144, 629.7096774193549, 229.83529411764707, 279.25714285714287, 1504.0, 391.1, 815.0, 275.59154929577466, 1223.0625, 1398.0714285714287, 1779.5454545454545, 1223.5625, 1957.8, 2175.5555555555557, 1087.888888888889, 1398.9285714285713, 1780.5454545454545, 1399.2857142857142, 816.625, 1152.9411764705883, 363.05555555555554, 1032.0, 980.5, 392.38, 754.6923076923077, 363.462962962963, 2181.0, 1090.7222222222222, 785.44, 456.69767441860466, 545.5555555555555, 225.9655172413793, 1310.8, 1229.0625, 595.939393939394, 345.1578947368421, 578.7647058823529, 2186.777777777778, 2186.8888888888887, 437.55555555555554, 532.4054054054054, 402.6938775510204, 290.27941176470586, 352.5892857142857, 1234.3125, 1234.4375, 3291.8333333333335, 1316.9333333333334, 411.6458333333333, 823.5, 429.7608695652174, 859.7826086956521, 1236.0, 3296.1666666666665, 319.14516129032256, 507.56410256410254, 2199.5555555555557, 638.741935483871, 792.12, 404.2448979591837, 900.5909090909091, 943.5714285714286, 1981.6, 309.734375, 268.1081081081081, 348.140350877193, 708.8214285714286, 287.768115942029, 1655.0833333333333, 827.625, 709.5357142857143, 189.4857142857143, 1105.5555555555557, 497.725, 796.4, 1810.090909090909, 905.1818181818181, 375.8301886792453, 1048.578947368421, 1328.5333333333333, 442.93333333333334, 3322.1666666666665, 797.36, 391.11764705882354, 1108.388888888889, 399.14, 1535.2307692307693, 1247.5, 831.8333333333334, 3993.0, 1331.1333333333334, 327.60655737704917, 327.8688524590164, 909.2272727272727, 800.2, 1667.1666666666667, 235.75294117647059, 514.025641025641, 1336.5333333333333, 2227.777777777778, 303.95454545454544, 323.7258064516129, 308.89230769230767, 1544.6153846153845, 393.94117647058823, 628.0, 669.9666666666667, 1182.3529411764705, 291.3623188405797, 3350.8333333333335, 913.9545454545455, 347.12068965517244, 309.7846153846154, 671.6, 694.9310344827586, 695.0689655172414, 197.83333333333334, 1552.4615384615386, 2242.777777777778, 673.0333333333333, 95.50943396226415, 241.20238095238096, 881.0, 2251.777777777778, 921.2727272727273, 277.75342465753425, 1689.8333333333333, 461.02272727272725, 5071.5, 350.0689655172414, 967.2857142857143, 483.76190476190476, 327.88709677419354, 1195.9411764705883, 275.06756756756755, 333.7704918032787, 1357.5333333333333, 304.2238805970149, 926.7727272727273, 497.390243902439, 1359.8, 618.2121212121212, 416.42857142857144, 2040.7, 416.59183673469386, 334.9016393442623, 498.5609756097561, 284.06944444444446, 475.72093023255815, 1136.5555555555557, 730.8928571428571, 1077.6315789473683, 445.4347826086956, 2561.5, 288.6619718309859, 1863.3636363636363, 1366.6666666666667, 3416.8333333333335, 284.90277777777777, 223.16304347826087, 301.94117647058823, 555.0540540540541, 1579.8461538461538, 708.2758620689655, 555.2702702702703, 419.3061224489796, 604.8823529411765, 571.5833333333334, 2572.25, 588.0, 588.4285714285714, 2059.6, 479.06976744186045, 895.8260869565217, 572.4444444444445, 2944.1428571428573, 557.1351351351351, 173.7563025210084, 235.04545454545453, 309.04477611940297, 414.2, 941.5909090909091, 2071.7, 328.92063492063494, 1090.7368421052631, 647.75, 280.2837837837838, 1728.5, 2593.125, 314.54545454545456, 334.93548387096774, 288.7083333333333, 594.0857142857143, 335.4193548387097, 507.3170731707317, 244.8, 832.44, 1224.4705882352941, 1735.0, 1892.909090909091, 1041.25, 484.4651162790698, 1736.1666666666667, 496.35714285714283, 2316.4444444444443, 906.695652173913, 1226.9411764705883, 906.9565217391304, 316.1212121212121, 4173.0, 316.24242424242425, 1490.9285714285713, 336.758064516129, 254.65853658536585, 2610.5, 321.4, 522.35, 1229.1764705882354, 2322.1111111111113, 402.21153846153845, 510.2926829268293, 445.27659574468083, 249.29761904761904, 255.70731707317074, 1164.9444444444443, 806.5, 1398.1333333333334, 2621.75, 323.04615384615386, 2333.3333333333335, 1235.5294117647059, 338.80645161290323, 636.7272727272727, 304.7391304347826, 412.4901960784314, 1001.9047619047619, 1912.8181818181818, 876.8333333333334, 2104.6, 751.8571428571429, 1108.157894736842, 1316.125, 554.2631578947369, 1003.2380952380952, 702.3333333333334, 780.5185185185185, 514.1951219512196, 468.64444444444445, 448.7659574468085, 917.2173913043479, 458.7608695652174, 727.8275862068965, 1172.888888888889, 491.06976744186045, 1407.8, 2346.4444444444443, 310.61764705882354, 315.32835820895525, 3018.285714285714, 728.8965517241379, 1174.5, 845.72, 556.5, 528.775, 556.8421052631579, 122.60115606936417, 385.7818181818182, 3031.285714285714, 291.013698630137, 850.24, 733.0344827586207, 3037.0, 452.51063829787233, 924.8260869565217, 545.5897435897435, 2660.0, 387.0, 560.1842105263158, 519.2926829268292, 2661.625, 591.5833333333334, 1014.2857142857143, 926.1739130434783, 3043.285714285714, 926.3913043478261, 1253.7058823529412, 1065.75, 666.21875, 3045.714285714286, 1421.6, 888.75, 646.4545454545455, 1015.9047619047619, 402.66037735849056, 1641.8461538461538, 3049.285714285714, 1186.0555555555557, 435.7551020408163, 1067.6, 1016.8571428571429, 485.59090909090907, 1780.6666666666667, 667.9375, 610.8285714285714, 314.45588235294116, 1782.25, 1782.4166666666667, 274.5, 278.38961038961037, 324.8333333333333, 1786.6666666666667, 1786.8333333333333, 1649.6153846153845, 1429.8, 1261.764705882353, 2383.5555555555557, 487.5681818181818, 564.6842105263158, 325.27272727272725, 894.6666666666666, 693.1290322580645, 346.83870967741933, 1654.3076923076924, 768.2142857142857, 694.1290322580645, 742.1724137931035, 615.1714285714286, 936.2173913043479, 978.8636363636364, 280.1168831168831, 770.5, 696.258064516129, 379.2456140350877, 2702.25, 1271.764705882353, 138.91666666666666, 942.4347826086956, 471.7173913043478, 368.0, 1973.909090909091, 638.6764705882352, 434.52, 2414.222222222222, 1278.3529411764705, 869.72, 472.8478260869565, 1450.6, 1450.6666666666667, 444.42857142857144, 1037.047619047619, 1037.3809523809523, 726.3666666666667, 681.03125, 1816.4166666666667, 641.5294117647059, 1558.2857142857142, 1983.4545454545455, 1148.5263157894738, 1984.1818181818182, 1455.2666666666667, 2728.75, 2183.3, 779.8928571428571, 397.1272727272727, 474.9347826086956, 1820.75, 683.0625, 428.6078431372549, 950.5652173913044, 397.56363636363636, 575.4736842105264, 683.46875, 875.0, 810.4074074074074, 683.9375, 1151.9473684210527, 299.93150684931504, 466.0, 1685.0, 1043.2380952380952, 1043.3333333333333, 2739.0, 1461.0, 562.3076923076923, 1687.076923076923, 645.1176470588235, 143.68627450980392, 1832.1666666666667, 814.5555555555555, 785.7142857142857, 916.9583333333334, 2201.1, 537.4878048780488, 293.93333333333334, 1102.4, 1297.0588235294117, 1002.4545454545455, 1470.5333333333333, 760.8620689655172, 401.2181818181818, 1576.357142857143, 1471.5333333333333, 552.05, 368.25, 1473.2666666666667, 320.6521739130435, 3688.0, 295.2266666666667, 922.8333333333334, 375.6101694915254, 633.2285714285714, 568.4615384615385, 471.8723404255319, 1584.2857142857142, 1848.4166666666667, 308.1111111111111, 426.78846153846155, 352.46031746031747, 1306.5294117647059, 528.8809523809524, 965.8260869565217, 300.22972972972974, 1709.1538461538462, 1587.357142857143, 1709.6153846153845, 2778.625, 1852.5833333333333, 966.6086956521739, 1170.3157894736842, 436.078431372549, 231.94791666666666, 1590.5714285714287, 768.0344827586207, 1484.9333333333334, 1012.6818181818181, 655.3823529411765, 696.46875, 405.3454545454546, 2229.6, 3185.285714285714, 1173.6315789473683, 446.02, 557.6, 1014.0, 1859.0833333333333, 1312.3529411764705, 413.537037037037, 744.6666666666666, 1015.8636363636364, 770.7931034482758, 677.4242424242424, 3726.1666666666665, 2794.875, 573.5641025641025, 932.125, 532.8095238095239, 1017.4545454545455, 263.4470588235294, 422.64150943396226, 700.1875, 1600.9285714285713, 1401.125, 773.3103448275862, 2038.909090909091, 345.32307692307694, 748.2333333333333, 374.1666666666667, 330.27941176470586, 547.8536585365854, 561.75, 1872.6666666666667, 899.08, 2809.75, 522.9302325581396, 511.15909090909093, 624.8888888888889, 346.3692307692308, 2814.625, 2815.25, 608.8378378378378, 1325.2941176470588, 1073.3809523809523, 1073.904761904762, 358.1587301587302, 268.76190476190476, 2508.5555555555557, 2257.8, 806.5, 1254.888888888889, 286.0506329113924, 904.08, 1507.2, 646.0285714285715, 1615.5, 753.9666666666667, 665.4705882352941, 707.21875, 1131.65, 404.44642857142856, 1132.75, 503.68888888888887, 1743.6923076923076, 647.7142857142857, 872.0769230769231, 329.15942028985506, 1622.642857142857, 1336.5294117647059, 688.7272727272727, 554.6585365853658, 148.9607843137255, 407.05357142857144, 2533.1111111111113, 1628.5, 877.0384615384615, 304.29333333333335, 1267.9444444444443, 2074.909090909091, 2853.25, 634.1111111111111, 557.2439024390244, 1269.5555555555557, 737.2903225806451, 586.1025641025641, 346.54545454545456, 994.5652173913044, 2541.8888888888887, 788.9655172413793, 544.7857142857143, 1430.1875, 3814.1666666666665, 1907.25, 1204.842105263158, 587.0512820512821, 509.1111111111111, 996.304347826087, 449.4313725490196, 636.75, 358.28125, 2866.375, 1349.1176470588234, 588.1794871794872, 395.6551724137931, 252.5934065934066, 1642.0, 1149.45, 741.7096774193549, 1437.1875, 1642.642857142857, 2299.8, 793.6551724137931, 2092.4545454545455, 371.30645161290323, 1535.0, 2093.3636363636365, 3289.714285714286, 338.6764705882353, 324.50704225352115, 1152.3, 1280.4444444444443, 480.375, 562.5121951219512, 1048.3636363636363, 549.2380952380952, 1281.611111111111, 1098.6190476190477, 2307.4, 824.2142857142857, 796.1379310344828, 334.7536231884058, 427.8703703703704, 660.2, 2567.5555555555557, 391.76271186440675, 1216.6842105263158, 1156.05, 624.9459459459459, 1927.0, 1542.0666666666666, 316.958904109589, 771.4666666666667, 1102.142857142857, 367.53968253968253, 965.0416666666666, 702.0, 926.72, 393.03389830508473, 356.9230769230769, 346.4029850746269, 2110.0, 346.55223880597015, 1009.7391304347826, 1548.5333333333333, 387.3666666666667, 1056.5, 611.7894736842105, 1056.8181818181818, 1367.8235294117646, 3322.0, 1224.157894736842, 4652.0, 1292.3333333333333, 1163.2, 1057.6363636363637, 541.3720930232558, 1790.923076923077, 582.125, 1109.047619047619, 665.6857142857143, 629.8918918918919, 2119.0, 2331.1, 1793.2307692307693, 342.9264705882353, 1665.7142857142858, 486.2083333333333, 583.55, 3334.714285714286, 2593.8888888888887, 417.05357142857144, 1374.0588235294117, 440.8679245283019, 1016.2173913043479, 2337.5, 2125.090909090909, 1169.0, 1016.695652173913, 935.64, 1017.1739130434783, 1299.9444444444443, 2600.0, 390.1, 365.8125, 688.7058823529412, 867.3333333333334, 1018.2173913043479, 1377.8235294117646, 2129.4545454545455, 532.5, 1301.7777777777778, 1233.3684210526317, 339.81159420289856, 426.3636363636364, 1234.4736842105262, 1563.8666666666666, 1303.388888888889, 756.9677419354839, 652.0833333333334, 1304.2777777777778, 782.6666666666666, 903.5, 635.4324324324324, 871.1111111111111, 560.1904761904761, 153.06493506493507, 2357.4, 873.1851851851852, 3368.1428571428573, 2947.25, 3368.4285714285716, 842.1428571428571, 1965.1666666666667, 1025.4782608695652, 907.2692307692307, 1387.8235294117646, 160.99319727891157, 319.9054054054054, 3382.4285714285716, 282.2857142857143, 388.78688524590166, 1031.2173913043478, 1078.5454545454545, 416.5263157894737, 1696.0714285714287, 1979.0, 989.7083333333334, 819.448275862069, 742.65625, 247.89583333333334, 820.7931034482758, 580.9512195121952, 2382.0, 821.6551724137931, 1401.8235294117646, 214.92792792792793, 723.030303030303, 251.65263157894736, 460.11538461538464, 1329.4444444444443, 498.6666666666667, 704.1176470588235, 855.1071428571429, 380.12698412698415, 3991.5, 1330.6666666666667, 1497.3125, 748.8125, 1089.3181818181818, 134.91011235955057, 1044.4347826086957, 400.48333333333335, 961.2, 1201.8, 572.4761904761905, 145.19277108433735, 1147.7619047619048, 1607.0666666666666, 1506.8125, 423.2631578947368, 502.75, 383.42857142857144, 340.36619718309856, 1007.2083333333334, 732.939393939394, 549.8636363636364, 1512.1875, 2688.4444444444443, 2199.7272727272725, 361.3731343283582, 526.5, 417.63793103448273, 166.1986301369863, 485.5, 323.93333333333334, 2429.5, 441.8181818181818, 528.3695652173913, 639.7105263157895, 972.44, 1621.1333333333334, 540.4, 565.6046511627907, 1158.2857142857142, 1871.4615384615386, 593.439024390244, 1158.952380952381, 450.8333333333333, 487.1, 594.2439024390244, 3480.714285714286, 338.5416666666667, 214.12280701754386, 443.92727272727274, 904.4444444444445, 542.9111111111112, 469.84615384615387, 375.96923076923076, 294.5421686746988, 568.7906976744187, 698.8857142857142, 627.3589743589744, 1223.4, 1631.4, 1631.6, 2447.5, 275.4269662921348, 817.2333333333333, 1751.4285714285713, 1886.3076923076924, 1635.0, 1290.9473684210527, 1752.2142857142858, 463.0943396226415, 1227.35, 454.6111111111111, 491.08, 877.0714285714286, 3508.4285714285716, 792.483870967742, 599.829268292683, 546.6666666666666, 1537.625, 1537.8125, 523.6808510638298, 1070.2608695652175, 482.8235294117647, 417.8305084745763, 795.258064516129, 140.38636363636363, 561.7045454545455, 588.5952380952381, 915.7407407407408, 343.5138888888889, 449.8181818181818, 419.59322033898303, 750.3636363636364, 619.25, 604.2439024390244, 505.7551020408163, 708.2857142857143, 854.9655172413793, 1458.8823529411766, 1908.3076923076924, 855.6551724137931, 2481.7, 1306.421052631579, 605.609756097561, 955.5769230769231, 327.14473684210526, 2260.4545454545455, 691.0833333333334, 1081.7826086956522, 607.1219512195122, 395.25396825396825, 1082.7826086956522, 529.9148936170212, 858.9310344827586, 383.3692307692308, 323.85714285714283, 4987.6, 332.5733333333333, 656.4473684210526, 1247.45, 1386.1666666666667, 372.56716417910445, 860.8275862068965, 1560.375, 805.4516129032259, 1664.8, 2081.1666666666665, 1248.95, 1469.4705882352941, 960.9230769230769, 657.578947368421, 581.2790697674419, 675.6216216216217, 1190.6190476190477, 431.2068965517241, 275.0989010989011, 1565.125, 431.82758620689657, 759.1212121212121, 556.8666666666667, 285.125, 492.05882352941177, 358.65714285714284, 1004.52, 1674.4, 697.8611111111111, 310.28395061728395, 1322.9473684210527, 571.4318181818181, 1005.84, 2286.181818181818, 2095.75, 1676.8, 1257.75, 629.2, 1678.1333333333334, 740.4117647058823, 412.7704918032787, 1094.8260869565217, 1798.7857142857142, 427.10169491525426, 466.7962962962963, 586.4418604651163, 900.9285714285714, 1201.3809523809523, 1802.2857142857142, 1577.3125, 2524.0, 934.9629629629629, 1402.611111111111, 1262.5, 971.2307692307693, 1942.8461538461538, 287.1931818181818, 574.5454545454545, 549.7173913043479, 2809.8888888888887, 351.31944444444446, 389.4, 1101.0, 506.66, 1490.2941176470588, 938.4444444444445, 469.6111111111111, 390.2307692307692, 1585.4375, 384.42424242424244, 1335.421052631579, 906.3214285714286, 1812.857142857143, 1057.9166666666667, 604.6666666666666, 1270.05, 819.4193548387096, 793.84375, 403.2857142857143, 591.0930232558139, 1815.7142857142858, 1495.5882352941176, 1155.8181818181818, 282.81111111111113, 431.5593220338983, 3637.714285714286, 727.6285714285714, 398.078125, 369.5652173913044, 1020.16, 728.8, 1500.6470588235295, 637.9, 1276.3, 880.3793103448276, 5106.4, 1595.875, 425.73333333333335, 2838.4444444444443, 1277.45, 501.0980392156863, 3194.625, 491.53846153846155, 1161.9545454545455, 799.0, 556.0, 1346.157894736842, 350.4931506849315, 568.8222222222222, 1023.92, 312.5121951219512, 949.1481481481482, 985.7692307692307, 1708.9333333333334, 2563.5, 1221.0, 420.44262295081967, 377.30882352941177, 1710.5333333333333, 1832.7857142857142, 1603.8125, 1710.8666666666666, 987.1153846153846, 2138.9166666666665, 916.7857142857143, 1711.4666666666667, 917.1428571428571, 535.1041666666666, 1427.0555555555557, 1284.5, 1605.6875, 377.8970588235294, 694.8918918918919, 612.3095238095239, 384.0, 459.5, 2573.5, 804.375, 858.0666666666667, 1838.9285714285713, 1839.357142857143, 2861.4444444444443, 5150.8, 422.3606557377049, 1515.764705882353, 954.5185185185185, 1227.3333333333333, 2863.8888888888887, 1718.6666666666667, 805.75, 859.7333333333333, 2149.4166666666665, 452.5964912280702, 2150.0833333333335, 1228.6190476190477, 477.962962962963, 1985.5384615384614, 304.0352941176471, 833.741935483871, 497.11538461538464, 923.2857142857143, 957.6296296296297, 1293.05, 1231.6190476190477, 1989.8461538461538, 958.1851851851852, 349.68918918918916, 699.5945945945946, 1438.2222222222222, 761.5588235294117, 563.0434782608696, 959.4814814814815, 1992.8461538461538, 835.8064516129032, 424.78688524590166, 1993.4615384615386, 479.94444444444446, 1524.764705882353, 432.0833333333333, 345.76, 418.4193548387097, 564.1739130434783, 895.1034482758621, 519.28, 418.88709677419354, 1082.7083333333333, 928.1071428571429, 838.483870967742, 388.0, 412.77777777777777, 400.15384615384613, 1238.7142857142858, 157.01807228915663, 407.328125, 2896.6666666666665, 330.1392405063291, 1372.7894736842106, 307.1764705882353, 1450.611111111111, 791.3636363636364, 2611.6, 870.5666666666667, 706.1351351351351, 1537.235294117647, 344.05263157894734, 2179.25, 353.5135135135135, 1090.375, 654.35, 934.8571428571429, 688.9736842105264, 793.5757575757576, 344.7236842105263, 1637.5625, 1637.8125, 655.175, 3744.0, 2016.076923076923, 1008.1538461538462, 873.9333333333333, 504.2692307692308, 728.4166666666666, 1380.421052631579, 410.078125, 2386.0, 1381.4736842105262, 1640.5625, 354.7837837837838, 404.12307692307695, 847.5806451612904, 505.34615384615387, 1011.0384615384615, 375.65714285714284, 1643.6875, 1461.388888888889, 939.7142857142857, 730.9722222222222, 3289.5, 974.7777777777778, 365.68055555555554, 496.8679245283019, 1013.1538461538462, 2634.4, 351.44, 1757.2666666666667, 2027.923076923077, 1146.3478260869565, 1648.0, 1014.3846153846154, 211.288, 367.06944444444446, 472.1607142857143, 615.0697674418604, 529.02, 383.4347826086956, 407.12307692307695, 2406.0, 519.1764705882352, 1203.6818181818182, 646.0, 1204.0454545454545, 630.9285714285714, 4416.833333333333, 576.1521739130435, 1656.75, 373.46478873239437, 368.44444444444446, 914.8620689655172, 1263.4761904761904, 1769.1333333333334, 2412.818181818182, 363.6575342465753, 1264.7142857142858, 1770.8666666666666, 948.7857142857143, 618.1395348837209, 916.6896551724138, 428.80645161290323, 422.14285714285717, 1266.8095238095239, 1330.2, 633.547619047619, 1478.388888888889, 374.98591549295776, 2218.75, 436.6393442622951, 2421.5454545454545, 1567.1764705882354, 740.0833333333334, 1211.090909090909, 740.1666666666666, 619.7906976744187, 1402.842105263158, 386.40579710144925, 451.9491525423729, 919.7241379310345, 523.0588235294117, 360.77027027027026, 387.05797101449275, 392.97058823529414, 1572.2941176470588, 3341.5, 786.3529411764706, 742.9722222222222, 1163.0, 322.4578313253012, 469.6842105263158, 582.1304347826087, 1785.5333333333333, 864.0322580645161, 478.42857142857144, 2977.1111111111113, 446.7, 609.2954545454545, 505.9056603773585, 1411.5263157894738, 547.4285714285714, 865.483870967742, 1166.6521739130435, 470.96491228070175, 994.4814814814815, 2441.181818181818, 1032.9615384615386, 548.204081632653, 401.02985074626866, 1221.3636363636363, 1343.9, 401.3134328358209, 2240.9166666666665, 1344.65, 548.8775510204082, 2445.2727272727275, 517.7307692307693, 345.37179487179486, 309.6896551724138, 2694.5, 1585.4117647058824, 2073.3846153846152, 2450.6363636363635, 201.49253731343285, 465.94827586206895, 1589.8235294117646, 1001.5185185185185, 2458.4545454545455, 1040.5, 615.0227272727273, 1592.0, 483.5357142857143, 1003.1111111111111, 2257.1666666666665, 967.3928571428571, 492.7090909090909, 752.8055555555555, 934.6896551724138, 1506.2222222222222, 531.7647058823529, 3874.5714285714284, 2086.6923076923076, 733.6756756756756, 405.34328358208955, 905.5333333333333, 566.1458333333334, 823.5757575757576, 274.7676767676768, 2092.6153846153848, 777.4857142857143, 3023.6666666666665, 544.36, 1088.8, 383.5492957746479, 1361.7, 556.0612244897959, 1603.235294117647, 851.9375, 826.1515151515151, 432.8888888888889, 1185.9130434782608, 1136.625, 1364.15, 496.25454545454545, 1186.7391304347825, 379.44444444444446, 1707.5625, 1438.1052631578948, 569.4791666666666, 1242.7272727272727, 1051.6923076923076, 2279.1666666666665, 1823.4, 607.8888888888889, 829.0909090909091, 427.640625, 684.35, 1190.2608695652175, 3042.0, 944.2068965517242, 720.6842105263158, 1441.578947368421, 380.7916666666667, 1828.0, 2742.1, 1613.0588235294117, 2109.5384615384614, 1306.2380952380952, 1371.85, 3429.75, 946.4827586206897, 422.44615384615383, 762.9444444444445, 1248.5454545454545, 886.1612903225806, 1446.0, 785.2571428571429, 2499.0, 2114.6923076923076, 1617.7058823529412, 1527.9444444444443, 585.6170212765958, 688.2, 2502.7272727272725, 706.0769230769231, 625.8863636363636, 5508.2, 573.9375, 1252.3636363636363, 562.6326530612245, 344.925, 541.1764705882352, 1971.5, 438.26984126984127, 627.5909090909091, 1104.76, 986.5, 412.32835820895525, 1201.4782608695652, 329.2738095238095, 1152.6666666666667, 838.3939393939394, 864.90625, 2129.153846153846, 728.578947368421, 390.11267605633805, 1108.12, 1630.0588235294117, 1204.8695652173913, 3464.25, 513.5185185185185, 1066.6923076923076, 770.6111111111111, 990.8571428571429, 1321.1904761904761, 645.3488372093024, 1206.695652173913, 2135.0, 1067.576923076923, 1387.95, 1028.4074074074074, 661.1666666666666, 1157.2916666666667, 2136.6923076923076, 957.8965517241379, 1852.1333333333334, 646.2093023255813, 842.0909090909091, 868.65625, 1737.4375, 1635.3529411764705, 496.51785714285717, 479.6896551724138, 1854.9333333333334, 391.92957746478874, 927.7333333333333, 456.4590163934426, 795.6857142857143, 994.8214285714286, 580.4375, 422.25757575757575, 1071.923076923077, 1639.4705882352941, 995.6428571428571, 995.7857142857143, 1032.888888888889, 3984.0, 734.2105263157895, 297.20212765957444, 635.0, 362.987012987013, 417.4925373134328, 368.11842105263156, 451.2903225806452, 571.2448979591836, 430.96923076923076, 474.91525423728814, 2001.5714285714287, 4003.4285714285716, 394.8732394366197, 2803.8, 596.6808510638298, 2549.6363636363635, 684.1463414634146, 1335.952380952381, 684.3170731707318, 738.3684210526316, 684.560975609756, 1871.4, 431.9230769230769, 779.9444444444445, 425.57575757575756, 780.3333333333334, 1873.0, 2161.5384615384614, 5620.2, 2007.357142857143, 759.7837837837837, 1561.9444444444443, 375.1066666666667, 1042.0740740740741, 598.7234042553191, 721.6666666666666, 1655.764705882353, 1172.9583333333333, 2010.9285714285713, 586.8125, 402.5571428571429, 1878.6666666666667, 655.5348837209302, 2562.6363636363635, 4698.666666666667, 704.95, 742.2105263157895, 2014.7142857142858, 829.9705882352941, 542.7115384615385, 352.9, 855.7272727272727, 1228.0, 1765.5625, 2018.0714285714287, 367.0, 1228.8260869565217, 974.7586206896551, 3141.1111111111113, 1285.0454545454545, 565.46, 533.6037735849056, 1087.8461538461538, 1178.625, 1768.1875, 479.59322033898303, 725.6923076923077, 1887.0666666666666, 1011.3571428571429, 1011.5714285714286, 1231.6521739130435, 1011.8571428571429, 1416.65, 833.5, 545.0384615384615, 1180.9583333333333, 423.13432835820896, 393.97222222222223, 1182.2083333333333, 2579.5454545454545, 457.88709677419354, 946.4333333333333, 709.875, 437.0153846153846, 676.5, 1578.5555555555557, 481.64406779661016, 916.7096774193549, 835.9705882352941, 2030.5714285714287, 2369.25, 309.19565217391306, 1497.3684210526317, 1138.16, 351.5308641975309, 1186.8333333333333, 1017.5, 1055.4444444444443, 4071.1428571428573, 1676.4705882352941, 2591.090909090909, 1500.3157894736842, 663.0232558139535, 375.2631578947368, 920.2258064516129, 1358.6666666666667, 2853.3, 2194.923076923077, 620.5652173913044, 500.9298245614035, 1057.6296296296296, 408.4714285714286, 733.3333333333334, 1243.6521739130435, 2200.5384615384614, 3178.6666666666665, 502.0701754385965, 986.8965517241379, 4088.714285714286, 321.7752808988764, 666.3720930232558, 178.29813664596273, 4101.0, 470.72131147540983, 478.78333333333336, 449.0, 495.5, 293.35714285714283, 1796.875, 1916.8666666666666, 1106.076923076923, 532.7037037037037, 653.9318181818181, 1370.2857142857142, 757.578947368421, 587.6938775510204, 599.9583333333334, 472.1311475409836, 1309.2272727272727, 613.2553191489362, 1029.4285714285713, 930.2903225806451, 1201.875, 577.04, 343.8809523809524, 931.9032258064516, 781.0540540540541, 507.12280701754383, 1314.3181818181818, 361.4875, 2892.1, 344.5952380952381, 782.4324324324324, 1158.12, 474.75409836065575, 546.4528301886793, 1609.2777777777778, 724.3, 1379.8095238095239, 1379.904761904762, 517.5178571428571, 1525.5263157894738, 1035.2857142857142, 1380.5714285714287, 1115.2307692307693, 828.8571428571429, 617.5531914893617, 744.3333333333334, 440.1363636363636, 3631.5, 528.3090909090909, 2075.714285714286, 1614.7222222222222, 676.0930232558139, 2643.3636363636365, 409.6619718309859, 1817.9375, 646.5777777777778, 1711.6470588235295, 519.8214285714286, 529.3272727272728, 766.2631578947369, 1941.5333333333333, 1713.1764705882354, 1004.4827586206897, 194.52666666666667, 972.7666666666667, 583.92, 695.1904761904761, 2085.714285714286, 2433.5, 608.5833333333334, 1538.0, 479.26229508196724, 423.94202898550725, 2437.75, 2089.714285714286, 713.780487804878, 1045.25, 573.9411764705883, 1219.875, 622.9787234042553, 1171.36, 1331.3181818181818, 1220.625, 532.8, 888.1212121212121, 2093.5, 1395.857142857143, 4187.714285714285, 1628.7222222222222, 2443.1666666666665, 2443.25, 4188.857142857143, 888.7575757575758, 357.9146341463415, 444.7121212121212, 1276.2608695652175, 1087.2962962962963, 1398.047619047619, 1174.4, 345.6941176470588, 1836.75, 275.0934579439252, 1132.2307692307693, 1635.7222222222222, 398.02702702702703, 516.9649122807018, 640.6521739130435, 526.3214285714286, 467.92063492063494, 842.3714285714286, 3276.0, 589.78, 347.1764705882353, 578.8039215686274, 1054.357142857143, 4920.833333333333, 1283.7826086956522, 703.1904761904761, 895.1515151515151, 1181.68, 2272.5384615384614, 1477.35, 757.7948717948718, 2463.0, 2111.214285714286, 869.7058823529412, 1971.4666666666667, 1019.9655172413793, 688.046511627907, 493.18333333333334, 2690.2727272727275, 2113.8571428571427, 1345.2272727272727, 3288.4444444444443, 1345.5454545454545, 1287.1739130434783, 2691.6363636363635, 231.625, 780.2894736842105, 1348.0, 689.953488372093, 802.0540540540541, 1746.0, 1855.375, 357.7590361445783, 471.4920634920635, 1024.448275862069, 479.38709677419354, 4953.833333333333, 594.52, 594.68, 1292.8695652173913, 1239.125, 3717.5, 1983.0, 691.9302325581396, 676.6363636363636, 334.80898876404495, 532.1428571428571, 693.0697674418604, 3311.5555555555557, 745.35, 402.9189189189189, 542.2545454545455, 1420.3809523809523, 1065.4285714285713, 635.1276595744681, 1243.875, 878.2058823529412, 878.4411764705883, 414.9583333333333, 996.1666666666666, 506.6271186440678, 564.3396226415094, 2136.714285714286, 650.4130434782609, 348.1511627906977, 680.5454545454545, 3743.25, 1871.8125, 2304.0, 587.4705882352941, 2304.923076923077, 1303.0869565217392, 599.6, 967.4193548387096, 1034.344827586207, 2307.5384615384614, 769.2820512820513, 5000.5, 400.0933333333333, 2143.5714285714284, 2728.3636363636365, 389.8831168831169, 1251.0, 2502.1666666666665, 1305.608695652174, 517.8448275862069, 1430.4761904761904, 858.4285714285714, 3004.6, 1251.9583333333333, 477.12698412698415, 2147.285714285714, 518.5172413793103, 556.9629629629629, 2313.769230769231, 1583.2105263157894, 401.32, 501.65, 2006.7333333333333, 1881.375, 456.1666666666667, 1771.4705882352941, 502.05, 3765.625, 971.8387096774194, 418.5416666666667, 717.6904761904761, 2009.6, 1205.84, 5024.5, 2009.9333333333334, 437.05797101449275, 701.6046511627907, 3771.25, 1207.04, 1437.095238095238, 1117.962962962963, 3018.7, 262.9304347826087, 570.6415094339623, 3360.8888888888887, 1163.4615384615386, 1890.75, 775.8461538461538, 657.8913043478261, 1441.142857142857, 5044.166666666667, 1316.1304347826087, 488.43548387096774, 757.2, 797.2894736842105, 561.2037037037037, 918.4848484848485, 433.2, 341.0, 979.0967741935484, 326.494623655914, 979.516129032258, 2760.6363636363635, 1084.9642857142858, 2761.818181818182, 4340.285714285715, 759.65, 690.7045454545455, 821.4594594594595, 3377.222222222222, 1048.2068965517242, 3800.125, 633.4583333333334, 4343.857142857143, 498.59016393442624, 822.027027027027, 1169.8461538461538, 1322.5652173913043, 608.56, 3381.0, 2340.923076923077, 380.7125, 1692.1666666666667, 1171.6538461538462, 491.66129032258067, 692.8863636363636, 448.52941176470586, 953.40625, 2347.076923076923, 726.5952380952381, 1453.2380952380952, 924.8787878787879, 181.97619047619048, 1609.2105263157894, 1019.3, 1911.3125, 5097.0, 1274.5, 1799.3529411764705, 849.7777777777778, 577.3584905660377, 827.1351351351351, 2040.5333333333333, 637.6875, 6122.0, 3826.375, 163.10106382978722, 2555.4166666666665, 1022.2666666666667, 5111.5, 4381.571428571428, 528.948275862069, 2789.181818181818, 409.17333333333335, 1918.1875, 403.9868421052632, 829.9459459459459, 930.6666666666666, 487.7936507936508, 4390.428571428572, 1920.9375, 2364.4615384615386, 830.8648648648649, 2795.090909090909, 1060.4137931034484, 203.98013245033113, 751.3170731707318, 2369.846153846154, 994.0, 160.77083333333334, 238.01538461538462, 1345.5652173913043, 3094.9, 3439.0, 938.3030303030303, 3440.8888888888887, 1821.9411764705883, 632.469387755102, 469.6666666666667, 2066.5333333333333, 1476.1904761904761, 885.8857142857142, 596.7307692307693, 1633.421052631579, 392.9746835443038, 913.2941176470588, 970.625, 383.6296296296296, 444.3142857142857, 818.578947368421, 1352.4782608695652, 1072.7586206896551, 409.5263157894737, 510.4590163934426, 4448.428571428572, 1112.2857142857142, 599.0384615384615, 759.8536585365854, 494.55555555555554, 916.5, 865.6388888888889, 1074.6206896551723, 760.2682926829268, 2226.6428571428573, 1113.5357142857142, 557.0535714285714, 1356.5652173913043, 742.9285714285714, 1248.36, 1357.1739130434783, 547.7894736842105, 529.3559322033898, 1837.3529411764705, 1249.72, 1562.45, 548.5263157894736, 868.6944444444445, 695.2444444444444, 695.3777777777777, 1043.2333333333333, 5216.333333333333, 401.46153846153845, 979.15625, 3133.6, 639.9387755102041, 201.33333333333334, 1122.142857142857, 1256.92, 805.8717948717949, 785.85, 714.5227272727273, 449.27142857142854, 3931.25, 2096.866666666667, 616.7450980392157, 629.14, 731.7209302325581, 1430.3181818181818, 3933.5, 1498.6666666666667, 2861.3636363636365, 807.2564102564103, 507.83870967741933, 1369.1304347826087, 499.9047619047619, 875.0, 768.3658536585366, 1969.0625, 2625.6666666666665, 1969.5625, 1050.7666666666667, 1433.090909090909, 2866.2727272727275, 985.5625, 1577.0, 1433.7272727272727, 2102.9333333333334, 1752.611111111111, 1502.904761904762, 1213.923076923077, 770.0, 2631.1666666666665, 415.67105263157896, 376.4047619047619, 1581.15, 988.34375, 596.8490566037735, 1581.7, 2636.4166666666665, 1020.6774193548387, 2636.8333333333335, 1665.578947368421, 411.3246753246753, 2879.7272727272725, 905.2285714285714, 688.9130434782609, 2881.181818181818, 6338.8, 834.1578947368421, 587.0555555555555, 704.5555555555555, 755.1428571428571, 196.09876543209876, 1672.1052631578948, 2888.3636363636365, 1025.1290322580646, 567.625, 706.5777777777778, 1382.5217391304348, 589.0370370370371, 795.25, 1988.1875, 1097.1379310344828, 936.0, 816.5641025641025, 568.7678571428571, 860.9459459459459, 650.1632653061224, 1448.2272727272727, 514.016129032258, 3983.75, 910.6285714285714, 3984.125, 861.7297297297297, 724.75, 2453.3076923076924, 3986.75, 1386.8695652173913, 997.0625, 1181.851851851852, 343.23655913978496, 2660.1666666666665, 2280.4285714285716, 1277.2, 431.56756756756755, 1030.3225806451612, 591.5370370370371, 939.5294117647059, 3549.6666666666665, 2282.214285714286, 2130.4, 3551.0, 1598.15, 913.3142857142857, 3551.8888888888887, 291.03636363636366, 1143.5714285714287, 1685.4736842105262, 1232.076923076923, 572.0892857142857, 562.1578947368421, 1105.0344827586207, 641.0, 1335.5833333333333, 1885.7058823529412, 400.875, 1187.888888888889, 572.8214285714286, 553.2931034482758, 1459.0, 1234.6153846153845, 1888.5294117647059, 6421.2, 1605.4, 1690.0, 465.4927536231884, 1189.7407407407406, 1529.7619047619048, 1070.9333333333334, 2008.0625, 1285.56, 974.0, 2142.9333333333334, 275.0940170940171, 1532.857142857143, 564.7894736842105, 447.2638888888889, 1238.8076923076924, 565.1578947368421, 350.4021739130435, 701.0, 546.8983050847457, 645.62, 1345.125, 1041.4516129032259, 3587.4444444444443, 922.6285714285714, 4613.285714285715, 897.1388888888889, 807.5, 1700.0526315789473, 1794.6666666666667, 1404.695652173913, 923.2, 850.421052631579, 2308.4285714285716, 1795.611111111111, 924.0285714285715, 1617.15, 1540.4285714285713, 299.9259259259259, 514.6349206349206, 470.1159420289855, 477.2352941176471, 676.25, 1475.5454545454545, 676.4166666666666, 854.5526315789474, 3247.5, 1299.12, 1476.6363636363637, 451.4166666666667, 677.4583333333334, 1300.8, 2501.6923076923076, 471.5072463768116, 2324.0, 986.060606060606, 1205.2222222222222, 1122.3103448275863, 2169.866666666667, 1808.2777777777778, 439.9864864864865, 1628.5, 1123.2758620689656, 3257.7, 2961.818181818182, 2327.285714285714, 1123.5862068965516, 1715.2105263157894, 592.5636363636364, 1917.4117647058824, 501.67692307692306, 2508.4615384615386, 501.9076923076923, 741.5681818181819, 836.8205128205128, 2176.3333333333335, 1813.6666666666667, 2967.909090909091, 535.360655737705, 1306.32, 666.734693877551, 5445.333333333333, 473.57971014492756, 1361.6666666666667, 726.3111111111111, 1021.59375, 545.0, 1721.157894736842, 778.8333333333334, 1128.0689655172414, 711.2391304347826, 2726.6666666666665, 1924.9411764705883, 861.2105263157895, 839.5897435897435, 4677.857142857143, 1637.5, 885.2432432432432, 2729.5833333333335, 1819.7777777777778, 3639.8888888888887, 1724.2631578947369, 215.86184210526315, 2524.230769230769, 1131.8275862068965, 2345.0, 1059.3870967741937, 864.5, 912.7222222222222, 644.4705882352941, 1095.6333333333334, 4695.714285714285, 1494.2727272727273, 865.1842105263158, 685.0208333333334, 490.92537313432837, 1566.3333333333333, 2349.785714285714, 967.6470588235294, 2193.4666666666667, 1316.36, 1936.0, 514.328125, 2351.5, 1317.12, 4116.0, 1029.1875, 1219.851851851852, 823.55, 2745.6666666666665, 610.2592592592592, 417.1898734177215, 969.5588235294117, 1221.0, 1319.16, 785.3809523809524, 532.1774193548387, 687.6875, 194.4764705882353, 1140.4137931034484, 2205.0666666666666, 315.4, 1505.409090909091, 2547.846153846154, 3011.3636363636365, 1380.375, 1183.25, 1949.0, 705.2127659574468, 736.5777777777778, 467.0281690140845, 2072.625, 1184.75, 1579.8095238095239, 1005.4242424242424, 603.3818181818182, 2552.923076923077, 1229.2592592592594, 1276.6538461538462, 400.06024096385545, 810.0243902439024, 1107.2666666666667, 1038.125, 1277.7692307692307, 1329.08, 1846.111111111111, 651.9607843137255, 950.0857142857143, 5542.5, 1039.40625, 1039.65625, 1584.3809523809523, 1073.3870967741937, 594.4821428571429, 899.9459459459459, 1110.0333333333333, 1850.2222222222222, 2378.9285714285716, 594.7678571428571, 640.6153846153846, 1388.1666666666667, 528.968253968254, 1234.6296296296296, 1234.6666666666667, 1010.3939393939394, 1042.0625, 1667.4, 521.109375, 901.6756756756756, 444.93333333333334, 476.77142857142854, 776.2558139534884, 681.2448979591836, 834.75, 1113.5, 195.64912280701753, 1239.2592592592594, 1195.357142857143, 2231.6, 2789.5833333333335, 587.3859649122807, 712.4468085106383, 656.6666666666666, 364.2282608695652, 532.0793650793651, 4788.857142857143, 1197.357142857143, 1197.642857142857, 882.6842105263158, 541.0645161290323, 2795.75, 1397.9583333333333, 633.0943396226415, 1082.8387096774193, 1291.2692307692307, 201.34730538922156, 1462.2608695652175, 2402.9285714285716, 3738.1111111111113, 909.4594594594595, 1402.25, 2103.75, 1160.9310344827586, 1530.590909090909, 1772.3157894736842, 2806.5, 1464.391304347826, 2245.5333333333333, 1347.6, 1295.8846153846155, 4813.571428571428, 552.4590163934427, 748.9555555555555, 455.8243243243243, 648.7884615384615, 1874.8333333333333, 312.962962962963, 512.3636363636364, 719.5744680851063, 2415.8571428571427, 2113.9375, 704.7291666666666, 1353.2, 1691.65, 1538.0, 1253.2962962962963, 1781.578947368421, 1471.9130434782608, 594.0350877192982, 1410.9583333333333, 217.4102564102564, 1884.3333333333333, 721.7659574468086, 2261.6, 458.68918918918916, 2424.6428571428573, 330.06796116504853, 419.8024691358025, 586.3620689655172, 1619.6190476190477, 694.1836734693877, 945.0555555555555, 3780.4444444444443, 447.9868421052632, 681.02, 1621.5714285714287, 2837.9166666666665, 873.2564102564103, 2270.6, 792.3023255813954, 1261.962962962963, 921.027027027027, 8519.75, 792.8837209302326, 2005.7058823529412, 533.078125, 1706.1, 775.6136363636364, 793.8372093023256, 4267.0, 832.7317073170732, 1897.0555555555557, 560.3770491803278, 1627.904761904762, 1102.9032258064517, 432.9240506329114, 1103.3548387096773, 727.8297872340426, 855.325, 438.96153846153845, 1317.076923076923, 978.4285714285714, 1556.7727272727273, 413.06024096385545, 2449.0, 1804.578947368421, 1558.6363636363637, 1319.1923076923076, 1270.4444444444443, 1009.2058823529412, 1040.030303030303, 1320.2692307692307, 179.15625, 955.6666666666666, 4915.142857142857, 521.4848484848485, 1639.1904761904761, 414.89156626506025, 5739.5, 1497.4347826086957, 555.9677419354839, 2298.266666666667, 3134.181818181818, 1231.5357142857142, 1189.2413793103449, 3449.0, 1077.9375, 466.2432432432432, 1380.24, 3137.181818181818, 932.918918918919, 5753.166666666667, 3452.0, 1327.8461538461538, 1328.423076923077, 1114.258064516129, 247.05, 1152.9666666666667, 1441.25, 412.10714285714283, 577.1333333333333, 509.3529411764706, 912.1578947368421, 550.2380952380952, 770.5555555555555, 1118.7096774193549, 1020.1764705882352, 510.29411764705884, 3154.7272727272725, 619.7678571428571, 1119.7096774193549, 1577.909090909091, 1335.423076923077, 271.5859375, 2172.75, 483.02777777777777, 3864.3333333333335, 1512.304347826087, 504.18840579710144, 561.2258064516129, 682.5490196078431, 198.0681818181818, 757.9565217391304, 581.2833333333333, 591.3389830508474, 2683.846153846154, 1342.0384615384614, 1203.4137931034484, 1939.0, 4362.875, 2053.4117647058824, 1662.5714285714287, 1091.40625, 944.1081081081081, 1746.65, 6987.0, 1293.962962962963, 2495.5714285714284, 454.012987012987, 1589.3181818181818, 1344.923076923077, 521.955223880597, 3497.3, 2498.285714285714, 2057.764705882353, 672.7692307692307, 3887.222222222222, 346.81188118811883, 814.7209302325581, 1297.7037037037037, 947.1891891891892, 1168.2333333333333, 1460.4166666666667, 1130.9032258064517, 2191.375, 815.5348837209302, 1002.0857142857143, 1253.0357142857142, 1299.7037037037037, 1671.3333333333333, 297.73728813559325, 976.1111111111111, 1673.3809523809523, 3514.2, 456.54545454545456, 2929.5833333333335, 1406.52, 1352.4615384615386, 1465.3333333333333, 1004.9142857142857, 926.0, 1407.56, 718.265306122449, 1955.4444444444443, 1353.8846153846155, 374.67021276595744, 690.6666666666666, 568.2258064516129, 2936.0, 1531.8695652173913, 5033.571428571428, 3523.7, 1355.423076923077, 1067.969696969697, 1258.857142857143, 2203.25, 653.0185185185185, 904.3333333333334, 881.875, 839.9761904761905, 2205.0, 179.36548223350255, 4417.0, 1472.4166666666667, 2945.0, 906.4871794871794, 1140.6129032258063, 884.2, 721.8775510204082, 447.9113924050633, 2081.529411764706, 1361.1153846153845, 2949.3333333333335, 3217.6363636363635, 863.4634146341464, 528.6268656716418, 2724.5384615384614, 1771.05, 590.4833333333333, 580.8688524590164, 553.921875, 2363.5333333333333, 1611.6818181818182, 521.5441176470588, 824.8837209302326, 1043.264705882353, 788.3777777777777, 1144.741935483871, 473.36, 1365.576923076923, 669.9622641509434, 394.68888888888887, 1110.1875, 2368.6666666666665, 3230.181818181818, 1974.2222222222222, 530.6567164179105, 635.0535714285714, 3233.090909090909, 1546.8260869565217, 501.2112676056338, 711.82, 1547.6521739130435, 556.375, 539.5909090909091, 1187.1666666666667, 848.2380952380952, 2226.75, 828.6046511627907, 475.17333333333335, 3960.0, 1876.1052631578948, 1114.1875, 524.6764705882352, 3568.0, 2548.6428571428573, 964.5945945945946, 793.5111111111111, 686.9423076923077, 2101.3529411764707, 595.6833333333333, 1051.264705882353, 2382.9333333333334, 777.4130434782609, 831.8837209302326, 2104.4117647058824, 1052.5882352941176, 1431.68, 2556.785714285714, 2386.4, 2983.0833333333335, 2983.6666666666665, 3580.5, 483.9054054054054, 895.475, 1791.0, 2985.4166666666665, 814.6590909090909, 491.1917808219178, 4482.25, 717.5, 629.4912280701755, 1380.076923076923, 1993.611111111111, 5126.714285714285, 1631.590909090909, 608.457627118644, 764.0212765957447, 427.64285714285717, 921.2820512820513, 2113.6470588235293, 1891.3157894736842, 428.1190476190476, 1998.0555555555557, 691.7884615384615, 499.7083333333333, 1285.5714285714287, 514.3714285714286, 643.1071428571429, 4501.875, 1440.76, 1029.1714285714286, 590.5573770491803, 2401.8, 2401.9333333333334, 3275.5454545454545, 2573.714285714286, 2573.785714285714, 530.1176470588235, 974.5135135135135, 621.7413793103449, 1567.9565217391305, 667.9444444444445, 1387.5, 3006.3333333333335, 839.1395348837209, 859.2857142857143, 5155.857142857143, 1093.878787878788, 2406.8, 3008.5833333333335, 3008.6666666666665, 1003.0833333333334, 1805.75, 926.1025641025641, 582.7258064516129, 881.3414634146342, 2581.4285714285716, 4016.0, 556.2307692307693, 1339.2222222222222, 2410.733333333333, 1205.4333333333334, 841.0930232558139, 2009.4444444444443, 1391.1923076923076, 2128.294117647059, 1573.304347826087, 532.3529411764706, 2585.9285714285716, 842.046511627907, 1065.0588235294117, 4527.0, 754.6458333333334, 670.8148148148148, 647.0714285714286, 1342.148148148148, 1575.7826086956522, 823.75, 2013.888888888889, 3021.0, 1169.7096774193549, 1511.0416666666667, 824.2727272727273, 1450.84, 541.4477611940298, 1036.9714285714285, 1100.0, 1650.2727272727273, 576.3333333333334, 5187.285714285715, 1296.9285714285713, 1252.448275862069, 1297.5357142857142, 1211.3333333333333, 2137.705882352941, 1514.3333333333333, 567.984375, 673.3703703703703, 1173.0645161290322, 3306.181818181818, 1136.71875, 454.975, 1456.12, 568.921875, 2023.111111111111, 933.8461538461538, 1517.6666666666667, 1349.111111111111, 3311.5454545454545, 409.5280898876405, 617.8813559322034, 4557.125, 3645.9, 1139.53125, 701.5384615384615, 2432.133333333333, 2026.888888888889, 960.1578947368421, 365.19, 4057.8888888888887, 760.9375, 890.9268292682926, 716.3529411764706, 2283.625, 716.4901960784314, 3045.25, 1044.2857142857142, 410.96629213483146, 1016.25, 677.7222222222222, 1307.392857142857, 795.8478260869565, 1664.090909090909, 871.6904761904761, 1464.76, 2817.230769230769, 1526.2916666666667, 581.6190476190476, 990.4054054054054, 1110.7575757575758, 4073.1111111111113, 814.8666666666667, 852.9302325581396, 374.5408163265306, 1147.09375, 1411.9615384615386, 6118.666666666667, 1412.076923076923, 601.9672131147541, 720.0588235294117, 693.0754716981132, 1360.5555555555557, 612.5, 656.3928571428571, 503.6027397260274, 525.2571428571429, 1268.1379310344828, 735.94, 1269.0344827586207, 736.16, 3681.0, 1753.047619047619, 383.6458333333333, 1270.2068965517242, 708.7692307692307, 3071.5833333333335, 1675.590909090909, 1417.923076923077, 4608.375, 2457.9333333333334, 2836.3076923076924, 1365.7407407407406, 4097.444444444444, 491.8666666666667, 1844.55, 1604.0869565217392, 576.5, 559.1060606060606, 2050.222222222222, 1942.421052631579, 2306.75, 2306.9375, 625.7457627118644, 473.3974358974359, 1678.7272727272727, 4616.875, 785.9787234042553, 3358.5454545454545, 1055.5714285714287, 1086.8823529411766, 2463.6666666666665, 2309.75, 2463.866666666667, 1232.2333333333333, 2464.6, 1946.0, 1027.1944444444443, 569.0615384615385, 1156.09375, 1275.8620689655172, 860.5348837209302, 925.3, 711.8653846153846, 430.6279069767442, 1122.2727272727273, 544.75, 446.5542168674699, 1059.0, 2851.230769230769, 1544.5416666666667, 1196.0, 4634.875, 1324.392857142857, 529.9714285714285, 530.1714285714286, 1427.5384615384614, 562.5757575757576, 1687.8181818181818, 714.1730769230769, 7427.6, 9284.75, 714.4230769230769, 229.64197530864197, 1771.6666666666667, 2067.0, 907.7073170731708, 610.2295081967213, 524.3802816901408, 641.9827586206897, 227.34756097560975, 3389.818181818182, 909.5365853658536, 1165.40625, 1695.2272727272727, 888.1190476190476, 2072.4444444444443, 932.75, 3109.5833333333335, 1066.2857142857142, 1622.9130434782608, 1333.2857142857142, 549.2647058823529, 1436.6153846153845, 512.1506849315068, 229.67484662576686, 1970.4736842105262, 585.125, 2880.769230769231, 462.4567901234568, 2341.5, 1873.3, 707.0188679245283, 1499.08, 734.9411764705883, 694.2777777777778, 559.9402985074627, 1443.076923076923, 2207.1176470588234, 872.6511627906976, 872.8372093023256, 2208.0, 1975.7894736842106, 988.0526315789474, 6257.833333333333, 1390.7037037037037, 3129.1666666666665, 1390.9259259259259, 1073.0285714285715, 658.9824561403509, 427.27272727272725, 989.8421052631579, 1880.75, 1791.2857142857142, 437.6046511627907, 1710.9545454545455, 724.0192307692307, 2896.4615384615386, 1345.0357142857142, 1883.15, 3138.8333333333335, 562.2686567164179, 3424.818181818182, 1345.642857142857, 448.89285714285717, 802.5957446808511, 2901.923076923077, 438.7093023255814, 662.140350877193, 3145.6666666666665, 629.5166666666667, 2222.0588235294117, 3434.181818181818, 1399.3703703703704, 1642.9130434782608, 367.13592233009706, 6302.666666666667, 1112.3235294117646, 1304.3103448275863, 922.9512195121952, 511.72972972972974, 2227.6470588235293, 714.6981132075472, 2913.846153846154, 757.62, 2228.4117647058824, 1578.625, 1306.4827586206898, 881.3255813953489, 1579.3333333333333, 715.2452830188679, 3159.3333333333335, 3446.6363636363635, 1648.4782608695652, 1404.3703703703704, 534.1549295774648, 446.4470588235294, 716.1320754716982, 558.2794117647059, 2372.8125, 678.0, 1582.4166666666667, 1187.03125, 3165.5833333333335, 1356.892857142857, 1117.6470588235295, 513.6756756756756, 1520.96, 2925.076923076923, 1901.5, 3169.5, 1118.7058823529412, 1087.2285714285715, 1189.28125, 604.5714285714286, 746.9411764705883, 604.7460317460317, 907.1428571428571, 1229.1290322580646, 1270.5666666666666, 1089.0857142857142, 1030.3783783783783, 977.8974358974359, 1362.2857142857142, 515.6216216216217, 381.8, 2545.4666666666667, 1316.8275862068965, 1157.4242424242425, 1232.258064516129, 1415.037037037037, 1661.3478260869565, 1158.090909090909, 597.15625, 647.8474576271186, 4778.0, 1195.03125, 1529.88, 1912.65, 478.4125, 671.578947368421, 2734.3571428571427, 2252.0, 563.2352941176471, 1915.25, 1197.15625, 1824.4761904761904, 539.7887323943662, 1916.75, 380.009900990099, 1535.52, 685.6071428571429, 914.7142857142857, 914.7619047619048, 2134.5, 1477.7692307692307, 937.219512195122, 452.18823529411765, 835.8695652173913, 447.25581395348837, 725.8867924528302, 663.448275862069, 895.1860465116279, 481.2875, 1674.0869565217392, 652.7796610169491, 1375.642857142857, 1204.125, 2964.076923076923, 3503.181818181818, 2028.578947368421, 500.7012987012987, 2754.0714285714284, 787.1836734693877, 501.1038961038961, 2143.6666666666665, 1754.0454545454545, 788.0408163265306, 529.1232876712329, 1545.08, 633.4262295081967, 1680.2608695652175, 1207.8125, 544.7746478873239, 1681.7826086956522, 879.1818181818181, 4835.625, 2275.823529411765, 2579.4, 552.8142857142857, 379.5882352941176, 1549.0, 774.6, 484.2625, 2421.5, 2039.2631578947369, 790.8367346938776, 615.3809523809524, 3524.7272727272725, 2280.9411764705883, 731.8301886792453, 2281.823529411765, 479.08641975308643, 970.225, 1764.3181818181818, 2772.5714285714284, 607.125, 462.7857142857143, 1767.1818181818182, 2990.846153846154, 5554.714285714285, 1851.7142857142858, 1215.3125, 1691.1304347826087, 2778.6428571428573, 563.8840579710145, 763.2941176470588, 2433.125, 533.4383561643835, 4327.0, 1081.8055555555557, 828.8510638297872, 1693.8695652173913, 1180.7575757575758, 1217.75, 1299.2, 1257.5806451612902, 2999.153846153846, 1949.7, 9748.75, 1258.1290322580646, 2166.8888888888887, 866.8444444444444, 520.16, 1560.64, 830.2978723404256, 2295.705882352941, 1501.1153846153845, 2602.0, 557.6285714285714, 780.86, 1301.8333333333333, 685.4035087719299, 888.0, 1149.235294117647, 831.531914893617, 751.6538461538462, 3257.25, 710.7818181818182, 1261.4516129032259, 1002.8717948717949, 889.0227272727273, 1448.9259259259259, 1349.0689655172414, 2173.6111111111113, 663.3728813559322, 2060.0, 403.6701030927835, 455.7093023255814, 1959.6, 768.5490196078431, 3563.4545454545455, 700.1071428571429, 1452.2222222222222, 2450.6875, 1867.5238095238096, 688.2280701754386, 2179.5, 1401.2142857142858, 1706.0, 3567.2727272727275, 1308.2333333333333, 2065.842105263158, 516.5526315789474, 4907.5, 2309.529411764706, 1308.8333333333333, 3926.7, 2454.5, 2805.214285714286, 1061.6756756756756, 644.1475409836065, 854.7391304347826, 604.9538461538461, 3277.1666666666665, 614.609375, 715.3818181818182, 2623.133333333333, 1009.3076923076923, 803.469387755102, 1574.88, 562.5428571428571, 3938.1, 2461.4375, 3580.3636363636365, 937.8333333333334, 5627.142857142857, 1515.1923076923076, 984.925, 4377.777777777777, 2626.733333333333, 961.3170731707318, 1713.8260869565217, 758.1923076923077, 876.5333333333333, 1011.5128205128206, 3586.4545454545455, 1972.75, 704.7857142857143, 1161.0882352941176, 1645.0833333333333, 464.61176470588236, 940.3809523809524, 693.0350877192982, 589.6567164179105, 1067.837837837838, 1013.2564102564103, 745.7169811320755, 1235.28125, 3294.3333333333335, 898.75, 4394.0, 250.626582278481, 1042.578947368421, 990.575, 3962.4, 720.6727272727272, 2477.5, 2831.6428571428573, 2831.9285714285716, 4405.555555555556, 2086.9473684210525, 417.6421052631579, 763.4230769230769, 2206.0, 2336.235294117647, 2482.3125, 764.3461538461538, 1806.7727272727273, 462.43023255813955, 864.804347826087, 1136.8, 3979.1, 904.5909090909091, 780.4901960784314, 2488.0, 723.8, 2488.1875, 3981.4, 3317.9166666666665, 1284.516129032258, 1474.962962962963, 995.675, 524.3026315789474, 264.21854304635764, 3627.090909090909, 2849.9285714285716, 1108.611111111111, 1050.578947368421, 633.8412698412699, 849.6808510638298, 3630.818181818182, 1597.8, 2663.0666666666666, 1598.0, 2219.722222222222, 5708.285714285715, 3996.0, 1816.590909090909, 908.4545454545455, 563.1549295774648, 677.7796610169491, 239.79041916167665, 597.8955223880597, 4006.2, 2356.823529411765, 2671.133333333333, 667.8166666666667, 1252.28125, 2226.3333333333335, 3643.2727272727275, 2504.8125, 1054.842105263158, 954.5, 1743.0869565217392, 891.0444444444445, 4010.1, 1253.1875, 2673.6666666666665, 495.358024691358, 1146.6285714285714, 729.8181818181819, 6690.166666666667, 1029.3333333333333, 2112.9473684210525, 1295.0967741935483, 573.7285714285714, 1487.5925925925926, 2677.8, 1606.8, 1004.425, 484.2409638554217, 543.3783783783783, 788.5098039215686, 855.8297872340426, 1609.04, 718.5535714285714, 1749.5652173913043, 894.4222222222222, 2875.0714285714284, 958.4285714285714, 2875.3571428571427, 1750.304347826087, 1677.4166666666667, 774.4230769230769, 619.6461538461539, 1830.9545454545455, 3098.769230769231, 682.8305084745763, 1611.68, 876.1086956521739, 822.6122448979592, 530.5526315789474, 1260.3125, 650.7903225806451, 1921.5238095238096, 1153.142857142857, 961.1428571428571, 1187.6176470588234, 486.8313253012048, 4489.777777777777, 662.5901639344262, 1924.952380952381, 1010.675, 762.9245283018868, 641.984126984127, 709.7368421052631, 3371.3333333333335, 622.6461538461539, 1065.3157894736842, 2130.684210526316, 2530.4375, 920.2272727272727, 809.96, 942.1162790697674, 488.43373493975906, 1559.423076923077, 2896.285714285714, 579.4, 533.7236842105264, 3120.3076923076924, 436.59139784946234, 1269.0, 1765.608695652174, 6768.333333333333, 752.2592592592592, 4062.6, 2389.9411764705883, 606.776119402985, 310.6641221374046, 1197.2058823529412, 969.3095238095239, 1017.8, 515.4177215189874, 3701.818181818182, 1454.5357142857142, 1197.9411764705883, 1404.5862068965516, 4526.111111111111, 2546.1875, 1567.1538461538462, 6791.166666666667, 4527.666666666667, 3134.6153846153848, 3396.0, 1405.4137931034484, 4075.9, 1102.027027027027, 1631.36, 503.51851851851853, 1510.6666666666667, 3137.923076923077, 408.17, 887.7608695652174, 252.39506172839506, 1572.7307692307693, 4543.777777777777, 3408.0, 1022.65, 818.2, 730.6785714285714, 274.93959731543623, 682.9166666666666, 3725.181818181818, 4553.111111111111, 2561.1875, 5122.75, 1280.8125, 1518.2962962962963, 1518.5555555555557, 612.0149253731344, 1952.8095238095239, 976.6190476190476, 2051.0, 554.418918918919, 5861.142857142857, 1139.8333333333333, 1172.6, 892.2826086956521, 1244.3030303030303, 4562.555555555556, 696.1355932203389, 2053.75, 2934.0, 1580.0, 1081.1315789473683, 662.741935483871, 2417.470588235294, 790.3846153846154, 2055.1, 822.24, 2055.85, 1869.1818181818182, 776.377358490566, 1247.030303030303, 267.54545454545456, 2168.7368421052633, 549.5333333333333, 3746.909090909091, 1212.4705882352941, 3747.818181818182, 606.7647058823529, 1964.8095238095239, 625.2575757575758, 503.4878048780488, 2580.4375, 293.11347517730496, 635.9076923076923, 1722.2916666666667, 2066.8, 2952.714285714286, 1378.0666666666666, 1216.0882352941176, 504.7073170731707, 1724.5833333333333, 1655.64, 1034.8, 3763.0, 1427.448275862069, 3449.8333333333335, 2957.214285714286, 435.94736842105266, 2958.285714285714, 1428.2068965517242, 2180.4736842105262, 5918.714285714285, 8286.6, 2437.3529411764707, 2437.4117647058824, 3767.3636363636365, 1883.8181818181818, 690.8333333333334, 702.728813559322, 3189.4615384615386, 2182.3684210526317, 1481.0, 1337.774193548387, 1296.09375, 3456.4166666666665, 619.1492537313433, 2440.176470588235, 3771.3636363636365, 2305.1111111111113, 4610.333333333333, 619.4179104477612, 2184.315789473684, 1482.357142857143, 2075.45, 629.2121212121212, 2076.6, 1483.4642857142858, 2077.1, 1154.0833333333333, 3777.090909090909, 2444.1176470588234, 704.4067796610169, 3778.4545454545455, 799.3269230769231, 944.7272727272727, 3779.0, 784.4150943396227, 800.1153846153846, 1387.1, 785.1698113207547, 3468.0833333333335, 2774.6, 1261.3030303030303, 2973.214285714286, 1342.8387096774193, 2601.8125, 1125.3243243243244, 527.2151898734177, 886.531914893617, 1436.8275862068965, 2315.1111111111113, 757.8181818181819, 2193.7894736842104, 490.67058823529413, 662.0793650793651, 5958.857142857143, 1192.3142857142857, 1739.0, 732.2982456140351, 5963.142857142857, 2783.2, 579.9444444444445, 6959.5, 1898.590909090909, 2320.6666666666665, 3481.25, 3797.909090909091, 1440.7931034482758, 1899.4545454545455, 2321.9444444444443, 2322.277777777778, 623.9850746268656, 1229.735294117647, 5226.5, 1900.7272727272727, 760.4, 789.2641509433962, 589.4084507042254, 2092.75, 872.125, 837.34, 1495.2857142857142, 517.1728395061729, 1021.9512195121952, 5986.0, 1746.0833333333333, 997.9047619047619, 188.26008968609867, 559.84, 575.2739726027397, 724.1896551724138, 976.9767441860465, 724.3793103448276, 500.39285714285717, 8407.0, 3503.1666666666665, 840.92, 5255.875, 2628.0, 3504.1666666666665, 2628.3125, 467.7111111111111, 1403.2, 702.1666666666666, 936.3555555555556, 577.5205479452055, 1171.25, 1562.037037037037, 767.0909090909091, 4687.888888888889, 3013.9285714285716, 3516.5, 715.3220338983051, 2110.35, 2482.8823529411766, 2345.1111111111113, 1361.967741935484, 563.0133333333333, 2346.0, 1508.25, 782.2777777777778, 1242.5, 541.8717948717949, 5283.5, 1457.5862068965516, 2348.5555555555557, 1691.08, 1565.9259259259259, 3523.5, 716.6779661016949, 6040.857142857143, 2643.0625, 1174.8055555555557, 705.25, 769.5454545454545, 814.1153846153846, 2822.4, 3528.3333333333335, 5292.625, 920.804347826087, 2824.0, 661.9375, 1925.8181818181818, 1145.1351351351352, 3852.0, 2648.375, 536.506329113924, 1367.4193548387098, 1324.875, 4239.8, 695.1967213114754, 1631.3076923076924, 1571.2962962962963, 3263.6153846153848, 2357.277777777778, 673.5555555555555, 816.3269230769231, 3537.5833333333335, 1572.2962962962963, 214.73232323232324, 867.9591836734694, 945.1777777777778, 2238.9473684210525, 2239.0526315789475, 1636.2692307692307, 1418.3666666666666, 310.8905109489051, 687.0645161290323, 835.4117647058823, 2506.294117647059, 1936.7727272727273, 1151.7027027027027, 568.3733333333333, 3279.230769230769, 687.6451612903226, 3045.3571428571427, 1853.7391304347825, 584.3698630136986, 1122.6842105263158, 2245.4736842105262, 7110.833333333333, 723.457627118644, 2371.8333333333335, 1642.2307692307693, 1334.40625, 949.0, 5338.25, 724.2542372881356, 2035.047619047619, 1643.923076923077, 1068.85, 2375.3888888888887, 2515.3529411764707, 1859.3478260869565, 3564.0833333333335, 873.0612244897959, 1860.2608695652175, 1222.6285714285714, 3056.6428571428573, 1945.3636363636363, 3890.818181818182, 3292.3846153846152, 2038.2380952380952, 2140.35, 701.9180327868852, 1259.4705882352941, 2676.5625, 2379.4444444444443, 738.5862068965517, 1785.1666666666667, 2677.875, 1382.225806451613, 535.7125, 492.71264367816093, 912.2978723404256, 1649.1923076923076, 2042.047619047619, 660.2615384615384, 1716.72, 3065.6428571428573, 1532.9285714285713, 2146.25, 2683.0, 1651.3076923076924, 1651.6153846153845, 7157.166666666667, 2260.315789473684, 488.1818181818182, 795.6851851851852, 596.8888888888889, 3306.076923076923, 3070.0, 2046.904761904762, 3907.818181818182, 605.5492957746479, 544.379746835443, 693.9677419354839, 2390.5555555555557, 2151.55, 6147.714285714285, 672.453125, 1871.2608695652175, 755.1929824561404, 3587.4166666666665, 2152.6, 1656.0, 978.6363636363636, 2266.4210526315787, 1196.611111111111, 4308.1, 7180.333333333333, 2267.684210526316, 1723.6, 1795.5416666666667, 3078.214285714286, 1873.8260869565217, 4309.9, 2693.9375, 4789.444444444444, 1165.2432432432433, 591.0958904109589, 685.1904761904761, 3597.3333333333335, 918.6808510638298, 1962.7727272727273, 1661.0384615384614, 490.90909090909093, 1600.0740740740741, 2541.470588235294, 3927.818181818182, 576.3333333333334, 2543.0, 1601.2592592592594, 939.9782608695652, 1601.5925925925926, 831.6346153846154, 758.7894736842105, 584.7027027027027, 6181.285714285715, 1030.3809523809523, 1006.6511627906976, 627.4347826086956, 2886.4666666666667, 1804.125, 1007.1627906976744, 2887.3333333333335, 1237.5714285714287, 4812.888888888889, 833.0961538461538, 666.6153846153846, 278.0833333333333, 1205.1666666666667, 885.530612244898, 1669.0, 4821.666666666667, 1142.2631578947369, 248.3257142857143, 3950.7272727272725, 3950.818181818182, 4346.1, 2173.35, 924.8936170212766, 453.0729166666667, 737.3050847457627, 580.1466666666666, 2417.5, 649.5522388059702, 1209.0277777777778, 621.8714285714286, 2720.875, 1501.6206896551723, 2073.714285714286, 1742.44, 1613.4444444444443, 1742.64, 3351.6923076923076, 589.0, 3632.5, 1089.8, 1614.7037037037037, 764.9649122807018, 1817.0, 3634.25, 5451.875, 1454.1666666666667, 2566.294117647059, 1211.9166666666667, 3116.5, 1363.59375, 597.9041095890411, 1247.142857142857, 651.5820895522388, 3968.909090909091, 2425.5555555555557, 6237.428571428572, 1247.6285714285714, 1985.1363636363637, 1746.92, 1039.952380952381, 3639.9166666666665, 2730.1875, 910.125, 2427.1666666666665, 3360.846153846154, 1899.695652173913, 514.1529411764706, 1214.1666666666667, 4857.111111111111, 3643.25, 2914.733333333333, 741.1016949152543, 4858.444444444444, 3644.1666666666665, 257.5352941176471, 1068.1951219512196, 2433.3333333333335, 2737.6875, 5475.75, 3982.6363636363635, 2738.3125, 2190.8, 509.6279069767442, 996.3409090909091, 461.87368421052633, 1290.5882352941176, 1020.5581395348837, 593.1081081081081, 4876.777777777777, 665.1818181818181, 3377.230769230769, 1514.0689655172414, 828.622641509434, 7319.666666666667, 1372.5625, 1514.655172413793, 720.1147540983607, 1331.2424242424242, 1126.6153846153845, 2092.4285714285716, 998.7954545454545, 1022.0930232558139, 646.4411764705883, 686.890625, 686.984375, 897.469387755102, 1332.6666666666667, 1022.8139534883721, 2932.266666666667, 1023.0697674418604, 1517.0344827586207, 916.625, 676.9230769230769, 936.3191489361702, 1257.4285714285713, 3143.6428571428573, 1467.1666666666667, 259.2176470588235, 3389.923076923077, 459.3854166666667, 1192.054054054054, 1192.2162162162163, 658.4626865671642, 2451.0, 1161.1052631578948, 558.7215189873418, 1193.3243243243244, 724.1639344262295, 1523.3793103448277, 307.125, 2106.095238095238, 641.1304347826087, 1164.4473684210527, 7375.333333333333, 7375.5, 1580.7142857142858, 3404.769230769231, 5532.875, 3161.785714285714, 851.8076923076923, 5536.875, 1429.0967741935483, 1846.0416666666667, 1080.7073170731708, 1772.4, 5539.0, 703.4126984126984, 2462.222222222222, 2607.176470588235, 1303.8235294117646, 2015.1818181818182, 1266.8285714285714, 715.3870967741935, 1267.4285714285713, 792.2142857142857, 3697.0833333333335, 2464.8333333333335, 1082.2439024390244, 944.1702127659574, 807.0545454545454, 2466.222222222222, 1168.342105263158, 3700.0, 1168.5, 4440.4, 584.5657894736842, 3417.6153846153848, 1139.6666666666667, 626.1267605633802, 1852.4583333333333, 1202.1081081081081, 4448.2, 1534.0689655172414, 570.5128205128206, 1780.12, 1308.9705882352941, 2225.4, 2225.55, 780.9298245614035, 412.4166666666667, 1012.8863636363636, 1485.7666666666667, 3184.0, 602.418918918919, 1651.2222222222222, 4458.7, 2123.285714285714, 1114.85, 675.6969696969697, 1311.6764705882354, 2123.904761904762, 796.625, 1352.0, 1785.28, 4057.7272727272725, 1115.975, 1785.64, 1174.921052631579, 228.0612244897959, 1176.5526315789473, 745.2166666666667, 1863.5, 1146.974358974359, 2033.3636363636363, 4066.818181818182, 4067.0, 1945.1739130434783, 1016.9545454545455, 2485.9444444444443, 1945.8260869565217, 785.3684210526316, 2035.0454545454545, 320.09285714285716, 2489.777777777778, 1318.235294117647, 2988.2, 1042.6046511627908, 1067.5238095238096, 640.7142857142857, 1950.0869565217392, 2135.9523809523807, 3450.6153846153848, 641.1428571428571, 4488.3, 935.1875, 1122.9, 2139.0476190476193, 816.8545454545455, 4492.9, 615.6027397260274, 1549.6896551724137, 6420.285714285715, 441.2352941176471, 2369.3684210526317, 1800.76, 1607.857142857143, 804.1964285714286, 1407.46875, 2251.95, 549.4512195121952, 726.8548387096774, 1126.875, 3756.5, 715.7142857142857, 1610.5714285714287, 1288.5714285714287, 609.4864864864865, 5011.666666666667, 2148.0, 867.5384615384615, 1187.2105263157894, 571.4556962025316, 1050.1627906976744, 5644.875, 5017.777777777777, 716.8730158730159, 2509.6666666666665, 5019.666666666667, 717.2063492063492, 836.925925925926, 2658.6470588235293, 685.0, 6458.714285714285, 7535.333333333333, 4521.3, 1614.857142857143, 1559.3103448275863, 1159.6923076923076, 696.2461538461539, 1810.4, 1293.2571428571428, 808.375, 1509.0666666666666, 1331.9117647058824, 1509.7666666666667, 1461.1935483870968, 2831.4375, 707.921875, 5034.222222222223, 676.4029850746268, 839.2962962962963, 1618.75, 2060.3636363636365, 5666.25, 1007.4888888888889, 1511.4333333333334, 1259.75, 1744.423076923077, 1890.0416666666667, 3240.1428571428573, 925.8163265306123, 1512.3666666666666, 597.1578947368421, 3491.3846153846152, 1815.68, 488.3333333333333, 721.1428571428571, 4130.363636363636, 1622.892857142857, 1298.3714285714286, 1514.9333333333334, 1082.142857142857, 2272.75, 3030.4, 770.5762711864406, 4133.272727272727, 6495.285714285715, 2674.764705882353, 745.5901639344262, 1749.3076923076924, 827.2545454545455, 7583.333333333333, 3033.733333333333, 858.7547169811321, 1685.7777777777778, 758.7, 2845.25, 1626.0714285714287, 3794.3333333333335, 989.9782608695652, 1980.2173913043478, 1059.2790697674418, 1111.1463414634147, 6508.428571428572, 3037.3333333333335, 859.7547169811321, 1571.448275862069, 616.0675675675676, 2532.8888888888887, 1572.2413793103449, 1060.5581395348838, 2533.722222222222, 2171.9523809523807, 931.1224489795918, 1689.9259259259259, 748.2459016393443, 1472.3870967741937, 1170.4871794871794, 1014.5111111111111, 3804.5, 1201.8157894736842, 7611.666666666667, 415.6272727272727, 1576.6206896551723, 749.6229508196722, 1306.8, 1203.9736842105262, 3812.6666666666665, 673.3529411764706, 2410.315789473684, 763.3166666666667, 880.8461538461538, 2544.777777777778, 2694.5882352941176, 2545.1111111111113, 602.8684210526316, 4581.9, 2082.818181818182, 5727.875, 5728.0, 1697.4074074074074, 3055.4666666666667, 249.39673913043478, 2549.5, 1147.35, 1240.5405405405406, 3060.266666666667, 2700.4117647058824, 304.34437086092714, 2089.181818181818, 3535.6923076923076, 2553.777777777778, 1352.1176470588234, 505.4725274725275, 6571.285714285715, 1484.0967741935483, 1484.3225806451612, 5113.0, 2707.176470588235, 676.9558823529412, 1705.0740740740741, 2877.375, 3836.6666666666665, 2302.35, 4186.272727272727, 2093.318181818182, 939.9795918367347, 3543.230769230769, 1486.0, 1706.3333333333333, 940.3673469387755, 598.6103896103896, 731.8730158730159, 781.5762711864406, 1441.28125, 6588.857142857143, 1246.7297297297298, 2562.8888888888887, 795.551724137931, 2307.15, 2097.590909090909, 3845.75, 1775.3076923076924, 2429.4736842105262, 2308.1, 1357.8823529411766, 1539.1666666666667, 1776.1923076923076, 2008.2173913043478, 2099.6363636363635, 1649.857142857143, 1490.483870967742, 1400.2121212121212, 3300.5714285714284, 1184.974358974359, 258.4581005586592, 1186.4871794871794, 6610.571428571428, 1780.0384615384614, 907.5686274509804, 5785.875, 1493.1612903225807, 1543.2333333333333, 652.2253521126761, 601.4935064935065, 3087.866666666667, 2315.95, 2205.8571428571427, 1077.4651162790697, 2316.7, 1494.774193548387, 5792.375, 2439.3684210526317, 1053.5681818181818, 1130.7560975609756, 2575.8333333333335, 724.609375, 2728.0588235294117, 587.2151898734177, 3568.5384615384614, 966.5625, 5155.222222222223, 7733.0, 947.0, 2442.4210526315787, 909.9803921568628, 2320.55, 1933.9166666666667, 3868.25, 2110.181818181818, 1719.5185185185185, 910.4705882352941, 1160.975, 4644.0, 673.1884057971015, 4645.5, 3573.923076923077, 654.5352112676056, 2020.6521739130435, 968.2708333333334, 815.5263157894736, 1010.6086956521739, 1056.590909090909, 1937.2916666666667, 1291.6666666666667, 1660.8214285714287, 2214.5714285714284, 1604.0689655172414, 443.34285714285716, 1330.2, 1790.8461538461538, 655.9718309859155, 1058.659090909091, 561.5903614457832, 1942.3333333333333, 2119.2272727272725, 863.4629629629629, 1727.0, 777.2333333333333, 1295.5, 3331.3571428571427, 6662.857142857143, 3887.1666666666665, 2455.2631578947367, 1166.45, 972.1458333333334, 972.4583333333334, 1014.8913043478261, 4668.6, 819.1754385964912, 5188.444444444444, 676.8840579710145, 707.8181818181819, 5839.625, 9343.6, 2123.7727272727275, 730.1875, 1731.2962962962963, 1335.8, 677.768115942029, 1113.6190476190477, 4252.363636363636, 2462.0526315789475, 4678.1, 731.203125, 1613.7241379310344, 1462.5625, 1141.8048780487804, 1170.475, 1734.111111111111, 1064.2272727272727, 2601.5555555555557, 1561.1333333333334, 4683.6, 767.8524590163935, 7806.666666666667, 883.9245283018868, 1089.5813953488373, 650.8055555555555, 1562.0, 1266.918918918919, 660.7042253521126, 3350.9285714285716, 4265.0, 3351.1428571428573, 1954.9166666666667, 733.46875, 920.6274509803922, 1269.027027027027, 745.3968253968254, 690.6176470588235, 2763.1176470588234, 3914.75, 5872.25, 5220.0, 3132.133333333333, 839.0892857142857, 1174.775, 2937.1875, 1740.9259259259259, 635.3108108108108, 3917.8333333333335, 285.23030303030305, 2477.5263157894738, 588.775, 1239.6052631578948, 747.968253968254, 3926.9166666666665, 1428.1515151515152, 1273.8648648648648, 2244.7619047619046, 1208.820512820513, 2049.8260869565215, 982.25, 736.765625, 5894.25, 873.3518518518518, 1965.1666666666667, 4287.818181818182, 4288.0, 1003.6595744680851, 7862.166666666667, 2948.4375, 1522.1612903225807, 3932.3333333333335, 4290.363636363636, 1151.1707317073171, 1180.15, 6743.857142857143, 684.2463768115942, 1523.0967741935483, 1888.92, 874.6111111111111, 3936.0, 2486.0, 674.9142857142857, 4724.7, 1350.2571428571428, 2953.8125, 6751.714285714285, 2780.3529411764707, 556.2941176470588, 829.719298245614, 2489.3684210526317, 5912.375, 2365.05, 2782.470588235294, 4300.272727272727, 1244.921052631579, 1526.1612903225807, 1213.3333333333333, 1577.4666666666667, 1051.7333333333333, 860.7636363636364, 1246.0263157894738, 1246.078947368421, 1279.8108108108108, 1155.2439024390244, 3947.25, 5921.125, 3383.6428571428573, 488.7113402061856, 2495.1052631578946, 2633.9444444444443, 3647.230769230769, 1580.5333333333333, 2155.4545454545455, 5927.625, 790.9166666666666, 9491.2, 1898.44, 3164.2, 1825.576923076923, 4315.272727272727, 308.5584415584416, 4752.2, 766.5967741935484, 660.2777777777778, 2377.4, 792.5833333333334, 1486.375, 2642.5555555555557, 2068.217391304348, 1399.3529411764705, 5286.555555555556, 1057.4666666666667, 3660.6153846153848, 700.0441176470588, 1220.7948717948718, 881.7777777777778, 2506.2105263157896, 2801.235294117647, 2164.818181818182, 1831.8076923076924, 541.4318181818181, 2978.0, 1764.851851851852, 1444.060606060606, 1323.8055555555557, 1134.8095238095239, 662.0694444444445, 1986.5833333333333, 4767.9, 314.25, 1061.6888888888889, 5972.125, 3981.5, 783.3770491803278, 3413.4285714285716, 1991.375, 569.1071428571429, 1770.6666666666667, 217.58636363636364, 1595.8, 4787.5, 2519.8947368421054, 6839.857142857143, 997.875, 840.5087719298245, 1497.34375, 5324.0, 1843.076923076923, 772.9354838709677, 3686.6153846153848, 1843.5384615384614, 5325.888888888889, 4357.727272727273, 1369.857142857143, 2996.9375, 2084.9565217391305, 1370.3142857142857, 2284.0476190476193, 2284.2380952380954, 1998.8333333333333, 3997.9166666666665, 922.9038461538462, 1599.8666666666666, 1920.04, 2526.4736842105262, 1920.2, 2526.8947368421054, 1333.7222222222222, 1200.5, 6002.75, 4365.818181818182, 738.876923076923, 4802.8, 3430.714285714286, 1779.0, 3431.0, 2528.2105263157896, 686.3428571428572, 1501.5, 1044.7391304347825, 858.25, 728.5757575757576, 6869.714285714285, 2185.9545454545455, 293.5548780487805, 3209.6666666666665, 659.7534246575342, 1783.8148148148148, 625.8701298701299, 3012.25, 6024.875, 1338.888888888889, 587.9268292682926, 2096.2608695652175, 765.4761904761905, 1722.5, 2837.176470588235, 4823.3, 1929.44, 2538.7894736842104, 4019.9166666666665, 3710.769230769231, 6030.5, 5360.666666666667, 1048.9565217391305, 2412.8, 2010.75, 4021.6666666666665, 4387.454545454545, 766.2539682539683, 965.7, 8047.833333333333, 894.3518518518518, 1788.9259259259259, 1050.108695652174, 627.7792207792207, 3021.6875, 2544.7368421052633, 848.3684210526316, 537.5333333333333, 3721.6153846153848, 3024.0625, 1423.235294117647, 1180.3658536585365, 5377.333333333333, 520.505376344086, 681.8028169014085, 1180.7073170731708, 711.9411764705883, 1561.8709677419354, 949.4901960784314, 1424.5294117647059, 2201.590909090909, 1384.142857142857, 2850.0, 723.1940298507462, 1009.6458333333334, 613.7341772151899, 1939.56, 3730.0, 702.8840579710145, 1426.6176470588234, 2853.4117647058824, 6063.75, 1128.2093023255813, 1276.7631578947369, 2205.4545454545455, 713.6470588235294, 1565.516129032258, 2854.823529411765, 4853.4, 3733.5384615384614, 1348.4166666666667, 1011.5, 3034.6875, 2023.2083333333333, 1156.1666666666667, 1055.7608695652175, 2428.45, 4047.6666666666665, 1387.9714285714285, 3470.0, 2857.823529411765, 1799.5925925925926, 704.3768115942029, 1620.2666666666667, 1350.4722222222222, 4420.090909090909, 2431.15, 1186.0731707317073, 4863.3, 3741.076923076923, 1389.8857142857144, 1390.0, 3742.4615384615386, 2560.842105263158, 973.26, 4866.6, 869.125, 1187.3658536585365, 2116.6521739130435, 3477.714285714286, 1570.774193548387, 1316.2162162162163, 1522.21875, 3247.5333333333333, 1059.0, 2319.809523809524, 1133.2325581395348, 1218.4, 4430.636363636364, 1282.6842105263158, 4061.9166666666665, 786.4677419354839, 1741.7142857142858, 602.2222222222222, 3252.133333333333, 2439.2, 2323.2380952380954, 2121.391304347826, 3252.9333333333334, 1134.860465116279, 1626.7666666666667, 921.0566037735849, 3254.6666666666665, 4438.454545454545, 2569.7368421052633, 921.4150943396227, 1110.1136363636363, 904.7037037037037, 697.9857142857143, 1879.3461538461538, 1320.7297297297298, 1396.6285714285714, 2222.590909090909, 788.758064516129, 776.3492063492064, 6987.285714285715, 998.2857142857143, 6988.142857142857, 3763.230769230769, 2878.0, 3261.8, 1812.2592592592594, 1812.4444444444443, 2446.95, 941.2115384615385, 1882.7307692307693, 2331.1428571428573, 1483.6060606060605, 890.2727272727273, 4080.5833333333335, 730.9253731343283, 1484.090909090909, 1959.24, 1020.5208333333334, 1194.8292682926829, 2130.1739130434785, 1399.9142857142858, 2882.470588235294, 671.4109589041096, 4084.8333333333335, 2723.277777777778, 4456.636363636364, 778.4126984126984, 1226.125, 2885.235294117647, 4905.0, 778.6984126984127, 1691.7931034482758, 2886.0588235294117, 1635.6666666666667, 4089.3333333333335, 389.8174603174603, 4465.272727272727, 1327.6756756756756, 744.5, 2339.9523809523807, 2730.0555555555557, 3071.5, 756.2, 877.9285714285714, 1638.9333333333334, 862.7719298245614, 2138.391304347826, 5465.0, 2236.0, 3784.076923076923, 928.2641509433962, 2050.0416666666665, 1757.357142857143, 1587.3870967741937, 4921.1, 4473.909090909091, 734.6119402985074, 1823.2592592592594, 623.3291139240506, 1758.892857142857, 674.6712328767123, 1173.0238095238096, 2346.3809523809523, 1331.972972972973, 1971.44, 632.0641025641025, 2465.25, 4108.833333333333, 948.2692307692307, 2465.6, 4483.0, 4109.916666666667, 1264.8974358974358, 666.7567567567568, 725.6764705882352, 2467.4, 2145.7391304347825, 8225.5, 4935.4, 3796.6923076923076, 2146.0, 5484.333333333333, 2056.7083333333335, 7052.0, 2468.35, 737.0, 461.78504672897196, 4492.090909090909, 4117.833333333333, 317.0769230769231, 1374.0833333333333, 678.054794520548, 3299.9333333333334, 4125.166666666667, 485.77450980392155, 2914.705882352941, 991.12, 1238.925, 1101.4222222222222, 2155.1304347826085, 729.0882352941177, 1101.7555555555555, 7082.857142857143, 3814.153846153846, 688.7916666666666, 954.2307692307693, 6202.5, 6202.625, 1056.0212765957447, 1711.655172413793, 800.6612903225806, 1773.0357142857142, 1013.3265306122449, 2364.9523809523807, 653.5657894736842, 3821.076923076923, 629.0253164556962, 3313.0666666666666, 1343.2972972972973, 1656.8, 4142.25, 1104.8, 3107.5, 920.8703703703703, 1420.8285714285714, 802.241935483871, 1658.0666666666666, 4522.090909090909, 2926.470588235294, 789.7936507936508, 1130.8863636363637, 2488.45, 1991.0, 2164.2608695652175, 1464.1470588235295, 4148.833333333333, 1383.2222222222222, 2929.294117647059, 1214.878048780488, 743.5074626865671, 722.1159420289855, 1557.1875, 647.3116883116883, 3115.375, 5538.555555555556, 631.1518987341772, 2077.625, 2933.235294117647, 1917.923076923077, 1994.68, 755.8787878787879, 941.433962264151, 997.98, 3564.5, 4537.090909090909, 723.4782608695652, 1040.2916666666667, 1161.3720930232557, 3329.6, 1314.6842105263158, 942.6981132075472, 1387.888888888889, 693.9861111111111, 4996.9, 4997.1, 876.8070175438596, 876.9122807017544, 3570.3571428571427, 1281.7435897435898, 819.6065573770492, 2499.9, 4166.583333333333, 909.2, 1471.235294117647, 2382.095238095238, 581.9186046511628, 794.6349206349206, 2945.235294117647, 1088.5434782608695, 2503.8, 747.5820895522388, 1022.3469387755102, 659.2631578947369, 3854.3076923076924, 576.3563218390805, 1617.5483870967741, 1114.4888888888888, 4559.454545454545, 3858.153846153846, 7165.285714285715, 1929.4615384615386, 3859.076923076923, 8361.5, 1286.4615384615386, 1433.7142857142858, 1568.15625, 697.125, 612.219512195122, 1793.0357142857142, 717.4, 2282.7727272727275, 3139.125, 4566.090909090909, 2392.095238095238, 1435.4285714285713, 2184.478260869565, 1395.8055555555557, 750.0895522388059, 3589.9285714285716, 1069.5106382978724, 3590.6428571428573, 1436.4571428571428, 2011.32, 4571.363636363636, 750.6567164179105, 3592.5714285714284, 1934.6153846153845, 6287.625, 2647.9473684210525, 2795.3333333333335, 8386.166666666666, 931.8518518518518, 740.1323529411765, 2287.8636363636365, 5033.6, 2649.315789473684, 1027.6122448979593, 950.0754716981132, 1936.9615384615386, 2289.2727272727275, 6295.875, 1028.0, 315.15, 1230.0, 5043.1, 2521.65, 776.1384615384616, 1051.25, 1484.3823529411766, 2194.391304347826, 3882.6923076923076, 1802.7142857142858, 2194.8260869565215, 1121.9333333333334, 1741.1379310344828, 1577.9375, 1741.4137931034484, 4591.181818181818, 647.9487179487179, 2105.9583333333335, 1330.2368421052631, 2297.8636363636365, 1330.421052631579, 2106.7083333333335, 2528.3, 1149.7954545454545, 2529.6, 1807.0714285714287, 2409.4761904761904, 3373.3333333333335, 3162.5625, 8433.666666666666, 1177.0232558139535, 778.7846153846153, 1012.66, 1125.2666666666667, 3617.0714285714284, 1688.2333333333333, 1151.159090909091, 1876.148148148148, 4221.5, 1876.3703703703704, 5066.3, 3897.230769230769, 1078.0851063829787, 2026.92, 713.9859154929577, 1748.2068965517242, 975.0192307692307, 922.1272727272727, 3622.714285714286, 1153.2954545454545, 2985.176470588235, 832.0327868852459, 2030.28, 5075.9, 3384.0, 2115.1666666666665, 1586.78125, 1493.6764705882354, 5078.7, 1638.4516129032259, 1036.6938775510205, 846.7333333333333, 1080.9574468085107, 1587.71875, 2988.823529411765, 2674.5263157894738, 1081.2553191489362, 503.65346534653463, 5652.333333333333, 862.542372881356, 1413.6944444444443, 504.0792079207921, 636.625, 636.8125, 1415.4166666666667, 1757.1724137931035, 2038.64, 1341.4736842105262, 910.3035714285714, 560.7252747252747, 1594.6875, 4639.272727272727, 543.2872340425532, 1344.1052631578948, 2432.4285714285716, 1216.452380952381, 798.390625, 798.484375, 4646.0, 709.9027777777778, 2434.1428571428573, 4260.166666666667, 2130.2083333333335, 1893.7037037037037, 1966.7692307692307, 647.4430379746835, 1044.0, 1461.7142857142858, 867.4237288135594, 4265.5, 2694.157894736842, 1137.8222222222223, 826.0645161290323, 721.4366197183099, 3013.235294117647, 534.1875, 712.375, 2699.7368421052633, 1282.5, 4663.909090909091, 3664.6428571428573, 1006.2941176470588, 3019.1176470588234, 1604.0625, 1770.1379310344828, 1140.8222222222223, 5704.222222222223, 802.3125, 618.8192771084338, 1712.2333333333333, 1902.6296296296296, 1605.5, 8562.833333333334, 4670.818181818182, 815.7777777777778, 988.6538461538462, 2448.190476190476, 6426.75, 3213.5, 676.8026315789474, 2236.6521739130435, 319.8447204968944, 677.671052631579, 3029.5882352941176, 677.8552631578947, 1610.03125, 1073.4166666666667, 845.0, 1562.2121212121212, 2577.85, 5156.2, 4687.545454545455, 2578.55, 1393.8648648648648, 1983.8461538461538, 1258.121951219512, 1199.7441860465117, 4690.090909090909, 1074.9166666666667, 1842.7857142857142, 2345.4545454545455, 1474.3428571428572, 2150.25, 2716.2105263157896, 727.0, 6452.25, 6452.375, 8603.333333333334, 2065.12, 1434.2222222222222, 2245.0, 1098.7021276595744, 2459.190476190476, 574.0777777777778, 622.6987951807229, 1360.2368421052631, 1782.551724137931, 1566.6363636363637, 6462.75, 957.6851851851852, 891.9310344827586, 2155.5833333333335, 1616.84375, 1232.1190476190477, 5175.0, 5175.3, 1232.3095238095239, 908.0877192982456, 2724.4736842105262, 1294.25, 1785.2068965517242, 1991.2692307692307, 1399.3783783783783, 1917.888888888889, 4315.666666666667, 1151.0444444444445, 4316.5, 4316.666666666667, 3237.75, 1363.4736842105262, 2878.5555555555557, 4317.916666666667, 1263.9268292682927, 5182.2, 5758.111111111111, 2879.1111111111113, 341.2828947368421, 879.3559322033898, 682.8157894736842, 1081.2708333333333, 2883.4444444444443, 1622.0625, 3244.25, 979.5471698113207, 1038.44, 1527.2058823529412, 1997.423076923077, 1298.5, 1923.8148148148148, 1791.3103448275863, 5194.9, 4722.818181818182, 6494.0, 2474.0476190476193, 4329.666666666667, 2361.681818181818, 5773.222222222223, 4330.166666666667, 1367.5263157894738, 3712.0714285714284, 928.0535714285714, 675.1948051948052, 3713.785714285714, 598.0114942528736, 2365.0, 712.986301369863, 635.0731707317074, 964.5, 1578.3636363636363, 2367.681818181818, 465.60714285714283, 1931.5185185185185, 966.0555555555555, 2268.304347826087, 1630.59375, 1410.3783783783783, 2485.0476190476193, 549.6421052631579, 2008.576923076923, 629.7469879518072, 687.828947368421, 3267.375, 3267.6875, 950.6727272727272, 688.0657894736842, 4754.090909090909, 2179.25, 1538.4705882352941, 252.93719806763286, 1277.0975609756097, 2276.608695652174, 1026.7843137254902, 1636.6875, 2756.7368421052633, 1540.6764705882354, 873.35, 4763.818181818182, 2495.5238095238096, 988.8679245283018, 2911.8333333333335, 2278.913043478261, 770.8823529411765, 602.9080459770115, 3278.5, 4371.583333333333, 1345.3589743589744, 5247.0, 709.081081081081, 1009.3653846153846, 5248.8, 860.5737704918033, 3749.8571428571427, 1875.2857142857142, 5834.444444444444, 312.8511904761905, 1168.1333333333334, 1877.6785714285713, 1502.5142857142857, 809.123076923077, 8765.666666666666, 1348.6666666666667, 2505.0, 2287.695652173913, 752.2714285714286, 2194.5, 975.7592592592592, 1145.7391304347825, 6588.375, 2291.7391304347825, 1647.4375, 2510.6666666666665, 775.5147058823529, 635.5421686746988, 507.41346153846155, 1227.3488372093022, 5864.222222222223, 1077.204081632653, 812.3076923076923, 2400.2272727272725, 4400.75, 13202.5, 800.2575757575758, 2779.8947368421054, 704.3466666666667, 1354.7948717948718, 1554.1764705882354, 1101.0833333333333, 2642.65, 2402.6363636363635, 852.6129032258065, 1510.4285714285713, 2937.1111111111113, 1174.911111111111, 1652.34375, 3304.8125, 1555.264705882353, 1888.6785714285713, 8814.0, 1652.6875, 1511.3142857142857, 789.6567164179105, 6613.5, 1079.8775510204082, 4810.727272727273, 1960.0740740740741, 1357.1025641025642, 882.1833333333333, 3781.0714285714284, 1890.7142857142858, 3529.6, 3309.125, 1151.1521739130435, 7565.0, 1324.125, 3783.6428571428573, 5886.111111111111, 1103.7291666666667, 602.3863636363636, 1828.1379310344828, 779.75, 4820.545454545455, 3119.3529411764707, 2410.5, 1178.5777777777778, 1178.6222222222223, 768.8405797101449, 4420.916666666667, 1657.9375, 2040.7692307692307, 2040.8846153846155, 1129.0851063829787, 6633.625, 1769.0, 3790.9285714285716, 366.31724137931036, 1130.2553191489362, 1154.9565217391305, 1295.878048780488, 4087.6153846153848, 1328.575, 640.4819277108434, 1236.3255813953488, 5907.111111111111, 2953.6666666666665, 1519.1142857142856, 5317.1, 5317.2, 871.7704918032787, 3128.3529411764707, 857.8225806451613, 1003.566037735849, 818.4153846153846, 1564.9117647058824, 1663.03125, 1365.076923076923, 2047.8076923076924, 5916.222222222223, 3803.4285714285716, 1299.219512195122, 1718.5806451612902, 2421.7727272727275, 527.6633663366337, 1480.4722222222222, 2805.2631578947367, 820.0615384615385, 820.1846153846154, 2221.6666666666665, 919.448275862069, 1159.4565217391305, 935.9122807017544, 1720.8709677419354, 1569.5, 834.21875, 1213.590909090909, 920.7586206896551, 5340.6, 2136.44, 2054.576923076923, 2136.84, 1369.820512820513, 1780.9, 4452.5, 890.85, 2429.7272727272725, 1406.8947368421052, 1304.0731707317073, 2546.1428571428573, 3342.125, 703.7894736842105, 1783.0, 1070.02, 5944.888888888889, 1911.142857142857, 1911.3214285714287, 2973.3333333333335, 723.4864864864865, 973.6545454545454, 4462.833333333333, 4462.916666666667, 1447.6486486486488, 733.8219178082192, 1306.8048780487804, 1674.5625, 878.6065573770492, 1030.7692307692307, 1489.5, 3575.133333333333, 2553.9523809523807, 1219.1136363636363, 894.2, 6706.75, 1118.0625, 1032.2692307692307, 6709.875, 1988.3333333333333, 3158.294117647059, 2982.8888888888887, 521.4368932038835, 1377.3846153846155, 1193.911111111111, 318.2426035502959, 4889.545454545455, 632.9058823529411, 2339.2608695652175, 1992.8148148148148, 1055.1568627450981, 1736.0645161290322, 1223.3181818181818, 828.2461538461539, 2447.1363636363635, 664.9506172839506, 1224.2272727272727, 1683.46875, 2342.3478260869565, 1224.5227272727273, 1857.9655172413793, 485.73873873873873, 855.952380952381, 674.35, 3853.5714285714284, 1740.3870967741937, 1798.5333333333333, 930.3793103448276, 914.9152542372881, 4907.363636363636, 8997.166666666666, 899.7833333333333, 5998.888888888889, 1499.8333333333333, 1588.1470588235295, 1588.3529411764705, 2348.2608695652175, 5401.2, 982.290909090909, 1227.9545454545455, 3602.133333333333, 720.9866666666667, 2003.037037037037, 3863.0714285714284, 1423.3684210526317, 1387.076923076923, 1803.4, 2352.4347826086955, 3607.2, 751.5972222222222, 5411.7, 1745.8064516129032, 3183.764705882353, 1388.051282051282, 3609.133333333333, 6767.25, 2165.6, 741.7945205479452, 796.4117647058823, 4166.2307692307695, 2166.48, 1203.7333333333333, 5416.9, 2708.65, 1003.4074074074074, 3870.5, 1354.775, 3010.6666666666665, 3387.1875, 1389.7179487179487, 4169.307692307692, 774.7285714285714, 1355.8, 743.0410958904109, 1507.0277777777778, 7750.714285714285, 3191.6470588235293, 1937.857142857143, 3876.0, 1466.7297297297298, 3876.4285714285716, 1871.6896551724137, 1696.3125, 2467.5454545454545, 1751.3870967741937, 861.8571428571429, 1597.1470588235295, 1206.8, 452.94166666666666, 1294.357142857143, 4942.545454545455, 439.0241935483871, 3629.4, 938.948275862069, 1008.5925925925926, 2368.304347826087, 2867.2631578947367, 2594.3809523809523, 908.2, 2179.8, 4541.416666666667, 2018.4814814814815, 908.4666666666667, 1817.1, 1947.1785714285713, 5452.4, 3895.0, 3029.6666666666665, 1010.0925925925926, 1759.5483870967741, 1604.3529411764705, 1212.2444444444445, 3896.8571428571427, 2479.909090909091, 1818.6666666666667, 2273.5833333333335, 13641.75, 2021.0740740740741, 10914.0, 1161.3191489361702, 866.4761904761905, 650.0595238095239, 3900.5714285714284, 880.8387096774194, 1030.6415094339623, 1762.1290322580646, 3035.0555555555557, 1561.0857142857142, 1884.448275862069, 1656.060606060606, 815.776119402985, 1607.8235294117646, 1242.590909090909, 6075.111111111111, 4556.416666666667, 701.1923076923077, 2604.4761904761904, 4972.363636363636, 1367.45, 1334.3170731707316, 1334.3902439024391, 1094.24, 1439.8684210526317, 3218.6470588235293, 2026.6296296296296, 1824.0, 2736.25, 3219.529411764706, 2488.0, 4561.416666666667, 1887.7931034482758, 6843.375, 1073.5098039215686, 456.525, 6087.222222222223, 1441.8157894736842, 1767.516129032258, 3653.266666666667, 4215.384615384615, 944.8620689655172, 1336.9512195121952, 3045.4444444444443, 978.9464285714286, 1612.5294117647059, 1191.9782608695652, 2741.75, 559.6938775510204, 2384.913043478261, 2285.7083333333335, 1769.741935483871, 1371.6, 722.0526315789474, 1076.0980392156862, 752.1369863013699, 704.0641025641025, 1076.8431372549019, 1168.8085106382978, 1831.2, 624.5454545454545, 3925.8571428571427, 3233.176470588235, 2198.64, 1278.4651162790697, 742.9864864864865, 3665.6666666666665, 4582.166666666667, 1078.3529411764705, 1666.7878787878788, 13751.25, 579.5578947368421, 3932.9285714285716, 6118.111111111111, 3059.1666666666665, 501.1, 3242.5882352941176, 1125.4285714285713, 2042.4814814814815, 2121.1153846153848, 4242.615384615385, 9192.5, 6894.5, 3064.3333333333335, 904.3934426229508, 502.04545454545456, 1150.5833333333333, 3068.6666666666665, 1105.3, 1023.6296296296297, 6910.0, 825.1194029850747, 3948.9285714285716, 1626.2058823529412, 1228.8, 2910.5263157894738, 2633.6666666666665, 727.9342105263158, 878.2698412698413, 728.1973684210526, 1085.235294117647, 1628.0882352941176, 878.7619047619048, 922.7833333333333, 3691.266666666667, 1977.5714285714287, 1786.3225806451612, 1582.3428571428572, 1538.5555555555557, 1130.6326530612246, 11080.6, 9234.0, 955.3793103448276, 1629.9411764705883, 759.3561643835617, 1260.0454545454545, 2217.8, 3080.6111111111113, 3080.8333333333335, 3262.235294117647, 1386.5, 1912.5172413793102, 2411.913043478261, 3467.4375, 1180.4255319148936, 1261.159090909091, 13873.0, 1206.5217391304348, 2413.304347826087, 6167.444444444444, 5046.181818181818, 1632.6764705882354, 1354.3658536585365, 2414.478260869565, 2644.6190476190477, 1586.8857142857144, 624.2134831460675, 1207.8478260869565, 1984.5, 6945.875, 721.8571428571429, 2779.25, 2526.818181818182, 926.6833333333333, 5054.727272727273, 896.983870967742, 1986.3214285714287, 2139.269230769231, 3708.133333333333, 722.4415584415584, 1794.516129032258, 2781.7, 806.5797101449275, 4638.083333333333, 1590.2857142857142, 1504.4864864864865, 2061.814814814815, 831.1641791044776, 1266.1136363636363, 1211.195652173913, 1797.6774193548388, 1857.7333333333333, 5066.727272727273, 2654.095238095238, 3096.5, 1393.7, 705.746835443038, 2144.576923076923, 820.1470588235294, 2935.4736842105262, 1360.4146341463415, 858.2307692307693, 1549.7777777777778, 724.7012987012987, 4650.333333333333, 885.8888888888889, 3986.714285714286, 1691.6060606060605, 1431.5384615384614, 6203.555555555556, 553.2970297029703, 1242.0222222222221, 1927.5172413793102, 2661.904761904762, 7986.142857142857, 1096.1764705882354, 5590.6, 3106.1111111111113, 11182.2, 1928.3103448275863, 948.271186440678, 1929.4137931034484, 2152.1923076923076, 3997.0, 3109.1111111111113, 1599.2285714285715, 1301.9767441860465, 3499.25, 2666.2380952380954, 823.4852941176471, 700.075, 1513.7297297297298, 2435.304347826087, 1217.695652173913, 2240.6, 2074.8888888888887, 949.7118644067797, 824.1764705882352, 7005.625, 1167.9583333333333, 1078.25, 2670.1428571428573, 2951.2631578947367, 950.7457627118644, 344.44785276073617, 4678.916666666667, 802.2142857142857, 515.5688073394496, 3122.1111111111113, 5109.0, 1441.128205128205, 1221.9565217391305, 1277.5681818181818, 1653.4117647058824, 7027.125, 1022.290909090909, 5111.545454545455, 740.078947368421, 1061.5094339622642, 3125.6666666666665, 5626.7, 1308.7209302325582, 1655.2058823529412, 1223.7173913043478, 1876.5666666666666, 8042.714285714285, 2165.6923076923076, 2559.5, 1023.9454545454546, 1877.4, 7040.5, 866.6307692307693, 5633.2, 1126.76, 3755.9333333333334, 6260.111111111111, 3130.222222222222, 2253.84, 1610.0, 2167.4615384615386, 8050.714285714285, 8051.0, 772.1095890410959, 348.24074074074076, 7052.125, 3134.722222222222, 3526.875, 1343.8095238095239, 4341.846153846154, 2257.84, 2822.4, 2688.0476190476193, 752.7066666666667, 2822.85, 1660.7058823529412, 752.9333333333333, 3529.4375, 2017.2857142857142, 1526.8918918918919, 1883.2, 1086.6538461538462, 384.687074829932, 5655.2, 3326.9411764705883, 1067.2641509433963, 2459.478260869565, 785.8611111111111, 1230.108695652174, 1088.2307692307693, 2358.375, 5145.636363636364, 1316.4186046511627, 5146.181818181818, 1380.8048780487804, 1088.8653846153845, 2177.8846153846152, 3146.0, 6292.222222222223, 1317.0697674418604, 3331.5882352941176, 1258.8444444444444, 3776.6666666666665, 2832.7, 2179.1923076923076, 717.3544303797469, 363.59615384615387, 2025.9285714285713, 1181.875, 1260.7777777777778, 1533.6216216216217, 2026.9285714285713, 1384.439024390244, 3784.266666666667, 4054.714285714286, 3784.6666666666665, 1135.5, 767.3513513513514, 2184.076923076923, 2103.3333333333335, 3340.6470588235293, 4056.5714285714284, 2989.157894736842, 9466.166666666666, 3341.1176470588234, 2704.8571428571427, 4733.833333333333, 2104.037037037037, 1959.0, 4058.0, 4734.75, 3156.777777777778, 1959.551724137931, 6314.333333333333, 3788.866666666667, 4736.25, 1623.942857142857, 5167.363636363636, 3789.733333333333, 1386.6829268292684, 861.6212121212121, 1496.7894736842106, 2993.7368421052633, 2370.2916666666665, 862.030303030303, 1537.8108108108108, 3556.375, 1673.6176470588234, 4064.5714285714284, 2995.0526315789475, 1016.625, 1237.804347826087, 2277.68, 1238.0217391304348, 1779.8125, 1460.6153846153845, 999.6491228070175, 1424.9, 4384.384615384615, 838.2794117647059, 3167.0, 1900.4333333333334, 1966.1379310344828, 687.144578313253, 4387.538461538462, 803.5352112676056, 3356.235294117647, 4755.0, 983.9137931034483, 352.5679012345679, 3569.8125, 6346.444444444444, 1785.40625, 816.3714285714286, 1143.04, 2597.8636363636365, 1120.9607843137255, 1504.5, 1971.5862068965516, 1216.787234042553, 1361.7380952380952, 3010.3684210526317, 6355.444444444444, 841.2794117647059, 2383.75, 938.0491803278688, 2724.9523809523807, 2289.08, 665.6860465116279, 1004.578947368421, 1847.258064516129, 3014.0526315789475, 753.578947368421, 2121.3703703703704, 3369.4117647058824, 3182.4444444444443, 690.3493975903615, 2491.391304347826, 7162.875, 843.0441176470588, 1470.051282051282, 2293.32, 4410.384615384615, 1849.6451612903227, 1792.0, 5734.5, 3584.3125, 651.875, 1738.5151515151515, 4098.142857142857, 5737.5, 652.5340909090909, 1148.82, 5222.0, 1552.6216216216217, 2128.185185185185, 1795.78125, 2498.521739130435, 1690.3235294117646, 942.4426229508197, 5226.363636363636, 1402.3170731707316, 2211.5, 2738.1428571428573, 1513.3684210526317, 1198.4583333333333, 7190.875, 1598.0, 1692.0588235294117, 1150.66, 6392.666666666667, 3196.4444444444443, 3384.529411764706, 1046.1818181818182, 846.2941176470588, 747.6493506493506, 8224.285714285714, 757.6052631578947, 5758.0, 1919.5333333333333, 3839.2, 789.1095890410959, 2880.55, 1516.157894736842, 1858.741935483871, 1372.0714285714287, 1921.0333333333333, 5239.454545454545, 2881.95, 7205.125, 1048.0727272727272, 4803.833333333333, 3391.0588235294117, 1372.6666666666667, 945.2950819672132, 1088.0188679245282, 4435.923076923077, 430.6641791044776, 1049.3636363636363, 3206.6111111111113, 1603.7222222222222, 14433.75, 836.8840579710145, 3609.1875, 2750.1428571428573, 1256.0217391304348, 1561.6216216216217, 947.6229508196722, 2890.5, 1606.0833333333333, 3043.4210526315787, 2409.7083333333335, 3043.9473684210525, 1927.9333333333334, 4131.428571428572, 1051.8181818181818, 3214.1111111111113, 876.6515151515151, 4450.923076923077, 1015.3684210526316, 3404.6470588235293, 1523.342105263158, 3618.0625, 2757.190476190476, 793.2876712328767, 3406.705882352941, 1182.0, 839.6811594202899, 2228.5384615384614, 772.68, 2898.1, 1183.204081632653, 1260.5, 3221.5, 532.2385321100918, 2637.0454545454545, 4144.142857142857, 1813.125, 1871.6451612903227, 2522.695652173913, 1094.8490566037735, 1055.1636363636364, 2072.714285714286, 1658.3428571428572, 1759.090909090909, 1872.741935483871, 1116.5192307692307, 1873.225806451613, 5279.272727272727, 1382.7857142857142, 6453.222222222223, 907.546875, 1873.8387096774193, 952.327868852459, 1936.5333333333333, 2074.964285714286, 2075.5, 2235.269230769231, 785.6756756756756, 4152.928571428572, 3633.875, 5285.818181818182, 3634.3125, 1321.75, 2528.7391304347825, 2326.48, 1661.8857142857144, 1077.2592592592594, 2908.75, 2154.740740740741, 4155.714285714285, 1763.3939393939395, 1662.6857142857143, 1385.9285714285713, 746.4487179487179, 6469.444444444444, 1941.1, 2329.44, 1456.15, 882.5909090909091, 4854.416666666667, 6472.666666666667, 3426.8823529411766, 856.8529411764706, 4482.153846153846, 1213.9583333333333, 3642.0, 1665.0857142857142, 1295.1333333333334, 1004.948275862069, 844.8115942028985, 1943.2, 3068.3684210526317, 1005.2931034482758, 1943.6666666666667, 1576.3783783783783, 6480.777777777777, 2011.7586206896551, 1356.9767441860465, 4862.666666666667, 694.7619047619048, 8337.285714285714, 8337.57142857143, 1144.5098039215686, 1945.8666666666666, 2538.1739130434785, 621.2765957446809, 3893.5333333333333, 9734.0, 341.8830409356725, 1244.1063829787233, 860.0441176470588, 4498.7692307692305, 8355.142857142857, 622.4893617021277, 2544.3478260869565, 1625.6944444444443, 1463.25, 3443.235294117647, 3080.8947368421054, 1463.65, 3081.4736842105262, 1540.8157894736842, 1126.1538461538462, 2546.1304347826085, 1541.2631578947369, 751.0128205128206, 976.6333333333333, 3906.9333333333334, 1085.3333333333333, 1542.3947368421052, 2548.3478260869565, 1776.2727272727273, 2171.185185185185, 2791.5714285714284, 1332.4772727272727, 1221.4583333333333, 1832.3125, 4188.285714285715, 1047.107142857143, 2932.0, 3086.3684210526317, 2022.2758620689656, 2094.714285714286, 1303.6, 875.6716417910447, 2933.6, 2095.464285714286, 826.5633802816901, 1248.7021276595744, 2445.4166666666665, 1778.7272727272727, 5870.1, 917.296875, 690.8352941176471, 2669.318181818182, 2349.08, 4517.538461538462, 2669.681818181818, 1432.658536585366, 2937.35, 816.4861111111111, 1088.7222222222222, 6532.666666666667, 1633.2222222222222, 2351.88, 1306.9333333333334, 2352.56, 1729.9411764705883, 1508.3589743589744, 3676.75, 7353.75, 1337.159090909091, 5348.727272727273, 1730.7941176470588, 3678.3125, 2179.814814814815, 3269.8333333333335, 774.5, 2675.590909090909, 6540.444444444444, 1435.8536585365853, 3098.5789473684213, 2803.904761904762, 6542.555555555556, 2264.769230769231, 1840.34375, 1051.8392857142858, 879.223880597015, 6545.555555555556, 640.7065217391304, 1155.9411764705883, 1340.0227272727273, 3685.1875, 1684.7142857142858, 2563.9565217391305, 1842.9375, 1685.1714285714286, 756.3974358974359, 2107.1428571428573, 1255.5106382978724, 2107.714285714286, 3934.4666666666667, 1735.8235294117646, 3106.315789473684, 1553.4736842105262, 1513.7692307692307, 1904.516129032258, 3690.1875, 621.8105263157895, 4544.307692307692, 2110.0, 9846.833333333334, 4220.142857142857, 2363.52, 6565.444444444444, 909.2, 1074.6181818181817, 1055.5, 712.3614457831326, 580.0686274509804, 1793.0, 3698.1875, 2958.75, 6575.222222222223, 1076.2727272727273, 1600.1351351351352, 2041.6206896551723, 5382.636363636364, 2368.48, 3116.5263157894738, 1057.5, 3116.8947368421054, 3948.2, 731.4197530864197, 4557.538461538462, 955.6451612903226, 2194.8518518518517, 1139.673076923077, 801.1216216216217, 1185.76, 1140.326923076923, 941.2539682539683, 835.2816901408451, 1853.59375, 885.4328358208955, 1797.7272727272727, 2579.6521739130435, 927.1875, 723.8536585365854, 339.48571428571427, 1856.59375, 5941.3, 3300.8333333333335, 1007.1355932203389, 900.4090909090909, 2476.75, 837.3521126760563, 943.8888888888889, 1043.8070175438597, 3131.684210526316, 2203.962962962963, 875.4264705882352, 1102.4814814814815, 1102.5740740740741, 1215.4285714285713, 1103.0925925925926, 2707.6363636363635, 931.09375, 2054.896551724138, 2292.230769230769, 2383.96, 1806.2121212121212, 4257.714285714285, 3311.777777777778, 5419.454545454545, 2208.1111111111113, 2981.1, 426.20714285714286, 877.6470588235294, 3141.2105263157896, 3510.8823529411766, 1297.7173913043478, 3511.5882352941176, 1492.675, 3731.9375, 1492.95, 3143.2105263157896, 5429.454545454545, 1270.8297872340424, 671.2696629213483, 3734.125, 963.741935483871, 4596.538461538462, 2716.409090909091, 2598.478260869565, 3515.705882352941, 905.6969696969697, 2599.0, 1067.5, 5978.2, 1087.1272727272728, 2847.5238095238096, 1128.2830188679245, 7475.0, 720.843373493976, 4273.857142857143, 748.075, 3740.5625, 8550.0, 1760.6470588235295, 1710.4, 301.1105527638191, 1175.0980392156862, 3746.0625, 2397.64, 6660.444444444444, 1427.3333333333333, 868.9565217391304, 2498.4166666666665, 8566.142857142857, 2141.6785714285716, 2068.0, 2399.0, 1817.5454545454545, 1052.4035087719299, 9998.0, 2142.464285714286, 2608.6521739130435, 6666.666666666667, 4615.538461538462, 2307.8846153846152, 3158.4210526315787, 1176.7254901960785, 1875.5625, 1936.1612903225807, 1017.4237288135594, 4617.846153846154, 3159.7368421052633, 3531.9411764705883, 1429.7857142857142, 3160.7894736842104, 1540.0, 846.0140845070423, 1877.28125, 6007.6, 858.4, 2612.782608695652, 2072.2758620689656, 954.1904761904761, 1156.2692307692307, 911.1060606060606, 1113.611111111111, 1074.0357142857142, 2313.576923076923, 1769.3823529411766, 2005.4333333333334, 2616.0, 824.3972602739726, 1770.1176470588234, 2407.56, 792.25, 1308.9782608695652, 1720.6571428571428, 4015.0, 1544.3846153846155, 1825.2424242424242, 1057.280701754386, 1944.0645161290322, 2009.0, 3348.5555555555557, 2232.5555555555557, 1310.5217391304348, 2621.217391304348, 1470.560975609756, 2153.5, 1586.8947368421052, 2153.75, 1005.1333333333333, 6031.0, 8615.857142857143, 7539.0, 2154.1785714285716, 783.5714285714286, 2742.681818181818, 3549.5882352941176, 4310.571428571428, 958.063492063492, 838.3611111111111, 7545.375, 4024.266666666667, 989.639344262295, 928.7846153846153, 2874.8571428571427, 1232.1224489795918, 1677.138888888889, 1677.1666666666667, 3354.5, 1632.1351351351352, 6039.3, 888.2794117647059, 1313.3260869565217, 1948.9032258064517, 1098.6181818181817, 1726.7428571428572, 8634.285714285714, 1042.1724137931035, 2878.7619047619046, 4650.384615384615, 6717.666666666667, 1591.157894736842, 1889.71875, 1314.6304347826087, 3359.777777777778, 4652.307692307692, 1042.896551724138, 1779.3823529411766, 3361.1666666666665, 3559.235294117647, 3559.470588235294, 6051.2, 1635.5675675675675, 2631.304347826087, 1952.516129032258, 2161.9285714285716, 865.0714285714286, 2163.0, 4037.8, 961.4603174603175, 3563.470588235294, 797.1842105263158, 6058.9, 5049.25, 3564.294117647059, 1409.4186046511627, 6060.7, 1346.9333333333334, 1289.7659574468084, 2755.4545454545455, 427.4718309859155, 4669.692307692308, 1517.825, 3794.875, 1897.5, 3795.4375, 2335.846153846154, 1959.258064516129, 573.2264150943396, 1688.0555555555557, 1899.1875, 893.9852941176471, 2533.2083333333335, 950.046875, 503.05785123966945, 981.8870967741935, 982.0, 1415.9767441860465, 6088.9, 4683.923076923077, 1127.6666666666667, 716.5764705882353, 1149.2641509433963, 6768.0, 2768.909090909091, 3583.3529411764707, 3046.15, 1128.3333333333333, 870.5285714285715, 2101.3793103448274, 1269.75, 3809.4375, 3208.1052631578946, 7619.375, 2902.7619047619046, 5541.727272727273, 5542.0, 2258.0, 6774.111111111111, 1741.9714285714285, 4064.733333333333, 871.1285714285714, 2258.5925925925926, 3388.0555555555557, 1033.7457627118645, 5544.909090909091, 2772.681818181818, 1070.3157894736842, 3389.5555555555557, 678.2666666666667, 1565.3589743589744, 1000.9016393442623, 289.6018957345972, 3594.529411764706, 2263.3703703703704, 6790.333333333333, 736.5180722891566, 1910.46875, 8734.0, 2264.5185185185187, 1072.8070175438597, 2108.689655172414, 2352.269230769231, 3822.5, 794.4545454545455, 784.3461538461538, 4370.142857142857, 1112.490909090909, 2039.7666666666667, 805.4605263157895, 387.753164556962, 3063.4, 4376.5, 2664.0, 928.4090909090909, 8753.857142857143, 2664.391304347826, 3225.3684210526317, 6128.3, 10214.333333333334, 7661.0, 4086.0666666666666, 4715.153846153846, 1977.5806451612902, 4379.0, 1657.1351351351352, 1304.9148936170213, 2359.153846153846, 1057.6379310344828, 8763.42857142857, 2359.4615384615386, 619.929292929293, 5579.454545454545, 3409.8888888888887, 2557.5833333333335, 626.6428571428571, 830.1351351351351, 5119.25, 6825.888888888889, 4388.142857142857, 865.5352112676056, 1755.9142857142858, 808.7368421052631, 4390.642857142857, 1463.595238095238, 798.4935064935065, 2928.190476190476, 4392.357142857143, 12298.8, 2928.3333333333335, 3617.4117647058824, 1060.4310344827586, 5591.454545454545, 549.7321428571429, 1399.3863636363637, 8796.285714285714, 2199.1071428571427, 1282.9791666666667, 4105.8, 892.7971014492754, 5133.833333333333, 1432.9302325581396, 856.125, 5603.909090909091, 1208.7843137254902, 1433.9302325581396, 1581.2051282051282, 822.4, 2372.423076923077, 3084.35, 920.8059701492538, 1505.0243902439024, 1714.4166666666667, 6857.777777777777, 1064.2241379310344, 1313.4468085106382, 1815.8529411764705, 2374.6153846153848, 1624.921052631579, 3632.235294117647, 2375.0, 5146.083333333333, 3087.7, 1436.2558139534883, 2573.5416666666665, 1260.5714285714287, 1871.909090909091, 5616.090909090909, 2808.2727272727275, 4413.142857142857, 762.9506172839506, 7725.0, 694.5955056179776, 3434.777777777778, 1671.4054054054054, 2945.1428571428573, 8835.857142857143, 847.5068493150685, 4759.307692307692, 825.3866666666667, 1407.090909090909, 5628.727272727273, 6879.888888888889, 897.4927536231884, 2211.75, 6881.111111111111, 7741.625, 5630.363636363636, 6881.666666666667, 1264.1836734693877, 1822.1470588235295, 2581.625, 1721.138888888889, 2581.7916666666665, 4130.933333333333, 1408.3863636363637, 4766.923076923077, 5164.25, 7746.5, 2817.181818181818, 1191.9038461538462, 4132.133333333333, 1878.3030303030303, 5635.181818181818, 1050.6610169491526, 1127.3272727272727, 1192.6923076923076, 2953.4285714285716, 1938.3125, 6891.888888888889, 1879.6666666666667, 3876.9375, 969.359375, 3265.4736842105262, 3102.35, 2001.5483870967741, 2139.7241379310344, 7756.625, 940.2727272727273, 4433.0, 1825.764705882353, 6897.444444444444, 3267.5789473684213, 1089.3684210526317, 1194.25, 2300.259259259259, 850.8219178082192, 3450.8888888888887, 1411.8636363636363, 1593.051282051282, 6213.1, 1109.5714285714287, 2958.9523809523807, 7767.375, 1268.2857142857142, 1635.7105263157894, 6906.555555555556, 5180.083333333333, 6216.2, 2072.2, 2825.8636363636365, 398.8397435897436, 6913.444444444444, 5656.818181818182, 6222.6, 2592.7916666666665, 2705.7391304347825, 1481.7857142857142, 2305.259259259259, 412.5364238410596, 1557.55, 916.3235294117648, 8901.57142857143, 1598.0, 1326.1489361702127, 2226.1785714285716, 2710.217391304348, 2077.9333333333334, 1154.5925925925926, 1154.8148148148148, 2227.285714285714, 4454.714285714285, 3118.35, 1057.1694915254238, 350.70786516853934, 1023.4262295081967, 1224.235294117647, 2973.3333333333335, 3902.6875, 1687.7837837837837, 3469.5, 449.6043165467626, 6944.222222222223, 2841.0454545454545, 3289.7894736842104, 2404.153846153846, 2717.913043478261, 2604.7916666666665, 1250.52, 1645.7368421052631, 4810.7692307692305, 1563.575, 568.9, 1331.6382978723404, 2845.0454545454545, 1098.280701754386, 3295.0, 5217.25, 1692.1891891891892, 5217.666666666667, 3683.294117647059, 3295.7368421052633, 4816.923076923077, 846.3648648648649, 2236.8928571428573, 1692.918918918919, 1062.1186440677966, 5697.272727272727, 3917.125, 1229.0392156862745, 1062.5084745762713, 1139.8181818181818, 1741.4722222222222, 3134.7, 4478.214285714285, 2508.0, 1161.351851851852, 2850.909090909091, 12544.2, 6969.111111111111, 6969.222222222223, 2727.4347826086955, 4825.538461538462, 3690.176470588235, 2163.4137931034484, 5703.818181818182, 6971.666666666667, 1028.7377049180327, 1793.0285714285715, 1121.0357142857142, 1395.1555555555556, 2853.909090909091, 4484.857142857143, 2025.8064516129032, 1064.4745762711864, 1336.4255319148936, 3140.9, 3141.1, 981.828125, 1013.5967741935484, 1185.867924528302, 1142.909090909091, 885.4647887323944, 5715.545454545455, 1533.7073170731708, 3493.5555555555557, 707.1460674157304, 1748.388888888889, 767.9146341463414, 6297.1, 1145.1636363636364, 1067.593220338983, 954.4545454545455, 2520.0, 1188.7169811320755, 2032.483870967742, 5728.181818181818, 2032.774193548387, 1189.0188679245282, 3001.2380952380954, 1260.64, 7003.888888888889, 1050.6333333333334, 829.6973684210526, 2866.409090909091, 1538.219512195122, 788.5375, 1034.344262295082, 2035.3548387096773, 3155.15, 4854.384615384615, 2744.0, 1088.4655172413793, 864.8356164383562, 3322.9473684210525, 5739.909090909091, 2630.875, 5740.454545454545, 7893.5, 3947.0, 5262.75, 1973.71875, 971.7846153846153, 12633.4, 1238.8431372549019, 4860.307692307692, 734.9767441860465, 3327.2631578947367, 2180.137931034483, 3327.6315789473683, 1149.8545454545454, 12648.6, 10540.666666666666, 6324.7, 4865.2307692307695, 719.0227272727273, 2260.0, 1291.6530612244899, 6329.3, 7032.777777777777, 3331.4736842105262, 3165.0, 1217.3653846153845, 5275.583333333333, 1194.5849056603774, 1241.4705882352941, 782.1111111111111, 2534.36, 1508.6904761904761, 7920.75, 2112.233333333333, 1980.25, 960.2272727272727, 2112.6, 5761.727272727273, 4527.214285714285, 7923.0, 3018.3809523809523, 3018.5714285714284, 1267.88, 4876.692307692308, 1761.25, 1474.7674418604652, 1546.9024390243903, 906.0714285714286, 5285.583333333333, 1378.891304347826, 3964.5625, 7048.222222222223, 689.9021739130435, 1058.0333333333333, 9069.0, 1350.8936170212767, 5772.181818181818, 1716.1081081081081, 1763.9722222222222, 1076.3559322033898, 1221.25, 9072.285714285714, 713.7303370786517, 2268.75, 1095.3620689655172, 977.4923076923077, 1868.9411764705883, 3344.5263157894738, 1478.0, 9079.285714285714, 921.2898550724638, 3739.470588235294, 3178.75, 2445.3076923076924, 5779.909090909091, 1673.2368421052631, 766.4096385542168, 3029.3333333333335, 964.0, 1988.375, 4242.0, 1818.142857142857, 3535.4444444444443, 3535.8333333333335, 4243.4, 1414.6222222222223, 1632.7435897435898, 2894.7727272727275, 1079.5084745762713, 7077.111111111111, 1990.8125, 2770.0434782608695, 1415.888888888889, 1930.8484848484848, 4551.5, 6372.3, 1482.0, 3186.35, 5310.75, 1991.59375, 1517.5, 1011.7936507936508, 2549.92, 5795.636363636364, 817.8333333333334, 9113.142857142857, 3544.1111111111113, 1119.298245614035, 3753.1176470588234, 3544.722222222222, 1012.8571428571429, 5317.583333333333, 9116.142857142857, 2659.4583333333335, 862.7027027027027, 4911.076923076923, 4560.714285714285, 1140.3214285714287, 5805.636363636364, 1824.857142857143, 998.046875, 1359.2978723404256, 9126.857142857143, 2203.1724137931033, 2556.0, 6390.1, 1825.9714285714285, 1997.25, 3759.6470588235293, 887.9305555555555, 4918.2307692307695, 2906.3636363636365, 940.3823529411765, 888.3611111111111, 901.2112676056338, 1230.673076923077, 338.87301587301585, 3202.5, 1256.1568627450981, 1456.159090909091, 791.2962962962963, 1456.7954545454545, 1643.6153846153845, 866.3783783783783, 7124.0, 4007.3125, 2671.7916666666665, 3562.5555555555557, 1282.8, 1002.34375, 2916.3636363636365, 3774.235294117647, 4010.25, 1887.2941176470588, 1395.391304347826, 3776.0, 1783.361111111111, 1689.8947368421052, 3210.9, 4587.285714285715, 2470.269230769231, 1784.4166666666667, 2470.846153846154, 2793.2608695652175, 8031.0, 944.9117647058823, 3059.809523809524, 2471.423076923077, 9179.714285714286, 9180.0, 6426.2, 1947.4848484848485, 2295.3571428571427, 4017.1875, 2216.6206896551726, 7142.888888888889, 7143.111111111111, 1607.375, 6429.6, 5358.25, 3782.6470588235293, 2923.090909090909, 1191.0555555555557, 1649.3589743589744, 1495.953488372093, 2010.21875, 1496.2325581395348, 932.536231884058, 960.4179104477612, 4950.076923076923, 1340.875, 7151.444444444444, 2682.0416666666665, 1072.9333333333334, 2799.2608695652175, 919.8714285714286, 2799.913043478261, 2220.689655172414, 2800.086956521739, 1571.0243902439024, 1370.531914893617, 933.5797101449275, 920.5428571428571, 1895.4411764705883, 1611.325, 4297.066666666667, 1263.9411764705883, 1790.75, 10744.666666666666, 4604.928571428572, 1216.4528301886792, 2686.4583333333335, 2080.1290322580644, 2803.8260869565215, 4030.625, 7165.666666666667, 2579.96, 3794.3529411764707, 871.8918918918919, 1897.8235294117646, 2481.9615384615386, 742.0114942528736, 860.92, 4304.733333333334, 5870.363636363636, 6457.5, 2807.913043478261, 2227.206896551724, 2227.448275862069, 884.972602739726, 384.85714285714283, 1347.1666666666667, 3233.55, 3079.714285714286, 2587.04, 2395.777777777778, 7187.444444444444, 3080.4761904761904, 2087.3870967741937, 3595.3888888888887, 1321.0, 2942.409090909091, 4623.928571428572, 8092.0, 7193.0, 1749.6756756756756, 3808.235294117647, 3407.6315789473683, 5886.181818181818, 938.5072463768116, 6475.8, 1750.3783783783783, 3408.7894736842104, 3238.55, 2491.230769230769, 1295.56, 2491.653846153846, 1098.050847457627, 981.7878787878788, 2400.1111111111113, 2090.548387096774, 3600.777777777778, 5401.333333333333, 9259.857142857143, 1906.5, 2091.0967741935483, 1045.6290322580646, 2593.32, 1581.4634146341464, 1964.969696969697, 953.7941176470588, 8107.375, 2236.655172413793, 1801.9722222222222, 5406.416666666667, 1351.7916666666667, 954.3382352941177, 5408.166666666667, 2496.1153846153848, 801.3333333333334, 3606.1666666666665, 2238.551724137931, 3417.0, 3091.8571428571427, 5410.916666666667, 3417.5263157894738, 5903.272727272727, 1475.909090909091, 801.7901234567901, 1325.4897959183672, 4330.0, 416.6666666666667, 376.04046242774564, 4337.2, 9294.142857142857, 2602.52, 1301.34, 891.6986301369863, 2034.28125, 834.8717948717949, 1588.3658536585365, 5920.363636363636, 846.1038961038961, 9307.285714285714, 5429.416666666667, 835.525641025641, 3103.4761904761904, 572.078947368421, 3106.0476190476193, 1591.0243902439024, 3837.4117647058824, 2330.035714285714, 1186.4727272727273, 2175.4333333333334, 7251.555555555556, 2966.818181818182, 1450.6, 1145.3333333333333, 4080.3125, 1718.2368421052631, 7255.222222222223, 1232.132075471698, 3628.0555555555557, 3437.315789473684, 2177.0666666666666, 946.7246376811594, 5938.636363636364, 1187.8, 1866.7428571428572, 2419.925925925926, 3439.0, 2420.1111111111113, 4356.533333333334, 5940.818181818182, 1126.8275862068965, 2254.1724137931033, 2043.03125, 4358.666666666667, 4086.5625, 3846.4117647058824, 2422.3333333333335, 1108.7796610169491, 1924.2058823529412, 2617.04, 3115.6666666666665, 7270.0, 1283.078431372549, 896.6712328767123, 1336.1020408163265, 1984.030303030303, 884.918918918919, 2046.46875, 1679.3846153846155, 5038.2307692307695, 4678.571428571428, 1310.36, 1236.2641509433963, 840.1538461538462, 3276.7, 1680.5897435897436, 1311.1, 745.1022727272727, 2851.1304347826085, 1214.4259259259259, 4684.285714285715, 1873.857142857143, 10931.0, 1111.6949152542372, 4372.866666666667, 1426.0652173913043, 2262.137931034483, 5466.916666666667, 1215.0740740740741, 2982.681818181818, 1215.2962962962963, 3125.190476190476, 4688.0, 1093.9833333333333, 1112.7457627118645, 1727.8157894736842, 8207.375, 2432.296296296296, 8209.25, 1990.3030303030303, 5473.5, 7298.222222222223, 3649.1666666666665, 10947.833333333334, 5053.0, 746.6818181818181, 730.3444444444444, 1933.3235294117646, 1060.4193548387098, 2267.1724137931033, 926.2394366197183, 3131.8571428571427, 4110.625, 901.2739726027397, 1174.9642857142858, 8224.875, 4386.666666666667, 7311.333333333333, 1044.904761904762, 3464.842105263158, 1400.936170212766, 8230.75, 3873.470588235294, 1568.047619047619, 1688.7948717948718, 1029.234375, 1882.142857142857, 8234.625, 902.5890410958904, 2534.423076923077, 2635.92, 2534.576923076923, 5990.909090909091, 1830.638888888889, 2126.032258064516, 4119.3125, 1647.975, 4708.571428571428, 2866.5652173913045, 891.1216216216217, 4121.625, 2536.653846153846, 3297.75, 5073.692307692308, 4122.5625, 2198.8, 10994.333333333334, 2868.217391304348, 1199.5636363636363, 1178.2857142857142, 8248.25, 1199.9818181818182, 1692.4102564102564, 5077.307692307692, 5077.923076923077, 6601.5, 9430.857142857143, 3883.529411764706, 3474.8947368421054, 6002.272727272727, 6602.6, 1500.7272727272727, 2201.1666666666665, 1467.5111111111112, 3884.705882352941, 1405.2553191489362, 1376.1041666666667, 1179.607142857143, 1436.1739130434783, 5082.153846153846, 1201.3636363636363, 1888.0857142857142, 1612.0975609756097, 1322.02, 1739.7105263157894, 1836.861111111111, 3673.8888888888887, 1469.6222222222223, 958.5942028985507, 9449.285714285714, 4134.125, 972.8676470588235, 1575.2857142857142, 2134.483870967742, 1654.35, 2005.3939393939395, 5090.692307692308, 7353.333333333333, 16545.25, 1248.8490566037735, 1323.96, 2206.766666666667, 1161.578947368421, 7356.777777777777, 3153.0476190476193, 7357.333333333333, 883.08, 7359.111111111111, 8279.25, 705.1595744680851, 3682.9444444444443, 6629.4, 4419.666666666667, 1052.4126984126983, 2367.964285714286, 872.4736842105264, 5525.916666666667, 3014.318181818182, 2286.9310344827586, 3901.4117647058824, 9475.0, 5102.076923076923, 990.1492537313433, 2211.5333333333333, 2073.5, 3686.3888888888887, 5529.75, 2212.0666666666666, 4424.4, 976.1911764705883, 1165.0701754385964, 6037.272727272727, 1544.5581395348838, 746.6179775280899, 7383.444444444444, 1230.8333333333333, 1166.2105263157894, 2014.6060606060605, 2292.551724137931, 1127.0169491525423, 2015.090909090909, 6649.9, 2463.1481481481483, 6046.272727272727, 1055.888888888889, 9503.57142857143, 924.5416666666666, 1008.6969696969697, 2147.6774193548385, 899.8783783783783, 2296.2758620689656, 4162.125, 2774.8333333333335, 1513.8863636363637, 1281.1346153846155, 1665.6, 2467.740740740741, 1074.9516129032259, 6664.9, 3702.777777777778, 4166.0625, 2898.304347826087, 2083.375, 4762.071428571428, 3030.5454545454545, 3704.0555555555557, 1041.796875, 1058.4603174603174, 1026.0923076923077, 1852.75, 1026.2307692307693, 2900.391304347826, 3176.8571428571427, 1389.9375, 1308.3529411764705, 967.1739130434783, 1803.945945945946, 2781.5, 1589.5238095238096, 6676.1, 1907.7142857142858, 1420.723404255319, 4451.866666666667, 1712.3846153846155, 4770.285714285715, 1309.5294117647059, 1309.5686274509803, 1757.6052631578948, 4770.785714285715, 2569.1153846153848, 1855.5833333333333, 1712.923076923077, 768.1609195402299, 2304.551724137931, 4177.125, 6683.6, 4455.933333333333, 4456.066666666667, 3183.095238095238, 3932.1176470588234, 5142.076923076923, 1078.3548387096773, 2305.7241379310344, 2305.793103448276, 2571.8846153846152, 4179.5, 3715.3333333333335, 7430.888888888889, 3520.2631578947367, 514.8230769230769, 4183.125, 5148.538461538462, 4462.6, 3347.05, 956.4714285714285, 1424.6170212765958, 4184.9375, 3043.7727272727275, 4464.266666666666, 3720.5, 13394.0, 1196.0714285714287, 1810.3783783783783, 744.4666666666667, 1489.111111111111, 5154.692307692308, 3527.2105263157896, 7446.555555555556, 5155.923076923077, 1155.8103448275863, 2682.0, 6705.3, 7450.555555555556, 2312.551724137931, 2915.913043478261, 1973.0294117647059, 6708.5, 3727.1666666666665, 1016.6060606060606, 3050.2727272727275, 3532.0526315789475, 2396.8571428571427, 1813.918918918919, 3050.909090909091, 1032.8923076923077, 2398.0, 3052.090909090909, 959.4285714285714, 2487.962962962963, 920.3561643835617, 1399.7916666666667, 1317.5098039215686, 2687.84, 933.4166666666666, 2036.5757575757575, 1976.8529411764705, 1102.1147540983607, 2037.4848484848485, 1245.2407407407406, 3955.5882352941176, 6113.363636363636, 2241.766666666667, 2586.6923076923076, 2101.8125, 3057.2727272727275, 3363.3, 4204.375, 897.1333333333333, 1373.3673469387754, 3738.8333333333335, 1432.1489361702127, 2926.695652173913, 1771.5526315789473, 4488.066666666667, 1160.8275862068965, 5179.153846153846, 852.4810126582279, 1122.4833333333333, 1603.6904761904761, 1247.4259259259259, 2406.0, 2173.2903225806454, 1086.8709677419354, 3964.0588235294117, 3063.2272727272725, 2323.896551724138, 4814.0, 3209.5714285714284, 1271.8490566037735, 991.3676470588235, 1404.8125, 1248.7777777777778, 6130.545454545455, 3967.0, 8430.25, 5188.076923076923, 1070.6666666666667, 3967.9411764705883, 1349.4, 3748.4444444444443, 6134.0, 1163.655172413793, 1875.0, 978.4492753623189, 7501.555555555556, 3068.9545454545455, 5626.5, 1647.0487804878048, 6139.181818181818, 6753.2, 512.1742424242424, 1438.5531914893618, 1931.8857142857144, 1988.8823529411766, 743.4615384615385, 7517.444444444444, 1109.2131147540983, 2416.714285714286, 966.8, 1277.0754716981132, 1991.0882352941176, 2708.04, 4513.666666666667, 1381.8775510204082, 868.3205128205128, 4837.857142857143, 3762.8888888888887, 3386.75, 1575.5348837209303, 3565.7894736842104, 2605.923076923077, 1075.5396825396826, 2509.6666666666665, 728.8709677419355, 1883.0555555555557, 2337.7241379310344, 1784.2368421052631, 1832.5675675675675, 2338.1724137931033, 3390.65, 8476.75, 3390.8, 997.4117647058823, 3391.4, 1413.2708333333333, 4522.6, 4240.25, 1330.4117647058824, 1280.4716981132076, 2262.366666666667, 998.1470588235294, 1616.6666666666667, 3233.4285714285716, 4527.0, 1358.2, 3773.0555555555557, 1171.0172413793102, 1617.1190476190477, 4851.428571428572, 1741.6923076923076, 1476.7608695652175, 2516.074074074074, 2058.6666666666665, 1386.530612244898, 2613.269230769231, 5662.25, 1078.6349206349207, 2613.730769230769, 4530.6, 7551.111111111111, 4530.8, 3997.9411764705883, 2123.96875, 1416.1875, 2832.625, 2517.925925925926, 4249.5, 2518.3333333333335, 2518.4444444444443, 1152.6101694915253, 1193.1754385964912, 1417.1666666666667, 2957.6521739130435, 1360.56, 3092.5454545454545, 958.4084507042254, 1063.640625, 4004.3529411764707, 1547.2954545454545, 1745.7179487179487, 5237.2307692307695, 6808.7, 3404.55, 6809.6, 11349.5, 724.6702127659574, 1116.8524590163934, 7569.888888888889, 11355.0, 1002.0, 2198.0967741935483, 1793.2368421052631, 973.7142857142857, 4009.470588235294, 1262.388888888889, 2065.878787878788, 5681.25, 3787.6111111111113, 1239.8, 2727.72, 2435.9285714285716, 1421.0625, 7579.111111111111, 1550.4318181818182, 5685.083333333333, 4548.333333333333, 3101.409090909091, 9747.57142857143, 1034.0454545454545, 9749.857142857143, 898.1973684210526, 1241.2, 4266.875, 1157.135593220339, 3413.6, 1034.4848484848485, 4267.4375, 961.7887323943662, 1517.6222222222223, 2276.5333333333333, 3252.4285714285716, 4269.125, 1423.1458333333333, 1752.025641025641, 1314.2115384615386, 3596.842105263158, 5257.2307692307695, 7593.888888888889, 1752.4615384615386, 4020.529411764706, 1178.5172413793102, 976.5714285714286, 4272.6875, 8545.5, 2136.53125, 657.8846153846154, 1710.65, 4887.714285714285, 3601.5789473684213, 1006.6029411764706, 3802.8333333333335, 1397.0816326530612, 1801.6842105263158, 3112.090909090909, 1316.6923076923076, 1956.7714285714285, 867.506329113924, 9790.714285714286, 4569.133333333333, 952.0833333333334, 1557.9772727272727, 6232.090909090909, 7617.222222222223, 6232.363636363636, 939.2054794520548, 6233.090909090909, 2637.230769230769, 2857.25, 2364.7586206896553, 3810.0555555555557, 1203.2631578947369, 1162.7118644067796, 1905.75, 953.1111111111111, 1854.8108108108108, 1143.9166666666667, 5279.7692307692305, 3268.714285714286, 5720.333333333333, 6240.454545454545, 1674.4146341463415, 1560.5454545454545, 2641.153846153846, 1492.9782608695652, 1107.725806451613, 2020.0882352941176, 4906.0, 2543.962962962963, 2986.782608695652, 7633.0, 568.2396694214876, 1185.7758620689656, 3820.9444444444443, 1763.6410256410256, 3275.4285714285716, 4913.5, 2990.913043478261, 3276.0, 2751.92, 2457.214285714286, 1092.3015873015872, 3823.1666666666665, 6256.181818181818, 5293.923076923077, 748.2282608695652, 2294.866666666667, 1496.7173913043478, 7650.111111111111, 2550.185185185185, 5738.166666666667, 5738.416666666667, 2086.969696969697, 1324.7307692307693, 2460.25, 1405.9183673469388, 4920.857142857143, 2460.535714285714, 3444.85, 1862.1351351351352, 1968.8, 11484.833333333334, 3132.3636363636365, 6264.818181818182, 5301.384615384615, 1044.2727272727273, 4054.4117647058824, 4308.125, 2462.3571428571427, 4309.1875, 2298.4333333333334, 1352.1176470588234, 1014.1617647058823, 2463.0, 1436.9791666666667, 971.7746478873239, 4312.375, 2653.8846153846152, 4600.266666666666, 5750.416666666667, 6900.7, 3632.0526315789475, 3137.1363636363635, 8627.25, 437.1455696202532, 11512.0, 2558.3333333333335, 4934.071428571428, 1062.876923076923, 2159.15625, 2382.551724137931, 6281.363636363636, 310.11210762331837, 2095.818181818182, 1646.857142857143, 4611.4, 1687.3170731707316, 1572.6136363636363, 865.1125, 4614.133333333333, 6921.4, 1774.8974358974358, 9889.0, 2387.103448275862, 1775.2564102564102, 1331.673076923077, 1385.04, 1413.4285714285713, 6925.9, 4947.214285714285, 3148.409090909091, 3011.6521739130435, 1611.093023255814, 855.4938271604939, 1155.0166666666667, 2887.6666666666665, 4331.5625, 1414.5102040816328, 7701.333333333333, 1050.4545454545455, 2476.1071428571427, 2166.78125, 2568.3333333333335, 1035.044776119403, 5779.083333333333, 1118.7903225806451, 2569.1481481481483, 5336.153846153846, 1927.0277777777778, 1217.140350877193, 453.7712418300654, 1239.857142857143, 5786.166666666667, 4340.0625, 3019.391304347826, 2572.1111111111113, 2170.53125, 2778.44, 926.2, 1478.0851063829787, 1877.8108108108108, 1510.5652173913043, 1418.4285714285713, 5346.615384615385, 5346.692307692308, 1737.8, 1363.078431372549, 952.4246575342465, 1311.9811320754718, 1220.0526315789473, 404.6744186046512, 4350.5625, 4350.6875, 2400.7241379310344, 2110.030303030303, 1024.264705882353, 5357.923076923077, 1658.5, 3870.0, 4097.764705882353, 2111.060606060606, 4354.125, 2580.814814814815, 2111.757575757576, 4977.857142857143, 2581.185185185185, 995.7142857142857, 1072.4615384615386, 1244.857142857143, 1394.34, 3873.5555555555557, 1124.725806451613, 4358.4375, 1025.764705882353, 2250.1290322580644, 8719.5, 1993.2285714285715, 1938.0833333333333, 8721.625, 2584.222222222222, 1163.1166666666666, 2684.3076923076924, 4362.125, 983.112676056338, 2181.53125, 3324.285714285714, 1454.5625, 5370.923076923077, 2116.151515151515, 3675.5263157894738, 1587.2727272727273, 7760.222222222223, 1791.025641025641, 3676.4210526315787, 4366.125, 4657.266666666666, 1369.9019607843138, 2687.3076923076924, 1746.825, 1838.921052631579, 3494.25, 1344.0576923076924, 6989.4, 907.8831168831168, 1942.0833333333333, 1626.1162790697674, 945.081081081081, 1793.4358974358975, 1706.0487804878048, 6359.181818181818, 1706.219512195122, 1044.3283582089553, 2257.3548387096776, 2691.6153846153848, 1399.76, 6362.636363636364, 2799.64, 9999.0, 5384.307692307692, 1489.340425531915, 2800.04, 4375.1875, 1842.2894736842106, 4375.8125, 3334.190476190476, 3182.7727272727275, 2000.7428571428572, 1400.72, 461.0855263157895, 7787.444444444444, 1894.7027027027027, 3894.777777777778, 3894.8333333333335, 738.1894736842105, 3049.4347826086955, 6376.363636363636, 5010.5, 2192.53125, 7016.2, 1375.9019607843138, 2699.0384615384614, 3341.809523809524, 1462.1666666666667, 1349.923076923077, 911.987012987013, 4681.6, 1633.2093023255813, 1560.9333333333334, 4390.25, 1277.3454545454545, 3054.8260869565215, 3054.913043478261, 1405.36, 3346.2380952380954, 1171.25, 4392.5, 1952.5555555555557, 1326.566037735849, 2009.0, 2511.4285714285716, 7032.2, 2930.2916666666665, 4688.666666666667, 1379.450980392157, 2705.9615384615386, 868.7283950617284, 1529.8260869565217, 1256.8214285714287, 5865.333333333333, 1099.8125, 1716.9512195121952, 1280.0727272727272, 991.7887323943662, 7042.1, 3353.4761904761904, 1118.2063492063492, 5032.0, 1638.5348837209303, 1565.8, 1329.5471698113208, 3203.2727272727275, 1118.6825396825398, 5034.214285714285, 2610.6296296296296, 1958.0555555555557, 3710.1052631578946, 1958.2222222222222, 3710.3684210526317, 3357.2380952380954, 3710.7368421052633, 5036.142857142857, 966.013698630137, 5037.571428571428, 3205.9545454545455, 1439.5510204081634, 2713.346153846154, 2204.90625, 1533.9565217391305, 1568.088888888889, 4410.5625, 7841.111111111111, 1357.2692307692307, 1960.611111111111, 17645.75, 3529.55, 7059.2, 1680.857142857143, 3069.7391304347825, 1053.8358208955224, 5043.5, 1765.325, 1502.659574468085, 565.312, 1308.611111111111, 1197.8474576271187, 1536.4565217391305, 7068.0, 1198.0169491525423, 1122.5714285714287, 2829.04, 1286.0545454545454, 3722.8947368421054, 786.1888888888889, 2358.733333333333, 3369.6666666666665, 1361.1346153846155, 1026.0869565217392, 1770.1, 5057.571428571428, 997.4647887323944, 3727.7368421052633, 2833.52, 908.5897435897435, 1687.642857142857, 2362.9, 1916.1351351351352, 7089.9, 1541.8260869565217, 1576.2666666666667, 2728.230769230769, 1074.969696969697, 3734.2105263157896, 4173.588235294118, 1028.536231884058, 2365.8, 1613.090909090909, 1918.3513513513512, 11830.166666666666, 3943.5, 4175.588235294118, 3736.2105263157896, 1868.2631578947369, 645.9454545454546, 5075.571428571428, 2631.8518518518517, 756.3510638297872, 2222.0, 8888.125, 6464.272727272727, 3386.285714285714, 6465.181818181818, 781.6813186813187, 2964.0416666666665, 4184.705882352941, 1654.6976744186047, 3744.8947368421054, 988.3194444444445, 4186.176470588235, 2636.0, 6470.454545454545, 7908.555555555556, 3235.5, 8897.875, 2636.740740740741, 3095.391304347826, 6472.545454545455, 1112.59375, 6473.363636363636, 3560.5, 4189.058823529412, 1874.3684210526317, 7914.333333333333, 8903.75, 5088.071428571428, 8904.25, 1737.5853658536585, 5480.2307692307695, 1272.3392857142858, 3393.0476190476193, 2298.7741935483873, 1454.3877551020407, 1827.4358974358975, 11878.5, 3099.4347826086955, 1149.8225806451612, 3240.6363636363635, 2228.09375, 2852.24, 1033.5942028985507, 1371.5576923076924, 3753.842105263158, 1877.0526315789473, 810.8295454545455, 2378.5666666666666, 1065.2835820895523, 1699.404761904762, 2855.08, 1189.8833333333334, 4199.882352941177, 1519.2553191489362, 991.8333333333334, 8926.625, 1298.5454545454545, 1930.3783783783783, 1253.140350877193, 916.0384615384615, 3247.8636363636365, 4763.666666666667, 6496.090909090909, 7145.9, 7146.0, 5497.2307692307695, 4204.058823529412, 1787.2, 6499.090909090909, 1117.109375, 1276.892857142857, 7150.8, 1881.921052631579, 1744.3658536585365, 2235.1875, 5502.2307692307695, 5502.384615384615, 1589.6888888888889, 966.7432432432432, 1626.090909090909, 5962.583333333333, 2104.6470588235293, 4770.6, 7951.222222222223, 1491.0208333333333, 2168.848484848485, 3578.7, 842.2352941176471, 2169.6363636363635, 4773.4, 1836.1025641025642, 5508.384615384615, 3113.608695652174, 4212.588235294118, 8951.875, 852.7142857142857, 2865.32, 1038.3333333333333, 955.3733333333333, 3980.777777777778, 1009.4084507042254, 1086.1818181818182, 1629.75, 2758.3846153846152, 1175.8032786885246, 1839.179487179487, 1559.5, 5124.428571428572, 1464.3265306122448, 1794.1, 1631.090909090909, 1464.8163265306123, 1157.774193548387, 1139.4761904761904, 2761.269230769231, 2475.793103448276, 5983.25, 1237.9827586206898, 2659.4444444444443, 865.3855421686746, 1632.5454545454545, 1217.6271186440679, 1466.1836734693877, 2660.962962962963, 3123.8260869565215, 1072.5223880597016, 8982.75, 2994.375, 2395.7, 5989.416666666667, 733.8775510204082, 4230.823529411765, 7192.6, 1672.8139534883721, 5533.2307692307695, 3127.5652173913045, 6539.636363636364, 1383.5384615384614, 2180.151515151515, 7994.0, 2481.2758620689656, 14391.6, 1142.7301587301588, 1945.8108108108108, 2999.8333333333335, 1600.0444444444445, 4235.588235294118, 3429.095238095238, 6546.818181818182, 2000.5, 3601.1, 1125.625, 2058.4857142857145, 4238.235294117647, 3275.090909090909, 1757.7317073170732, 1502.0208333333333, 5546.076923076923, 987.7397260273973, 1442.22, 2773.653846153846, 1639.0681818181818, 1534.6808510638298, 4007.277777777778, 2487.4827586206898, 12023.0, 3797.2105263157896, 1535.3191489361702, 12026.833333333334, 3436.3809523809523, 4009.222222222222, 1223.2542372881355, 3138.0, 9021.875, 1077.358208955224, 2406.3333333333335, 2887.76, 3138.9565217391305, 6016.416666666667, 4246.941176470588, 1111.076923076923, 2407.6, 7223.0, 1570.304347826087, 3009.7916666666665, 976.3243243243244, 737.765306122449, 1571.9782608695652, 6574.0, 3444.0, 8036.222222222223, 6027.333333333333, 4822.066666666667, 2009.6944444444443, 455.33962264150944, 4259.0, 1448.16, 992.013698630137, 6035.0, 1420.0980392156862, 1857.1538461538462, 4024.1111111111113, 2682.962962962963, 2195.4242424242425, 7245.2, 10350.42857142857, 8050.444444444444, 2337.4193548387098, 5573.923076923077, 7246.2, 4025.8888888888887, 755.1354166666666, 5576.461538461538, 1208.35, 2685.259259259259, 6591.272727272727, 1647.9318181818182, 4028.4444444444443, 979.9459459459459, 7251.7, 1450.46, 1343.2222222222222, 7253.5, 967.3333333333334, 1769.6341463414635, 9069.5, 2418.6, 1727.7142857142858, 2015.861111111111, 7257.3, 2592.3214285714284, 3629.45, 2135.1470588235293, 10370.857142857143, 3024.875, 497.7808219178082, 7267.7, 3825.2631578947367, 3304.0454545454545, 1652.5454545454545, 10387.857142857143, 2693.222222222222, 5593.846153846154, 886.9268292682926, 3463.285714285714, 1136.4375, 1454.82, 3828.5263157894738, 1454.92, 3464.285714285714, 8083.444444444444, 1069.8676470588234, 1515.7916666666667, 1173.5967741935483, 2509.2758620689656, 2079.2285714285713, 1039.7285714285715, 6065.333333333333, 3466.1428571428573, 4549.4375, 8088.222222222223, 1025.4366197183099, 2275.34375, 4551.25, 6068.5, 2349.4193548387098, 1349.0, 3642.5, 2350.064516129032, 8095.0, 3311.9545454545455, 10409.42857142857, 3168.3478260869565, 4858.533333333334, 1457.7, 7288.6, 1056.5652173913043, 2144.3529411764707, 2700.4814814814813, 2804.423076923077, 6076.333333333333, 1695.953488372093, 1157.7777777777778, 5210.071428571428, 6631.181818181818, 2515.5862068965516, 960.0394736842105, 4292.0, 4292.176470588235, 2806.6153846153848, 2280.6875, 3317.7727272727275, 3841.842105263158, 2147.235294117647, 7300.8, 2028.388888888889, 1217.55, 5218.214285714285, 5218.285714285715, 8117.444444444444, 1259.8793103448277, 3177.304347826087, 1074.75, 1044.1, 1218.2, 3847.0526315789475, 1700.1162790697674, 2611.0, 3323.181818181818, 1044.5142857142857, 731.52, 3048.1666666666665, 1016.1527777777778, 2613.035714285714, 7316.7, 3181.4347826086955, 1199.672131147541, 2613.75, 1463.88, 1626.5777777777778, 3659.85, 787.2150537634409, 2711.703703703704, 6656.545454545455, 951.0519480519481, 3328.7272727272725, 2615.464285714286, 12205.666666666666, 951.2597402597403, 8138.888888888889, 2219.757575757576, 4578.375, 7325.7, 1831.6, 2713.5555555555557, 3185.6521739130435, 2713.962962962963, 5234.214285714285, 666.3727272727273, 6108.5, 7330.5, 772.0105263157894, 12223.833333333334, 7334.7, 2366.1290322580644, 6112.916666666667, 873.5238095238095, 1243.9830508474577, 3669.8, 6672.545454545455, 1707.3023255813953, 3337.2727272727275, 2719.4814814814813, 4895.133333333333, 1932.6052631578948, 3193.217391304348, 1468.92, 2448.4333333333334, 1034.7887323943662, 2826.076923076923, 8164.333333333333, 1386.433962264151, 896.390243902439, 4594.1875, 1598.195652173913, 3196.608695652174, 865.4941176470588, 2724.814814814815, 2829.730769230769, 4905.0, 613.65, 5259.928571428572, 1712.9767441860465, 1023.1944444444445, 5667.076923076923, 1292.7368421052631, 457.99378881987576, 9217.375, 1084.5441176470588, 2107.2, 3881.8947368421054, 12293.166666666666, 4339.0, 2169.676470588235, 5269.357142857143, 1272.0862068965516, 1677.0681818181818, 1039.394366197183, 4341.117647058823, 1716.3023255813953, 2545.0, 2170.9117647058824, 4921.066666666667, 1604.7173913043478, 5678.538461538462, 600.609756097561, 5682.7692307692305, 2955.08, 2736.6666666666665, 1679.4318181818182, 1026.4166666666667, 3695.2, 4347.35294117647, 1087.0441176470588, 2112.3714285714286, 1719.4186046511627, 7393.8, 3521.2380952380954, 2310.9375, 3215.608695652174, 973.3684210526316, 850.4597701149426, 2114.057142857143, 1298.298245614035, 1451.5098039215686, 1213.704918032787, 1322.25, 5289.071428571428, 861.6395348837209, 3368.318181818182, 4631.5625, 1646.8666666666666, 12351.666666666666, 3088.4166666666665, 1684.75, 1900.948717948718, 9267.375, 1256.7288135593221, 2648.214285714286, 3531.285714285714, 1106.9701492537313, 1578.0851063829787, 6180.916666666667, 2004.7837837837837, 9272.5, 1426.576923076923, 4636.4375, 3225.4347826086955, 2472.9, 4121.722222222223, 5299.5, 1216.5081967213114, 2120.3714285714286, 3373.409090909091, 3710.95, 4638.875, 2474.133333333333, 3227.304347826087, 1427.5961538461538, 1178.5238095238096, 1546.9375, 873.9411764705883, 3095.5416666666665, 6191.166666666667, 7429.6, 1281.0862068965516, 1179.5396825396826, 4644.5625, 6755.818181818182, 4954.4, 728.7941176470588, 3717.0, 9292.875, 2186.705882352941, 1429.923076923077, 1219.295081967213, 4958.533333333334, 2010.2702702702702, 2755.074074074074, 1814.4146341463415, 3719.8, 5314.142857142857, 9300.0, 1240.05, 2976.2, 1958.3684210526317, 4134.722222222223, 6766.181818181818, 4378.235294117647, 8270.222222222223, 3101.875, 3545.190476190476, 4963.4, 2326.75, 954.8461538461538, 4137.888888888889, 2979.32, 3103.7083333333335, 363.609756097561, 4141.222222222223, 5324.571428571428, 1656.8, 4142.166666666667, 1147.1538461538462, 4386.235294117647, 3728.35, 2982.84, 4386.64705882353, 3925.1052631578946, 1331.8035714285713, 10654.714285714286, 9323.125, 1912.6410256410256, 1081.1159420289855, 5738.384615384615, 1695.4545454545455, 9325.125, 1184.4603174603174, 1622.2826086956522, 2017.1351351351352, 1820.439024390244, 1286.9137931034484, 3928.5789473684213, 4665.375, 2765.0, 469.82389937106916, 2263.848484848485, 2873.5, 900.4698795180723, 2669.535714285714, 1024.0958904109589, 4153.388888888889, 6796.727272727273, 2020.918918918919, 1024.5890410958905, 6233.0, 1626.0869565217392, 2992.2, 1360.2545454545455, 1084.3333333333333, 5755.538461538462, 3741.2, 2993.12, 2200.9117647058824, 382.1683673469388, 1362.0363636363636, 2140.542857142857, 4994.666666666667, 881.5411764705882, 1070.642857142857, 1102.4705882352941, 2499.0, 1388.4444444444443, 4686.125, 1209.3387096774193, 2499.4333333333334, 2142.4857142857145, 3260.478260869565, 6249.5, 1829.2926829268292, 4687.75, 1531.2448979591836, 1137.1969696969697, 1787.095238095238, 1390.2777777777778, 1173.21875, 4417.058823529412, 6826.636363636364, 3576.0476190476193, 6827.090909090909, 3952.9473684210525, 6828.0, 3576.6190476190477, 1058.056338028169, 7512.7, 3954.157894736842, 5779.384615384615, 5366.857142857143, 6830.636363636364, 5009.333333333333, 854.125, 864.3448275862069, 6836.454545454545, 3133.625, 2686.214285714286, 1671.5777777777778, 1671.888888888889, 940.825, 2214.029411764706, 7527.8, 3962.5263157894738, 7528.9, 6274.166666666667, 2091.4166666666665, 2895.9615384615386, 5378.571428571428, 4706.4375, 1369.290909090909, 2429.7096774193546, 10760.42857142857, 6277.0, 1369.6545454545455, 991.328947368421, 3965.4210526315787, 1932.025641025641, 4709.375, 3014.04, 3276.4347826086955, 4432.941176470588, 9420.125, 12560.333333333334, 1177.609375, 2898.9615384615386, 8374.888888888889, 1142.1363636363637, 1322.5438596491229, 1178.0, 3590.190476190476, 2792.6296296296296, 1216.258064516129, 5800.692307692308, 2038.162162162162, 762.0505050505051, 6287.0, 12574.166666666666, 1796.4761904761904, 5389.5, 1985.7894736842106, 1197.920634920635, 2434.6774193548385, 1572.7083333333333, 2696.3571428571427, 1258.7166666666667, 2604.4827586206898, 4720.75, 1607.1063829787233, 1020.9864864864865, 1111.264705882353, 2361.5, 3977.315789473684, 5813.538461538462, 994.578947368421, 1574.8958333333333, 700.2685185185185, 1719.1818181818182, 1513.12, 2802.222222222222, 3026.52, 1991.2105263157894, 805.2765957446809, 9462.125, 3984.2631578947367, 1081.5142857142857, 2703.8928571428573, 1402.4814814814815, 2227.529411764706, 3442.7727272727275, 1485.4313725490197, 2164.657142857143, 7576.7, 5828.538461538462, 3608.190476190476, 1403.3703703703704, 7578.3, 1082.7857142857142, 8421.777777777777, 451.4761904761905, 2708.964285714286, 1649.1304347826087, 985.4935064935065, 1724.6818181818182, 1084.6, 5423.285714285715, 1265.9666666666667, 5843.076923076923, 5843.307692307692, 9495.5, 1245.3934426229507, 6331.083333333333, 4469.058823529412, 10853.714285714286, 3303.6521739130435, 2713.785714285714, 7598.9, 3618.6666666666665, 1085.7571428571428, 1434.188679245283, 5429.642857142857, 3455.409090909091, 1767.9767441860465, 2715.285714285714, 1949.4615384615386, 1207.2222222222222, 10865.142857142857, 1135.2686567164178, 3457.4545454545455, 418.2802197802198, 3045.28, 5856.384615384615, 2456.2580645161293, 1436.754716981132, 2538.3333333333335, 2625.9310344827586, 4479.705882352941, 2240.0, 6346.833333333333, 1088.1714285714286, 4231.888888888889, 3462.681818181818, 1002.421052631579, 2176.885714285714, 1953.7692307692307, 2381.3125, 1360.9285714285713, 1137.6268656716418, 5444.5, 1104.8115942028985, 5082.333333333333, 495.35714285714283, 1525.94, 3317.478260869565, 1695.6666666666667, 15261.4, 1623.7659574468084, 1526.72, 2063.2702702702704, 1413.9814814814815, 3636.1428571428573, 5873.923076923077, 4242.333333333333, 1157.0757575757575, 2386.71875, 5455.642857142857, 3055.32, 1193.578125, 5876.307692307692, 5093.0, 4244.333333333333, 1123.6617647058824, 15282.0, 4021.8947368421054, 1091.9571428571428, 2729.964285714286, 1560.1224489795918, 3185.3333333333335, 3323.913043478261, 1470.2307692307693, 4497.35294117647, 5461.285714285715, 2389.5, 2066.7567567567567, 2549.1666666666665, 1253.8196721311476, 2249.5882352941176, 3824.55, 2013.1315789473683, 900.2352941176471, 4501.470588235294, 8502.888888888889, 1962.3333333333333, 1048.5205479452054, 3827.25, 5103.066666666667, 5103.133333333333, 6959.0, 10935.714285714286, 3189.7916666666665, 1007.3815789473684, 3328.9565217391305, 1701.5555555555557, 2320.3939393939395, 1126.1617647058824, 1276.5, 1868.121951219512, 5891.923076923077, 5106.6, 3191.6666666666665, 2736.035714285714, 2837.5925925925926, 7661.7, 1321.0689655172414, 2642.3793103448274, 482.24528301886795, 1870.1951219512196, 1631.531914893617, 2949.3846153846152, 4036.157894736842, 3485.818181818182, 2644.551724137931, 1826.1190476190477, 4261.055555555556, 1162.1515151515152, 577.0075187969925, 2951.9615384615386, 1023.56, 984.474358974359, 4799.5, 444.1791907514451, 10977.714285714286, 1067.361111111111, 3341.478260869565, 1450.2830188679245, 1671.2173913043478, 2077.9189189189187, 2261.3823529411766, 1039.162162162162, 1098.9285714285713, 725.9150943396227, 2850.074074074074, 2959.769230769231, 1241.4193548387098, 4051.0526315789475, 1261.8524590163934, 3498.8636363636365, 1040.2297297297298, 2749.3571428571427, 3666.095238095238, 10998.57142857143, 1241.9193548387098, 513.5666666666667, 7703.7, 2407.46875, 2265.9117647058824, 5503.071428571428, 1481.6923076923076, 12841.666666666666, 1605.4166666666667, 1454.132075471698, 3670.0476190476193, 7707.3, 1376.3214285714287, 1150.55223880597, 1168.090909090909, 2855.5185185185187, 2965.6153846153848, 1086.1690140845071, 1086.2957746478874, 399.8911917098446, 1642.3191489361702, 2144.25, 4824.8125, 7719.9, 4289.055555555556, 1795.6046511627908, 919.4166666666666, 4827.0, 1152.865671641791, 1755.8636363636363, 1981.051282051282, 1884.5121951219512, 1457.9811320754718, 3359.782608695652, 2033.657894736842, 4830.0625, 2088.810810810811, 2972.769230769231, 1189.1846153846154, 1073.638888888889, 1680.608695652174, 1380.732142857143, 7732.3, 1031.08, 7030.363636363636, 2974.576923076923, 1208.78125, 3683.9523809523807, 1887.2926829268292, 1209.140625, 1311.7288135593221, 1433.388888888889, 9675.5, 2036.9736842105262, 3518.590909090909, 1358.122807017544, 7037.818181818182, 1548.42, 2765.1428571428573, 3871.25, 980.2405063291139, 5162.733333333334, 1760.159090909091, 2498.3548387096776, 7745.0, 1648.127659574468, 3688.714285714286, 11066.42857142857, 2213.542857142857, 782.8181818181819, 1211.078125, 1174.530303030303, 2349.3636363636365, 5964.076923076923, 4307.5, 2871.925925925926, 5538.928571428572, 1686.2826086956522, 443.57142857142856, 3105.2, 892.9540229885057, 5976.307692307692, 7769.5, 5549.928571428572, 4089.684210526316, 3108.36, 3378.695652173913, 3238.0, 2989.076923076923, 5551.285714285715, 1050.3513513513512, 2990.1153846153848, 4319.111111111111, 1160.402985074627, 2508.1935483870966, 1620.0625, 2160.277777777778, 9721.5, 4320.833333333333, 3535.318181818182, 7070.727272727273, 8642.111111111111, 3889.35, 1296.6666666666667, 2222.9714285714285, 4095.1052631578946, 2357.878787878788, 7073.727272727273, 1898.0243902439024, 5558.642857142857, 1161.6268656716418, 1468.7169811320755, 819.5368421052632, 7078.272727272727, 2163.027777777778, 4866.9375, 5562.571428571428, 1145.264705882353, 1497.75, 865.6444444444444, 1947.875, 5194.4, 1199.2153846153847, 2107.135135135135, 6497.25, 4331.722222222223, 4103.8421052631575, 5569.714285714285, 1999.4615384615386, 2999.3076923076924, 5999.0, 1772.5227272727273, 8665.888888888889, 4588.0, 408.64397905759165, 4336.277777777777, 424.4945652173913, 988.8227848101266, 13019.666666666666, 3255.0, 6009.461538461538, 1420.5272727272727, 2604.5, 1628.0833333333333, 2442.25, 460.01176470588234, 2793.1071428571427, 1203.6, 7823.6, 2697.9655172413795, 7824.2, 3556.590909090909, 7113.363636363636, 5216.733333333334, 2059.2894736842104, 5590.071428571428, 1102.5774647887324, 1739.8, 3914.7, 11185.0, 2609.866666666667, 1262.9193548387098, 2700.206896551724, 1017.5064935064935, 1058.7837837837837, 3917.55, 1058.8783783783783, 4353.222222222223, 1958.95, 1351.1896551724137, 1328.457627118644, 2903.259259259259, 484.18518518518516, 3922.0, 3137.72, 817.4791666666666, 1189.439393939394, 1246.1587301587301, 8723.222222222223, 1602.3877551020407, 1246.6190476190477, 3020.8076923076924, 2380.212121212121, 1208.5846153846153, 3021.653846153846, 2618.8333333333335, 3928.45, 4622.058823529412, 1964.625, 1355.0172413793102, 7859.3, 873.6555555555556, 3574.1363636363635, 1787.1818181818182, 2383.121212121212, 5617.428571428572, 3745.095238095238, 4369.444444444444, 3146.12, 2458.1875, 4916.4375, 7151.454545454545, 4370.388888888889, 2809.6428571428573, 4140.894736842105, 1140.3623188405797, 8743.0, 8743.222222222223, 11241.57142857143, 811.4639175257732, 1174.910447761194, 597.0075757575758, 1194.1515151515152, 3284.1666666666665, 2627.4333333333334, 4926.75, 3427.3478260869565, 3153.16, 2189.8055555555557, 1516.0576923076924, 3032.269230769231, 4380.166666666667, 1714.608695652174, 3286.5833333333335, 2253.8285714285716, 3034.1923076923076, 1360.396551724138, 1143.6521739130435, 4153.315789473684, 3156.64, 3758.0, 1252.7936507936508, 405.04102564102567, 6075.923076923077, 5642.0, 4157.421052631579, 4646.705882352941, 1112.661971830986, 1144.9710144927535, 2394.212121212121, 1580.38, 1490.9811320754718, 11289.0, 1179.5820895522388, 7903.8, 2549.9032258064517, 1976.4, 2080.6052631578946, 4161.421052631579, 1464.3148148148148, 1363.5344827586207, 1054.5866666666666, 1797.659090909091, 953.1686746987951, 860.3478260869565, 11307.57142857143, 9894.625, 7196.181818181818, 1365.0689655172414, 4398.722222222223, 1164.485294117647, 4168.0, 4399.666666666667, 2639.9333333333334, 2263.0285714285715, 1932.0243902439024, 3168.64, 6601.416666666667, 2330.1470588235293, 1553.5686274509803, 1182.6716417910447, 2085.4210526315787, 4953.0625, 6604.166666666667, 3302.4583333333335, 4662.35294117647, 1723.108695652174, 1071.2567567567567, 1887.595238095238, 2831.714285714286, 1887.904761904762, 5286.266666666666, 3964.75, 1043.5, 4174.1578947368425, 1416.2857142857142, 1279.4354838709678, 1844.8372093023256, 1117.394366197183, 2644.766666666667, 518.9084967320262, 980.4814814814815, 1260.6666666666667, 11346.142857142857, 1891.095238095238, 2647.6666666666665, 1847.3953488372092, 2562.7741935483873, 4965.5625, 13241.833333333334, 537.1486486486486, 3057.6923076923076, 3456.695652173913, 1893.1190476190477, 3180.68, 2742.0689655172414, 5680.071428571428, 15904.4, 3181.0, 5680.785714285715, 13255.333333333334, 4185.9473684210525, 2485.5625, 772.747572815534, 1372.344827586207, 1809.2727272727273, 1224.8, 3980.7, 6634.666666666667, 2274.8571428571427, 7238.545454545455, 4423.666666666667, 3791.8571428571427, 1731.304347826087, 2949.703703703704, 3792.714285714286, 7240.727272727273, 3982.8, 1264.5555555555557, 1034.922077922078, 1423.0535714285713, 3187.8, 2490.5625, 1811.6363636363637, 2277.8571428571427, 3321.9583333333335, 2657.6666666666665, 1123.0845070422536, 5695.928571428572, 13290.666666666666, 3322.75, 1035.8181818181818, 2750.448275862069, 6647.0, 2659.0, 1564.2549019607843, 3468.782608695652, 1286.9193548387098, 1329.9333333333334, 1227.7230769230769, 1946.5853658536585, 9976.375, 1506.0, 4989.0, 8869.444444444445, 1856.4883720930231, 5702.285714285715, 1330.65, 4202.263157894737, 2753.4827586206898, 1736.1521739130435, 962.5783132530121, 1536.6538461538462, 3474.391304347826, 4439.888888888889, 1289.1129032258063, 2220.25, 15986.0, 5709.357142857143, 5328.8, 1268.904761904762, 2578.8709677419356, 1193.2686567164178, 6150.076923076923, 975.2317073170732, 1999.325, 1230.5846153846153, 3636.0, 1355.915254237288, 13333.333333333334, 4210.736842105263, 4211.0, 2963.4074074074074, 11430.42857142857, 1270.2380952380952, 3201.08, 2581.5806451612902, 3078.1923076923076, 1039.6363636363637, 5337.0, 1861.906976744186, 1067.6, 2583.064516129032, 10009.625, 3080.1153846153848, 8008.4, 1232.1846153846154, 2288.8, 2054.358974358974, 921.3218390804598, 3817.0, 3340.0, 5725.857142857143, 2290.5714285714284, 2004.425, 2429.6363636363635, 2863.6428571428573, 2004.875, 1215.3181818181818, 1513.5283018867924, 6170.692307692308, 5730.0, 1542.8076923076924, 3820.4285714285716, 1114.388888888889, 2057.3846153846152, 1016.0, 1294.7096774193549, 1056.3552631578948, 2361.4411764705883, 6176.2307692307695, 2112.9473684210525, 1433.875, 1131.0704225352113, 3491.782608695652, 3212.48, 2362.176470588235, 11473.57142857143, 13386.0, 1959.1951219512196, 1339.0333333333333, 10042.875, 1674.1666666666667, 1516.3584905660377, 2435.4242424242425, 1275.7460317460318, 1385.9310344827586, 4230.894736842105, 1869.6511627906978, 1340.05, 1576.549019607843, 812.6363636363636, 1297.758064516129, 1828.7727272727273, 7315.181818181818, 3095.346153846154, 4235.8421052631575, 1364.3389830508474, 2775.8275862068967, 5750.071428571428, 3220.24, 2981.740740740741, 3220.32, 3354.5833333333335, 3659.681818181818, 7319.545454545455, 875.5, 5034.25, 2177.0810810810813, 3661.681818181818, 7323.454545454545, 2120.0526315789475, 2598.8387096774195, 1134.8028169014085, 2685.866666666667, 1202.8059701492537, 7326.272727272727, 1520.566037735849, 1644.734693877551, 1300.0645161290322, 1679.3541666666667, 2687.0666666666666, 4030.65, 4742.117647058823, 1300.3870967741937, 3225.04, 5759.071428571428, 1612.68, 4743.294117647059, 2304.0857142857144, 995.716049382716, 5040.9375, 6204.307692307692, 1222.1666666666667, 7333.454545454545, 1322.5245901639344, 1440.7142857142858, 5042.6875, 4482.5, 3362.1666666666665, 3508.391304347826, 6724.583333333333, 6724.916666666667, 2017.55, 2123.9210526315787, 4035.5, 2522.375, 6209.076923076923, 7338.090909090909, 11531.57142857143, 3105.0384615384614, 1416.4912280701753, 1153.8428571428572, 11538.57142857143, 4487.444444444444, 1553.4615384615386, 1718.8297872340424, 3672.1363636363635, 1836.25, 1171.072463768116, 481.2857142857143, 1325.5409836065573, 1304.4193548387098, 2073.769230769231, 1650.6122448979593, 2789.310344827586, 1926.095238095238, 3677.2272727272725, 1371.2372881355932, 3236.28, 1155.9142857142858, 1839.159090909091, 3518.5652173913045, 454.94943820224717, 3239.4, 11569.57142857143, 503.62111801242236, 3861.3333333333335, 1559.4615384615386, 2896.3214285714284, 1081.44, 8110.9, 2253.1944444444443, 1502.2777777777778, 3245.12, 1067.6842105263158, 1887.3720930232557, 3864.714285714286, 1143.338028169014, 1176.5942028985507, 1331.049180327869, 8119.6, 4273.894736842105, 3383.5416666666665, 5800.642857142857, 1249.5230769230768, 3691.818181818182, 2461.3636363636365, 1269.28125, 11605.142857142857, 2801.4827586206898, 2538.96875, 5803.571428571428, 1028.5443037974683, 3869.5714285714284, 4063.1, 1658.530612244898, 1806.0444444444445, 5079.75, 1311.0806451612902, 2622.451612903226, 1478.3636363636363, 1594.4117647058824, 1016.65, 4280.789473684211, 6778.083333333333, 1179.0144927536232, 2392.8529411764707, 2905.75, 1056.8311688311687, 10172.25, 3014.1111111111113, 1085.3333333333333, 7400.090909090909, 1985.5121951219512, 2807.4137931034484, 1180.144927536232, 2626.935483870968, 1163.5428571428572, 7404.545454545455, 6787.583333333333, 1234.4545454545455, 2546.21875, 3017.777777777778, 1273.234375, 9054.222222222223, 2546.6875, 1771.9347826086957, 2547.25, 3135.230769230769, 2629.6774193548385, 3261.0, 1455.875, 2090.5128205128203, 2717.8, 1315.0806451612902, 5435.866666666667, 2265.027777777778, 1482.6909090909091, 926.9659090909091, 1599.5882352941176, 1295.3650793650793, 2040.325, 3548.5652173913045, 2814.793103448276, 983.8192771084338, 1338.688524590164, 600.7573529411765, 2150.2105263157896, 8171.0, 1815.8666666666666, 5107.5, 7429.181818181818, 1993.3170731707316, 6286.7692307692305, 6810.833333333333, 8173.3, 5449.133333333333, 2919.214285714286, 2209.4324324324325, 3554.7391304347825, 1090.2933333333333, 1514.3703703703704, 1777.8478260869565, 6290.923076923077, 6815.25, 8178.5, 1298.4285714285713, 2097.6923076923076, 1363.6, 1995.6097560975609, 6818.75, 3030.5925925925926, 5455.266666666666, 974.297619047619, 2407.205882352941, 2154.0789473684213, 4093.15, 4548.222222222223, 13644.833333333334, 1637.5, 2641.2903225806454, 1342.4262295081967, 5849.357142857143, 4817.35294117647, 1638.06, 4310.8421052631575, 6825.916666666667, 1204.6617647058824, 4551.166666666667, 11703.142857142857, 11703.285714285714, 1343.1311475409836, 1280.34375, 3902.1428571428573, 1576.4038461538462, 2342.3142857142857, 3564.521739130435, 4099.3, 2484.4848484848485, 1999.8292682926829, 2827.4827586206898, 2827.655172413793, 522.547770700637, 8204.1, 6311.0, 1608.9803921568628, 2413.6470588235293, 3282.6, 4319.315789473684, 3283.24, 3157.153846153846, 2414.5588235294117, 4560.888888888889, 1492.7818181818182, 4829.764705882353, 4829.941176470588, 3421.25, 2737.1, 2566.21875, 2161.0789473684213, 5132.75, 1520.888888888889, 4106.5, 2106.051282051282, 437.27127659574467, 1002.6951219512196, 8222.2, 2055.675, 2222.5405405405404, 1068.4155844155844, 2571.03125, 6329.0, 5142.625, 13713.833333333334, 3740.3636363636365, 9143.222222222223, 5878.142857142857, 2571.78125, 6330.692307692308, 1028.925, 2494.4242424242425, 7483.363636363636, 5879.928571428572, 4842.411764705882, 1372.1833333333334, 1914.8837209302326, 5146.3125, 3167.076923076923, 2352.8285714285716, 2008.7560975609756, 3743.7272727272725, 11766.142857142857, 1083.9342105263158, 980.9285714285714, 4847.411764705882, 2943.285714285714, 1585.076923076923, 3052.814814814815, 3170.3076923076924, 1421.396551724138, 9160.555555555555, 9160.777777777777, 5497.0, 3926.904761904762, 1754.8085106382978, 4582.166666666667, 4341.1578947368425, 3055.1481481481483, 6345.384615384615, 11784.42857142857, 4341.684210526316, 1833.3777777777777, 2578.28125, 6346.7692307692305, 2500.4848484848485, 5157.4375, 3929.6666666666665, 4854.411764705882, 5894.714285714285, 9169.666666666666, 9170.0, 11790.142857142857, 5895.142857142857, 2230.7027027027025, 1162.5915492957747, 1331.5, 2846.9310344827586, 1399.5254237288136, 2847.551724137931, 1101.3333333333333, 2360.0857142857144, 1588.576923076923, 8260.8, 5163.25, 2503.6363636363635, 1332.774193548387, 3178.269230769231, 1967.547619047619, 2174.8684210526317, 1758.595744680851, 2666.3870967741937, 4862.35294117647, 1164.3239436619717, 1291.9375, 1198.6811594202898, 1969.3333333333333, 1798.195652173913, 11816.857142857143, 2121.051282051282, 1477.482142857143, 4867.235294117647, 2758.266666666667, 4867.705882352941, 1149.4444444444443, 3941.190476190476, 3065.4444444444443, 1925.0, 662.528, 6370.7692307692305, 2238.5675675675675, 1656.92, 3186.6153846153848, 1593.3461538461538, 493.5059523809524, 3768.818181818182, 931.9101123595506, 7540.090909090909, 1728.1666666666667, 1430.3275862068965, 2440.1176470588234, 1121.554054054054, 2305.75, 4882.941176470588, 1660.56, 5535.466666666666, 7548.727272727273, 1596.9807692307693, 2129.5128205128203, 1628.5686274509803, 3775.909090909091, 5933.714285714285, 5538.266666666666, 944.2386363636364, 3777.4545454545455, 857.0412371134021, 2375.457142857143, 2028.0487804878048, 1279.3846153846155, 1732.7083333333333, 11881.714285714286, 5198.4375, 1890.5681818181818, 2683.4193548387098, 4893.705882352941, 6932.833333333333, 1664.04, 5546.933333333333, 11886.42857142857, 3467.125, 520.3875, 1435.8275862068965, 3470.2083333333335, 1281.4307692307693, 3331.96, 5206.25, 3621.9565217391305, 1851.3333333333333, 5950.928571428572, 2524.6969696969695, 6409.0, 1281.876923076923, 1207.8115942028985, 10417.625, 8334.2, 4167.4, 5209.5, 2137.4615384615386, 3624.478260869565, 5557.733333333334, 2084.325, 1111.72, 4169.0, 1097.1973684210527, 2527.060606060606, 3790.6363636363635, 6415.2307692307695, 1345.3225806451612, 4634.166666666667, 1390.3666666666666, 4634.666666666667, 2979.5, 2453.9117647058824, 3973.0476190476193, 8343.6, 10429.75, 1738.4583333333333, 2877.5862068965516, 2196.5, 2529.3636363636365, 4393.368421052632, 1070.2307692307693, 1227.7941176470588, 6957.75, 3339.8, 3339.92, 1084.5584415584415, 1325.8095238095239, 1898.5681818181818, 5221.3125, 4397.0526315789475, 2320.9444444444443, 1266.378787878788, 1348.1612903225807, 2259.3513513513512, 8359.8, 2612.75, 2459.235294117647, 4400.894736842105, 1072.1923076923076, 3097.5185185185187, 7603.363636363636, 16727.6, 8364.1, 2884.2758620689656, 5576.466666666666, 3345.96, 1521.0727272727272, 984.4823529411765, 1946.2558139534883, 4923.0, 1116.0266666666666, 5978.857142857143, 3219.730769230769, 5979.714285714285, 1993.2619047619048, 4651.055555555556, 8372.0, 5232.9375, 2263.027027027027, 6441.076923076923, 2203.9473684210525, 1329.6666666666667, 1250.3283582089553, 6444.076923076923, 2204.6052631578946, 1821.391304347826, 2393.9714285714285, 2205.2894736842104, 5587.0, 2394.657142857143, 2890.3793103448274, 8382.3, 3224.076923076923, 5239.1875, 1309.90625, 3224.653846153846, 4931.941176470588, 2329.277777777778, 1612.7884615384614, 3494.4583333333335, 3106.3333333333335, 2396.6857142857143, 2330.1666666666665, 2207.684210526316, 3647.608695652174, 4194.9, 2706.451612903226, 3496.1666666666665, 964.7011494252873, 9325.666666666666, 2543.5757575757575, 5995.714285714285, 1554.5555555555557, 8394.8, 4938.35294117647, 2798.6, 1786.404255319149, 2048.048780487805, 2799.2, 2332.722222222222, 1749.8125, 1555.537037037037, 2000.142857142857, 2709.935483870968, 4667.166666666667, 3818.681818181818, 3231.4615384615386, 8402.1, 2270.891891891892, 2100.675, 2546.3333333333335, 1750.7083333333333, 4201.8, 12005.285714285714, 2155.2820512820513, 1218.3478260869565, 1474.982456140351, 5254.6875, 1293.553846153846, 9342.444444444445, 1751.9791666666667, 2213.2631578947367, 8410.5, 1314.515625, 1717.061224489796, 3505.875, 2337.4166666666665, 2214.5789473684213, 4950.35294117647, 7013.166666666667, 2475.4411764705883, 1185.5774647887324, 1169.25, 1559.148148148148, 12028.0, 8419.7, 12028.57142857143, 2903.655172413793, 4432.0526315789475, 1403.6166666666666, 1503.982142857143, 1685.0, 1257.5671641791046, 1316.625, 1831.8695652173913, 1719.8163265306123, 7661.090909090909, 1359.4354838709678, 3511.9166666666665, 9365.444444444445, 9365.777777777777, 6484.153846153846, 3122.296296296296, 4959.117647058823, 1873.7111111111112, 3832.8636363636365, 4684.777777777777, 3833.2272727272725, 3666.7391304347825, 8433.7, 1004.0833333333334, 1360.483870967742, 7668.272727272727, 21088.0, 4686.388888888889, 6489.0, 1297.9384615384615, 2057.731707317073, 10546.125, 6490.153846153846, 1622.75, 2812.9333333333334, 4441.526315789473, 1875.4, 3125.740740740741, 1918.2727272727273, 2558.060606060606, 1260.2686567164178, 1919.2045454545455, 2724.1935483870966, 3248.153846153846, 1384.5901639344263, 4692.444444444444, 3248.846153846154, 1482.0701754385964, 4693.333333333333, 5632.133333333333, 7040.416666666667, 4023.2380952380954, 3520.625, 1724.469387755102, 4023.904761904762, 6500.307692307692, 8450.5, 1224.768115942029, 9390.0, 1482.8070175438597, 5634.8, 1097.9610389610389, 1761.4583333333333, 5636.8, 2562.4242424242425, 6504.692307692308, 6504.846153846154, 1006.9047619047619, 7689.272727272727, 3132.814814814815, 4699.388888888889, 1281.7575757575758, 3253.846153846154, 3254.1923076923076, 3134.037037037037, 2226.8684210526317, 3384.92, 2918.1724137931033, 2015.1904761904761, 4030.5238095238096, 900.6276595744681, 1411.0166666666667, 1727.9591836734694, 2731.3548387096776, 12096.142857142857, 1728.1020408163265, 4032.3333333333335, 3849.2272727272725, 2731.7741935483873, 2490.764705882353, 2419.942857142857, 4235.25, 1193.1830985915492, 3530.0416666666665, 3851.090909090909, 1033.6097560975609, 1842.7391304347825, 3027.6428571428573, 7706.909090909091, 1284.8333333333333, 1161.7260273972602, 2827.0, 7710.090909090909, 3392.56, 8481.6, 7710.818181818182, 3855.5, 1346.4920634920634, 4712.944444444444, 1663.4901960784314, 1368.5, 1973.4186046511627, 3394.48, 3689.695652173913, 3264.0, 2828.866666666667, 1601.5471698113208, 2425.3142857142857, 496.7368421052632, 7722.363636363636, 2831.7, 1464.8793103448277, 4045.9523809523807, 787.2314814814815, 12146.0, 3401.08, 470.04419889502765, 3867.4545454545455, 4478.1578947368425, 2578.4242424242425, 3545.5, 1849.891304347826, 3039.285714285714, 1351.031746031746, 4053.5238095238096, 1606.3207547169811, 2076.7073170731705, 4730.333333333333, 3041.0, 3275.0384615384614, 2661.1875, 1494.3157894736842, 3042.0714285714284, 2241.9473684210525, 1704.18, 3408.48, 2840.4333333333334, 2434.8571428571427, 4734.833333333333, 3874.1363636363635, 2303.5675675675675, 3551.4583333333335, 5014.0, 2435.4857142857145, 5327.6875, 3409.92, 8524.9, 1639.4423076923076, 2750.1612903225805, 6558.307692307692, 1093.4102564102564, 1550.8181818181818, 2369.777777777778, 3046.9285714285716, 1496.842105263158, 5688.133333333333, 5688.4, 927.6847826086956, 6096.714285714285, 8535.5, 2189.0, 6567.2307692307695, 1940.5227272727273, 2754.516129032258, 2033.3095238095239, 472.0939226519337, 5340.6875, 2034.6666666666667, 1295.030303030303, 1378.725806451613, 4070.6666666666665, 4070.7619047619046, 4070.9523809523807, 2192.1794871794873, 1710.18, 518.5575757575757, 3889.409090909091, 5348.0625, 4754.0, 4278.7, 1614.7924528301887, 1783.125, 1450.7966101694915, 1615.0754716981132, 6114.428571428572, 10700.375, 2252.9473684210525, 7134.5, 4506.0526315789475, 1556.7636363636364, 4281.35, 2518.6176470588234, 5352.5625, 2141.35, 4078.9523809523807, 2519.529411764706, 1477.0172413793102, 2039.7619047619048, 1173.7123287671234, 1904.3111111111111, 1098.7692307692307, 4081.2380952380954, 9523.222222222223, 2449.057142857143, 5042.35294117647, 3297.076923076923, 893.1458333333334, 1174.6438356164383, 922.5698924731183, 1384.032258064516, 4086.4761904761904, 1787.9375, 2524.3529411764707, 2043.6904761904761, 2861.266666666667, 2524.764705882353, 1533.0714285714287, 1533.107142857143, 2960.5862068965516, 5050.588235294118, 1244.4202898550725, 1683.764705882353, 4293.8, 8587.7, 4771.166666666667, 2683.875, 3181.1111111111113, 3303.6153846153848, 1827.659574468085, 10737.625, 1952.5454545454545, 1227.5, 6137.714285714285, 3182.5925925925926, 5728.933333333333, 3069.25, 3581.0416666666665, 3736.913043478261, 10743.75, 1193.875, 7163.416666666667, 5372.75, 1719.74, 3439.64, 2866.633333333333, 1482.7758620689656, 2324.5405405405404, 4300.6, 1089.1012658227849, 4528.789473684211, 5736.733333333334, 2049.0, 2151.55, 5737.6, 5379.375, 531.6296296296297, 6151.857142857143, 2460.8285714285716, 1459.8983050847457, 2050.904761904762, 5383.875, 12306.142857142857, 2692.0, 926.516129032258, 4308.45, 1267.2941176470588, 1460.7966101694915, 2873.0333333333333, 8619.2, 7183.083333333333, 9577.555555555555, 4536.894736842105, 1461.1525423728813, 1690.3921568627452, 2694.21875, 12316.57142857143, 1461.593220338983, 5749.066666666667, 7839.818181818182, 1658.7115384615386, 2156.675, 3318.0384615384614, 1597.6296296296296, 3921.7272727272725, 2696.28125, 2104.5853658536585, 1797.7708333333333, 2696.71875, 5076.411764705882, 1488.1379310344828, 1659.923076923077, 7847.181818181818, 1328.1538461538462, 394.4840182648402, 1440.0666666666666, 1516.122807017544, 3757.608695652174, 2108.0975609756097, 4802.055555555556, 10804.75, 1235.0, 3929.6363636363635, 3325.1153846153848, 14409.166666666666, 9606.222222222223, 5764.0, 7205.25, 2620.5757575757575, 3931.0, 3326.346153846154, 1965.75, 2982.689655172414, 1466.2203389830509, 1310.9242424242425, 4553.8421052631575, 6180.357142857143, 12361.0, 2983.7241379310344, 5408.0625, 1202.2083333333333, 4122.047619047619, 5771.0, 2985.103448275862, 3329.923076923077, 2111.878048780488, 6184.928571428572, 4810.611111111111, 2220.5384615384614, 2279.0789473684213, 1237.7571428571428, 3610.5416666666665, 1293.5373134328358, 2476.285714285714, 1375.8253968253969, 4562.105263157895, 6668.0, 1221.0281690140846, 2064.4761904761904, 9634.444444444445, 7226.25, 1376.5714285714287, 482.1, 1669.3653846153845, 4133.714285714285, 4340.7, 5107.0, 860.1683168316831, 2802.6129032258063, 2286.5526315789475, 1498.2068965517242, 9655.222222222223, 439.14141414141415, 1278.8235294117646, 3781.086956521739, 2416.1388888888887, 1553.7857142857142, 1891.6521739130435, 3222.962962962963, 5801.533333333334, 1977.9772727272727, 2637.878787878788, 1554.6607142857142, 1583.1090909090908, 2721.0625, 1299.7164179104477, 714.4262295081967, 3789.8695652173915, 1341.2153846153847, 3113.6785714285716, 3113.785714285714, 1855.3191489361702, 1453.4833333333333, 5130.117647058823, 12459.0, 991.3863636363636, 2492.6857142857143, 1342.246153846154, 5816.666666666667, 8725.4, 1430.4754098360656, 1264.7101449275362, 1430.622950819672, 4155.809523809524, 1781.1224489795918, 4363.9, 6713.923076923077, 9698.111111111111, 3794.9565217391305, 4594.0, 1818.6041666666667, 1247.1571428571428, 5456.9375, 4595.526315789473, 1819.1875, 2728.8125, 2728.90625, 2425.75, 2817.2258064516127, 3359.230769230769, 1985.0681818181818, 3797.6521739130435, 8734.7, 4367.45, 5138.235294117647, 4159.809523809524, 1303.9253731343283, 7942.272727272727, 1899.2826086956522, 3495.08, 6241.428571428572, 1783.4489795918366, 6722.538461538462, 8739.4, 7283.0, 5141.294117647059, 1533.719298245614, 7947.636363636364, 5464.125, 1345.1076923076923, 5828.933333333333, 6725.846153846154, 3643.5416666666665, 3363.5384615384614, 8745.3, 7287.833333333333, 7950.545454545455, 3363.846153846154, 4859.111111111111, 841.1826923076923, 6248.928571428572, 1249.9571428571428, 1590.9818181818182, 4167.047619047619, 3241.3333333333335, 1458.7833333333333, 2303.815789473684, 1287.6176470588234, 2918.8333333333335, 1018.3139534883721, 489.52513966480444, 5841.866666666667, 6259.428571428572, 2247.051282051282, 5155.117647058823, 3130.0714285714284, 1992.090909090909, 1654.0754716981132, 4174.809523809524, 3653.125, 7970.545454545455, 2578.794117647059, 3507.4, 9742.888888888889, 4871.666666666667, 12527.285714285714, 2579.264705882353, 6264.071428571428, 3654.2916666666665, 1754.16, 7309.25, 3654.75, 1566.4642857142858, 2371.135135135135, 3814.478260869565, 2924.5, 4177.9047619047615, 4178.0, 1415.1612903225807, 1290.3529411764705, 3133.9285714285716, 4387.6, 2507.2285714285713, 2193.9, 1790.9591836734694, 7313.25, 4619.105263157895, 944.1720430107526, 10976.125, 4878.5, 2373.5405405405404, 2252.102564102564, 3992.6363636363635, 8783.9, 2142.439024390244, 17568.2, 5490.25, 3029.1724137931033, 4880.388888888889, 9760.888888888889, 3137.5714285714284, 4183.571428571428, 1464.4, 1996.9772727272727, 3379.6153846153848, 7322.833333333333, 10984.5, 6759.7692307692305, 4394.05, 4394.25, 4882.611111111111, 2375.4324324324325, 1997.590909090909, 1542.0526315789473, 4626.578947368421, 1490.2542372881355, 4187.190476190476, 2512.3714285714286, 6764.307692307692, 9770.777777777777, 4397.0, 1628.851851851852, 3998.3636363636365, 2094.4761904761904, 1442.1967213114754, 1543.4561403508771, 1912.7826086956522, 1442.4590163934427, 1872.531914893617, 6286.857142857143, 3385.3846153846152, 17604.2, 3385.5384615384614, 3385.730769230769, 1544.4561403508771, 1600.6727272727273, 4891.0, 9782.111111111111, 4002.181818181818, 3386.576923076923, 4634.473684210527, 7338.166666666667, 4892.333333333333, 2148.0243902439024, 8807.0, 2752.4375, 12582.714285714286, 1355.1384615384616, 3388.0, 5181.823529411765, 2258.948717948718, 1762.06, 5182.705882352941, 1762.28, 1190.972972972973, 1546.3684210526317, 3264.740740740741, 6780.7692307692305, 1207.7123287671234, 2260.948717948718, 2204.525, 2449.5555555555557, 1399.888888888889, 2756.125, 1356.9846153846154, 1446.032786885246, 424.3605769230769, 7355.833333333333, 4646.0526315789475, 2758.71875, 1401.3333333333333, 1337.7424242424242, 12613.142857142857, 4414.85, 6792.153846153846, 11037.5, 2943.6, 7359.666666666667, 2597.6176470588234, 1077.3048780487804, 1359.2307692307693, 1162.657894736842, 9818.111111111111, 3155.9285714285716, 2325.6052631578946, 1767.68, 12626.42857142857, 2209.7, 1767.96, 3157.1071428571427, 4420.0, 11050.375, 6314.714285714285, 8037.090909090909, 1551.1929824561403, 5894.6, 7368.416666666667, 3275.037037037037, 5895.266666666666, 6316.428571428572, 2157.0731707317073, 1382.09375, 1134.0897435897436, 885.0, 1924.0652173913043, 1580.7142857142858, 1526.4137931034484, 2951.266666666667, 1581.4107142857142, 9840.0, 2012.9318181818182, 6326.642857142857, 4921.0, 1080.3170731707316, 4429.4, 3164.0, 4429.95, 895.1919191919192, 4431.75, 1926.9130434782608, 2532.657142857143, 8058.727272727273, 4665.8421052631575, 3056.9655172413795, 2396.4594594594596, 2860.451612903226, 5911.866666666667, 5542.625, 5912.266666666666, 7390.416666666667, 4667.789473684211, 2956.366666666667, 1008.1818181818181, 1674.1132075471698, 4225.380952380952, 2218.375, 2335.184210526316, 8067.272727272727, 3060.2413793103447, 8874.8, 2862.967741935484, 6827.153846153846, 1557.280701754386, 6828.461538461538, 4227.476190476191, 14796.666666666666, 1973.0444444444445, 1644.2407407407406, 4673.315789473684, 1306.1029411764705, 2775.5, 3416.1923076923076, 621.4195804195804, 2019.7045454545455, 2693.242424242424, 1367.3538461538462, 1677.1698113207547, 1434.0645161290322, 4445.8, 3556.8, 2021.0227272727273, 787.5221238938053, 2118.904761904762, 3423.076923076923, 4684.421052631579, 1085.6463414634147, 3297.4074074074074, 3179.785714285714, 2343.2368421052633, 4686.631578947368, 957.6236559139785, 2473.972222222222, 4687.631578947368, 6362.071428571428, 2226.9, 3071.9655172413795, 7424.083333333333, 9898.888888888889, 1220.5205479452054, 1188.0933333333332, 1895.9787234042553, 8911.2, 2475.5, 1591.4642857142858, 2228.325, 1024.7011494252874, 1371.6, 4457.8, 3715.2916666666665, 8106.181818181818, 1114.9125, 3075.793103448276, 1256.4225352112676, 5947.266666666666, 1416.142857142857, 4460.95, 8922.0, 1593.4285714285713, 5577.3125, 3880.1304347826085, 4697.105263157895, 3187.535714285714, 5250.117647058823, 804.6486486486486, 1160.0389610389611, 8932.5, 11165.875, 3884.0, 3080.7241379310344, 3573.8, 867.6893203883495, 4468.9, 4256.285714285715, 2031.7272727272727, 1192.0666666666666, 8940.8, 3438.846153846154, 2079.3953488372094, 3725.6666666666665, 4967.666666666667, 1397.25, 1466.0, 2630.323529411765, 1375.923076923077, 5260.941176470588, 1687.5471698113208, 1656.4814814814815, 7454.25, 5590.75, 2710.757575757576, 11182.0, 4969.888888888889, 3195.1071428571427, 3313.5555555555557, 4970.555555555556, 1542.6896551724137, 1420.3333333333333, 9942.777777777777, 2886.7419354838707, 14915.0, 4710.1578947368425, 1688.698113207547, 1989.2444444444445, 1243.3472222222222, 8138.363636363636, 9947.333333333334, 1226.6712328767123, 5267.705882352941, 8955.2, 2035.409090909091, 4071.181818181818, 4975.944444444444, 1261.7323943661972, 8958.6, 4715.210526315789, 3583.68, 8959.3, 1227.4246575342465, 1262.4084507042253, 4268.285714285715, 4979.722222222223, 1379.4307692307693, 3736.0833333333335, 5977.866666666667, 11208.625, 11209.0, 1338.5074626865671, 7473.666666666667, 1281.2428571428572, 2802.84375, 1338.7910447761194, 1661.2037037037037, 3900.5652173913045, 1196.2933333333333, 4984.888888888889, 1471.016393442623, 1282.1, 2895.3548387096776, 2040.2272727272727, 3095.6206896551726, 3095.7586206896553, 8977.9, 4987.777777777777, 4489.1, 3741.2083333333335, 1795.86, 1340.2686567164178, 4726.368421052632, 2041.4545454545455, 4083.2272727272725, 3743.0833333333335, 1576.122807017544, 4278.190476190476, 8984.4, 1576.3859649122808, 2995.266666666667, 6912.307692307692, 2723.212121212121, 1182.5526315789473, 2808.6875, 4730.8421052631575, 1182.9605263157894, 5288.764705882353, 5619.4375, 1763.0588235294117, 2193.1951219512193, 1266.6338028169014, 1183.4868421052631, 2725.878787878788, 5622.3125, 2431.7567567567567, 1406.515625, 1125.5125, 608.7094594594595, 556.4320987654321, 7512.0, 1733.6346153846155, 2436.5135135135133, 1581.719298245614, 1431.2539682539682, 4098.636363636364, 2504.777777777778, 1768.2549019607843, 1918.8297872340424, 1879.5208333333333, 3111.0344827586205, 6940.307692307692, 2313.5897435897436, 10025.777777777777, 3342.1481481481483, 9024.0, 2820.15625, 1920.276595744681, 2375.3947368421054, 6017.8, 4103.363636363636, 5642.25, 6944.538461538462, 759.1428571428571, 2737.6363636363635, 1704.754716981132, 3011.866666666667, 2378.1052631578946, 7530.916666666667, 9037.2, 2378.3947368421054, 3347.4444444444443, 6456.071428571428, 2824.6875, 6026.2, 1844.857142857143, 3013.4, 6954.153846153846, 10045.0, 3616.56, 3931.086956521739, 4520.9, 1644.2, 1773.2549019607843, 1559.396551724138, 1239.2054794520548, 1739.7884615384614, 11308.875, 5654.5625, 3119.896551724138, 1436.5714285714287, 1274.9014084507041, 5028.833333333333, 7543.333333333333, 2920.1290322580644, 1926.212765957447, 5325.529411764706, 3353.259259259259, 1886.4166666666667, 2383.2631578947367, 1006.5777777777778, 3484.576923076923, 1147.0886075949368, 4769.684210526316, 1161.9102564102564, 2665.8529411764707, 2832.625, 7553.75, 3486.6153846153848, 6973.461538461538, 9065.6, 1536.677966101695, 4121.181818181818, 5333.411764705882, 1679.2407407407406, 5037.944444444444, 6477.571428571428, 4773.105263157895, 11336.25, 6046.133333333333, 3943.304347826087, 4773.631578947368, 2519.6388888888887, 5039.444444444444, 907.35, 1315.144927536232, 4321.380952380952, 4537.65, 4776.684210526316, 1815.32, 8251.545454545454, 15128.333333333334, 2111.046511627907, 3631.2, 1297.2, 3783.7916666666665, 3492.8076923076924, 7567.916666666667, 1441.857142857143, 3364.4814814814813, 2329.3333333333335, 2390.8947368421054, 1316.7826086956522, 1594.0701754385964, 3634.76, 2065.340909090909, 9087.7, 3951.4347826086955, 1622.9464285714287, 1245.1917808219177, 1442.984126984127, 5347.941176470588, 6494.071428571428, 4329.428571428572, 594.5686274509804, 2756.757575757576, 5054.388888888889, 5351.764705882353, 15163.833333333334, 938.3917525773196]\n"
          ]
        }
      ]
    },
    {
      "cell_type": "markdown",
      "source": [
        "### Provide 3 examples of a subword split that is not meaningful from a linguistic perspective."
      ],
      "metadata": {
        "id": "7VXdwekaPMJW"
      }
    },
    {
      "cell_type": "code",
      "source": [
        "unmeaningful_subword_split_list = []\n",
        "\n",
        "for row in train_data.itertuples():\n",
        "  tokens = model.tokenizer.tokenize(row.text)\n",
        "  #print(\"Tokens:\",tokens)\n",
        "  for t in tokens:\n",
        "    #print(t)\n",
        "    if '##' in t:\n",
        "      index = t.index('##')\n",
        "      unmeaningful_subword_split_list.append(((tokens[index-1],t,tokens[index+1])))\n",
        "\n",
        "print(unmeaningful_subword_split_list[:10])\n",
        "# 'Sc', '##alis', '##e'\n",
        "# '#', 'V', '##ote', '##R', '##ed', '##T', '##o', '##S', '##ave', '##A', '##mer', '##ica'\n",
        "# '#', 'Wake', '##U', '##p', '##S', '##tan', '##d', '##U', '##p', '##S', '##pe', '##ak', '##U', '##p'\n",
        "# '#', 'B', '##L', '##UE'"
      ],
      "metadata": {
        "colab": {
          "base_uri": "https://localhost:8080/"
        },
        "id": "0UpCG5LYNdf8",
        "outputId": "e8730c7a-76ab-4d09-e81e-4d5859678392"
      },
      "execution_count": 74,
      "outputs": [
        {
          "output_type": "stream",
          "name": "stdout",
          "text": [
            "[('.', '##ER', 'US'), ('##RL', '##ER', 'US'), ('##RL', '##ER', 'US'), ('##RL', '##ER', 'US'), ('##RL', '##GA', 'US'), ('##RL', '##20', 'US'), ('##RL', '##20', 'US'), ('##RL', '##RL', 'US'), ('##T', '##s', 'is'), ('##T', '##RL', 'is')]\n"
          ]
        }
      ]
    },
    {
      "cell_type": "markdown",
      "source": [
        "### How long (in characters) is the longest subword in the BERT’s vocabulary?"
      ],
      "metadata": {
        "id": "iPi7Y2ilXaif"
      }
    },
    {
      "cell_type": "code",
      "source": [
        "# result = [number for number in numbers if number > 5]\n",
        "\n",
        "word = ''\n",
        "max_length = 0\n",
        "\n",
        "max_length = max([len(vocab) for vocab in model.tokenizer.vocab if len(vocab) > max_length])\n",
        "word = [vocab for vocab in model.tokenizer.vocab if len(vocab) == max_length]\n",
        "\n",
        "print(\"Word: \",word) # 'Telecommunications','telecommunications'\n",
        "print(\"Length: \",max_length) # 18"
      ],
      "metadata": {
        "colab": {
          "base_uri": "https://localhost:8080/"
        },
        "id": "zyagnC2DXtKE",
        "outputId": "a573ecaf-0f76-4eea-a968-d412fece6929"
      },
      "execution_count": 91,
      "outputs": [
        {
          "output_type": "stream",
          "name": "stdout",
          "text": [
            "Word:  ['Telecommunications', 'telecommunications']\n",
            "Length:  18\n"
          ]
        }
      ]
    },
    {
      "cell_type": "code",
      "source": [
        ""
      ],
      "metadata": {
        "id": "hecZ3Rb3ZaU7"
      },
      "execution_count": null,
      "outputs": []
    }
  ]
}