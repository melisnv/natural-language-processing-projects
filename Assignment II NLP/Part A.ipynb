{
 "cells": [
  {
   "cell_type": "markdown",
   "id": "8e32f6a6",
   "metadata": {},
   "source": [
    "# Fine-tune BERT for Offensive Language Detect\n",
    "\n",
    "## 1.  Class Distribution\n",
    "Load the training set `(olid-train.csv)` and analyze the number of instances for each of the two classification labels."
   ]
  },
  {
   "cell_type": "code",
   "execution_count": 72,
   "id": "a3767217",
   "metadata": {},
   "outputs": [],
   "source": [
    "import pandas as pd\n",
    "import matplotlib.pyplot as plt\n",
    "from random import randint\n",
    "from sklearn.metrics import accuracy_score\n",
    "from sklearn.metrics import classification_report\n",
    "import random\n",
    "import spacy"
   ]
  },
  {
   "cell_type": "code",
   "execution_count": 3,
   "id": "1942edf4",
   "metadata": {},
   "outputs": [
    {
     "data": {
      "text/html": [
       "<div>\n",
       "<style scoped>\n",
       "    .dataframe tbody tr th:only-of-type {\n",
       "        vertical-align: middle;\n",
       "    }\n",
       "\n",
       "    .dataframe tbody tr th {\n",
       "        vertical-align: top;\n",
       "    }\n",
       "\n",
       "    .dataframe thead th {\n",
       "        text-align: right;\n",
       "    }\n",
       "</style>\n",
       "<table border=\"1\" class=\"dataframe\">\n",
       "  <thead>\n",
       "    <tr style=\"text-align: right;\">\n",
       "      <th></th>\n",
       "      <th>id</th>\n",
       "      <th>text</th>\n",
       "      <th>labels</th>\n",
       "    </tr>\n",
       "  </thead>\n",
       "  <tbody>\n",
       "    <tr>\n",
       "      <th>0</th>\n",
       "      <td>86426</td>\n",
       "      <td>@USER She should ask a few native Americans wh...</td>\n",
       "      <td>1</td>\n",
       "    </tr>\n",
       "    <tr>\n",
       "      <th>1</th>\n",
       "      <td>90194</td>\n",
       "      <td>@USER @USER Go home you’re drunk!!! @USER #MAG...</td>\n",
       "      <td>1</td>\n",
       "    </tr>\n",
       "    <tr>\n",
       "      <th>2</th>\n",
       "      <td>16820</td>\n",
       "      <td>Amazon is investigating Chinese employees who ...</td>\n",
       "      <td>0</td>\n",
       "    </tr>\n",
       "    <tr>\n",
       "      <th>3</th>\n",
       "      <td>62688</td>\n",
       "      <td>@USER Someone should'veTaken\" this piece of sh...</td>\n",
       "      <td>1</td>\n",
       "    </tr>\n",
       "    <tr>\n",
       "      <th>4</th>\n",
       "      <td>43605</td>\n",
       "      <td>@USER @USER Obama wanted liberals &amp;amp; illega...</td>\n",
       "      <td>0</td>\n",
       "    </tr>\n",
       "    <tr>\n",
       "      <th>...</th>\n",
       "      <td>...</td>\n",
       "      <td>...</td>\n",
       "      <td>...</td>\n",
       "    </tr>\n",
       "    <tr>\n",
       "      <th>13235</th>\n",
       "      <td>95338</td>\n",
       "      <td>@USER Sometimes I get strong vibes from people...</td>\n",
       "      <td>1</td>\n",
       "    </tr>\n",
       "    <tr>\n",
       "      <th>13236</th>\n",
       "      <td>67210</td>\n",
       "      <td>Benidorm ✅  Creamfields ✅  Maga ✅   Not too sh...</td>\n",
       "      <td>0</td>\n",
       "    </tr>\n",
       "    <tr>\n",
       "      <th>13237</th>\n",
       "      <td>82921</td>\n",
       "      <td>@USER And why report this garbage.  We don't g...</td>\n",
       "      <td>1</td>\n",
       "    </tr>\n",
       "    <tr>\n",
       "      <th>13238</th>\n",
       "      <td>27429</td>\n",
       "      <td>@USER Pussy</td>\n",
       "      <td>1</td>\n",
       "    </tr>\n",
       "    <tr>\n",
       "      <th>13239</th>\n",
       "      <td>46552</td>\n",
       "      <td>#Spanishrevenge vs. #justice #HumanRights and ...</td>\n",
       "      <td>0</td>\n",
       "    </tr>\n",
       "  </tbody>\n",
       "</table>\n",
       "<p>13240 rows × 3 columns</p>\n",
       "</div>"
      ],
      "text/plain": [
       "          id                                               text  labels\n",
       "0      86426  @USER She should ask a few native Americans wh...       1\n",
       "1      90194  @USER @USER Go home you’re drunk!!! @USER #MAG...       1\n",
       "2      16820  Amazon is investigating Chinese employees who ...       0\n",
       "3      62688  @USER Someone should'veTaken\" this piece of sh...       1\n",
       "4      43605  @USER @USER Obama wanted liberals &amp; illega...       0\n",
       "...      ...                                                ...     ...\n",
       "13235  95338  @USER Sometimes I get strong vibes from people...       1\n",
       "13236  67210  Benidorm ✅  Creamfields ✅  Maga ✅   Not too sh...       0\n",
       "13237  82921  @USER And why report this garbage.  We don't g...       1\n",
       "13238  27429                                        @USER Pussy       1\n",
       "13239  46552  #Spanishrevenge vs. #justice #HumanRights and ...       0\n",
       "\n",
       "[13240 rows x 3 columns]"
      ]
     },
     "execution_count": 3,
     "metadata": {},
     "output_type": "execute_result"
    }
   ],
   "source": [
    "data = pd.read_csv(\"./data/olid-train.csv\")\n",
    "data"
   ]
  },
  {
   "cell_type": "code",
   "execution_count": 4,
   "id": "81990849",
   "metadata": {},
   "outputs": [
    {
     "data": {
      "text/plain": [
       "array([1, 0], dtype=int64)"
      ]
     },
     "execution_count": 4,
     "metadata": {},
     "output_type": "execute_result"
    }
   ],
   "source": [
    "data['labels'].unique()"
   ]
  },
  {
   "cell_type": "markdown",
   "id": "a19d3e18",
   "metadata": {},
   "source": [
    "## Number of Instances"
   ]
  },
  {
   "cell_type": "code",
   "execution_count": 5,
   "id": "47ccc5f0",
   "metadata": {},
   "outputs": [
    {
     "name": "stdout",
     "output_type": "stream",
     "text": [
      "Class 0: 8840\n",
      "Class 1: 4400\n"
     ]
    }
   ],
   "source": [
    "label_zero = data[(data[\"labels\"] == 0)]\n",
    "number_of_instances_0 = len(label_zero)\n",
    "\n",
    "label_one = data[(data[\"labels\"] == 1)]\n",
    "number_of_instances_1 = len(label_one)\n",
    "\n",
    "print(\"Class 0:\", number_of_instances_0)\n",
    "print(\"Class 1:\", number_of_instances_1)"
   ]
  },
  {
   "cell_type": "markdown",
   "id": "f12099f8",
   "metadata": {},
   "source": [
    "## Relative Label Frequency (%)"
   ]
  },
  {
   "cell_type": "code",
   "execution_count": 6,
   "id": "9e467b10",
   "metadata": {},
   "outputs": [
    {
     "name": "stdout",
     "output_type": "stream",
     "text": [
      "0 Label Frequency: 0.6676737160120846\n",
      "1 Label Frequency: 0.3323262839879154\n"
     ]
    }
   ],
   "source": [
    "total = len(data)\n",
    "freq_zero = (number_of_instances_0 / total)\n",
    "freq_one = (number_of_instances_1 / total)\n",
    "\n",
    "print(\"0 Label Frequency:\", freq_zero)\n",
    "print(\"1 Label Frequency:\", freq_one)"
   ]
  },
  {
   "cell_type": "markdown",
   "id": "485180dc",
   "metadata": {},
   "source": [
    "## Example Tweet with This Label"
   ]
  },
  {
   "cell_type": "code",
   "execution_count": 7,
   "id": "30784e45",
   "metadata": {},
   "outputs": [
    {
     "data": {
      "text/plain": [
       "'@USER @USER Obama wanted liberals &amp; illegals to move into red states'"
      ]
     },
     "execution_count": 7,
     "metadata": {},
     "output_type": "execute_result"
    }
   ],
   "source": [
    "random_0 = randint(0, number_of_instances_0 - 1)\n",
    "data[\"text\"][(data[\"labels\"] == 0)][4]"
   ]
  },
  {
   "cell_type": "code",
   "execution_count": 8,
   "id": "22082fc3",
   "metadata": {},
   "outputs": [
    {
     "data": {
      "text/plain": [
       "'@USER She should ask a few native Americans what their take on this is.'"
      ]
     },
     "execution_count": 8,
     "metadata": {},
     "output_type": "execute_result"
    }
   ],
   "source": [
    "random_1 = randint(0, number_of_instances_1 - 1)\n",
    "data[\"text\"][(data[\"labels\"] == 1)][0]"
   ]
  },
  {
   "cell_type": "markdown",
   "id": "d97108d7",
   "metadata": {},
   "source": [
    "## 2. Baselines\n",
    "\n",
    "Calculate two baselines and evaluate their performance on the test set (olid-test.csv): <br>\n",
    "\n",
    "- The first baseline is a random baseline that randomly assigns one of the 2 classification \n",
    "labels. <br>\n",
    "- The second baseline is a majority baseline that always assigns the majority class. <br>\n",
    "\n",
    "Calculate the results on the test set and fill them into the two tables below. Round the results to \n",
    "two decimals."
   ]
  },
  {
   "cell_type": "code",
   "execution_count": 9,
   "id": "adbe28af",
   "metadata": {},
   "outputs": [
    {
     "data": {
      "text/html": [
       "<div>\n",
       "<style scoped>\n",
       "    .dataframe tbody tr th:only-of-type {\n",
       "        vertical-align: middle;\n",
       "    }\n",
       "\n",
       "    .dataframe tbody tr th {\n",
       "        vertical-align: top;\n",
       "    }\n",
       "\n",
       "    .dataframe thead th {\n",
       "        text-align: right;\n",
       "    }\n",
       "</style>\n",
       "<table border=\"1\" class=\"dataframe\">\n",
       "  <thead>\n",
       "    <tr style=\"text-align: right;\">\n",
       "      <th></th>\n",
       "      <th>id</th>\n",
       "      <th>text</th>\n",
       "      <th>labels</th>\n",
       "    </tr>\n",
       "  </thead>\n",
       "  <tbody>\n",
       "    <tr>\n",
       "      <th>0</th>\n",
       "      <td>15923</td>\n",
       "      <td>#WhoIsQ #WheresTheServer #DumpNike #DECLASFISA...</td>\n",
       "      <td>1</td>\n",
       "    </tr>\n",
       "    <tr>\n",
       "      <th>1</th>\n",
       "      <td>27014</td>\n",
       "      <td>#ConstitutionDay is revered by Conservatives, ...</td>\n",
       "      <td>0</td>\n",
       "    </tr>\n",
       "    <tr>\n",
       "      <th>2</th>\n",
       "      <td>30530</td>\n",
       "      <td>#FOXNews #NRA #MAGA #POTUS #TRUMP #2ndAmendmen...</td>\n",
       "      <td>0</td>\n",
       "    </tr>\n",
       "    <tr>\n",
       "      <th>3</th>\n",
       "      <td>13876</td>\n",
       "      <td>#Watching #Boomer getting the news that she is...</td>\n",
       "      <td>0</td>\n",
       "    </tr>\n",
       "    <tr>\n",
       "      <th>4</th>\n",
       "      <td>60133</td>\n",
       "      <td>#NoPasaran: Unity demo to oppose the far-right...</td>\n",
       "      <td>1</td>\n",
       "    </tr>\n",
       "  </tbody>\n",
       "</table>\n",
       "</div>"
      ],
      "text/plain": [
       "      id                                               text  labels\n",
       "0  15923  #WhoIsQ #WheresTheServer #DumpNike #DECLASFISA...       1\n",
       "1  27014  #ConstitutionDay is revered by Conservatives, ...       0\n",
       "2  30530  #FOXNews #NRA #MAGA #POTUS #TRUMP #2ndAmendmen...       0\n",
       "3  13876  #Watching #Boomer getting the news that she is...       0\n",
       "4  60133  #NoPasaran: Unity demo to oppose the far-right...       1"
      ]
     },
     "execution_count": 9,
     "metadata": {},
     "output_type": "execute_result"
    }
   ],
   "source": [
    "test_data = pd.read_csv(\"./data/olid-test.csv\")\n",
    "test_data.head()"
   ]
  },
  {
   "cell_type": "code",
   "execution_count": 10,
   "id": "9388bc31",
   "metadata": {},
   "outputs": [
    {
     "name": "stdout",
     "output_type": "stream",
     "text": [
      "(860, 3)\n",
      "(13240, 3)\n"
     ]
    }
   ],
   "source": [
    "print(test_data.shape)\n",
    "print(data.shape)"
   ]
  },
  {
   "cell_type": "markdown",
   "id": "2cf4dd04",
   "metadata": {},
   "source": [
    "## Random baseline"
   ]
  },
  {
   "cell_type": "code",
   "execution_count": 95,
   "id": "a5119e07",
   "metadata": {},
   "outputs": [],
   "source": [
    "def random_baseline(train_data, test_data_text,test_data_labels):\n",
    "    possible_labels = [0, 1]\n",
    "\n",
    "    predictions = []\n",
    "    for instance in test_data_text:\n",
    "        instance_predictions = [random.choice(possible_labels)]\n",
    "        predictions.append(instance_predictions)\n",
    "        \n",
    "    \n",
    "    predictions = [item for sublist in predictions for item in sublist]\n",
    "        \n",
    "    test_labels_list = []\n",
    "    for element in test_data_labels:\n",
    "        test_labels_list.append(element)\n",
    "                \n",
    "    \n",
    "    prediction_df = pd.DataFrame({\"predictions\":predictions})\n",
    "\n",
    "    accuracy = accuracy_score(test_labels_list,predictions)\n",
    "    print(\"Accuracy: \",accuracy)\n",
    "    \n",
    "    print(classification_report(test_labels_list, predictions,zero_division=1))"
   ]
  },
  {
   "cell_type": "code",
   "execution_count": 96,
   "id": "0b7e07d0",
   "metadata": {},
   "outputs": [
    {
     "name": "stdout",
     "output_type": "stream",
     "text": [
      "Accuracy:  0.48604651162790696\n",
      "              precision    recall  f1-score   support\n",
      "\n",
      "           0       0.71      0.49      0.58       620\n",
      "           1       0.26      0.47      0.34       240\n",
      "\n",
      "    accuracy                           0.49       860\n",
      "   macro avg       0.49      0.48      0.46       860\n",
      "weighted avg       0.58      0.49      0.51       860\n",
      "\n"
     ]
    }
   ],
   "source": [
    "random_baseline(train_data=data['text'], test_data_text = test_data['text'],test_data_labels =test_data['labels'])"
   ]
  },
  {
   "cell_type": "markdown",
   "id": "9c3cc714",
   "metadata": {},
   "source": [
    "## Majority baseline"
   ]
  },
  {
   "cell_type": "code",
   "execution_count": 97,
   "id": "dad49e6a",
   "metadata": {},
   "outputs": [],
   "source": [
    "def majority_baseline(train_data_labels, test_data_text,test_data_labels):\n",
    "    train_labels_list = []\n",
    "\n",
    "    for element in train_data_labels:\n",
    "        train_labels_list.append(element)\n",
    "        \n",
    "    label_one_occurences = train_labels_list.count(1)\n",
    "    label_zero_occurences = train_labels_list.count(0)\n",
    "    \n",
    "    if label_one_occurences > label_zero_occurences:\n",
    "        majority_baseline_class = 1\n",
    "    else:\n",
    "        majority_baseline_class = 0\n",
    "        \n",
    "        \n",
    "    predictions = []\n",
    "    test_labels_list = []\n",
    "    for text in test_data_text:\n",
    "        predictions.append(majority_baseline_class)\n",
    "\n",
    "    test_labels_list = []\n",
    "    for element in test_data_labels:\n",
    "        test_labels_list.append(element)\n",
    "        \n",
    "    final_df = pd.DataFrame({\"predictions\":predictions})\n",
    "    \n",
    "    accuracy = accuracy_score(test_labels_list,predictions)\n",
    "    print(\"Accuracy: \",accuracy)\n",
    "    print(classification_report(test_labels_list, predictions,zero_division=1))"
   ]
  },
  {
   "cell_type": "code",
   "execution_count": 98,
   "id": "7f534bc2",
   "metadata": {},
   "outputs": [
    {
     "name": "stdout",
     "output_type": "stream",
     "text": [
      "Accuracy:  0.7209302325581395\n",
      "              precision    recall  f1-score   support\n",
      "\n",
      "           0       0.72      1.00      0.84       620\n",
      "           1       1.00      0.00      0.00       240\n",
      "\n",
      "    accuracy                           0.72       860\n",
      "   macro avg       0.86      0.50      0.42       860\n",
      "weighted avg       0.80      0.72      0.60       860\n",
      "\n"
     ]
    }
   ],
   "source": [
    "majority_baseline(train_data_labels=data['text'], test_data_text = test_data['text'],test_data_labels =test_data['labels'])"
   ]
  },
  {
   "cell_type": "code",
   "execution_count": null,
   "id": "8d20120b",
   "metadata": {},
   "outputs": [],
   "source": []
  }
 ],
 "metadata": {
  "kernelspec": {
   "display_name": "Python 3 (ipykernel)",
   "language": "python",
   "name": "python3"
  },
  "language_info": {
   "codemirror_mode": {
    "name": "ipython",
    "version": 3
   },
   "file_extension": ".py",
   "mimetype": "text/x-python",
   "name": "python",
   "nbconvert_exporter": "python",
   "pygments_lexer": "ipython3",
   "version": "3.9.12"
  }
 },
 "nbformat": 4,
 "nbformat_minor": 5
}
