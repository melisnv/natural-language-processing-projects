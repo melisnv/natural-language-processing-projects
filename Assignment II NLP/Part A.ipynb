{
 "cells": [
  {
   "cell_type": "markdown",
   "id": "8e32f6a6",
   "metadata": {},
   "source": [
    "# Fine-tune BERT for Offensive Language Detect\n",
    "\n",
    "## 1.  Class Distribution\n",
    "Load the training set `(olid-train.csv)` and analyze the number of instances for each of the two classification labels."
   ]
  },
  {
   "cell_type": "code",
   "execution_count": 19,
   "id": "a3767217",
   "metadata": {},
   "outputs": [],
   "source": [
    "import pandas as pd\n",
    "import matplotlib.pyplot as plt\n",
    "from random import randint"
   ]
  },
  {
   "cell_type": "code",
   "execution_count": 12,
   "id": "3e53d6ca",
   "metadata": {},
   "outputs": [
    {
     "data": {
      "text/html": [
       "<div>\n",
       "<style scoped>\n",
       "    .dataframe tbody tr th:only-of-type {\n",
       "        vertical-align: middle;\n",
       "    }\n",
       "\n",
       "    .dataframe tbody tr th {\n",
       "        vertical-align: top;\n",
       "    }\n",
       "\n",
       "    .dataframe thead th {\n",
       "        text-align: right;\n",
       "    }\n",
       "</style>\n",
       "<table border=\"1\" class=\"dataframe\">\n",
       "  <thead>\n",
       "    <tr style=\"text-align: right;\">\n",
       "      <th></th>\n",
       "      <th>id</th>\n",
       "      <th>text</th>\n",
       "      <th>labels</th>\n",
       "    </tr>\n",
       "  </thead>\n",
       "  <tbody>\n",
       "    <tr>\n",
       "      <th>0</th>\n",
       "      <td>86426</td>\n",
       "      <td>@USER She should ask a few native Americans wh...</td>\n",
       "      <td>1</td>\n",
       "    </tr>\n",
       "    <tr>\n",
       "      <th>1</th>\n",
       "      <td>90194</td>\n",
       "      <td>@USER @USER Go home you’re drunk!!! @USER #MAG...</td>\n",
       "      <td>1</td>\n",
       "    </tr>\n",
       "    <tr>\n",
       "      <th>2</th>\n",
       "      <td>16820</td>\n",
       "      <td>Amazon is investigating Chinese employees who ...</td>\n",
       "      <td>0</td>\n",
       "    </tr>\n",
       "    <tr>\n",
       "      <th>3</th>\n",
       "      <td>62688</td>\n",
       "      <td>@USER Someone should'veTaken\" this piece of sh...</td>\n",
       "      <td>1</td>\n",
       "    </tr>\n",
       "    <tr>\n",
       "      <th>4</th>\n",
       "      <td>43605</td>\n",
       "      <td>@USER @USER Obama wanted liberals &amp;amp; illega...</td>\n",
       "      <td>0</td>\n",
       "    </tr>\n",
       "    <tr>\n",
       "      <th>...</th>\n",
       "      <td>...</td>\n",
       "      <td>...</td>\n",
       "      <td>...</td>\n",
       "    </tr>\n",
       "    <tr>\n",
       "      <th>13235</th>\n",
       "      <td>95338</td>\n",
       "      <td>@USER Sometimes I get strong vibes from people...</td>\n",
       "      <td>1</td>\n",
       "    </tr>\n",
       "    <tr>\n",
       "      <th>13236</th>\n",
       "      <td>67210</td>\n",
       "      <td>Benidorm ✅  Creamfields ✅  Maga ✅   Not too sh...</td>\n",
       "      <td>0</td>\n",
       "    </tr>\n",
       "    <tr>\n",
       "      <th>13237</th>\n",
       "      <td>82921</td>\n",
       "      <td>@USER And why report this garbage.  We don't g...</td>\n",
       "      <td>1</td>\n",
       "    </tr>\n",
       "    <tr>\n",
       "      <th>13238</th>\n",
       "      <td>27429</td>\n",
       "      <td>@USER Pussy</td>\n",
       "      <td>1</td>\n",
       "    </tr>\n",
       "    <tr>\n",
       "      <th>13239</th>\n",
       "      <td>46552</td>\n",
       "      <td>#Spanishrevenge vs. #justice #HumanRights and ...</td>\n",
       "      <td>0</td>\n",
       "    </tr>\n",
       "  </tbody>\n",
       "</table>\n",
       "<p>13240 rows × 3 columns</p>\n",
       "</div>"
      ],
      "text/plain": [
       "          id                                               text  labels\n",
       "0      86426  @USER She should ask a few native Americans wh...       1\n",
       "1      90194  @USER @USER Go home you’re drunk!!! @USER #MAG...       1\n",
       "2      16820  Amazon is investigating Chinese employees who ...       0\n",
       "3      62688  @USER Someone should'veTaken\" this piece of sh...       1\n",
       "4      43605  @USER @USER Obama wanted liberals &amp; illega...       0\n",
       "...      ...                                                ...     ...\n",
       "13235  95338  @USER Sometimes I get strong vibes from people...       1\n",
       "13236  67210  Benidorm ✅  Creamfields ✅  Maga ✅   Not too sh...       0\n",
       "13237  82921  @USER And why report this garbage.  We don't g...       1\n",
       "13238  27429                                        @USER Pussy       1\n",
       "13239  46552  #Spanishrevenge vs. #justice #HumanRights and ...       0\n",
       "\n",
       "[13240 rows x 3 columns]"
      ]
     },
     "execution_count": 12,
     "metadata": {},
     "output_type": "execute_result"
    }
   ],
   "source": [
    "data = pd.read_csv(\"./data/olid-train.csv\")\n",
    "data"
   ]
  },
  {
   "cell_type": "code",
   "execution_count": 13,
   "id": "104970cc",
   "metadata": {},
   "outputs": [
    {
     "data": {
      "text/plain": [
       "array([1, 0], dtype=int64)"
      ]
     },
     "execution_count": 13,
     "metadata": {},
     "output_type": "execute_result"
    }
   ],
   "source": [
    "data['labels'].unique()"
   ]
  },
  {
   "cell_type": "markdown",
   "id": "f075e14b",
   "metadata": {},
   "source": [
    "## Number of Instances"
   ]
  },
  {
   "cell_type": "code",
   "execution_count": 16,
   "id": "b77ab361",
   "metadata": {},
   "outputs": [
    {
     "name": "stdout",
     "output_type": "stream",
     "text": [
      "Class 0: 8840\n",
      "Class 1: 4400\n"
     ]
    }
   ],
   "source": [
    "label_zero = data[(data[\"labels\"] == 0)]\n",
    "number_of_instances_0 = len(label_zero)\n",
    "\n",
    "label_one = data[(data[\"labels\"] == 1)]\n",
    "number_of_instances_1 = len(label_one)\n",
    "\n",
    "print(\"Class 0:\", number_of_instances_0)\n",
    "print(\"Class 1:\", number_of_instances_1)"
   ]
  },
  {
   "cell_type": "markdown",
   "id": "ea2fdea4",
   "metadata": {},
   "source": [
    "## Relative Label Frequency (%)"
   ]
  },
  {
   "cell_type": "code",
   "execution_count": 17,
   "id": "5f0f4cd5",
   "metadata": {},
   "outputs": [
    {
     "name": "stdout",
     "output_type": "stream",
     "text": [
      "0 Label Frequency: 0.6676737160120846\n",
      "1 Label Frequency: 0.3323262839879154\n"
     ]
    }
   ],
   "source": [
    "total = len(data)\n",
    "freq_zero = (number_of_instances_0 / total)\n",
    "freq_one = (number_of_instances_1 / total)\n",
    "\n",
    "print(\"0 Label Frequency:\", freq_zero)\n",
    "print(\"1 Label Frequency:\", freq_one)"
   ]
  },
  {
   "cell_type": "markdown",
   "id": "65c432f6",
   "metadata": {},
   "source": [
    "## Example Tweet with This Label"
   ]
  },
  {
   "cell_type": "code",
   "execution_count": 47,
   "id": "926d80e3",
   "metadata": {},
   "outputs": [
    {
     "data": {
      "text/plain": [
       "'@USER @USER Obama wanted liberals &amp; illegals to move into red states'"
      ]
     },
     "execution_count": 47,
     "metadata": {},
     "output_type": "execute_result"
    }
   ],
   "source": [
    "random_0 = randint(0, number_of_instances_0 - 1)\n",
    "data[\"text\"][(data[\"labels\"] == 0)][4]"
   ]
  },
  {
   "cell_type": "code",
   "execution_count": 48,
   "id": "a068ee40",
   "metadata": {},
   "outputs": [
    {
     "data": {
      "text/plain": [
       "'@USER She should ask a few native Americans what their take on this is.'"
      ]
     },
     "execution_count": 48,
     "metadata": {},
     "output_type": "execute_result"
    }
   ],
   "source": [
    "random_1 = randint(0, number_of_instances_1 - 1)\n",
    "data[\"text\"][(data[\"labels\"] == 1)][0]"
   ]
  }
 ],
 "metadata": {
  "kernelspec": {
   "display_name": "Python 3 (ipykernel)",
   "language": "python",
   "name": "python3"
  },
  "language_info": {
   "codemirror_mode": {
    "name": "ipython",
    "version": 3
   },
   "file_extension": ".py",
   "mimetype": "text/x-python",
   "name": "python",
   "nbconvert_exporter": "python",
   "pygments_lexer": "ipython3",
   "version": "3.9.12"
  }
 },
 "nbformat": 4,
 "nbformat_minor": 5
}
