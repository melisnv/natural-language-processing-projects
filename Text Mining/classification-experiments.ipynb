{
 "cells": [
  {
   "cell_type": "markdown",
   "id": "9f34edaa",
   "metadata": {},
   "source": [
    "# Classification Experiments\n",
    "\n",
    "Performing machine learning classification experiments in order to automatically detect negation cues. In the previous week pre-processing the corpus has been applied and features extracted. Now can concentrate on selecting the classifier that will be used for performing the classification experiments."
   ]
  },
  {
   "cell_type": "code",
   "execution_count": 1,
   "id": "b9babfcd",
   "metadata": {},
   "outputs": [],
   "source": [
    "# libraries\n",
    "import warnings\n",
    "warnings.filterwarnings(\"ignore\")\n",
    "\n",
    "import numpy as np\n",
    "import pandas as pd\n",
    "import seaborn as sns\n",
    "import matplotlib.pyplot as plt\n",
    "from collections import defaultdict\n",
    "\n",
    "from sklearn import svm\n",
    "from sklearn.svm import LinearSVC\n",
    "from sklearn.model_selection import train_test_split\n",
    "from sklearn.feature_extraction import DictVectorizer\n",
    "from sklearn.metrics import classification_report, confusion_matrix\n",
    "from sklearn.metrics import accuracy_score, precision_score, recall_score\n",
    "\n",
    "from sklearn.model_selection import GridSearchCV"
   ]
  },
  {
   "cell_type": "code",
   "execution_count": 2,
   "id": "0e281e33",
   "metadata": {},
   "outputs": [
    {
     "data": {
      "text/html": [
       "<div>\n",
       "<style scoped>\n",
       "    .dataframe tbody tr th:only-of-type {\n",
       "        vertical-align: middle;\n",
       "    }\n",
       "\n",
       "    .dataframe tbody tr th {\n",
       "        vertical-align: top;\n",
       "    }\n",
       "\n",
       "    .dataframe thead th {\n",
       "        text-align: right;\n",
       "    }\n",
       "</style>\n",
       "<table border=\"1\" class=\"dataframe\">\n",
       "  <thead>\n",
       "    <tr style=\"text-align: right;\">\n",
       "      <th></th>\n",
       "      <th>word</th>\n",
       "      <th>label</th>\n",
       "      <th>lemma</th>\n",
       "      <th>lowercase</th>\n",
       "      <th>pos_tag</th>\n",
       "      <th>matchesNegExp</th>\n",
       "      <th>startNegPrefix</th>\n",
       "      <th>endNegSuffix</th>\n",
       "      <th>suffix_cues_feature</th>\n",
       "      <th>prefix_cues_feature</th>\n",
       "    </tr>\n",
       "  </thead>\n",
       "  <tbody>\n",
       "    <tr>\n",
       "      <th>0</th>\n",
       "      <td>1.</td>\n",
       "      <td>O</td>\n",
       "      <td>1.</td>\n",
       "      <td>1.</td>\n",
       "      <td>CD</td>\n",
       "      <td>0</td>\n",
       "      <td>0</td>\n",
       "      <td>0</td>\n",
       "      <td>0</td>\n",
       "      <td>0</td>\n",
       "    </tr>\n",
       "    <tr>\n",
       "      <th>1</th>\n",
       "      <td>Mr.</td>\n",
       "      <td>O</td>\n",
       "      <td>Mr.</td>\n",
       "      <td>mr.</td>\n",
       "      <td>NNP</td>\n",
       "      <td>0</td>\n",
       "      <td>0</td>\n",
       "      <td>0</td>\n",
       "      <td>0</td>\n",
       "      <td>0</td>\n",
       "    </tr>\n",
       "    <tr>\n",
       "      <th>2</th>\n",
       "      <td>Sherlock</td>\n",
       "      <td>O</td>\n",
       "      <td>Sherlock</td>\n",
       "      <td>sherlock</td>\n",
       "      <td>NN</td>\n",
       "      <td>0</td>\n",
       "      <td>0</td>\n",
       "      <td>0</td>\n",
       "      <td>0</td>\n",
       "      <td>0</td>\n",
       "    </tr>\n",
       "    <tr>\n",
       "      <th>3</th>\n",
       "      <td>Holmes</td>\n",
       "      <td>O</td>\n",
       "      <td>Holmes</td>\n",
       "      <td>holmes</td>\n",
       "      <td>NNS</td>\n",
       "      <td>0</td>\n",
       "      <td>0</td>\n",
       "      <td>0</td>\n",
       "      <td>0</td>\n",
       "      <td>0</td>\n",
       "    </tr>\n",
       "    <tr>\n",
       "      <th>4</th>\n",
       "      <td>Mr.</td>\n",
       "      <td>O</td>\n",
       "      <td>Mr.</td>\n",
       "      <td>mr.</td>\n",
       "      <td>NNP</td>\n",
       "      <td>0</td>\n",
       "      <td>0</td>\n",
       "      <td>0</td>\n",
       "      <td>0</td>\n",
       "      <td>0</td>\n",
       "    </tr>\n",
       "  </tbody>\n",
       "</table>\n",
       "</div>"
      ],
      "text/plain": [
       "       word label     lemma lowercase pos_tag  matchesNegExp  startNegPrefix  \\\n",
       "0        1.     O        1.        1.      CD              0               0   \n",
       "1       Mr.     O       Mr.       mr.     NNP              0               0   \n",
       "2  Sherlock     O  Sherlock  sherlock      NN              0               0   \n",
       "3    Holmes     O    Holmes    holmes     NNS              0               0   \n",
       "4       Mr.     O       Mr.       mr.     NNP              0               0   \n",
       "\n",
       "   endNegSuffix  suffix_cues_feature  prefix_cues_feature  \n",
       "0             0                    0                    0  \n",
       "1             0                    0                    0  \n",
       "2             0                    0                    0  \n",
       "3             0                    0                    0  \n",
       "4             0                    0                    0  "
      ]
     },
     "execution_count": 2,
     "metadata": {},
     "output_type": "execute_result"
    }
   ],
   "source": [
    "data = pd.read_csv(\"datas/last_data.csv\")\n",
    "data = data.drop([\"chapter\",\"sentence_id\",\"token_id\"], axis=1)\n",
    "dev_data = pd.read_csv(\"datas/dev_processed_data.csv\", sep=\"\\t\")\n",
    "dev_data = dev_data.drop([\"chapter\",\"sentence_id\",\"token_id\"], axis=1)\n",
    "data.head()"
   ]
  },
  {
   "cell_type": "code",
   "execution_count": 3,
   "id": "fcd4e865",
   "metadata": {},
   "outputs": [
    {
     "data": {
      "text/html": [
       "<div>\n",
       "<style scoped>\n",
       "    .dataframe tbody tr th:only-of-type {\n",
       "        vertical-align: middle;\n",
       "    }\n",
       "\n",
       "    .dataframe tbody tr th {\n",
       "        vertical-align: top;\n",
       "    }\n",
       "\n",
       "    .dataframe thead th {\n",
       "        text-align: right;\n",
       "    }\n",
       "</style>\n",
       "<table border=\"1\" class=\"dataframe\">\n",
       "  <thead>\n",
       "    <tr style=\"text-align: right;\">\n",
       "      <th></th>\n",
       "      <th>word</th>\n",
       "      <th>label</th>\n",
       "      <th>lemma</th>\n",
       "      <th>lowercase</th>\n",
       "      <th>pos_tag</th>\n",
       "      <th>matchesNegExp</th>\n",
       "      <th>startNegPrefix</th>\n",
       "      <th>endNegSuffix</th>\n",
       "      <th>suffix_cues_feature</th>\n",
       "      <th>prefix_cues_feature</th>\n",
       "    </tr>\n",
       "  </thead>\n",
       "  <tbody>\n",
       "    <tr>\n",
       "      <th>0</th>\n",
       "      <td>The</td>\n",
       "      <td>O</td>\n",
       "      <td>The</td>\n",
       "      <td>the</td>\n",
       "      <td>DT</td>\n",
       "      <td>0</td>\n",
       "      <td>0</td>\n",
       "      <td>0</td>\n",
       "      <td>0</td>\n",
       "      <td>0</td>\n",
       "    </tr>\n",
       "    <tr>\n",
       "      <th>1</th>\n",
       "      <td>Singular</td>\n",
       "      <td>O</td>\n",
       "      <td>Singular</td>\n",
       "      <td>singular</td>\n",
       "      <td>JJ</td>\n",
       "      <td>0</td>\n",
       "      <td>0</td>\n",
       "      <td>0</td>\n",
       "      <td>0</td>\n",
       "      <td>0</td>\n",
       "    </tr>\n",
       "    <tr>\n",
       "      <th>2</th>\n",
       "      <td>Experience</td>\n",
       "      <td>O</td>\n",
       "      <td>Experience</td>\n",
       "      <td>experience</td>\n",
       "      <td>NN</td>\n",
       "      <td>0</td>\n",
       "      <td>0</td>\n",
       "      <td>0</td>\n",
       "      <td>0</td>\n",
       "      <td>0</td>\n",
       "    </tr>\n",
       "    <tr>\n",
       "      <th>3</th>\n",
       "      <td>of</td>\n",
       "      <td>O</td>\n",
       "      <td>of</td>\n",
       "      <td>of</td>\n",
       "      <td>IN</td>\n",
       "      <td>0</td>\n",
       "      <td>0</td>\n",
       "      <td>0</td>\n",
       "      <td>0</td>\n",
       "      <td>0</td>\n",
       "    </tr>\n",
       "    <tr>\n",
       "      <th>4</th>\n",
       "      <td>Mr.</td>\n",
       "      <td>O</td>\n",
       "      <td>Mr.</td>\n",
       "      <td>mr.</td>\n",
       "      <td>NNP</td>\n",
       "      <td>0</td>\n",
       "      <td>0</td>\n",
       "      <td>0</td>\n",
       "      <td>0</td>\n",
       "      <td>0</td>\n",
       "    </tr>\n",
       "  </tbody>\n",
       "</table>\n",
       "</div>"
      ],
      "text/plain": [
       "         word label       lemma   lowercase pos_tag  matchesNegExp  \\\n",
       "0         The     O         The         the      DT              0   \n",
       "1    Singular     O    Singular    singular      JJ              0   \n",
       "2  Experience     O  Experience  experience      NN              0   \n",
       "3          of     O          of          of      IN              0   \n",
       "4         Mr.     O         Mr.         mr.     NNP              0   \n",
       "\n",
       "   startNegPrefix  endNegSuffix  suffix_cues_feature  prefix_cues_feature  \n",
       "0               0             0                    0                    0  \n",
       "1               0             0                    0                    0  \n",
       "2               0             0                    0                    0  \n",
       "3               0             0                    0                    0  \n",
       "4               0             0                    0                    0  "
      ]
     },
     "execution_count": 3,
     "metadata": {},
     "output_type": "execute_result"
    }
   ],
   "source": [
    "dev_data.head()"
   ]
  },
  {
   "cell_type": "code",
   "execution_count": 4,
   "id": "3c2241f2",
   "metadata": {},
   "outputs": [],
   "source": [
    "vec_X = DictVectorizer()\n",
    "X_train = data.drop(\"label\",axis=1)\n",
    "X_train_dict = X_train.to_dict('records')\n",
    "X_train = vec_X.fit_transform(X_train_dict).toarray()\n",
    "\n",
    "X_test = dev_data.drop(\"label\",axis=1)\n",
    "X_test_dict = X_test.to_dict('records')\n",
    "X_test = vec_X.transform(X_test_dict).toarray()\n",
    "\n",
    "# Extract the 'label' column as the target variable\n",
    "y_train = data['label']\n",
    "y_test = dev_data[\"label\"]"
   ]
  },
  {
   "cell_type": "code",
   "execution_count": 5,
   "id": "1f243f2f",
   "metadata": {},
   "outputs": [
    {
     "data": {
      "text/html": [
       "<style>#sk-container-id-1 {color: black;background-color: white;}#sk-container-id-1 pre{padding: 0;}#sk-container-id-1 div.sk-toggleable {background-color: white;}#sk-container-id-1 label.sk-toggleable__label {cursor: pointer;display: block;width: 100%;margin-bottom: 0;padding: 0.3em;box-sizing: border-box;text-align: center;}#sk-container-id-1 label.sk-toggleable__label-arrow:before {content: \"▸\";float: left;margin-right: 0.25em;color: #696969;}#sk-container-id-1 label.sk-toggleable__label-arrow:hover:before {color: black;}#sk-container-id-1 div.sk-estimator:hover label.sk-toggleable__label-arrow:before {color: black;}#sk-container-id-1 div.sk-toggleable__content {max-height: 0;max-width: 0;overflow: hidden;text-align: left;background-color: #f0f8ff;}#sk-container-id-1 div.sk-toggleable__content pre {margin: 0.2em;color: black;border-radius: 0.25em;background-color: #f0f8ff;}#sk-container-id-1 input.sk-toggleable__control:checked~div.sk-toggleable__content {max-height: 200px;max-width: 100%;overflow: auto;}#sk-container-id-1 input.sk-toggleable__control:checked~label.sk-toggleable__label-arrow:before {content: \"▾\";}#sk-container-id-1 div.sk-estimator input.sk-toggleable__control:checked~label.sk-toggleable__label {background-color: #d4ebff;}#sk-container-id-1 div.sk-label input.sk-toggleable__control:checked~label.sk-toggleable__label {background-color: #d4ebff;}#sk-container-id-1 input.sk-hidden--visually {border: 0;clip: rect(1px 1px 1px 1px);clip: rect(1px, 1px, 1px, 1px);height: 1px;margin: -1px;overflow: hidden;padding: 0;position: absolute;width: 1px;}#sk-container-id-1 div.sk-estimator {font-family: monospace;background-color: #f0f8ff;border: 1px dotted black;border-radius: 0.25em;box-sizing: border-box;margin-bottom: 0.5em;}#sk-container-id-1 div.sk-estimator:hover {background-color: #d4ebff;}#sk-container-id-1 div.sk-parallel-item::after {content: \"\";width: 100%;border-bottom: 1px solid gray;flex-grow: 1;}#sk-container-id-1 div.sk-label:hover label.sk-toggleable__label {background-color: #d4ebff;}#sk-container-id-1 div.sk-serial::before {content: \"\";position: absolute;border-left: 1px solid gray;box-sizing: border-box;top: 0;bottom: 0;left: 50%;z-index: 0;}#sk-container-id-1 div.sk-serial {display: flex;flex-direction: column;align-items: center;background-color: white;padding-right: 0.2em;padding-left: 0.2em;position: relative;}#sk-container-id-1 div.sk-item {position: relative;z-index: 1;}#sk-container-id-1 div.sk-parallel {display: flex;align-items: stretch;justify-content: center;background-color: white;position: relative;}#sk-container-id-1 div.sk-item::before, #sk-container-id-1 div.sk-parallel-item::before {content: \"\";position: absolute;border-left: 1px solid gray;box-sizing: border-box;top: 0;bottom: 0;left: 50%;z-index: -1;}#sk-container-id-1 div.sk-parallel-item {display: flex;flex-direction: column;z-index: 1;position: relative;background-color: white;}#sk-container-id-1 div.sk-parallel-item:first-child::after {align-self: flex-end;width: 50%;}#sk-container-id-1 div.sk-parallel-item:last-child::after {align-self: flex-start;width: 50%;}#sk-container-id-1 div.sk-parallel-item:only-child::after {width: 0;}#sk-container-id-1 div.sk-dashed-wrapped {border: 1px dashed gray;margin: 0 0.4em 0.5em 0.4em;box-sizing: border-box;padding-bottom: 0.4em;background-color: white;}#sk-container-id-1 div.sk-label label {font-family: monospace;font-weight: bold;display: inline-block;line-height: 1.2em;}#sk-container-id-1 div.sk-label-container {text-align: center;}#sk-container-id-1 div.sk-container {/* jupyter's `normalize.less` sets `[hidden] { display: none; }` but bootstrap.min.css set `[hidden] { display: none !important; }` so we also need the `!important` here to be able to override the default hidden behavior on the sphinx rendered scikit-learn.org. See: https://github.com/scikit-learn/scikit-learn/issues/21755 */display: inline-block !important;position: relative;}#sk-container-id-1 div.sk-text-repr-fallback {display: none;}</style><div id=\"sk-container-id-1\" class=\"sk-top-container\"><div class=\"sk-text-repr-fallback\"><pre>LinearSVC(max_iter=3000)</pre><b>In a Jupyter environment, please rerun this cell to show the HTML representation or trust the notebook. <br />On GitHub, the HTML representation is unable to render, please try loading this page with nbviewer.org.</b></div><div class=\"sk-container\" hidden><div class=\"sk-item\"><div class=\"sk-estimator sk-toggleable\"><input class=\"sk-toggleable__control sk-hidden--visually\" id=\"sk-estimator-id-1\" type=\"checkbox\" checked><label for=\"sk-estimator-id-1\" class=\"sk-toggleable__label sk-toggleable__label-arrow\">LinearSVC</label><div class=\"sk-toggleable__content\"><pre>LinearSVC(max_iter=3000)</pre></div></div></div></div></div>"
      ],
      "text/plain": [
       "LinearSVC(max_iter=3000)"
      ]
     },
     "execution_count": 5,
     "metadata": {},
     "output_type": "execute_result"
    }
   ],
   "source": [
    "# Train an SVM model using the training data\n",
    "#svm_model = svm.SVC()\n",
    "svm_model = LinearSVC(max_iter=3000)\n",
    "svm_model.fit(X_train, y_train)"
   ]
  },
  {
   "cell_type": "code",
   "execution_count": 6,
   "id": "e444ebac",
   "metadata": {},
   "outputs": [],
   "source": [
    "y_pred = svm_model.predict(X_test)"
   ]
  },
  {
   "cell_type": "code",
   "execution_count": 7,
   "id": "36b79ba7",
   "metadata": {},
   "outputs": [
    {
     "name": "stdout",
     "output_type": "stream",
     "text": [
      "Accuracy:  0.9974200206398349\n"
     ]
    }
   ],
   "source": [
    "print(\"Accuracy: \", accuracy_score(y_test,y_pred))"
   ]
  },
  {
   "cell_type": "code",
   "execution_count": 8,
   "id": "ea7b1782",
   "metadata": {},
   "outputs": [
    {
     "name": "stdout",
     "output_type": "stream",
     "text": [
      "              precision    recall  f1-score   support\n",
      "\n",
      "       B-NEG       0.90      0.91      0.91       176\n",
      "       I-NEG       0.00      0.00      0.00         3\n",
      "           O       1.00      1.00      1.00     13387\n",
      "\n",
      "    accuracy                           1.00     13566\n",
      "   macro avg       0.63      0.64      0.64     13566\n",
      "weighted avg       1.00      1.00      1.00     13566\n",
      "\n"
     ]
    }
   ],
   "source": [
    "print(classification_report(y_test, y_pred))"
   ]
  },
  {
   "cell_type": "code",
   "execution_count": 9,
   "id": "cf02e435",
   "metadata": {},
   "outputs": [
    {
     "name": "stdout",
     "output_type": "stream",
     "text": [
      "[[  160     0    16]\n",
      " [    1     0     2]\n",
      " [   16     0 13371]]\n"
     ]
    }
   ],
   "source": [
    "print(confusion_matrix(y_test, y_pred))"
   ]
  },
  {
   "cell_type": "code",
   "execution_count": 10,
   "id": "a777120e",
   "metadata": {},
   "outputs": [
    {
     "data": {
      "image/png": "[encoded data removed]",
      "text/plain": [
       "<Figure size 864x1080 with 2 Axes>"
      ]
     },
     "metadata": {
      "needs_background": "light"
     },
     "output_type": "display_data"
    }
   ],
   "source": [
    "cf_matrix = confusion_matrix(y_test, y_pred)\n",
    "colormap = sns.color_palette(\"Blues\")\n",
    "plt.figure(figsize=(12,15));\n",
    "sns.heatmap(cf_matrix, annot=True,cmap=colormap,fmt=\".1f\");"
   ]
  },
  {
   "cell_type": "markdown",
   "id": "eec7972c",
   "metadata": {},
   "source": [
    "# Parameter Optimization"
   ]
  },
  {
   "cell_type": "code",
   "execution_count": 46,
   "id": "b2b80595",
   "metadata": {},
   "outputs": [],
   "source": [
    "parameters = {\n",
    "    'C': [0.01, 0.1, 1], \n",
    "    'loss':['hinge','squared_hinge'],\n",
    "    'tol': [1e-4, 1e-3, 1e-2, 1e-1]\n",
    "}"
   ]
  },
  {
   "cell_type": "code",
   "execution_count": 47,
   "id": "9c35d4dd",
   "metadata": {},
   "outputs": [],
   "source": [
    "grid = GridSearchCV(estimator=svm_model, param_grid=parameters, cv=5, scoring='f1_macro', verbose=5)"
   ]
  },
  {
   "cell_type": "code",
   "execution_count": 48,
   "id": "4236f5c9",
   "metadata": {
    "scrolled": false
   },
   "outputs": [
    {
     "name": "stdout",
     "output_type": "stream",
     "text": [
      "Fitting 5 folds for each of 24 candidates, totalling 120 fits\n",
      "[CV 1/5] END ....C=0.01, loss=hinge, tol=0.0001;, score=0.605 total time=  46.8s\n",
      "[CV 2/5] END ....C=0.01, loss=hinge, tol=0.0001;, score=0.622 total time=  28.8s\n",
      "[CV 3/5] END ....C=0.01, loss=hinge, tol=0.0001;, score=0.621 total time=  37.7s\n",
      "[CV 4/5] END ....C=0.01, loss=hinge, tol=0.0001;, score=0.619 total time=  41.5s\n",
      "[CV 5/5] END ....C=0.01, loss=hinge, tol=0.0001;, score=0.621 total time=  33.8s\n",
      "[CV 1/5] END .....C=0.01, loss=hinge, tol=0.001;, score=0.605 total time=  27.5s\n",
      "[CV 2/5] END .....C=0.01, loss=hinge, tol=0.001;, score=0.622 total time=  28.6s\n",
      "[CV 3/5] END .....C=0.01, loss=hinge, tol=0.001;, score=0.621 total time=  26.8s\n",
      "[CV 4/5] END .....C=0.01, loss=hinge, tol=0.001;, score=0.619 total time=  27.4s\n",
      "[CV 5/5] END .....C=0.01, loss=hinge, tol=0.001;, score=0.621 total time=  34.0s\n",
      "[CV 1/5] END ......C=0.01, loss=hinge, tol=0.01;, score=0.605 total time=  41.6s\n",
      "[CV 2/5] END ......C=0.01, loss=hinge, tol=0.01;, score=0.622 total time=  38.0s\n",
      "[CV 3/5] END ......C=0.01, loss=hinge, tol=0.01;, score=0.621 total time=  38.8s\n",
      "[CV 4/5] END ......C=0.01, loss=hinge, tol=0.01;, score=0.619 total time=  46.3s\n",
      "[CV 5/5] END ......C=0.01, loss=hinge, tol=0.01;, score=0.621 total time=  45.2s\n",
      "[CV 1/5] END .......C=0.01, loss=hinge, tol=0.1;, score=0.605 total time=  48.3s\n",
      "[CV 2/5] END .......C=0.01, loss=hinge, tol=0.1;, score=0.622 total time=  46.8s\n",
      "[CV 3/5] END .......C=0.01, loss=hinge, tol=0.1;, score=0.621 total time=  56.5s\n",
      "[CV 4/5] END .......C=0.01, loss=hinge, tol=0.1;, score=0.619 total time=  53.2s\n",
      "[CV 5/5] END .......C=0.01, loss=hinge, tol=0.1;, score=0.621 total time=  52.9s\n",
      "[CV 1/5] END C=0.01, loss=squared_hinge, tol=0.0001;, score=0.621 total time=  52.2s\n",
      "[CV 2/5] END C=0.01, loss=squared_hinge, tol=0.0001;, score=0.636 total time=  42.9s\n",
      "[CV 3/5] END C=0.01, loss=squared_hinge, tol=0.0001;, score=0.638 total time=  45.8s\n",
      "[CV 4/5] END C=0.01, loss=squared_hinge, tol=0.0001;, score=0.637 total time=  53.1s\n",
      "[CV 5/5] END C=0.01, loss=squared_hinge, tol=0.0001;, score=0.634 total time=  48.5s\n",
      "[CV 1/5] END C=0.01, loss=squared_hinge, tol=0.001;, score=0.621 total time=  52.6s\n",
      "[CV 2/5] END C=0.01, loss=squared_hinge, tol=0.001;, score=0.636 total time=  44.2s\n",
      "[CV 3/5] END C=0.01, loss=squared_hinge, tol=0.001;, score=0.638 total time=  51.8s\n",
      "[CV 4/5] END C=0.01, loss=squared_hinge, tol=0.001;, score=0.637 total time=  51.1s\n",
      "[CV 5/5] END C=0.01, loss=squared_hinge, tol=0.001;, score=0.634 total time=  56.6s\n",
      "[CV 1/5] END C=0.01, loss=squared_hinge, tol=0.01;, score=0.621 total time=  38.0s\n",
      "[CV 2/5] END C=0.01, loss=squared_hinge, tol=0.01;, score=0.636 total time=  47.2s\n",
      "[CV 3/5] END C=0.01, loss=squared_hinge, tol=0.01;, score=0.638 total time=  52.1s\n",
      "[CV 4/5] END C=0.01, loss=squared_hinge, tol=0.01;, score=0.637 total time=  52.5s\n",
      "[CV 5/5] END C=0.01, loss=squared_hinge, tol=0.01;, score=0.634 total time=  55.6s\n",
      "[CV 1/5] END C=0.01, loss=squared_hinge, tol=0.1;, score=0.621 total time=  49.0s\n",
      "[CV 2/5] END C=0.01, loss=squared_hinge, tol=0.1;, score=0.636 total time=  39.4s\n",
      "[CV 3/5] END C=0.01, loss=squared_hinge, tol=0.1;, score=0.638 total time=  44.1s\n",
      "[CV 4/5] END C=0.01, loss=squared_hinge, tol=0.1;, score=0.637 total time=  52.4s\n",
      "[CV 5/5] END C=0.01, loss=squared_hinge, tol=0.1;, score=0.634 total time=  39.7s\n",
      "[CV 1/5] END .....C=0.1, loss=hinge, tol=0.0001;, score=0.632 total time=  46.4s\n",
      "[CV 2/5] END .....C=0.1, loss=hinge, tol=0.0001;, score=0.643 total time=  45.9s\n",
      "[CV 3/5] END .....C=0.1, loss=hinge, tol=0.0001;, score=0.647 total time=  49.5s\n",
      "[CV 4/5] END .....C=0.1, loss=hinge, tol=0.0001;, score=0.641 total time=  45.1s\n",
      "[CV 5/5] END .....C=0.1, loss=hinge, tol=0.0001;, score=0.645 total time=  46.5s\n",
      "[CV 1/5] END ......C=0.1, loss=hinge, tol=0.001;, score=0.632 total time=  57.5s\n",
      "[CV 2/5] END ......C=0.1, loss=hinge, tol=0.001;, score=0.643 total time=  52.2s\n",
      "[CV 3/5] END ......C=0.1, loss=hinge, tol=0.001;, score=0.647 total time= 1.0min\n",
      "[CV 4/5] END ......C=0.1, loss=hinge, tol=0.001;, score=0.641 total time=  48.6s\n",
      "[CV 5/5] END ......C=0.1, loss=hinge, tol=0.001;, score=0.645 total time=  53.2s\n",
      "[CV 1/5] END .......C=0.1, loss=hinge, tol=0.01;, score=0.632 total time=  55.0s\n",
      "[CV 2/5] END .......C=0.1, loss=hinge, tol=0.01;, score=0.643 total time= 1.0min\n",
      "[CV 3/5] END .......C=0.1, loss=hinge, tol=0.01;, score=0.647 total time=  49.3s\n",
      "[CV 4/5] END .......C=0.1, loss=hinge, tol=0.01;, score=0.641 total time=  58.5s\n",
      "[CV 5/5] END .......C=0.1, loss=hinge, tol=0.01;, score=0.645 total time=  32.7s\n",
      "[CV 1/5] END ........C=0.1, loss=hinge, tol=0.1;, score=0.632 total time=  39.2s\n",
      "[CV 2/5] END ........C=0.1, loss=hinge, tol=0.1;, score=0.643 total time=  45.3s\n",
      "[CV 3/5] END ........C=0.1, loss=hinge, tol=0.1;, score=0.647 total time=  45.5s\n",
      "[CV 4/5] END ........C=0.1, loss=hinge, tol=0.1;, score=0.641 total time=  52.5s\n",
      "[CV 5/5] END ........C=0.1, loss=hinge, tol=0.1;, score=0.645 total time=  52.9s\n",
      "[CV 1/5] END C=0.1, loss=squared_hinge, tol=0.0001;, score=0.635 total time=  48.8s\n",
      "[CV 2/5] END C=0.1, loss=squared_hinge, tol=0.0001;, score=0.644 total time=  48.7s\n",
      "[CV 3/5] END C=0.1, loss=squared_hinge, tol=0.0001;, score=0.647 total time=  45.7s\n",
      "[CV 4/5] END C=0.1, loss=squared_hinge, tol=0.0001;, score=0.640 total time=  53.6s\n",
      "[CV 5/5] END C=0.1, loss=squared_hinge, tol=0.0001;, score=0.647 total time=  56.8s\n",
      "[CV 1/5] END C=0.1, loss=squared_hinge, tol=0.001;, score=0.635 total time=  51.1s\n",
      "[CV 2/5] END C=0.1, loss=squared_hinge, tol=0.001;, score=0.644 total time=  36.8s\n",
      "[CV 3/5] END C=0.1, loss=squared_hinge, tol=0.001;, score=0.647 total time=  44.2s\n",
      "[CV 4/5] END C=0.1, loss=squared_hinge, tol=0.001;, score=0.640 total time=  46.4s\n",
      "[CV 5/5] END C=0.1, loss=squared_hinge, tol=0.001;, score=0.647 total time=  40.3s\n",
      "[CV 1/5] END C=0.1, loss=squared_hinge, tol=0.01;, score=0.635 total time=  39.4s\n",
      "[CV 2/5] END C=0.1, loss=squared_hinge, tol=0.01;, score=0.644 total time=  47.9s\n",
      "[CV 3/5] END C=0.1, loss=squared_hinge, tol=0.01;, score=0.647 total time=  52.5s\n",
      "[CV 4/5] END C=0.1, loss=squared_hinge, tol=0.01;, score=0.640 total time=  39.7s\n",
      "[CV 5/5] END C=0.1, loss=squared_hinge, tol=0.01;, score=0.647 total time=  50.8s\n",
      "[CV 1/5] END C=0.1, loss=squared_hinge, tol=0.1;, score=0.635 total time=  53.6s\n",
      "[CV 2/5] END C=0.1, loss=squared_hinge, tol=0.1;, score=0.644 total time=  47.9s\n",
      "[CV 3/5] END C=0.1, loss=squared_hinge, tol=0.1;, score=0.647 total time=  52.4s\n",
      "[CV 4/5] END C=0.1, loss=squared_hinge, tol=0.1;, score=0.640 total time=  53.1s\n",
      "[CV 5/5] END C=0.1, loss=squared_hinge, tol=0.1;, score=0.647 total time=  46.7s\n",
      "[CV 1/5] END .......C=1, loss=hinge, tol=0.0001;, score=0.637 total time=  46.1s\n",
      "[CV 2/5] END .......C=1, loss=hinge, tol=0.0001;, score=0.644 total time=  49.1s\n",
      "[CV 3/5] END .......C=1, loss=hinge, tol=0.0001;, score=0.648 total time=  44.3s\n",
      "[CV 4/5] END .......C=1, loss=hinge, tol=0.0001;, score=0.640 total time=  46.9s\n",
      "[CV 5/5] END .......C=1, loss=hinge, tol=0.0001;, score=0.647 total time=  45.3s\n",
      "[CV 1/5] END ........C=1, loss=hinge, tol=0.001;, score=0.637 total time=  38.2s\n",
      "[CV 2/5] END ........C=1, loss=hinge, tol=0.001;, score=0.644 total time=  36.9s\n",
      "[CV 3/5] END ........C=1, loss=hinge, tol=0.001;, score=0.648 total time=  37.3s\n",
      "[CV 4/5] END ........C=1, loss=hinge, tol=0.001;, score=0.640 total time=  44.8s\n",
      "[CV 5/5] END ........C=1, loss=hinge, tol=0.001;, score=0.647 total time=  47.0s\n",
      "[CV 1/5] END .........C=1, loss=hinge, tol=0.01;, score=0.637 total time=  35.3s\n",
      "[CV 2/5] END .........C=1, loss=hinge, tol=0.01;, score=0.644 total time=  45.8s\n",
      "[CV 3/5] END .........C=1, loss=hinge, tol=0.01;, score=0.648 total time=  40.4s\n",
      "[CV 4/5] END .........C=1, loss=hinge, tol=0.01;, score=0.640 total time=  36.0s\n",
      "[CV 5/5] END .........C=1, loss=hinge, tol=0.01;, score=0.647 total time=  38.0s\n",
      "[CV 1/5] END ..........C=1, loss=hinge, tol=0.1;, score=0.637 total time=  33.4s\n",
      "[CV 2/5] END ..........C=1, loss=hinge, tol=0.1;, score=0.644 total time=  35.1s\n",
      "[CV 3/5] END ..........C=1, loss=hinge, tol=0.1;, score=0.648 total time=  34.6s\n",
      "[CV 4/5] END ..........C=1, loss=hinge, tol=0.1;, score=0.640 total time=  48.0s\n",
      "[CV 5/5] END ..........C=1, loss=hinge, tol=0.1;, score=0.647 total time=  46.0s\n",
      "[CV 1/5] END C=1, loss=squared_hinge, tol=0.0001;, score=0.637 total time=  40.1s\n",
      "[CV 2/5] END C=1, loss=squared_hinge, tol=0.0001;, score=0.644 total time=  46.8s\n",
      "[CV 3/5] END C=1, loss=squared_hinge, tol=0.0001;, score=0.648 total time=  37.5s\n",
      "[CV 4/5] END C=1, loss=squared_hinge, tol=0.0001;, score=0.640 total time=  47.6s\n",
      "[CV 5/5] END C=1, loss=squared_hinge, tol=0.0001;, score=0.647 total time=  41.3s\n",
      "[CV 1/5] END C=1, loss=squared_hinge, tol=0.001;, score=0.637 total time=  44.8s\n",
      "[CV 2/5] END C=1, loss=squared_hinge, tol=0.001;, score=0.644 total time=  37.4s\n",
      "[CV 3/5] END C=1, loss=squared_hinge, tol=0.001;, score=0.648 total time=  30.5s\n",
      "[CV 4/5] END C=1, loss=squared_hinge, tol=0.001;, score=0.640 total time=  36.3s\n",
      "[CV 5/5] END C=1, loss=squared_hinge, tol=0.001;, score=0.647 total time=  48.5s\n",
      "[CV 1/5] END .C=1, loss=squared_hinge, tol=0.01;, score=0.637 total time=  33.5s\n",
      "[CV 2/5] END .C=1, loss=squared_hinge, tol=0.01;, score=0.644 total time=  31.5s\n",
      "[CV 3/5] END .C=1, loss=squared_hinge, tol=0.01;, score=0.648 total time=  32.4s\n",
      "[CV 4/5] END .C=1, loss=squared_hinge, tol=0.01;, score=0.640 total time=  35.0s\n",
      "[CV 5/5] END .C=1, loss=squared_hinge, tol=0.01;, score=0.647 total time=  47.3s\n",
      "[CV 1/5] END ..C=1, loss=squared_hinge, tol=0.1;, score=0.637 total time=  32.8s\n",
      "[CV 2/5] END ..C=1, loss=squared_hinge, tol=0.1;, score=0.644 total time=  38.3s\n",
      "[CV 3/5] END ..C=1, loss=squared_hinge, tol=0.1;, score=0.648 total time=  43.5s\n",
      "[CV 4/5] END ..C=1, loss=squared_hinge, tol=0.1;, score=0.640 total time=  50.1s\n",
      "[CV 5/5] END ..C=1, loss=squared_hinge, tol=0.1;, score=0.647 total time=  49.1s\n"
     ]
    },
    {
     "data": {
      "text/html": [
       "<style>#sk-container-id-4 {color: black;background-color: white;}#sk-container-id-4 pre{padding: 0;}#sk-container-id-4 div.sk-toggleable {background-color: white;}#sk-container-id-4 label.sk-toggleable__label {cursor: pointer;display: block;width: 100%;margin-bottom: 0;padding: 0.3em;box-sizing: border-box;text-align: center;}#sk-container-id-4 label.sk-toggleable__label-arrow:before {content: \"▸\";float: left;margin-right: 0.25em;color: #696969;}#sk-container-id-4 label.sk-toggleable__label-arrow:hover:before {color: black;}#sk-container-id-4 div.sk-estimator:hover label.sk-toggleable__label-arrow:before {color: black;}#sk-container-id-4 div.sk-toggleable__content {max-height: 0;max-width: 0;overflow: hidden;text-align: left;background-color: #f0f8ff;}#sk-container-id-4 div.sk-toggleable__content pre {margin: 0.2em;color: black;border-radius: 0.25em;background-color: #f0f8ff;}#sk-container-id-4 input.sk-toggleable__control:checked~div.sk-toggleable__content {max-height: 200px;max-width: 100%;overflow: auto;}#sk-container-id-4 input.sk-toggleable__control:checked~label.sk-toggleable__label-arrow:before {content: \"▾\";}#sk-container-id-4 div.sk-estimator input.sk-toggleable__control:checked~label.sk-toggleable__label {background-color: #d4ebff;}#sk-container-id-4 div.sk-label input.sk-toggleable__control:checked~label.sk-toggleable__label {background-color: #d4ebff;}#sk-container-id-4 input.sk-hidden--visually {border: 0;clip: rect(1px 1px 1px 1px);clip: rect(1px, 1px, 1px, 1px);height: 1px;margin: -1px;overflow: hidden;padding: 0;position: absolute;width: 1px;}#sk-container-id-4 div.sk-estimator {font-family: monospace;background-color: #f0f8ff;border: 1px dotted black;border-radius: 0.25em;box-sizing: border-box;margin-bottom: 0.5em;}#sk-container-id-4 div.sk-estimator:hover {background-color: #d4ebff;}#sk-container-id-4 div.sk-parallel-item::after {content: \"\";width: 100%;border-bottom: 1px solid gray;flex-grow: 1;}#sk-container-id-4 div.sk-label:hover label.sk-toggleable__label {background-color: #d4ebff;}#sk-container-id-4 div.sk-serial::before {content: \"\";position: absolute;border-left: 1px solid gray;box-sizing: border-box;top: 0;bottom: 0;left: 50%;z-index: 0;}#sk-container-id-4 div.sk-serial {display: flex;flex-direction: column;align-items: center;background-color: white;padding-right: 0.2em;padding-left: 0.2em;position: relative;}#sk-container-id-4 div.sk-item {position: relative;z-index: 1;}#sk-container-id-4 div.sk-parallel {display: flex;align-items: stretch;justify-content: center;background-color: white;position: relative;}#sk-container-id-4 div.sk-item::before, #sk-container-id-4 div.sk-parallel-item::before {content: \"\";position: absolute;border-left: 1px solid gray;box-sizing: border-box;top: 0;bottom: 0;left: 50%;z-index: -1;}#sk-container-id-4 div.sk-parallel-item {display: flex;flex-direction: column;z-index: 1;position: relative;background-color: white;}#sk-container-id-4 div.sk-parallel-item:first-child::after {align-self: flex-end;width: 50%;}#sk-container-id-4 div.sk-parallel-item:last-child::after {align-self: flex-start;width: 50%;}#sk-container-id-4 div.sk-parallel-item:only-child::after {width: 0;}#sk-container-id-4 div.sk-dashed-wrapped {border: 1px dashed gray;margin: 0 0.4em 0.5em 0.4em;box-sizing: border-box;padding-bottom: 0.4em;background-color: white;}#sk-container-id-4 div.sk-label label {font-family: monospace;font-weight: bold;display: inline-block;line-height: 1.2em;}#sk-container-id-4 div.sk-label-container {text-align: center;}#sk-container-id-4 div.sk-container {/* jupyter's `normalize.less` sets `[hidden] { display: none; }` but bootstrap.min.css set `[hidden] { display: none !important; }` so we also need the `!important` here to be able to override the default hidden behavior on the sphinx rendered scikit-learn.org. See: https://github.com/scikit-learn/scikit-learn/issues/21755 */display: inline-block !important;position: relative;}#sk-container-id-4 div.sk-text-repr-fallback {display: none;}</style><div id=\"sk-container-id-4\" class=\"sk-top-container\"><div class=\"sk-text-repr-fallback\"><pre>GridSearchCV(cv=5, estimator=LinearSVC(max_iter=3000),\n",
       "             param_grid={&#x27;C&#x27;: [0.01, 0.1, 1],\n",
       "                         &#x27;loss&#x27;: [&#x27;hinge&#x27;, &#x27;squared_hinge&#x27;],\n",
       "                         &#x27;tol&#x27;: [0.0001, 0.001, 0.01, 0.1]},\n",
       "             scoring=&#x27;f1_macro&#x27;, verbose=5)</pre><b>In a Jupyter environment, please rerun this cell to show the HTML representation or trust the notebook. <br />On GitHub, the HTML representation is unable to render, please try loading this page with nbviewer.org.</b></div><div class=\"sk-container\" hidden><div class=\"sk-item sk-dashed-wrapped\"><div class=\"sk-label-container\"><div class=\"sk-label sk-toggleable\"><input class=\"sk-toggleable__control sk-hidden--visually\" id=\"sk-estimator-id-4\" type=\"checkbox\" ><label for=\"sk-estimator-id-4\" class=\"sk-toggleable__label sk-toggleable__label-arrow\">GridSearchCV</label><div class=\"sk-toggleable__content\"><pre>GridSearchCV(cv=5, estimator=LinearSVC(max_iter=3000),\n",
       "             param_grid={&#x27;C&#x27;: [0.01, 0.1, 1],\n",
       "                         &#x27;loss&#x27;: [&#x27;hinge&#x27;, &#x27;squared_hinge&#x27;],\n",
       "                         &#x27;tol&#x27;: [0.0001, 0.001, 0.01, 0.1]},\n",
       "             scoring=&#x27;f1_macro&#x27;, verbose=5)</pre></div></div></div><div class=\"sk-parallel\"><div class=\"sk-parallel-item\"><div class=\"sk-item\"><div class=\"sk-label-container\"><div class=\"sk-label sk-toggleable\"><input class=\"sk-toggleable__control sk-hidden--visually\" id=\"sk-estimator-id-5\" type=\"checkbox\" ><label for=\"sk-estimator-id-5\" class=\"sk-toggleable__label sk-toggleable__label-arrow\">estimator: LinearSVC</label><div class=\"sk-toggleable__content\"><pre>LinearSVC(max_iter=3000)</pre></div></div></div><div class=\"sk-serial\"><div class=\"sk-item\"><div class=\"sk-estimator sk-toggleable\"><input class=\"sk-toggleable__control sk-hidden--visually\" id=\"sk-estimator-id-6\" type=\"checkbox\" ><label for=\"sk-estimator-id-6\" class=\"sk-toggleable__label sk-toggleable__label-arrow\">LinearSVC</label><div class=\"sk-toggleable__content\"><pre>LinearSVC(max_iter=3000)</pre></div></div></div></div></div></div></div></div></div></div>"
      ],
      "text/plain": [
       "GridSearchCV(cv=5, estimator=LinearSVC(max_iter=3000),\n",
       "             param_grid={'C': [0.01, 0.1, 1],\n",
       "                         'loss': ['hinge', 'squared_hinge'],\n",
       "                         'tol': [0.0001, 0.001, 0.01, 0.1]},\n",
       "             scoring='f1_macro', verbose=5)"
      ]
     },
     "execution_count": 48,
     "metadata": {},
     "output_type": "execute_result"
    }
   ],
   "source": [
    "grid.fit(X_train,y_train)"
   ]
  },
  {
   "cell_type": "code",
   "execution_count": 49,
   "id": "6302021e",
   "metadata": {},
   "outputs": [],
   "source": [
    "finetune_model = grid.best_estimator_"
   ]
  },
  {
   "cell_type": "code",
   "execution_count": 50,
   "id": "64ca2479",
   "metadata": {},
   "outputs": [
    {
     "name": "stdout",
     "output_type": "stream",
     "text": [
      "Best parameters:  {'C': 1, 'loss': 'hinge', 'tol': 0.0001}\n"
     ]
    }
   ],
   "source": [
    "print(\"Best parameters: \", grid.best_params_)"
   ]
  },
  {
   "cell_type": "code",
   "execution_count": 51,
   "id": "25c6ba85",
   "metadata": {},
   "outputs": [
    {
     "name": "stdout",
     "output_type": "stream",
     "text": [
      "              precision    recall  f1-score   support\n",
      "\n",
      "       B-NEG       0.90      0.91      0.91       176\n",
      "       I-NEG       0.00      0.00      0.00         3\n",
      "           O       1.00      1.00      1.00     13387\n",
      "\n",
      "    accuracy                           1.00     13566\n",
      "   macro avg       0.63      0.64      0.64     13566\n",
      "weighted avg       1.00      1.00      1.00     13566\n",
      "\n"
     ]
    }
   ],
   "source": [
    "grid_predictions = grid.predict(X_test)\n",
    "print(classification_report(y_test, grid_predictions))"
   ]
  },
  {
   "cell_type": "code",
   "execution_count": 11,
   "id": "ecf976ad",
   "metadata": {},
   "outputs": [],
   "source": [
    "svm_model = LinearSVC(C= 1, loss= 'hinge', tol= 0.0001)\n",
    "svm_model.fit(X_train, y_train)\n",
    "y_pred = svm_model.predict(X_test)"
   ]
  },
  {
   "cell_type": "code",
   "execution_count": 16,
   "id": "e497cb0e",
   "metadata": {},
   "outputs": [
    {
     "data": {
      "text/html": [
       "<div>\n",
       "<style scoped>\n",
       "    .dataframe tbody tr th:only-of-type {\n",
       "        vertical-align: middle;\n",
       "    }\n",
       "\n",
       "    .dataframe tbody tr th {\n",
       "        vertical-align: top;\n",
       "    }\n",
       "\n",
       "    .dataframe thead th {\n",
       "        text-align: right;\n",
       "    }\n",
       "</style>\n",
       "<table border=\"1\" class=\"dataframe\">\n",
       "  <thead>\n",
       "    <tr style=\"text-align: right;\">\n",
       "      <th></th>\n",
       "      <th>token</th>\n",
       "      <th>gold</th>\n",
       "      <th>predicted</th>\n",
       "    </tr>\n",
       "  </thead>\n",
       "  <tbody>\n",
       "    <tr>\n",
       "      <th>0</th>\n",
       "      <td>The</td>\n",
       "      <td>O</td>\n",
       "      <td>O</td>\n",
       "    </tr>\n",
       "    <tr>\n",
       "      <th>1</th>\n",
       "      <td>Singular</td>\n",
       "      <td>O</td>\n",
       "      <td>O</td>\n",
       "    </tr>\n",
       "    <tr>\n",
       "      <th>2</th>\n",
       "      <td>Experience</td>\n",
       "      <td>O</td>\n",
       "      <td>O</td>\n",
       "    </tr>\n",
       "    <tr>\n",
       "      <th>3</th>\n",
       "      <td>of</td>\n",
       "      <td>O</td>\n",
       "      <td>O</td>\n",
       "    </tr>\n",
       "    <tr>\n",
       "      <th>4</th>\n",
       "      <td>Mr.</td>\n",
       "      <td>O</td>\n",
       "      <td>O</td>\n",
       "    </tr>\n",
       "    <tr>\n",
       "      <th>5</th>\n",
       "      <td>John</td>\n",
       "      <td>O</td>\n",
       "      <td>O</td>\n",
       "    </tr>\n",
       "    <tr>\n",
       "      <th>6</th>\n",
       "      <td>Scott</td>\n",
       "      <td>O</td>\n",
       "      <td>O</td>\n",
       "    </tr>\n",
       "    <tr>\n",
       "      <th>7</th>\n",
       "      <td>Eccles</td>\n",
       "      <td>O</td>\n",
       "      <td>O</td>\n",
       "    </tr>\n",
       "    <tr>\n",
       "      <th>8</th>\n",
       "      <td>I</td>\n",
       "      <td>O</td>\n",
       "      <td>O</td>\n",
       "    </tr>\n",
       "    <tr>\n",
       "      <th>9</th>\n",
       "      <td>find</td>\n",
       "      <td>O</td>\n",
       "      <td>O</td>\n",
       "    </tr>\n",
       "    <tr>\n",
       "      <th>10</th>\n",
       "      <td>it</td>\n",
       "      <td>O</td>\n",
       "      <td>O</td>\n",
       "    </tr>\n",
       "    <tr>\n",
       "      <th>11</th>\n",
       "      <td>recorded</td>\n",
       "      <td>O</td>\n",
       "      <td>O</td>\n",
       "    </tr>\n",
       "    <tr>\n",
       "      <th>12</th>\n",
       "      <td>in</td>\n",
       "      <td>O</td>\n",
       "      <td>O</td>\n",
       "    </tr>\n",
       "    <tr>\n",
       "      <th>13</th>\n",
       "      <td>my</td>\n",
       "      <td>O</td>\n",
       "      <td>O</td>\n",
       "    </tr>\n",
       "    <tr>\n",
       "      <th>14</th>\n",
       "      <td>notebook</td>\n",
       "      <td>O</td>\n",
       "      <td>O</td>\n",
       "    </tr>\n",
       "    <tr>\n",
       "      <th>15</th>\n",
       "      <td>that</td>\n",
       "      <td>O</td>\n",
       "      <td>O</td>\n",
       "    </tr>\n",
       "    <tr>\n",
       "      <th>16</th>\n",
       "      <td>it</td>\n",
       "      <td>O</td>\n",
       "      <td>O</td>\n",
       "    </tr>\n",
       "    <tr>\n",
       "      <th>17</th>\n",
       "      <td>was</td>\n",
       "      <td>O</td>\n",
       "      <td>O</td>\n",
       "    </tr>\n",
       "    <tr>\n",
       "      <th>18</th>\n",
       "      <td>a</td>\n",
       "      <td>O</td>\n",
       "      <td>O</td>\n",
       "    </tr>\n",
       "    <tr>\n",
       "      <th>19</th>\n",
       "      <td>bleak</td>\n",
       "      <td>O</td>\n",
       "      <td>O</td>\n",
       "    </tr>\n",
       "    <tr>\n",
       "      <th>20</th>\n",
       "      <td>and</td>\n",
       "      <td>O</td>\n",
       "      <td>O</td>\n",
       "    </tr>\n",
       "    <tr>\n",
       "      <th>21</th>\n",
       "      <td>windy</td>\n",
       "      <td>O</td>\n",
       "      <td>O</td>\n",
       "    </tr>\n",
       "    <tr>\n",
       "      <th>22</th>\n",
       "      <td>day</td>\n",
       "      <td>O</td>\n",
       "      <td>O</td>\n",
       "    </tr>\n",
       "    <tr>\n",
       "      <th>23</th>\n",
       "      <td>towards</td>\n",
       "      <td>O</td>\n",
       "      <td>O</td>\n",
       "    </tr>\n",
       "    <tr>\n",
       "      <th>24</th>\n",
       "      <td>the</td>\n",
       "      <td>O</td>\n",
       "      <td>O</td>\n",
       "    </tr>\n",
       "    <tr>\n",
       "      <th>25</th>\n",
       "      <td>end</td>\n",
       "      <td>O</td>\n",
       "      <td>O</td>\n",
       "    </tr>\n",
       "    <tr>\n",
       "      <th>26</th>\n",
       "      <td>of</td>\n",
       "      <td>O</td>\n",
       "      <td>O</td>\n",
       "    </tr>\n",
       "    <tr>\n",
       "      <th>27</th>\n",
       "      <td>March</td>\n",
       "      <td>O</td>\n",
       "      <td>O</td>\n",
       "    </tr>\n",
       "    <tr>\n",
       "      <th>28</th>\n",
       "      <td>in</td>\n",
       "      <td>O</td>\n",
       "      <td>O</td>\n",
       "    </tr>\n",
       "    <tr>\n",
       "      <th>29</th>\n",
       "      <td>the</td>\n",
       "      <td>O</td>\n",
       "      <td>O</td>\n",
       "    </tr>\n",
       "  </tbody>\n",
       "</table>\n",
       "</div>"
      ],
      "text/plain": [
       "         token gold predicted\n",
       "0          The    O         O\n",
       "1     Singular    O         O\n",
       "2   Experience    O         O\n",
       "3           of    O         O\n",
       "4          Mr.    O         O\n",
       "5         John    O         O\n",
       "6        Scott    O         O\n",
       "7       Eccles    O         O\n",
       "8            I    O         O\n",
       "9         find    O         O\n",
       "10          it    O         O\n",
       "11    recorded    O         O\n",
       "12          in    O         O\n",
       "13          my    O         O\n",
       "14    notebook    O         O\n",
       "15        that    O         O\n",
       "16          it    O         O\n",
       "17         was    O         O\n",
       "18           a    O         O\n",
       "19       bleak    O         O\n",
       "20         and    O         O\n",
       "21       windy    O         O\n",
       "22         day    O         O\n",
       "23     towards    O         O\n",
       "24         the    O         O\n",
       "25         end    O         O\n",
       "26          of    O         O\n",
       "27       March    O         O\n",
       "28          in    O         O\n",
       "29         the    O         O"
      ]
     },
     "execution_count": 16,
     "metadata": {},
     "output_type": "execute_result"
    }
   ],
   "source": [
    "predicted_data = pd.DataFrame()\n",
    "predicted_data[\"token\"] = dev_data[\"word\"]\n",
    "predicted_data[\"gold\"] = dev_data[\"label\"]\n",
    "predicted_data[\"predicted\"] = y_pred\n",
    "predicted_data.head(30)"
   ]
  },
  {
   "cell_type": "code",
   "execution_count": 18,
   "id": "18c67ddc",
   "metadata": {},
   "outputs": [],
   "source": [
    "predicted_data.to_csv(\"svm_predicted_tokens.csv\", sep='\\t', index=False)"
   ]
  },
  {
   "cell_type": "markdown",
   "id": "092cf79a",
   "metadata": {},
   "source": [
    "# Feature Ablation"
   ]
  },
  {
   "cell_type": "code",
   "execution_count": 54,
   "id": "71dc3de6",
   "metadata": {},
   "outputs": [],
   "source": [
    "vec_X = DictVectorizer()\n",
    "X_train = data.drop([\"label\",\"matchesNegExp\",\"startNegPrefix\",\"endNegSuffix\",\n",
    "                     \"suffix_cues_feature\",\"prefix_cues_feature\"],axis=1)\n",
    "X_train_dict = X_train.to_dict('records')\n",
    "X_train = vec_X.fit_transform(X_train_dict).toarray()\n",
    "\n",
    "X_test = dev_data.drop([\"label\",\"matchesNegExp\",\"startNegPrefix\",\"endNegSuffix\",\n",
    "                     \"suffix_cues_feature\",\"prefix_cues_feature\"],axis=1)\n",
    "X_test_dict = X_test.to_dict('records')\n",
    "X_test = vec_X.transform(X_test_dict).toarray()\n",
    "\n",
    "# Extract the 'label' column as the target variable\n",
    "y_train = data['label']\n",
    "y_test = dev_data[\"label\"]\n",
    "\n",
    "svm_model = LinearSVC(C= 1, loss= 'hinge', tol= 0.0001)\n",
    "svm_model.fit(X_train, y_train)\n",
    "y_pred = svm_model.predict(X_test)"
   ]
  },
  {
   "cell_type": "code",
   "execution_count": 55,
   "id": "f703ba3e",
   "metadata": {},
   "outputs": [
    {
     "name": "stdout",
     "output_type": "stream",
     "text": [
      "              precision    recall  f1-score   support\n",
      "\n",
      "       B-NEG       0.92      0.87      0.89       176\n",
      "       I-NEG       0.00      0.00      0.00         3\n",
      "           O       1.00      1.00      1.00     13387\n",
      "\n",
      "    accuracy                           1.00     13566\n",
      "   macro avg       0.64      0.62      0.63     13566\n",
      "weighted avg       1.00      1.00      1.00     13566\n",
      "\n",
      "\n",
      "\n",
      "[[  153     0    23]\n",
      " [    1     0     2]\n",
      " [   12     0 13375]]\n"
     ]
    }
   ],
   "source": [
    "print(classification_report(y_test, y_pred))\n",
    "print(\"\\n\")\n",
    "print(confusion_matrix(y_test, y_pred))"
   ]
  },
  {
   "cell_type": "code",
   "execution_count": 56,
   "id": "155cd063",
   "metadata": {},
   "outputs": [],
   "source": [
    "vec_X = DictVectorizer()\n",
    "X_train = data.drop([\"label\",\"lemma\",\"lowercase\",\"pos_tag\"],axis=1)\n",
    "X_train_dict = X_train.to_dict('records')\n",
    "X_train = vec_X.fit_transform(X_train_dict).toarray()\n",
    "\n",
    "X_test = dev_data.drop([\"label\",\"lemma\",\"lowercase\",\"pos_tag\"],axis=1)\n",
    "X_test_dict = X_test.to_dict('records')\n",
    "X_test = vec_X.transform(X_test_dict).toarray()\n",
    "\n",
    "# Extract the 'label' column as the target variable\n",
    "y_train = data['label']\n",
    "y_test = dev_data[\"label\"]\n",
    "\n",
    "svm_model = LinearSVC(C= 1, loss= 'hinge', tol= 0.0001)\n",
    "svm_model.fit(X_train, y_train)\n",
    "y_pred = svm_model.predict(X_test)"
   ]
  },
  {
   "cell_type": "code",
   "execution_count": 57,
   "id": "558c9b40",
   "metadata": {},
   "outputs": [
    {
     "name": "stdout",
     "output_type": "stream",
     "text": [
      "              precision    recall  f1-score   support\n",
      "\n",
      "       B-NEG       0.90      0.91      0.91       176\n",
      "       I-NEG       0.00      0.00      0.00         3\n",
      "           O       1.00      1.00      1.00     13387\n",
      "\n",
      "    accuracy                           1.00     13566\n",
      "   macro avg       0.63      0.64      0.64     13566\n",
      "weighted avg       1.00      1.00      1.00     13566\n",
      "\n",
      "\n",
      "\n",
      "[[  160     0    16]\n",
      " [    1     0     2]\n",
      " [   16     0 13371]]\n"
     ]
    }
   ],
   "source": [
    "print(classification_report(y_test, y_pred))\n",
    "print(\"\\n\")\n",
    "print(confusion_matrix(y_test, y_pred))"
   ]
  },
  {
   "cell_type": "code",
   "execution_count": 58,
   "id": "02eaa231",
   "metadata": {},
   "outputs": [],
   "source": [
    "vec_X = DictVectorizer()\n",
    "X_train = data.drop([\"label\",\"lemma\",\"matchesNegExp\",\"startNegPrefix\"],axis=1)\n",
    "X_train_dict = X_train.to_dict('records')\n",
    "X_train = vec_X.fit_transform(X_train_dict).toarray()\n",
    "\n",
    "X_test = dev_data.drop([\"label\",\"lemma\",\"matchesNegExp\",\"startNegPrefix\"],axis=1)\n",
    "X_test_dict = X_test.to_dict('records')\n",
    "X_test = vec_X.transform(X_test_dict).toarray()\n",
    "\n",
    "# Extract the 'label' column as the target variable\n",
    "y_train = data['label']\n",
    "y_test = dev_data[\"label\"]\n",
    "\n",
    "svm_model = LinearSVC(C= 1, loss= 'hinge', tol= 0.0001)\n",
    "svm_model.fit(X_train, y_train)\n",
    "y_pred = svm_model.predict(X_test)"
   ]
  },
  {
   "cell_type": "code",
   "execution_count": 59,
   "id": "cb85cc49",
   "metadata": {},
   "outputs": [
    {
     "name": "stdout",
     "output_type": "stream",
     "text": [
      "              precision    recall  f1-score   support\n",
      "\n",
      "       B-NEG       0.91      0.91      0.91       176\n",
      "       I-NEG       0.00      0.00      0.00         3\n",
      "           O       1.00      1.00      1.00     13387\n",
      "\n",
      "    accuracy                           1.00     13566\n",
      "   macro avg       0.64      0.64      0.64     13566\n",
      "weighted avg       1.00      1.00      1.00     13566\n",
      "\n",
      "\n",
      "\n",
      "[[  160     0    16]\n",
      " [    1     0     2]\n",
      " [   15     0 13372]]\n"
     ]
    }
   ],
   "source": [
    "print(classification_report(y_test, y_pred))\n",
    "print(\"\\n\")\n",
    "print(confusion_matrix(y_test, y_pred))"
   ]
  },
  {
   "cell_type": "code",
   "execution_count": 60,
   "id": "51fb2bf5",
   "metadata": {},
   "outputs": [],
   "source": [
    "vec_X = DictVectorizer()\n",
    "X_train = data.drop([\"label\",\"lemma\",\"lowercase\",\"matchesNegExp\",\"startNegPrefix\",\"endNegSuffix\"],axis=1)\n",
    "X_train_dict = X_train.to_dict('records')\n",
    "X_train = vec_X.fit_transform(X_train_dict).toarray()\n",
    "\n",
    "X_test = dev_data.drop([\"label\",\"lemma\",\"lowercase\",\"matchesNegExp\",\"startNegPrefix\",\"endNegSuffix\"],axis=1)\n",
    "X_test_dict = X_test.to_dict('records')\n",
    "X_test = vec_X.transform(X_test_dict).toarray()\n",
    "\n",
    "# Extract the 'label' column as the target variable\n",
    "y_train = data['label']\n",
    "y_test = dev_data[\"label\"]\n",
    "\n",
    "svm_model = LinearSVC(C= 1, loss= 'hinge', tol= 0.0001)\n",
    "svm_model.fit(X_train, y_train)\n",
    "y_pred = svm_model.predict(X_test)"
   ]
  },
  {
   "cell_type": "code",
   "execution_count": 61,
   "id": "a2c6b870",
   "metadata": {},
   "outputs": [
    {
     "name": "stdout",
     "output_type": "stream",
     "text": [
      "              precision    recall  f1-score   support\n",
      "\n",
      "       B-NEG       0.90      0.91      0.91       176\n",
      "       I-NEG       0.00      0.00      0.00         3\n",
      "           O       1.00      1.00      1.00     13387\n",
      "\n",
      "    accuracy                           1.00     13566\n",
      "   macro avg       0.63      0.64      0.64     13566\n",
      "weighted avg       1.00      1.00      1.00     13566\n",
      "\n",
      "\n",
      "\n",
      "[[  160     0    16]\n",
      " [    1     0     2]\n",
      " [   16     0 13371]]\n"
     ]
    }
   ],
   "source": [
    "print(classification_report(y_test, y_pred))\n",
    "print(\"\\n\")\n",
    "print(confusion_matrix(y_test, y_pred))"
   ]
  },
  {
   "cell_type": "code",
   "execution_count": 62,
   "id": "5aa2b271",
   "metadata": {},
   "outputs": [
    {
     "name": "stdout",
     "output_type": "stream",
     "text": [
      "              precision    recall  f1-score   support\n",
      "\n",
      "       B-NEG       0.91      0.89      0.90       176\n",
      "       I-NEG       0.00      0.00      0.00         3\n",
      "           O       1.00      1.00      1.00     13387\n",
      "\n",
      "    accuracy                           1.00     13566\n",
      "   macro avg       0.64      0.63      0.63     13566\n",
      "weighted avg       1.00      1.00      1.00     13566\n",
      "\n",
      "\n",
      "\n",
      "[[  156     0    20]\n",
      " [    1     0     2]\n",
      " [   14     0 13373]]\n"
     ]
    }
   ],
   "source": [
    "vec_X = DictVectorizer()\n",
    "X_train = data.drop([\"label\",\"suffix_cues_feature\", \"prefix_cues_feature\"],axis=1)\n",
    "X_train_dict = X_train.to_dict('records')\n",
    "X_train = vec_X.fit_transform(X_train_dict).toarray()\n",
    "\n",
    "X_test = dev_data.drop([\"label\",\"suffix_cues_feature\", \"prefix_cues_feature\"],axis=1)\n",
    "X_test_dict = X_test.to_dict('records')\n",
    "X_test = vec_X.transform(X_test_dict).toarray()\n",
    "\n",
    "# Extract the 'label' column as the target variable\n",
    "y_train = data['label']\n",
    "y_test = dev_data[\"label\"]\n",
    "\n",
    "svm_model = LinearSVC(C= 1, loss= 'hinge', tol= 0.0001)\n",
    "svm_model.fit(X_train, y_train)\n",
    "y_pred = svm_model.predict(X_test)\n",
    "\n",
    "print(classification_report(y_test, y_pred))\n",
    "print(\"\\n\")\n",
    "print(confusion_matrix(y_test, y_pred))"
   ]
  },
  {
   "cell_type": "markdown",
   "id": "c0c97004",
   "metadata": {},
   "source": [
    "# Feature Importance"
   ]
  },
  {
   "cell_type": "code",
   "execution_count": 91,
   "id": "45883ff8",
   "metadata": {},
   "outputs": [],
   "source": [
    "svm_model = LinearSVC(C= 1, loss= 'hinge', tol= 0.0001)\n",
    "svm_model.fit(X_train, y_train)\n",
    "\n",
    "# Get feature importance values\n",
    "coef = svm_model.coef_\n",
    "feature_names = vec_X.get_feature_names()\n",
    "\n",
    "coef_df = pd.concat([pd.DataFrame({'coef': coef[i], 'feature_names': feature_names}) \n",
    "                    for i in range(coef.shape[0])], ignore_index=True)\n",
    "\n",
    "coef_df['coef'] = np.abs(coef_df['coef'])\n",
    "coef_df.sort_values(by='coef', ascending=False, inplace=True)"
   ]
  },
  {
   "cell_type": "code",
   "execution_count": 108,
   "id": "c4991651",
   "metadata": {},
   "outputs": [
    {
     "data": {
      "text/html": [
       "<div>\n",
       "<style scoped>\n",
       "    .dataframe tbody tr th:only-of-type {\n",
       "        vertical-align: middle;\n",
       "    }\n",
       "\n",
       "    .dataframe tbody tr th {\n",
       "        vertical-align: top;\n",
       "    }\n",
       "\n",
       "    .dataframe thead th {\n",
       "        text-align: right;\n",
       "    }\n",
       "</style>\n",
       "<table border=\"1\" class=\"dataframe\">\n",
       "  <thead>\n",
       "    <tr style=\"text-align: right;\">\n",
       "      <th></th>\n",
       "      <th>coef</th>\n",
       "      <th>feature_names</th>\n",
       "    </tr>\n",
       "  </thead>\n",
       "  <tbody>\n",
       "    <tr>\n",
       "      <th>10810</th>\n",
       "      <td>1.230414</td>\n",
       "      <td>matchesNegExp</td>\n",
       "    </tr>\n",
       "    <tr>\n",
       "      <th>44068</th>\n",
       "      <td>1.227949</td>\n",
       "      <td>matchesNegExp</td>\n",
       "    </tr>\n",
       "    <tr>\n",
       "      <th>44105</th>\n",
       "      <td>1.088901</td>\n",
       "      <td>prefix_cues_feature</td>\n",
       "    </tr>\n",
       "    <tr>\n",
       "      <th>10847</th>\n",
       "      <td>1.085777</td>\n",
       "      <td>prefix_cues_feature</td>\n",
       "    </tr>\n",
       "    <tr>\n",
       "      <th>0</th>\n",
       "      <td>1.026069</td>\n",
       "      <td>endNegSuffix</td>\n",
       "    </tr>\n",
       "    <tr>\n",
       "      <th>33258</th>\n",
       "      <td>1.020999</td>\n",
       "      <td>endNegSuffix</td>\n",
       "    </tr>\n",
       "    <tr>\n",
       "      <th>8576</th>\n",
       "      <td>0.876700</td>\n",
       "      <td>lowercase=none</td>\n",
       "    </tr>\n",
       "    <tr>\n",
       "      <th>8587</th>\n",
       "      <td>0.876700</td>\n",
       "      <td>lowercase=nothing</td>\n",
       "    </tr>\n",
       "    <tr>\n",
       "      <th>41845</th>\n",
       "      <td>0.872708</td>\n",
       "      <td>lowercase=nothing</td>\n",
       "    </tr>\n",
       "    <tr>\n",
       "      <th>41834</th>\n",
       "      <td>0.872708</td>\n",
       "      <td>lowercase=none</td>\n",
       "    </tr>\n",
       "    <tr>\n",
       "      <th>10849</th>\n",
       "      <td>0.797710</td>\n",
       "      <td>suffix_cues_feature</td>\n",
       "    </tr>\n",
       "    <tr>\n",
       "      <th>44107</th>\n",
       "      <td>0.795402</td>\n",
       "      <td>suffix_cues_feature</td>\n",
       "    </tr>\n",
       "    <tr>\n",
       "      <th>11049</th>\n",
       "      <td>0.752596</td>\n",
       "      <td>word=Except</td>\n",
       "    </tr>\n",
       "    <tr>\n",
       "      <th>200</th>\n",
       "      <td>0.752596</td>\n",
       "      <td>lemma=Except</td>\n",
       "    </tr>\n",
       "    <tr>\n",
       "      <th>33458</th>\n",
       "      <td>0.751365</td>\n",
       "      <td>lemma=Except</td>\n",
       "    </tr>\n",
       "    <tr>\n",
       "      <th>44307</th>\n",
       "      <td>0.751365</td>\n",
       "      <td>word=Except</td>\n",
       "    </tr>\n",
       "    <tr>\n",
       "      <th>11225</th>\n",
       "      <td>0.745954</td>\n",
       "      <td>word=None</td>\n",
       "    </tr>\n",
       "    <tr>\n",
       "      <th>376</th>\n",
       "      <td>0.745954</td>\n",
       "      <td>lemma=None</td>\n",
       "    </tr>\n",
       "    <tr>\n",
       "      <th>11230</th>\n",
       "      <td>0.745953</td>\n",
       "      <td>word=Nothing</td>\n",
       "    </tr>\n",
       "    <tr>\n",
       "      <th>381</th>\n",
       "      <td>0.745953</td>\n",
       "      <td>lemma=Nothing</td>\n",
       "    </tr>\n",
       "  </tbody>\n",
       "</table>\n",
       "</div>"
      ],
      "text/plain": [
       "           coef        feature_names\n",
       "10810  1.230414        matchesNegExp\n",
       "44068  1.227949        matchesNegExp\n",
       "44105  1.088901  prefix_cues_feature\n",
       "10847  1.085777  prefix_cues_feature\n",
       "0      1.026069         endNegSuffix\n",
       "33258  1.020999         endNegSuffix\n",
       "8576   0.876700       lowercase=none\n",
       "8587   0.876700    lowercase=nothing\n",
       "41845  0.872708    lowercase=nothing\n",
       "41834  0.872708       lowercase=none\n",
       "10849  0.797710  suffix_cues_feature\n",
       "44107  0.795402  suffix_cues_feature\n",
       "11049  0.752596          word=Except\n",
       "200    0.752596         lemma=Except\n",
       "33458  0.751365         lemma=Except\n",
       "44307  0.751365          word=Except\n",
       "11225  0.745954            word=None\n",
       "376    0.745954           lemma=None\n",
       "11230  0.745953         word=Nothing\n",
       "381    0.745953        lemma=Nothing"
      ]
     },
     "execution_count": 108,
     "metadata": {},
     "output_type": "execute_result"
    }
   ],
   "source": [
    "coef_df.to_csv(\"svm_feature_importance.csv\")\n",
    "coef_df.head(20)"
   ]
  },
  {
   "cell_type": "code",
   "execution_count": 103,
   "id": "9ad336ca",
   "metadata": {},
   "outputs": [
    {
     "data": {
      "image/png": "[encoded data removed]",
      "text/plain": [
       "<Figure size 1080x1440 with 1 Axes>"
      ]
     },
     "metadata": {
      "needs_background": "light"
     },
     "output_type": "display_data"
    }
   ],
   "source": [
    "plt.figure(figsize=(15,20));\n",
    "sns.barplot(y='feature_names', x='coef', data=coef_df[:40]);\n",
    "plt.xticks(rotation=90);"
   ]
  },
  {
   "cell_type": "code",
   "execution_count": 104,
   "id": "1e007c87",
   "metadata": {},
   "outputs": [
    {
     "data": {
      "image/png": "[encoded data removed]",
      "text/plain": [
       "<Figure size 1080x1440 with 1 Axes>"
      ]
     },
     "metadata": {
      "needs_background": "light"
     },
     "output_type": "display_data"
    }
   ],
   "source": [
    "plt.figure(figsize=(15,20));\n",
    "sns.barplot(y='feature_names', x='coef', data=coef_df[41:100]);\n",
    "plt.xticks(rotation=90);"
   ]
  },
  {
   "cell_type": "code",
   "execution_count": null,
   "id": "f9f5da5f",
   "metadata": {},
   "outputs": [],
   "source": []
  }
 ],
 "metadata": {
  "kernelspec": {
   "display_name": "Python 3 (ipykernel)",
   "language": "python",
   "name": "python3"
  },
  "language_info": {
   "codemirror_mode": {
    "name": "ipython",
    "version": 3
   },
   "file_extension": ".py",
   "mimetype": "text/x-python",
   "name": "python",
   "nbconvert_exporter": "python",
   "pygments_lexer": "ipython3",
   "version": "3.9.13"
  }
 },
 "nbformat": 4,
 "nbformat_minor": 5
}
