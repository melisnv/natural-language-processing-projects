{
 "cells": [
  {
   "cell_type": "code",
   "execution_count": 1,
   "id": "95501fb1",
   "metadata": {},
   "outputs": [],
   "source": [
    "import nltk\n",
    "from nltk.corpus import twitter_samples\n",
    "import matplotlib.pyplot as plt\n",
    "import random\n",
    "\n",
    "import re                            \n",
    "import string\n",
    "import pandas as pd\n",
    "import numpy as np\n",
    "\n",
    "import warnings\n",
    "warnings.filterwarnings(\"ignore\")\n",
    "\n",
    "from nltk.corpus import stopwords\n",
    "from nltk.tokenize import sent_tokenize, word_tokenize\n",
    "from nltk.stem import PorterStemmer\n",
    "from nltk.tokenize import TweetTokenizer"
   ]
  },
  {
   "cell_type": "markdown",
   "id": "f9222f45",
   "metadata": {},
   "source": [
    "### Dataset"
   ]
  },
  {
   "cell_type": "code",
   "execution_count": 2,
   "id": "3257f395",
   "metadata": {},
   "outputs": [
    {
     "name": "stderr",
     "output_type": "stream",
     "text": [
      "[nltk_data] Downloading package twitter_samples to C:\\Users\\Melis\n",
      "[nltk_data]     Nur\\AppData\\Roaming\\nltk_data...\n",
      "[nltk_data]   Package twitter_samples is already up-to-date!\n"
     ]
    },
    {
     "data": {
      "text/plain": [
       "True"
      ]
     },
     "execution_count": 2,
     "metadata": {},
     "output_type": "execute_result"
    }
   ],
   "source": [
    "nltk.download('twitter_samples')"
   ]
  },
  {
   "cell_type": "code",
   "execution_count": 3,
   "id": "aae8f378",
   "metadata": {},
   "outputs": [],
   "source": [
    "positive_tweets = twitter_samples.strings('positive_tweets.json')\n",
    "negative_tweets = twitter_samples.strings('negative_tweets.json')"
   ]
  },
  {
   "cell_type": "code",
   "execution_count": 4,
   "id": "8015f934",
   "metadata": {},
   "outputs": [
    {
     "data": {
      "text/plain": [
       "'#FollowFriday @France_Inte @PKuchly57 @Milipol_Paris for being top engaged members in my community this week :)'"
      ]
     },
     "execution_count": 4,
     "metadata": {},
     "output_type": "execute_result"
    }
   ],
   "source": [
    "positive_tweets[0]"
   ]
  },
  {
   "cell_type": "code",
   "execution_count": 5,
   "id": "f7c50435",
   "metadata": {},
   "outputs": [
    {
     "data": {
      "text/plain": [
       "'hopeless for tmr :('"
      ]
     },
     "execution_count": 5,
     "metadata": {},
     "output_type": "execute_result"
    }
   ],
   "source": [
    "negative_tweets[0]"
   ]
  },
  {
   "cell_type": "code",
   "execution_count": 6,
   "id": "d82c655e",
   "metadata": {},
   "outputs": [
    {
     "name": "stdout",
     "output_type": "stream",
     "text": [
      "Length of positive tweets:  5000\n",
      "Length of negative tweets:  5000\n",
      "Type of a tweet is  <class 'list'>\n",
      "Type of an entry is  <class 'str'>\n"
     ]
    }
   ],
   "source": [
    "print(\"Length of positive tweets: \", len(positive_tweets))\n",
    "print(\"Length of negative tweets: \", len(negative_tweets))\n",
    "print(\"Type of a tweet is \", type(positive_tweets))\n",
    "print(\"Type of an entry is \",type(negative_tweets[0]))"
   ]
  },
  {
   "cell_type": "code",
   "execution_count": 7,
   "id": "33fe29ba",
   "metadata": {},
   "outputs": [
    {
     "name": "stdout",
     "output_type": "stream",
     "text": [
      "\u001b[92mMe + Bed = Best couple ever :)\n",
      "\u001b[91mSuch a stressful and upsetting day yesterday, the UK government sucks :(\n"
     ]
    }
   ],
   "source": [
    "print('\\033[92m' + positive_tweets[random.randint(0,5000)])\n",
    "\n",
    "print('\\033[91m' + negative_tweets[random.randint(0,5000)])"
   ]
  },
  {
   "cell_type": "markdown",
   "id": "eb30357d",
   "metadata": {},
   "source": [
    "# Preprocess raw text for Sentiment analysis"
   ]
  },
  {
   "cell_type": "code",
   "execution_count": 8,
   "id": "30ee8a19",
   "metadata": {},
   "outputs": [
    {
     "data": {
      "text/plain": [
       "'My beautiful sunflowers on a sunny Friday morning off :) #sunflowers #favourites #happy #Friday off… https://t.co/3tfYom0N1i'"
      ]
     },
     "execution_count": 8,
     "metadata": {},
     "output_type": "execute_result"
    }
   ],
   "source": [
    "tweet = positive_tweets[2277]\n",
    "tweet"
   ]
  },
  {
   "cell_type": "code",
   "execution_count": 9,
   "id": "0b13b580",
   "metadata": {},
   "outputs": [
    {
     "name": "stderr",
     "output_type": "stream",
     "text": [
      "[nltk_data] Downloading package stopwords to C:\\Users\\Melis\n",
      "[nltk_data]     Nur\\AppData\\Roaming\\nltk_data...\n",
      "[nltk_data]   Package stopwords is already up-to-date!\n"
     ]
    },
    {
     "data": {
      "text/plain": [
       "True"
      ]
     },
     "execution_count": 9,
     "metadata": {},
     "output_type": "execute_result"
    }
   ],
   "source": [
    "nltk.download('stopwords')"
   ]
  },
  {
   "cell_type": "markdown",
   "id": "5178620a",
   "metadata": {},
   "source": [
    "## Remove hyperlinks, Twitter marks and styles"
   ]
  },
  {
   "cell_type": "code",
   "execution_count": 10,
   "id": "7d99e3cb",
   "metadata": {},
   "outputs": [
    {
     "data": {
      "text/html": [
       "<div>\n",
       "<style scoped>\n",
       "    .dataframe tbody tr th:only-of-type {\n",
       "        vertical-align: middle;\n",
       "    }\n",
       "\n",
       "    .dataframe tbody tr th {\n",
       "        vertical-align: top;\n",
       "    }\n",
       "\n",
       "    .dataframe thead th {\n",
       "        text-align: right;\n",
       "    }\n",
       "</style>\n",
       "<table border=\"1\" class=\"dataframe\">\n",
       "  <thead>\n",
       "    <tr style=\"text-align: right;\">\n",
       "      <th></th>\n",
       "      <th>tweet</th>\n",
       "      <th>state</th>\n",
       "    </tr>\n",
       "  </thead>\n",
       "  <tbody>\n",
       "    <tr>\n",
       "      <th>0</th>\n",
       "      <td>#FollowFriday @France_Inte @PKuchly57 @Milipol...</td>\n",
       "      <td>1</td>\n",
       "    </tr>\n",
       "    <tr>\n",
       "      <th>1</th>\n",
       "      <td>@Lamb2ja Hey James! How odd :/ Please call our...</td>\n",
       "      <td>1</td>\n",
       "    </tr>\n",
       "    <tr>\n",
       "      <th>2</th>\n",
       "      <td>@DespiteOfficial we had a listen last night :)...</td>\n",
       "      <td>1</td>\n",
       "    </tr>\n",
       "    <tr>\n",
       "      <th>3</th>\n",
       "      <td>@97sides CONGRATS :)</td>\n",
       "      <td>1</td>\n",
       "    </tr>\n",
       "    <tr>\n",
       "      <th>4</th>\n",
       "      <td>yeaaaah yippppy!!!  my accnt verified rqst has...</td>\n",
       "      <td>1</td>\n",
       "    </tr>\n",
       "    <tr>\n",
       "      <th>...</th>\n",
       "      <td>...</td>\n",
       "      <td>...</td>\n",
       "    </tr>\n",
       "    <tr>\n",
       "      <th>4995</th>\n",
       "      <td>@chriswiggin3 Chris, that's great to hear :) D...</td>\n",
       "      <td>1</td>\n",
       "    </tr>\n",
       "    <tr>\n",
       "      <th>4996</th>\n",
       "      <td>@RachelLiskeard Thanks for the shout-out :) It...</td>\n",
       "      <td>1</td>\n",
       "    </tr>\n",
       "    <tr>\n",
       "      <th>4997</th>\n",
       "      <td>@side556 Hey!  :)  Long time no talk...</td>\n",
       "      <td>1</td>\n",
       "    </tr>\n",
       "    <tr>\n",
       "      <th>4998</th>\n",
       "      <td>@staybubbly69 as Matt would say. WELCOME TO AD...</td>\n",
       "      <td>1</td>\n",
       "    </tr>\n",
       "    <tr>\n",
       "      <th>4999</th>\n",
       "      <td>@DanielOConnel18 you could say he will have eg...</td>\n",
       "      <td>1</td>\n",
       "    </tr>\n",
       "  </tbody>\n",
       "</table>\n",
       "<p>5000 rows × 2 columns</p>\n",
       "</div>"
      ],
      "text/plain": [
       "                                                  tweet  state\n",
       "0     #FollowFriday @France_Inte @PKuchly57 @Milipol...      1\n",
       "1     @Lamb2ja Hey James! How odd :/ Please call our...      1\n",
       "2     @DespiteOfficial we had a listen last night :)...      1\n",
       "3                                  @97sides CONGRATS :)      1\n",
       "4     yeaaaah yippppy!!!  my accnt verified rqst has...      1\n",
       "...                                                 ...    ...\n",
       "4995  @chriswiggin3 Chris, that's great to hear :) D...      1\n",
       "4996  @RachelLiskeard Thanks for the shout-out :) It...      1\n",
       "4997            @side556 Hey!  :)  Long time no talk...      1\n",
       "4998  @staybubbly69 as Matt would say. WELCOME TO AD...      1\n",
       "4999  @DanielOConnel18 you could say he will have eg...      1\n",
       "\n",
       "[5000 rows x 2 columns]"
      ]
     },
     "execution_count": 10,
     "metadata": {},
     "output_type": "execute_result"
    }
   ],
   "source": [
    "positive = pd.DataFrame()\n",
    "positive['tweet'] = positive_tweets\n",
    "positive['state'] = 1\n",
    "positive"
   ]
  },
  {
   "cell_type": "code",
   "execution_count": 11,
   "id": "4f6e5849",
   "metadata": {},
   "outputs": [
    {
     "data": {
      "text/html": [
       "<div>\n",
       "<style scoped>\n",
       "    .dataframe tbody tr th:only-of-type {\n",
       "        vertical-align: middle;\n",
       "    }\n",
       "\n",
       "    .dataframe tbody tr th {\n",
       "        vertical-align: top;\n",
       "    }\n",
       "\n",
       "    .dataframe thead th {\n",
       "        text-align: right;\n",
       "    }\n",
       "</style>\n",
       "<table border=\"1\" class=\"dataframe\">\n",
       "  <thead>\n",
       "    <tr style=\"text-align: right;\">\n",
       "      <th></th>\n",
       "      <th>tweet</th>\n",
       "      <th>state</th>\n",
       "    </tr>\n",
       "  </thead>\n",
       "  <tbody>\n",
       "    <tr>\n",
       "      <th>0</th>\n",
       "      <td>hopeless for tmr :(</td>\n",
       "      <td>0</td>\n",
       "    </tr>\n",
       "    <tr>\n",
       "      <th>1</th>\n",
       "      <td>Everything in the kids section of IKEA is so c...</td>\n",
       "      <td>0</td>\n",
       "    </tr>\n",
       "    <tr>\n",
       "      <th>2</th>\n",
       "      <td>@Hegelbon That heart sliding into the waste ba...</td>\n",
       "      <td>0</td>\n",
       "    </tr>\n",
       "    <tr>\n",
       "      <th>3</th>\n",
       "      <td>“@ketchBurning: I hate Japanese call him \"bani...</td>\n",
       "      <td>0</td>\n",
       "    </tr>\n",
       "    <tr>\n",
       "      <th>4</th>\n",
       "      <td>Dang starting next week I have \"work\" :(</td>\n",
       "      <td>0</td>\n",
       "    </tr>\n",
       "    <tr>\n",
       "      <th>...</th>\n",
       "      <td>...</td>\n",
       "      <td>...</td>\n",
       "    </tr>\n",
       "    <tr>\n",
       "      <th>4995</th>\n",
       "      <td>I wanna change my avi but uSanele :(</td>\n",
       "      <td>0</td>\n",
       "    </tr>\n",
       "    <tr>\n",
       "      <th>4996</th>\n",
       "      <td>MY PUPPY BROKE HER FOOT :(</td>\n",
       "      <td>0</td>\n",
       "    </tr>\n",
       "    <tr>\n",
       "      <th>4997</th>\n",
       "      <td>where's all the jaebum baby pictures :((</td>\n",
       "      <td>0</td>\n",
       "    </tr>\n",
       "    <tr>\n",
       "      <th>4998</th>\n",
       "      <td>But but Mr Ahmad Maslan cooks too :( https://t...</td>\n",
       "      <td>0</td>\n",
       "    </tr>\n",
       "    <tr>\n",
       "      <th>4999</th>\n",
       "      <td>@eawoman As a Hull supporter I am expecting a ...</td>\n",
       "      <td>0</td>\n",
       "    </tr>\n",
       "  </tbody>\n",
       "</table>\n",
       "<p>5000 rows × 2 columns</p>\n",
       "</div>"
      ],
      "text/plain": [
       "                                                  tweet  state\n",
       "0                                   hopeless for tmr :(      0\n",
       "1     Everything in the kids section of IKEA is so c...      0\n",
       "2     @Hegelbon That heart sliding into the waste ba...      0\n",
       "3     “@ketchBurning: I hate Japanese call him \"bani...      0\n",
       "4              Dang starting next week I have \"work\" :(      0\n",
       "...                                                 ...    ...\n",
       "4995               I wanna change my avi but uSanele :(      0\n",
       "4996                         MY PUPPY BROKE HER FOOT :(      0\n",
       "4997           where's all the jaebum baby pictures :((      0\n",
       "4998  But but Mr Ahmad Maslan cooks too :( https://t...      0\n",
       "4999  @eawoman As a Hull supporter I am expecting a ...      0\n",
       "\n",
       "[5000 rows x 2 columns]"
      ]
     },
     "execution_count": 11,
     "metadata": {},
     "output_type": "execute_result"
    }
   ],
   "source": [
    "negative = pd.DataFrame()\n",
    "negative['tweet'] = negative_tweets\n",
    "negative['state'] = 0\n",
    "negative"
   ]
  },
  {
   "cell_type": "code",
   "execution_count": 12,
   "id": "8101a2a9",
   "metadata": {},
   "outputs": [
    {
     "data": {
      "text/html": [
       "<div>\n",
       "<style scoped>\n",
       "    .dataframe tbody tr th:only-of-type {\n",
       "        vertical-align: middle;\n",
       "    }\n",
       "\n",
       "    .dataframe tbody tr th {\n",
       "        vertical-align: top;\n",
       "    }\n",
       "\n",
       "    .dataframe thead th {\n",
       "        text-align: right;\n",
       "    }\n",
       "</style>\n",
       "<table border=\"1\" class=\"dataframe\">\n",
       "  <thead>\n",
       "    <tr style=\"text-align: right;\">\n",
       "      <th></th>\n",
       "      <th>tweet</th>\n",
       "      <th>state</th>\n",
       "    </tr>\n",
       "  </thead>\n",
       "  <tbody>\n",
       "    <tr>\n",
       "      <th>0</th>\n",
       "      <td>Math test result :((</td>\n",
       "      <td>0</td>\n",
       "    </tr>\n",
       "    <tr>\n",
       "      <th>1</th>\n",
       "      <td>@iamnonexistent oh dear :( that discount though!</td>\n",
       "      <td>0</td>\n",
       "    </tr>\n",
       "    <tr>\n",
       "      <th>2</th>\n",
       "      <td>Google has made Narendra Modi really very sad ...</td>\n",
       "      <td>1</td>\n",
       "    </tr>\n",
       "    <tr>\n",
       "      <th>3</th>\n",
       "      <td>@IanHallard Wonderful news! Best of luck with ...</td>\n",
       "      <td>0</td>\n",
       "    </tr>\n",
       "    <tr>\n",
       "      <th>4</th>\n",
       "      <td>\"Asshole\" 😂 That's an honest tribute :) https:...</td>\n",
       "      <td>1</td>\n",
       "    </tr>\n",
       "    <tr>\n",
       "      <th>...</th>\n",
       "      <td>...</td>\n",
       "      <td>...</td>\n",
       "    </tr>\n",
       "    <tr>\n",
       "      <th>9995</th>\n",
       "      <td>@CellarDoorExp Fingers crossed for you :)</td>\n",
       "      <td>1</td>\n",
       "    </tr>\n",
       "    <tr>\n",
       "      <th>9996</th>\n",
       "      <td>@storpey don't die, you're actually pretty ent...</td>\n",
       "      <td>1</td>\n",
       "    </tr>\n",
       "    <tr>\n",
       "      <th>9997</th>\n",
       "      <td>@zora_db Just texted you, I am dying of lurgy,...</td>\n",
       "      <td>0</td>\n",
       "    </tr>\n",
       "    <tr>\n",
       "      <th>9998</th>\n",
       "      <td>@emily_etc I always walk past this place! May ...</td>\n",
       "      <td>1</td>\n",
       "    </tr>\n",
       "    <tr>\n",
       "      <th>9999</th>\n",
       "      <td>I just wanna sleep :(</td>\n",
       "      <td>0</td>\n",
       "    </tr>\n",
       "  </tbody>\n",
       "</table>\n",
       "<p>10000 rows × 2 columns</p>\n",
       "</div>"
      ],
      "text/plain": [
       "                                                  tweet  state\n",
       "0                                  Math test result :((      0\n",
       "1      @iamnonexistent oh dear :( that discount though!      0\n",
       "2     Google has made Narendra Modi really very sad ...      1\n",
       "3     @IanHallard Wonderful news! Best of luck with ...      0\n",
       "4     \"Asshole\" 😂 That's an honest tribute :) https:...      1\n",
       "...                                                 ...    ...\n",
       "9995          @CellarDoorExp Fingers crossed for you :)      1\n",
       "9996  @storpey don't die, you're actually pretty ent...      1\n",
       "9997  @zora_db Just texted you, I am dying of lurgy,...      0\n",
       "9998  @emily_etc I always walk past this place! May ...      1\n",
       "9999                              I just wanna sleep :(      0\n",
       "\n",
       "[10000 rows x 2 columns]"
      ]
     },
     "execution_count": 12,
     "metadata": {},
     "output_type": "execute_result"
    }
   ],
   "source": [
    "tweets = pd.concat([positive, negative], axis=0)\n",
    "tweets = tweets.sample(frac=1).reset_index(drop=True)\n",
    "tweets"
   ]
  },
  {
   "cell_type": "code",
   "execution_count": 13,
   "id": "7b18bfc4",
   "metadata": {},
   "outputs": [],
   "source": [
    "def remove_hyperlinks(text):\n",
    "    new_tweets = []\n",
    "    for t in text:\n",
    "        t = re.sub(r'\\w+:\\/{2}[\\d\\w-]+(\\.[\\d\\w-]+)*(?:(?:\\/[^\\s/]*))*', '', t)\n",
    "        t = re.sub(r'#','',t)\n",
    "        new_tweets.append(t)\n",
    "    \n",
    "    return new_tweets"
   ]
  },
  {
   "cell_type": "code",
   "execution_count": 14,
   "id": "7a708ed8",
   "metadata": {},
   "outputs": [],
   "source": [
    "tweets['tweet'] = remove_hyperlinks(tweets['tweet'])"
   ]
  },
  {
   "cell_type": "markdown",
   "id": "28bfbd97",
   "metadata": {},
   "source": [
    "## Tokenize the string"
   ]
  },
  {
   "cell_type": "code",
   "execution_count": 15,
   "id": "99078132",
   "metadata": {},
   "outputs": [],
   "source": [
    "tokenizer = TweetTokenizer(preserve_case=False, strip_handles=True,\n",
    "                               reduce_len=True)"
   ]
  },
  {
   "cell_type": "code",
   "execution_count": 16,
   "id": "048913d7",
   "metadata": {},
   "outputs": [],
   "source": [
    "def tokenize(text):\n",
    "    \n",
    "    tweet_tokens = []\n",
    "    for twt in text:\n",
    "        tokens = tokenizer.tokenize(twt)\n",
    "        tweet_tokens.append(tokens)\n",
    "    \n",
    "    \n",
    "    return tweet_tokens"
   ]
  },
  {
   "cell_type": "code",
   "execution_count": 17,
   "id": "0e6cef8f",
   "metadata": {},
   "outputs": [
    {
     "data": {
      "text/plain": [
       "['great',\n",
       " 'to',\n",
       " 'hear',\n",
       " '!',\n",
       " 'we',\n",
       " 'are',\n",
       " 'glad',\n",
       " 'that',\n",
       " 'we',\n",
       " 'could',\n",
       " 'help',\n",
       " ':)',\n",
       " 'localgaragederby']"
      ]
     },
     "execution_count": 17,
     "metadata": {},
     "output_type": "execute_result"
    }
   ],
   "source": [
    "tweet_tokens = tokenize(tweets['tweet'])\n",
    "tweet_tokens[10]"
   ]
  },
  {
   "cell_type": "code",
   "execution_count": 18,
   "id": "c5ea2aa9",
   "metadata": {},
   "outputs": [],
   "source": [
    "tweets['tweet'] = tweets['tweet'].str.replace('[{}]'.format(string.punctuation), '')\n",
    "stop_words = stopwords.words('english')\n",
    "tweets['tweet'] = tweets['tweet'].apply(lambda x: ' '.join([word for word in x.split() if word not in (stop_words)]))"
   ]
  },
  {
   "cell_type": "code",
   "execution_count": 19,
   "id": "8b9f9811",
   "metadata": {},
   "outputs": [
    {
     "data": {
      "text/html": [
       "<div>\n",
       "<style scoped>\n",
       "    .dataframe tbody tr th:only-of-type {\n",
       "        vertical-align: middle;\n",
       "    }\n",
       "\n",
       "    .dataframe tbody tr th {\n",
       "        vertical-align: top;\n",
       "    }\n",
       "\n",
       "    .dataframe thead th {\n",
       "        text-align: right;\n",
       "    }\n",
       "</style>\n",
       "<table border=\"1\" class=\"dataframe\">\n",
       "  <thead>\n",
       "    <tr style=\"text-align: right;\">\n",
       "      <th></th>\n",
       "      <th>tweet</th>\n",
       "      <th>state</th>\n",
       "    </tr>\n",
       "  </thead>\n",
       "  <tbody>\n",
       "    <tr>\n",
       "      <th>0</th>\n",
       "      <td>Math test result</td>\n",
       "      <td>0</td>\n",
       "    </tr>\n",
       "    <tr>\n",
       "      <th>1</th>\n",
       "      <td>iamnonexistent oh dear discount though</td>\n",
       "      <td>0</td>\n",
       "    </tr>\n",
       "    <tr>\n",
       "      <th>2</th>\n",
       "      <td>Google made Narendra Modi really sad Imran Kha...</td>\n",
       "      <td>1</td>\n",
       "    </tr>\n",
       "    <tr>\n",
       "      <th>3</th>\n",
       "      <td>IanHallard Wonderful news Best luck x Shame Il...</td>\n",
       "      <td>0</td>\n",
       "    </tr>\n",
       "    <tr>\n",
       "      <th>4</th>\n",
       "      <td>Asshole 😂 Thats honest tribute</td>\n",
       "      <td>1</td>\n",
       "    </tr>\n",
       "    <tr>\n",
       "      <th>5</th>\n",
       "      <td>building house</td>\n",
       "      <td>1</td>\n",
       "    </tr>\n",
       "    <tr>\n",
       "      <th>6</th>\n",
       "      <td>Woke another migraine Need proper rest moment ...</td>\n",
       "      <td>0</td>\n",
       "    </tr>\n",
       "    <tr>\n",
       "      <th>7</th>\n",
       "      <td>ARNSUK thank lovely specialist breathing people</td>\n",
       "      <td>1</td>\n",
       "    </tr>\n",
       "    <tr>\n",
       "      <th>8</th>\n",
       "      <td>BBCLookEast Hope find new homes</td>\n",
       "      <td>0</td>\n",
       "    </tr>\n",
       "    <tr>\n",
       "      <th>9</th>\n",
       "      <td>ZaloraID hi im interested internship program B...</td>\n",
       "      <td>1</td>\n",
       "    </tr>\n",
       "  </tbody>\n",
       "</table>\n",
       "</div>"
      ],
      "text/plain": [
       "                                               tweet  state\n",
       "0                                   Math test result      0\n",
       "1             iamnonexistent oh dear discount though      0\n",
       "2  Google made Narendra Modi really sad Imran Kha...      1\n",
       "3  IanHallard Wonderful news Best luck x Shame Il...      0\n",
       "4                     Asshole 😂 Thats honest tribute      1\n",
       "5                                     building house      1\n",
       "6  Woke another migraine Need proper rest moment ...      0\n",
       "7    ARNSUK thank lovely specialist breathing people      1\n",
       "8                    BBCLookEast Hope find new homes      0\n",
       "9  ZaloraID hi im interested internship program B...      1"
      ]
     },
     "execution_count": 19,
     "metadata": {},
     "output_type": "execute_result"
    }
   ],
   "source": [
    "tweets.head(10)"
   ]
  },
  {
   "cell_type": "markdown",
   "id": "56ffd7c1",
   "metadata": {},
   "source": [
    "## Stemming"
   ]
  },
  {
   "cell_type": "markdown",
   "id": "067845e0",
   "metadata": {},
   "source": [
    "def stemm(text):\n",
    "    stemmer = PorterStemmer() # stemming class\n",
    "\n",
    "    tweets_stem = []\n",
    "\n",
    "    for tweet in text:\n",
    "        print(\"Tweet: \",tweet)\n",
    "        for word in tweet.split():\n",
    "            print(\"Word: \",word)\n",
    "            stemmed_word = stemmer.stem(word)\n",
    "            print(\"Stemmed word:\",stemmed_word)\n",
    "            tweets_stem.append(stemmed_word)\n",
    "            \n",
    "    print(\"List stemmed tweets:\",tweets_stem)        \n",
    "    return tweets_stem"
   ]
  },
  {
   "cell_type": "code",
   "execution_count": 20,
   "id": "2db30b94",
   "metadata": {},
   "outputs": [],
   "source": [
    "def stemm(text):\n",
    "    stemmer = PorterStemmer() # stemming class\n",
    "\n",
    "    tweets_stem = []\n",
    "    stemmed_twt = []\n",
    "\n",
    "    for tweet in text:\n",
    "        #print(tweet)\n",
    "        for t in tweet.split():\n",
    "            #print(t)\n",
    "            stemmed_word = stemmer.stem(t)\n",
    "            tweets_stem.append(stemmed_word)\n",
    "        \n",
    "        stemmed_twt.append(tweets_stem)\n",
    "        res = [' '.join(ele) for ele in stemmed_twt]\n",
    "        tweets_stem = []\n",
    "                    \n",
    "    return res"
   ]
  },
  {
   "cell_type": "code",
   "execution_count": 21,
   "id": "422f93f6",
   "metadata": {},
   "outputs": [],
   "source": [
    "# stemmer = PorterStemmer() # stemming class\n",
    "messages = [\"Been since like 7am Im still tired body needs.\",\n",
    "            \"virginmedia long till Internet go Was late pay..\",\n",
    "            \"I need stop hardheaded.\"]\n",
    "tweets['stemm'] = stemm(tweets['tweet'])"
   ]
  },
  {
   "cell_type": "code",
   "execution_count": 22,
   "id": "579e34cb",
   "metadata": {},
   "outputs": [
    {
     "data": {
      "text/html": [
       "<div>\n",
       "<style scoped>\n",
       "    .dataframe tbody tr th:only-of-type {\n",
       "        vertical-align: middle;\n",
       "    }\n",
       "\n",
       "    .dataframe tbody tr th {\n",
       "        vertical-align: top;\n",
       "    }\n",
       "\n",
       "    .dataframe thead th {\n",
       "        text-align: right;\n",
       "    }\n",
       "</style>\n",
       "<table border=\"1\" class=\"dataframe\">\n",
       "  <thead>\n",
       "    <tr style=\"text-align: right;\">\n",
       "      <th></th>\n",
       "      <th>tweet</th>\n",
       "      <th>state</th>\n",
       "      <th>stemm</th>\n",
       "    </tr>\n",
       "  </thead>\n",
       "  <tbody>\n",
       "    <tr>\n",
       "      <th>0</th>\n",
       "      <td>Math test result</td>\n",
       "      <td>0</td>\n",
       "      <td>math test result</td>\n",
       "    </tr>\n",
       "    <tr>\n",
       "      <th>1</th>\n",
       "      <td>iamnonexistent oh dear discount though</td>\n",
       "      <td>0</td>\n",
       "      <td>iamnonexist oh dear discount though</td>\n",
       "    </tr>\n",
       "    <tr>\n",
       "      <th>2</th>\n",
       "      <td>Google made Narendra Modi really sad Imran Kha...</td>\n",
       "      <td>1</td>\n",
       "      <td>googl made narendra modi realli sad imran khan...</td>\n",
       "    </tr>\n",
       "    <tr>\n",
       "      <th>3</th>\n",
       "      <td>IanHallard Wonderful news Best luck x Shame Il...</td>\n",
       "      <td>0</td>\n",
       "      <td>ianhallard wonder news best luck x shame ill miss</td>\n",
       "    </tr>\n",
       "    <tr>\n",
       "      <th>4</th>\n",
       "      <td>Asshole 😂 Thats honest tribute</td>\n",
       "      <td>1</td>\n",
       "      <td>asshol 😂 that honest tribut</td>\n",
       "    </tr>\n",
       "    <tr>\n",
       "      <th>5</th>\n",
       "      <td>building house</td>\n",
       "      <td>1</td>\n",
       "      <td>build hous</td>\n",
       "    </tr>\n",
       "    <tr>\n",
       "      <th>6</th>\n",
       "      <td>Woke another migraine Need proper rest moment ...</td>\n",
       "      <td>0</td>\n",
       "      <td>woke anoth migrain need proper rest moment i cant</td>\n",
       "    </tr>\n",
       "    <tr>\n",
       "      <th>7</th>\n",
       "      <td>ARNSUK thank lovely specialist breathing people</td>\n",
       "      <td>1</td>\n",
       "      <td>arnsuk thank love specialist breath peopl</td>\n",
       "    </tr>\n",
       "    <tr>\n",
       "      <th>8</th>\n",
       "      <td>BBCLookEast Hope find new homes</td>\n",
       "      <td>0</td>\n",
       "      <td>bbclookeast hope find new home</td>\n",
       "    </tr>\n",
       "    <tr>\n",
       "      <th>9</th>\n",
       "      <td>ZaloraID hi im interested internship program B...</td>\n",
       "      <td>1</td>\n",
       "      <td>zaloraid hi im interest internship program but...</td>\n",
       "    </tr>\n",
       "  </tbody>\n",
       "</table>\n",
       "</div>"
      ],
      "text/plain": [
       "                                               tweet  state  \\\n",
       "0                                   Math test result      0   \n",
       "1             iamnonexistent oh dear discount though      0   \n",
       "2  Google made Narendra Modi really sad Imran Kha...      1   \n",
       "3  IanHallard Wonderful news Best luck x Shame Il...      0   \n",
       "4                     Asshole 😂 Thats honest tribute      1   \n",
       "5                                     building house      1   \n",
       "6  Woke another migraine Need proper rest moment ...      0   \n",
       "7    ARNSUK thank lovely specialist breathing people      1   \n",
       "8                    BBCLookEast Hope find new homes      0   \n",
       "9  ZaloraID hi im interested internship program B...      1   \n",
       "\n",
       "                                               stemm  \n",
       "0                                   math test result  \n",
       "1                iamnonexist oh dear discount though  \n",
       "2  googl made narendra modi realli sad imran khan...  \n",
       "3  ianhallard wonder news best luck x shame ill miss  \n",
       "4                        asshol 😂 that honest tribut  \n",
       "5                                         build hous  \n",
       "6  woke anoth migrain need proper rest moment i cant  \n",
       "7          arnsuk thank love specialist breath peopl  \n",
       "8                     bbclookeast hope find new home  \n",
       "9  zaloraid hi im interest internship program but...  "
      ]
     },
     "execution_count": 22,
     "metadata": {},
     "output_type": "execute_result"
    }
   ],
   "source": [
    "tweets.head(10)"
   ]
  }
 ],
 "metadata": {
  "kernelspec": {
   "display_name": "Python 3 (ipykernel)",
   "language": "python",
   "name": "python3"
  },
  "language_info": {
   "codemirror_mode": {
    "name": "ipython",
    "version": 3
   },
   "file_extension": ".py",
   "mimetype": "text/x-python",
   "name": "python",
   "nbconvert_exporter": "python",
   "pygments_lexer": "ipython3",
   "version": "3.9.13"
  }
 },
 "nbformat": 4,
 "nbformat_minor": 5
}
