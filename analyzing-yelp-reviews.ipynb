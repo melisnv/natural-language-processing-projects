{
 "cells": [
  {
   "cell_type": "markdown",
   "id": "1c853b60",
   "metadata": {},
   "source": [
    "# Basic Text Processing with Spacy\n",
    "\n",
    "The owner of the *DelFalco's Italian Restaurant* asked to identify whether there are any foods on their menu that diners find disappointing. The business owner suggested to use diner reviews from the Yelp website to determine which dishes people liked and disliked.\n",
    "\n",
    "### Aim of The Project\n",
    "\n",
    "Grouping reviews by what menu items they mention, and then calculating the average rating for reviews that mentioned each item. Detecting which foods are mentioned in reviews with low scores, in order to warn the restaurant to fix the recipe or remove those foods from the menu."
   ]
  },
  {
   "cell_type": "code",
   "execution_count": 1,
   "id": "c5b2b70c",
   "metadata": {},
   "outputs": [],
   "source": [
    "import pandas as pd\n",
    "import spacy\n",
    "from spacy.matcher import PhraseMatcher"
   ]
  },
  {
   "cell_type": "code",
   "execution_count": 2,
   "id": "fe616bdc",
   "metadata": {},
   "outputs": [
    {
     "data": {
      "text/html": [
       "<div>\n",
       "<style scoped>\n",
       "    .dataframe tbody tr th:only-of-type {\n",
       "        vertical-align: middle;\n",
       "    }\n",
       "\n",
       "    .dataframe tbody tr th {\n",
       "        vertical-align: top;\n",
       "    }\n",
       "\n",
       "    .dataframe thead th {\n",
       "        text-align: right;\n",
       "    }\n",
       "</style>\n",
       "<table border=\"1\" class=\"dataframe\">\n",
       "  <thead>\n",
       "    <tr style=\"text-align: right;\">\n",
       "      <th></th>\n",
       "      <th>review_id</th>\n",
       "      <th>user_id</th>\n",
       "      <th>business_id</th>\n",
       "      <th>stars</th>\n",
       "      <th>useful</th>\n",
       "      <th>funny</th>\n",
       "      <th>cool</th>\n",
       "      <th>text</th>\n",
       "      <th>date</th>\n",
       "    </tr>\n",
       "  </thead>\n",
       "  <tbody>\n",
       "    <tr>\n",
       "      <th>109</th>\n",
       "      <td>lDJIaF4eYRF4F7g6Zb9euw</td>\n",
       "      <td>lb0QUR5bc4O-Am4hNq9ZGg</td>\n",
       "      <td>r5PLDU-4mSbde5XekTXSCA</td>\n",
       "      <td>4</td>\n",
       "      <td>2</td>\n",
       "      <td>0</td>\n",
       "      <td>0</td>\n",
       "      <td>I used to work food service and my manager at ...</td>\n",
       "      <td>2013-01-27 17:54:54</td>\n",
       "    </tr>\n",
       "    <tr>\n",
       "      <th>1013</th>\n",
       "      <td>vvIzf3pr8lTqE_AOsxmgaA</td>\n",
       "      <td>MAmijW4ooUzujkufYYLMeQ</td>\n",
       "      <td>r5PLDU-4mSbde5XekTXSCA</td>\n",
       "      <td>4</td>\n",
       "      <td>0</td>\n",
       "      <td>0</td>\n",
       "      <td>0</td>\n",
       "      <td>We have been trying Eggplant sandwiches all ov...</td>\n",
       "      <td>2015-04-15 04:50:56</td>\n",
       "    </tr>\n",
       "    <tr>\n",
       "      <th>1204</th>\n",
       "      <td>UF-JqzMczZ8vvp_4tPK3bQ</td>\n",
       "      <td>slfi6gf_qEYTXy90Sw93sg</td>\n",
       "      <td>r5PLDU-4mSbde5XekTXSCA</td>\n",
       "      <td>5</td>\n",
       "      <td>1</td>\n",
       "      <td>0</td>\n",
       "      <td>0</td>\n",
       "      <td>Amazing Steak and Cheese... Better than any Ph...</td>\n",
       "      <td>2011-03-20 00:57:45</td>\n",
       "    </tr>\n",
       "    <tr>\n",
       "      <th>1251</th>\n",
       "      <td>geUJGrKhXynxDC2uvERsLw</td>\n",
       "      <td>N_-UepOzAsuDQwOUtfRFGw</td>\n",
       "      <td>r5PLDU-4mSbde5XekTXSCA</td>\n",
       "      <td>1</td>\n",
       "      <td>0</td>\n",
       "      <td>0</td>\n",
       "      <td>0</td>\n",
       "      <td>Although I have been going to DeFalco's for ye...</td>\n",
       "      <td>2018-07-17 01:48:23</td>\n",
       "    </tr>\n",
       "    <tr>\n",
       "      <th>1354</th>\n",
       "      <td>aPctXPeZW3kDq36TRm-CqA</td>\n",
       "      <td>139hD7gkZVzSvSzDPwhNNw</td>\n",
       "      <td>r5PLDU-4mSbde5XekTXSCA</td>\n",
       "      <td>2</td>\n",
       "      <td>0</td>\n",
       "      <td>0</td>\n",
       "      <td>0</td>\n",
       "      <td>Highs: Ambience, value, pizza and deserts. Thi...</td>\n",
       "      <td>2018-01-21 10:52:58</td>\n",
       "    </tr>\n",
       "  </tbody>\n",
       "</table>\n",
       "</div>"
      ],
      "text/plain": [
       "                   review_id                 user_id             business_id  \\\n",
       "109   lDJIaF4eYRF4F7g6Zb9euw  lb0QUR5bc4O-Am4hNq9ZGg  r5PLDU-4mSbde5XekTXSCA   \n",
       "1013  vvIzf3pr8lTqE_AOsxmgaA  MAmijW4ooUzujkufYYLMeQ  r5PLDU-4mSbde5XekTXSCA   \n",
       "1204  UF-JqzMczZ8vvp_4tPK3bQ  slfi6gf_qEYTXy90Sw93sg  r5PLDU-4mSbde5XekTXSCA   \n",
       "1251  geUJGrKhXynxDC2uvERsLw  N_-UepOzAsuDQwOUtfRFGw  r5PLDU-4mSbde5XekTXSCA   \n",
       "1354  aPctXPeZW3kDq36TRm-CqA  139hD7gkZVzSvSzDPwhNNw  r5PLDU-4mSbde5XekTXSCA   \n",
       "\n",
       "      stars  useful  funny  cool  \\\n",
       "109       4       2      0     0   \n",
       "1013      4       0      0     0   \n",
       "1204      5       1      0     0   \n",
       "1251      1       0      0     0   \n",
       "1354      2       0      0     0   \n",
       "\n",
       "                                                   text                date  \n",
       "109   I used to work food service and my manager at ... 2013-01-27 17:54:54  \n",
       "1013  We have been trying Eggplant sandwiches all ov... 2015-04-15 04:50:56  \n",
       "1204  Amazing Steak and Cheese... Better than any Ph... 2011-03-20 00:57:45  \n",
       "1251  Although I have been going to DeFalco's for ye... 2018-07-17 01:48:23  \n",
       "1354  Highs: Ambience, value, pizza and deserts. Thi... 2018-01-21 10:52:58  "
      ]
     },
     "execution_count": 2,
     "metadata": {},
     "output_type": "execute_result"
    }
   ],
   "source": [
    "data = pd.read_json(\"datas/restaurant.json\")\n",
    "data.head()"
   ]
  },
  {
   "cell_type": "code",
   "execution_count": 3,
   "id": "cfdd0099",
   "metadata": {},
   "outputs": [],
   "source": [
    "menu = [\"Cheese Steak\", \"Cheesesteak\", \"Steak and Cheese\", \"Italian Combo\", \"Tiramisu\", \"Cannoli\",\n",
    "        \"Chicken Salad\", \"Chicken Spinach Salad\", \"Meatball\", \"Pizza\", \"Pizzas\", \"Spaghetti\",\n",
    "        \"Bruchetta\", \"Eggplant\", \"Italian Beef\", \"Purista\", \"Pasta\", \"Calzones\",  \"Calzone\",\n",
    "        \"Italian Sausage\", \"Chicken Cutlet\", \"Chicken Parm\", \"Chicken Parmesan\", \"Gnocchi\",\n",
    "        \"Chicken Pesto\", \"Turkey Sandwich\", \"Turkey Breast\", \"Ziti\", \"Portobello\", \"Reuben\",\n",
    "        \"Mozzarella Caprese\",  \"Corned Beef\", \"Garlic Bread\", \"Pastrami\", \"Roast Beef\",\n",
    "        \"Tuna Salad\", \"Lasagna\", \"Artichoke Salad\", \"Fettuccini Alfredo\", \"Chicken Parmigiana\",\n",
    "        \"Grilled Veggie\", \"Grilled Veggies\", \"Grilled Vegetable\", \"Mac and Cheese\", \"Macaroni\",  \n",
    "         \"Prosciutto\", \"Salami\"]"
   ]
  },
  {
   "cell_type": "code",
   "execution_count": 4,
   "id": "79de362f",
   "metadata": {},
   "outputs": [
    {
     "name": "stdout",
     "output_type": "stream",
     "text": [
      "The Il Purista sandwich has become a staple of my life. Mozzarella, basil, prosciutto, roasted red peppers and balsamic vinaigrette blend into a front runner for the best sandwich in the valley. Goes great with sparkling water or a beer. \n",
      "\n",
      "DeFalco's also has other Italian fare such as a delicious meatball sub and classic pastas.\n"
     ]
    }
   ],
   "source": [
    "index_review_to_test = 14\n",
    "text_to_test = data.text.iloc[index_review_to_test]\n",
    "print(text_to_test)"
   ]
  },
  {
   "cell_type": "code",
   "execution_count": 5,
   "id": "3d6e99a5",
   "metadata": {},
   "outputs": [],
   "source": [
    "nlp = spacy.blank(\"en\")"
   ]
  },
  {
   "cell_type": "code",
   "execution_count": 6,
   "id": "4e67c5d2",
   "metadata": {},
   "outputs": [
    {
     "name": "stdout",
     "output_type": "stream",
     "text": [
      "The Il Purista sandwich has become a staple of my life. Mozzarella, basil, prosciutto, roasted red peppers and balsamic vinaigrette blend into a front runner for the best sandwich in the valley. Goes great with sparkling water or a beer. \n",
      "\n",
      "DeFalco's also has other Italian fare such as a delicious meatball sub and classic pastas.\n"
     ]
    }
   ],
   "source": [
    "review_doc = nlp(text_to_test)\n",
    "print(review_doc)"
   ]
  },
  {
   "cell_type": "code",
   "execution_count": 7,
   "id": "d3f6e858",
   "metadata": {},
   "outputs": [],
   "source": [
    "matcher = PhraseMatcher(nlp.vocab, attr=\"LOWER\")"
   ]
  },
  {
   "cell_type": "code",
   "execution_count": 8,
   "id": "29376bdf",
   "metadata": {},
   "outputs": [
    {
     "name": "stdout",
     "output_type": "stream",
     "text": [
      "[Cheese Steak, Cheesesteak, Steak and Cheese, Italian Combo, Tiramisu, Cannoli, Chicken Salad, Chicken Spinach Salad, Meatball, Pizza, Pizzas, Spaghetti, Bruchetta, Eggplant, Italian Beef, Purista, Pasta, Calzones, Calzone, Italian Sausage, Chicken Cutlet, Chicken Parm, Chicken Parmesan, Gnocchi, Chicken Pesto, Turkey Sandwich, Turkey Breast, Ziti, Portobello, Reuben, Mozzarella Caprese, Corned Beef, Garlic Bread, Pastrami, Roast Beef, Tuna Salad, Lasagna, Artichoke Salad, Fettuccini Alfredo, Chicken Parmigiana, Grilled Veggie, Grilled Veggies, Grilled Vegetable, Mac and Cheese, Macaroni, Prosciutto, Salami]\n"
     ]
    }
   ],
   "source": [
    "menu_tokens_item = [nlp(item) for item in menu]\n",
    "print(menu_tokens_item)"
   ]
  },
  {
   "cell_type": "code",
   "execution_count": 9,
   "id": "aca211ee",
   "metadata": {},
   "outputs": [],
   "source": [
    "matcher.add(\"Menu\",menu_tokens_item)"
   ]
  },
  {
   "cell_type": "code",
   "execution_count": 10,
   "id": "75582ac8",
   "metadata": {},
   "outputs": [
    {
     "name": "stdout",
     "output_type": "stream",
     "text": [
      "[(12033345852358664780, 2, 3), (12033345852358664780, 16, 17), (12033345852358664780, 58, 59)]\n"
     ]
    }
   ],
   "source": [
    "matches = matcher(review_doc)\n",
    "print(matches)"
   ]
  },
  {
   "cell_type": "code",
   "execution_count": 11,
   "id": "77db3be8",
   "metadata": {},
   "outputs": [
    {
     "name": "stdout",
     "output_type": "stream",
     "text": [
      "Token number 2: Purista\n",
      "Token number 16: prosciutto\n",
      "Token number 58: meatball\n"
     ]
    }
   ],
   "source": [
    "for match in matches:\n",
    "    print(f\"Token number {match[1]}: {review_doc[match[1]:match[2]]}\")"
   ]
  },
  {
   "cell_type": "code",
   "execution_count": 12,
   "id": "38537cbe",
   "metadata": {},
   "outputs": [],
   "source": [
    "from collections import defaultdict\n",
    "\n",
    "item_ratings = defaultdict(list)"
   ]
  },
  {
   "cell_type": "code",
   "execution_count": 13,
   "id": "0e8b3f2a",
   "metadata": {},
   "outputs": [
    {
     "name": "stdout",
     "output_type": "stream",
     "text": [
      "eggplant :  [4, 3, 1, 5, 4, 3, 4, 3, 4, 5, 4, 5, 5, 5, 3, 5, 5, 5, 4, 5, 4, 5, 4, 4, 4, 5, 5, 5, 2, 5, 5, 5, 5, 4, 3, 5, 5, 5, 5, 5, 5, 4, 2, 4, 3, 5, 5, 5, 3, 4, 4, 5, 5, 2, 4, 4, 5, 5, 2, 5, 2, 5, 4, 4, 3, 5, 1, 5, 5]\n",
      "cheese steak : [4, 5, 5, 5, 4, 4, 5, 2, 5, 2, 5, 5, 4, 5, 4, 5, 4, 4, 5, 5, 4, 5, 4, 3, 5, 2, 4, 5, 4, 4, 4, 4, 5, 5, 5, 2, 3, 5, 5, 5, 2, 5, 5, 5, 4, 4, 5, 5, 5, 5, 5, 5, 4, 5, 5, 5, 4, 5, 5, 5, 5, 5, 5, 4, 4, 5, 4, 5, 5, 5, 5, 5, 5, 5, 4, 4]\n"
     ]
    }
   ],
   "source": [
    "for id_item, review in data.iterrows():\n",
    "    doc = nlp(review.text)\n",
    "    matches = matcher(doc)\n",
    "    \n",
    "    found_items = set([doc[match[1]:match[2]].text.lower() for match in matches])\n",
    "    \n",
    "    for item in found_items:\n",
    "        item_ratings[item].append(review.stars)\n",
    "        \n",
    "\n",
    "print(\"eggplant : \", item_ratings[\"eggplant\"])\n",
    "print(\"cheese steak :\", item_ratings[\"cheese steak\"])"
   ]
  },
  {
   "cell_type": "markdown",
   "id": "8c6a6f8d",
   "metadata": {},
   "source": [
    "## Finding the menu item with the worst average rating"
   ]
  },
  {
   "cell_type": "code",
   "execution_count": 14,
   "id": "8d211d9d",
   "metadata": {},
   "outputs": [
    {
     "name": "stdout",
     "output_type": "stream",
     "text": [
      "defaultdict(<class 'list'>, {'chicken parmigiana': [4, 5, 4, 5, 5, 5, 5, 5, 4, 4, 4, 3, 4, 5, 5, 4, 5], 'eggplant': [4, 3, 1, 5, 4, 3, 4, 3, 4, 5, 4, 5, 5, 5, 3, 5, 5, 5, 4, 5, 4, 5, 4, 4, 4, 5, 5, 5, 2, 5, 5, 5, 5, 4, 3, 5, 5, 5, 5, 5, 5, 4, 2, 4, 3, 5, 5, 5, 3, 4, 4, 5, 5, 2, 4, 4, 5, 5, 2, 5, 2, 5, 4, 4, 3, 5, 1, 5, 5], 'pizza': [5, 2, 3, 5, 5, 5, 5, 4, 5, 5, 5, 5, 5, 5, 5, 5, 5, 5, 5, 5, 2, 2, 5, 1, 4, 3, 5, 5, 5, 4, 5, 5, 5, 5, 3, 3, 4, 4, 5, 5, 5, 5, 2, 3, 5, 5, 5, 5, 5, 4, 5, 4, 4, 4, 5, 4, 4, 3, 5, 5, 5, 4, 5, 5, 5, 4, 5, 3, 3, 5, 4, 4, 5, 5, 5, 4, 5, 4, 5, 1, 4, 5, 3, 5, 5, 4, 5, 5, 5, 5, 5, 5, 4, 2, 5, 4, 5, 3, 5, 5, 5, 5, 5, 1, 4, 4, 5, 3, 4, 5, 5, 5, 5, 4, 2, 5, 5, 2, 5, 5, 2, 5, 5, 5, 4, 5, 5, 5, 1, 5, 5, 5, 5, 5, 4, 5, 5, 4, 4, 5, 5, 5, 5, 5, 4, 5, 5, 4, 5, 1, 5, 1, 5, 5, 5, 5, 5, 5, 5, 5, 5, 4, 5, 3, 4, 5, 5, 5, 2, 3, 5, 5, 5, 5, 4, 4, 4, 3, 5, 5, 5, 3, 2, 5, 1, 5, 5, 3, 5, 5, 4, 4, 5, 5, 4, 3, 4, 4, 4, 4, 2, 5, 3, 5, 4, 4, 3, 5, 4, 3, 4, 5, 5, 4, 5, 1, 5, 5, 4, 5, 5, 5, 3, 4, 4, 4, 5, 5, 5, 5, 5, 5, 5, 3, 4, 5, 5, 5, 3, 4, 5, 4, 5, 1, 4, 5, 4, 5, 5, 5, 5, 4, 5, 5, 5, 5, 5, 4, 5, 5, 5, 5, 5, 5, 4], 'steak and cheese': [5, 5, 5, 5, 4, 5, 5, 5, 5], 'meatball': [1, 3, 3, 5, 5, 5, 4, 5, 5, 4, 3, 5, 5, 5, 1, 4, 5, 5, 3, 1, 5, 4, 4, 5, 5, 5, 5, 5, 5, 2, 1, 4, 5, 4, 4, 4, 5, 4, 5, 5, 5, 5, 5, 4, 5, 1, 4, 4, 4, 5, 5, 5, 5, 4, 3, 5, 5, 3, 5, 2, 5, 2, 5, 5, 5, 5, 5, 4, 5, 5, 3, 4, 5, 5, 2, 4, 4, 5, 4, 5, 5, 5, 5, 2, 4, 5, 5, 5, 5, 4, 5, 3, 3, 2, 4, 5, 4, 5, 5, 5, 3, 5, 5, 5, 5, 5, 5, 3, 5, 5, 5, 5, 3, 5, 5, 1, 4, 5, 4, 5, 1, 4, 3, 5, 4, 3, 3, 4], 'pasta': [2, 4, 5, 4, 5, 5, 3, 5, 4, 5, 5, 5, 5, 4, 5, 5, 4, 2, 5, 5, 4, 5, 4, 5, 5, 3, 5, 4, 5, 5, 5, 4, 4, 5, 3, 4, 3, 3, 4, 5, 5, 5, 5, 5, 4, 5, 5, 4, 5, 5, 4, 5, 5, 5, 5, 5, 5, 5, 5, 4, 3, 4, 5, 4, 4, 5, 5, 5, 5, 5, 4, 5, 4, 5, 5, 5, 3, 5, 5, 5, 5, 4, 5, 2, 5, 5, 5, 3, 5, 5, 5, 4, 5, 5, 4, 5, 5, 3, 4, 5, 5, 5, 1, 5, 5, 5, 5, 4, 4, 1, 1, 5, 5, 5, 5, 4, 5, 4, 4, 4, 4, 5, 4, 4, 5, 5, 3, 3, 5, 4, 5, 4, 4, 4, 5, 3, 3, 5, 4, 5, 5, 3, 4, 4, 5, 3, 4, 4, 5, 4, 4, 4, 4, 5, 4, 3, 5, 5, 5, 4, 5, 5, 5, 5, 5, 4, 4, 5, 5, 4, 5, 5, 5, 5, 5, 5, 5, 3, 5, 4, 5, 5, 3, 5, 5, 4, 5, 4, 4, 4, 5, 4, 5, 5, 5, 5, 1, 5, 4, 5, 4, 5, 5, 5, 5, 4], 'cannoli': [2, 5, 5, 5, 5, 1, 3, 5, 4, 5, 4, 5, 5, 5, 2, 4, 4, 4, 4, 4, 5, 5, 5, 5, 5, 5, 4, 3, 4, 5, 5, 5, 5, 5, 5, 3, 4, 3, 5, 5, 5, 5, 3, 5, 5, 5, 4, 4, 5, 5, 4, 5, 5, 5, 5, 5, 1, 5, 4, 5, 5, 5, 2, 5, 5, 5, 4, 4, 5, 4, 5, 5], 'purista': [5, 5, 5, 5, 5, 5, 4, 5, 5, 5, 4, 5, 5, 4, 5, 5, 5, 5, 5, 5, 5, 4, 5, 5, 3, 5, 4, 5, 5, 5, 5, 5, 5, 5, 4, 5, 3, 5, 5, 5, 5, 5, 4, 5, 4, 5, 4, 4, 5, 5, 4, 4, 5, 4, 5, 2, 5, 5, 5, 4, 5, 5, 5], 'prosciutto': [5, 5, 4, 5, 5, 5, 5, 4, 5, 5, 5, 5, 4, 5, 5, 5, 5, 5, 1, 5, 4, 5, 5, 5, 5, 4, 5, 4, 4, 5, 4, 5, 5, 4, 5, 5, 5, 5, 4, 5, 5, 4, 5, 5, 4, 5, 5, 5, 5, 5], 'cheese steak': [4, 5, 5, 5, 4, 4, 5, 2, 5, 2, 5, 5, 4, 5, 4, 5, 4, 4, 5, 5, 4, 5, 4, 3, 5, 2, 4, 5, 4, 4, 4, 4, 5, 5, 5, 2, 3, 5, 5, 5, 2, 5, 5, 5, 4, 4, 5, 5, 5, 5, 5, 5, 4, 5, 5, 5, 4, 5, 5, 5, 5, 5, 5, 4, 4, 5, 4, 5, 5, 5, 5, 5, 5, 5, 4, 4], 'cheesesteak': [3, 3, 5, 5, 4, 5, 5, 4, 5, 3, 3, 5, 4, 5, 4, 5, 4, 3, 4, 5, 5, 5, 5, 5, 5, 5, 5, 5, 5, 4, 4, 3, 5, 4, 5, 5, 5, 4, 3, 5, 2, 5, 5, 5, 5, 5, 4, 5, 1, 3, 5, 5, 5, 5, 5, 5, 5, 5, 5, 4, 5, 5, 5, 4, 3, 5, 4, 5, 5, 4, 5, 5, 5, 5, 5, 5, 5, 5, 4, 5, 5, 5, 4, 3, 5, 5, 5, 5, 5, 1, 4, 5, 5, 5, 4, 5, 5], 'calzone': [3, 5, 5, 4, 5, 5, 3, 5, 5, 4, 5, 4, 5, 5, 3, 5, 5, 5, 4, 5, 4, 5, 5, 5, 5, 5, 1, 4, 3, 4, 5, 5, 2, 4, 5, 5, 5, 5, 5, 4, 4, 5, 4, 5, 5, 5, 5, 5, 5, 5, 5, 5, 4, 4, 5, 3, 2, 5, 4, 2, 5, 4, 5, 5, 5, 5, 5, 4, 5, 5, 4, 5], 'italian combo': [5, 1, 4, 5, 4, 5, 5, 3, 4, 5, 5, 5, 3, 1, 4, 1, 5, 5, 5, 5, 5], 'tiramisu': [5, 5, 5, 5, 5, 5, 5, 3, 4, 5, 4, 5, 4, 4, 4, 2, 2, 4, 4, 4, 5], 'chicken spinach salad': [5, 4], 'italian beef': [3, 5, 3, 5, 4, 4, 4, 2, 4, 5, 5, 4, 5, 5, 5, 3, 2, 4, 5, 3, 5, 4, 1, 3, 5], 'salami': [4, 5, 5, 5, 2, 5, 5, 4, 5, 5, 4, 4, 5, 1, 5, 5, 4, 4, 5, 5, 5, 5, 4, 4, 2, 4, 4, 4], 'chicken parm': [1, 4, 5, 3, 5, 5, 5, 5, 5, 5, 5, 5, 5, 4, 4, 5, 4, 4, 3, 5, 4, 5, 5, 1, 5, 5, 5, 5, 1, 4, 5, 4, 4, 5, 3, 5, 4, 3, 5, 5, 5, 5, 4, 4, 5, 4, 4, 4, 1, 5], 'tuna salad': [4, 5, 5, 5, 1], 'chicken cutlet': [4, 3, 5, 5, 3, 2, 5, 5, 1, 1], 'turkey sandwich': [4, 1, 5, 4, 5], 'chicken pesto': [4, 5, 5, 5, 4, 5, 5, 1, 5, 5, 5, 5, 5, 5, 5, 5, 4, 5, 4, 5, 5, 3, 4, 4, 5, 5, 5], 'ziti': [4, 5, 5, 5, 5, 2, 5, 5, 5, 5, 5, 5, 4, 3, 5, 4, 4, 3, 5, 4, 4], 'artichoke salad': [5, 5, 5, 5, 5], 'lasagna': [5, 5, 5, 5, 4, 5, 3, 5, 4, 5, 5, 5, 5, 5, 5, 5, 5, 5, 5, 5, 2, 5, 4, 3, 5, 5, 5, 5, 4, 4, 4, 5, 5, 4, 5, 5, 2, 4, 5, 5, 5, 5, 5, 5, 5, 1, 2, 5, 5, 5, 5, 3, 4, 5, 5, 5, 5, 1, 5], 'fettuccini alfredo': [5, 5, 5, 5, 5, 5], 'pizzas': [5, 4, 5, 1, 5, 4, 4, 4, 4, 5, 4, 5, 4, 4, 2, 4, 5, 4, 5, 4, 5, 5, 5, 4, 5, 5, 5, 5, 5, 5, 5, 4], 'turkey breast': [5], 'calzones': [4, 5, 3, 5, 5, 4, 5, 5, 5, 5, 4, 5, 4, 4, 5, 5, 5, 5, 4, 4, 5, 5, 5, 5, 4, 4, 5, 5, 3, 4, 5, 5, 4, 5, 4], 'grilled veggie': [5, 5, 4, 5, 5, 3], 'mac and cheese': [5, 5, 5, 5, 4, 5, 5, 5, 5, 4, 1], 'garlic bread': [5, 3, 5, 4, 4, 5, 4, 5, 5, 4, 5, 4, 4, 3, 4, 5, 5, 5, 5, 5, 4, 5, 5, 4, 2, 5, 3, 5, 5, 4, 2, 3, 5, 5, 5, 1, 1, 4, 4], 'spaghetti': [4, 4, 3, 3, 5, 4, 5, 5, 5, 2, 4, 5, 4, 5, 1, 2, 5, 5, 4, 3, 5, 2, 2, 3, 5, 5, 4, 5, 5, 4, 5, 2, 4, 1, 5, 5], 'italian sausage': [4, 1, 4, 5, 4, 4, 5, 5, 5, 4, 5, 5, 5, 5, 4, 5, 3, 5, 5, 1, 5, 3, 5, 5, 4, 5, 4, 5, 1, 5, 3, 5, 5, 5, 5, 4, 5, 4, 4, 4, 5, 4, 4, 4, 5, 1, 5, 5, 5, 5, 5, 5, 5], 'portobello': [5, 5, 5, 5, 5, 5, 1, 5, 5, 4, 4, 5, 5, 4], 'reuben': [4, 5, 5, 5], 'pastrami': [4, 5, 5, 2, 5, 5, 4, 5, 5], 'gnocchi': [4, 4, 5, 5, 5, 5, 5, 4, 5, 3, 5, 2, 5, 1, 5, 5, 5, 5, 5, 5, 4, 4, 5, 5, 4, 5, 5, 3, 5, 5, 5, 5, 5, 4, 5, 4, 5], 'chicken parmesan': [5, 5, 5, 3, 5, 5, 5, 5, 5, 4, 3, 3, 5, 4, 2, 5, 4, 4, 4], 'macaroni': [3, 4, 3, 5, 5], 'chicken salad': [4, 5, 5, 5, 4], 'roast beef': [5, 5, 3, 4, 5, 4, 3], 'corned beef': [5, 5]})\n"
     ]
    }
   ],
   "source": [
    "print(item_ratings)"
   ]
  },
  {
   "cell_type": "code",
   "execution_count": 16,
   "id": "5504b124",
   "metadata": {},
   "outputs": [],
   "source": [
    "mean_ratings = {item: sum(ratings)/len(ratings) for item, ratings in item_ratings.items()}\n",
    "worst_item = sorted(mean_ratings, key=mean_ratings.get)[0]"
   ]
  },
  {
   "cell_type": "code",
   "execution_count": 20,
   "id": "01c06f14",
   "metadata": {},
   "outputs": [
    {
     "name": "stdout",
     "output_type": "stream",
     "text": [
      "chicken cutlet\n",
      "{'chicken parmigiana': 4.470588235294118, 'eggplant': 4.159420289855072, 'pizza': 4.339622641509434, 'steak and cheese': 4.888888888888889, 'meatball': 4.1796875, 'pasta': 4.407766990291262, 'cannoli': 4.388888888888889, 'purista': 4.666666666666667, 'prosciutto': 4.68, 'cheese steak': 4.447368421052632, 'cheesesteak': 4.484536082474227, 'calzone': 4.444444444444445, 'italian combo': 4.0476190476190474, 'tiramisu': 4.238095238095238, 'chicken spinach salad': 4.5, 'italian beef': 3.92, 'salami': 4.25, 'chicken parm': 4.22, 'tuna salad': 4.0, 'chicken cutlet': 3.4, 'turkey sandwich': 3.8, 'chicken pesto': 4.555555555555555, 'ziti': 4.380952380952381, 'artichoke salad': 5.0, 'lasagna': 4.4576271186440675, 'fettuccini alfredo': 5.0, 'pizzas': 4.375, 'turkey breast': 5.0, 'calzones': 4.542857142857143, 'grilled veggie': 4.5, 'mac and cheese': 4.454545454545454, 'garlic bread': 4.128205128205129, 'spaghetti': 3.888888888888889, 'italian sausage': 4.30188679245283, 'portobello': 4.5, 'reuben': 4.75, 'pastrami': 4.444444444444445, 'gnocchi': 4.486486486486487, 'chicken parmesan': 4.2631578947368425, 'macaroni': 4.0, 'chicken salad': 4.6, 'roast beef': 4.142857142857143, 'corned beef': 5.0}\n",
      "\n",
      "Worst Item :  3.4\n"
     ]
    }
   ],
   "source": [
    "print(worst_item)\n",
    "print(mean_ratings)\n",
    "print(\"\\nWorst Item : \", mean_ratings[worst_item])"
   ]
  }
 ],
 "metadata": {
  "kernelspec": {
   "display_name": "Python 3 (ipykernel)",
   "language": "python",
   "name": "python3"
  },
  "language_info": {
   "codemirror_mode": {
    "name": "ipython",
    "version": 3
   },
   "file_extension": ".py",
   "mimetype": "text/x-python",
   "name": "python",
   "nbconvert_exporter": "python",
   "pygments_lexer": "ipython3",
   "version": "3.9.12"
  }
 },
 "nbformat": 4,
 "nbformat_minor": 5
}
